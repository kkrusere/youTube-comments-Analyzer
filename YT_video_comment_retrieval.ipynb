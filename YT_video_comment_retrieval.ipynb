{
  "nbformat": 4,
  "nbformat_minor": 0,
  "metadata": {
    "colab": {
      "provenance": [],
      "authorship_tag": "ABX9TyN6D6LxDxaYCIlZJ/QjOjBy",
      "include_colab_link": true
    },
    "kernelspec": {
      "name": "python3",
      "display_name": "Python 3"
    },
    "language_info": {
      "name": "python"
    }
  },
  "cells": [
    {
      "cell_type": "markdown",
      "metadata": {
        "id": "view-in-github",
        "colab_type": "text"
      },
      "source": [
        "<a href=\"https://colab.research.google.com/github/kkrusere/youTube-comments-Analyzer/blob/main/YT_video_comment_retrieval.ipynb\" target=\"_parent\"><img src=\"https://colab.research.google.com/assets/colab-badge.svg\" alt=\"Open In Colab\"/></a>"
      ]
    },
    {
      "cell_type": "code",
      "execution_count": null,
      "metadata": {
        "id": "AEVeQMLqKoj6"
      },
      "outputs": [],
      "source": [
        "%%shell\n",
        "sudo apt -y update\n",
        "sudo apt install -y wget curl unzip\n",
        "wget http://archive.ubuntu.com/ubuntu/pool/main/libu/libu2f-host/libu2f-udev_1.1.4-1_all.deb\n",
        "dpkg -i libu2f-udev_1.1.4-1_all.deb\n",
        "wget https://dl.google.com/linux/direct/google-chrome-stable_current_amd64.deb\n",
        "dpkg -i google-chrome-stable_current_amd64.deb\n",
        "\n",
        "wget -N https://edgedl.me.gvt1.com/edgedl/chrome/chrome-for-testing/118.0.5993.70/linux64/chromedriver-linux64.zip -P /tmp/\n",
        "unzip -o /tmp/chromedriver-linux64.zip -d /tmp/\n",
        "chmod +x /tmp/chromedriver-linux64/chromedriver\n",
        "mv /tmp/chromedriver-linux64/chromedriver /usr/local/bin/chromedriver\n",
        "pip install selenium chromedriver_autoinstaller"
      ]
    },
    {
      "cell_type": "code",
      "source": [
        "import sys\n",
        "sys.path.insert(0,'/usr/lib/chromium-browser/chromedriver')\n",
        "\n",
        "\n",
        "from selenium import webdriver\n",
        "import chromedriver_autoinstaller\n",
        "from selenium.webdriver.common.by import By\n",
        "from selenium.webdriver.common.keys import Keys\n",
        "from selenium.webdriver.support.ui import WebDriverWait\n",
        "from selenium.webdriver.support import expected_conditions as EC\n",
        "from selenium.webdriver.common.action_chains import ActionChains\n",
        "\n",
        "import random\n",
        "import time\n",
        "\n",
        "from bs4 import BeautifulSoup\n",
        "import requests\n",
        "import json\n",
        "import re\n",
        "\n",
        "import pandas as pd\n",
        "import numpy as np\n",
        "\n",
        "import operator\n",
        "from google.colab import userdata\n",
        "api_key = userdata.get('YouTubeAPI_key')\n",
        "\n",
        "import googleapiclient.discovery\n",
        "import googleapiclient.errors\n",
        "from googleapiclient.discovery import build\n",
        "import datetime"
      ],
      "metadata": {
        "id": "cgCUVb5yKq2J"
      },
      "execution_count": null,
      "outputs": []
    },
    {
      "cell_type": "code",
      "source": [],
      "metadata": {
        "id": "kxlb3wuoKyQ3"
      },
      "execution_count": null,
      "outputs": []
    },
    {
      "cell_type": "code",
      "source": [
        "# Function to convert string values containing suffixes 'K', 'M', or 'B' to integers and extract numeric values.\n",
        "def convert_to_int(value):\n",
        "  \"\"\"\n",
        "    - If the value is NaN or an empty string, return 0.\n",
        "    - If the value is a string:\n",
        "      - Extract numeric digits from the string.\n",
        "      - Convert the extracted digits to an integer.\n",
        "      - If the string contains 'K', multiply the number by 1,000.\n",
        "      - If the string contains 'M', multiply the number by 1,000,000.\n",
        "      - If the string contains 'B', multiply the number by 1,000,000,000.\n",
        "    - Return the converted integer value.\n",
        "\n",
        "  \"\"\"\n",
        "  if pd.isna(value) or value == '':\n",
        "      return 0\n",
        "  if isinstance(value, str):\n",
        "      # Extract numbers and convert them\n",
        "      num = re.findall(r'\\d+', value)\n",
        "      if not num:\n",
        "          return 0\n",
        "      num = ''.join(num)\n",
        "      if 'K' in value:\n",
        "          return int(float(num) * 1000)\n",
        "      if 'M' in value:\n",
        "          return int(float(num) * 1000000)\n",
        "      if 'B' in value:\n",
        "          return int(float(num) * 1000000000)\n",
        "      return int(num)\n",
        "  return int(value)"
      ],
      "metadata": {
        "id": "gXMzwkBZ0TOY"
      },
      "execution_count": null,
      "outputs": []
    },
    {
      "cell_type": "code",
      "source": [],
      "metadata": {
        "id": "uiPUBYb40TLC"
      },
      "execution_count": null,
      "outputs": []
    },
    {
      "cell_type": "code",
      "source": [
        "# Initialize YouTube API client\n",
        "def initialize_youtube_api(api_key):\n",
        "    return build(\"youtube\", \"v3\", developerKey=api_key)\n",
        "\n",
        "def init_webdriver():\n",
        "    \"\"\"Initializes and returns a Chrome WebDriver instance with options.\"\"\"\n",
        "    try:\n",
        "        chrome_options = webdriver.ChromeOptions()\n",
        "        chrome_options.add_argument('--headless')\n",
        "        chrome_options.add_argument('--no-sandbox')\n",
        "        chrome_options.add_argument('--disable-dev-shm-usage')\n",
        "        chromedriver_autoinstaller.install()\n",
        "        driver = webdriver.Chrome(options=chrome_options)\n",
        "\n",
        "        print(\"WebDriver initialized successfully\")  # Confirm initialization\n",
        "        return driver\n",
        "    except Exception as e:\n",
        "        print(f\"Failed to initialize WebDriver: {e}\")\n",
        "        raise\n",
        "\n",
        "def close_webdriver(driver):\n",
        "    \"\"\"Closes the provided WebDriver instance.\"\"\"\n",
        "    print(\"WebDriver successfully closed\")\n",
        "    driver.quit()\n"
      ],
      "metadata": {
        "id": "RQ991wi1KyNf"
      },
      "execution_count": null,
      "outputs": []
    },
    {
      "cell_type": "code",
      "source": [
        "# Function to extract video ID from a YouTube URL\n",
        "def extract_video_id(video_url):\n",
        "    \"\"\"\n",
        "    Extracts the video ID from a given YouTube URL.\n",
        "\n",
        "    Args:\n",
        "        video_url (str): The full YouTube URL.\n",
        "\n",
        "    Returns:\n",
        "        str: The extracted video ID.\n",
        "    \"\"\"\n",
        "    # The video ID is the part after 'v=' in the URL\n",
        "    return video_url.split('v=')[-1]\n"
      ],
      "metadata": {
        "id": "JqD3VFjAEiym"
      },
      "execution_count": null,
      "outputs": []
    },
    {
      "cell_type": "code",
      "source": [
        "# # Test initialize_youtube_api\n",
        "# youtube = initialize_youtube_api(api_key)\n",
        "# try:\n",
        "#   # Make a simple API request to check if it works\n",
        "#   request = youtube.channels().list(\n",
        "#       part=\"snippet,contentDetails,statistics\",\n",
        "#       id=\"UC_x5XG1OV2P6uZZ5FSM9Ttw\"  # Example channel ID\n",
        "#   )\n",
        "#   response = request.execute()\n",
        "#   print(\"YouTube API initialized successfully\")\n",
        "# except Exception as e:\n",
        "#   print(f\"YouTube API initialization failed: {e}\")\n",
        "\n",
        "# # Test init_webdriver and close_webdriver\n",
        "# try:\n",
        "#   driver = init_webdriver()\n",
        "#   driver.get(\"https://www.google.com\")  # Test loading a page\n",
        "#   print(\"WebDriver test successful: Loaded Google homepage\")\n",
        "#   close_webdriver(driver)\n",
        "#   print(\"WebDriver closed successfully\")\n",
        "# except Exception as e:\n",
        "#   print(f\"WebDriver test failed: {e}\")\n"
      ],
      "metadata": {
        "id": "KY7Rk4vKLF6r"
      },
      "execution_count": null,
      "outputs": []
    },
    {
      "cell_type": "code",
      "source": [
        "def get_video_info(video_id):\n",
        "    \"\"\"\n",
        "    Retrieves and displays detailed information about a YouTube video using the YouTube Data API.\n",
        "\n",
        "    This function fetches data such as the video's title, URL, view count, like count, comment count,\n",
        "    published date, a snippet of the description, and the thumbnail URL. It also formats the published\n",
        "    date for better readability and prints all the extracted information.\n",
        "\n",
        "    Args:\n",
        "        video_id (str): The unique ID of the YouTube video for which information is to be retrieved.\n",
        "\n",
        "    Returns:\n",
        "        None: This function prints the extracted information directly and does not return any value.\n",
        "    \"\"\"\n",
        "\n",
        "    # Request video details using the YouTube API\n",
        "    response = youtube.videos().list(\n",
        "        part=\"snippet,statistics\",  # Request snippet and statistics data\n",
        "        id=video_id\n",
        "    ).execute()\n",
        "\n",
        "    # Extract required information from the response\n",
        "    video = response[\"items\"][0]  # Get the first (and likely only) video item\n",
        "    title = video[\"snippet\"][\"title\"]  # Extract the video title\n",
        "    view_count = video[\"statistics\"][\"viewCount\"]  # Extract view count\n",
        "    like_count = video[\"statistics\"][\"likeCount\"]  # Extract like count\n",
        "    commentCount = video[\"statistics\"][\"commentCount\"]  # Extract comment count\n",
        "    date_posted = video[\"snippet\"][\"publishedAt\"]  # Extract publish date\n",
        "    description = video[\"snippet\"][\"description\"]  # Extract video description\n",
        "\n",
        "    # Extract the thumbnail URL (using 'high' quality thumbnail)\n",
        "    thumbnail_url = video[\"snippet\"][\"thumbnails\"][\"high\"][\"url\"]\n",
        "\n",
        "    # Convert date string to datetime object for formatting\n",
        "    date_str = date_posted\n",
        "    date_object = datetime.datetime.strptime(date_str, \"%Y-%m-%dT%H:%M:%SZ\")\n",
        "\n",
        "    # Format the date object to a more readable format\n",
        "    date_posted = date_object.strftime(\"%Y-%m-%d %H:%M:%S\")\n",
        "\n",
        "    # Split the description into paragraphs using newlines\n",
        "    #paragraphs = description.split(\"\\n\")\n",
        "\n",
        "\n",
        "    # Get the first paragraph from the description\n",
        "    # first_paragraph = paragraphs[0]\n",
        "    first_paragraph = description\n",
        "\n",
        "    # Construct the full YouTube video URL\n",
        "    extracted_video_url = f\"https://www.youtube.com/watch?v={video_id}\"\n",
        "\n",
        "    # # Print the extracted information\n",
        "    # print(\"Title:\", title)\n",
        "    # print(\"Video URL:\", extracted_video_url)\n",
        "    # print(\"View count:\", view_count)\n",
        "    # print(\"Like count:\", like_count)\n",
        "    # print(\"Number of Comments:\", commentCount)\n",
        "    # print(\"Date posted:\", date_posted)\n",
        "    # print(\"Description:\", first_paragraph)\n",
        "    # print(\"Thumbnail URL:\", thumbnail_url)\n",
        "    # print(\"\\n\\n\")\n",
        "    return title, extracted_video_url, view_count, like_count, commentCount, date_posted, first_paragraph, thumbnail_url\n",
        "\n"
      ],
      "metadata": {
        "id": "yk1p7D5-1vfc"
      },
      "execution_count": null,
      "outputs": []
    },
    {
      "cell_type": "code",
      "source": [
        "# Function to get the channel ID from a URL that has `channel handles`\n",
        "def get_channel_id_from_url_YTAPI(api_key, channel_url):\n",
        "    \"\"\"\n",
        "    Args:\n",
        "      api_key: Your YouTube Data API key.\n",
        "      channel_url: The YouTube URL containing the channel handle.\n",
        "\n",
        "    Returns:\n",
        "        The channel ID if found, otherwise None.\n",
        "    \"\"\"\n",
        "    try:\n",
        "        youtube = build('youtube', 'v3', developerKey=api_key)\n",
        "        username = channel_url.split('/')[-1]\n",
        "        request = youtube.search().list(\n",
        "            part='snippet',\n",
        "            q=username,\n",
        "            type='channel',\n",
        "            maxResults=1\n",
        "        )\n",
        "        response = request.execute()\n",
        "\n",
        "        if 'items' in response and len(response['items']) > 0:\n",
        "            channel_id = response['items'][0]['snippet']['channelId']\n",
        "            return channel_id\n",
        "        else:\n",
        "            print(f\"Channel ID not found for URL: {channel_url}\")\n",
        "            return None\n",
        "\n",
        "    except googleapiclient.errors.HttpError as e:\n",
        "        print(f\"HTTP Error occurred: {e}\")\n",
        "        return None\n",
        "    except Exception as e:\n",
        "        print(f\"An error occurred: {e}\")\n",
        "        return None"
      ],
      "metadata": {
        "id": "9O7RAiAxMVoF"
      },
      "execution_count": null,
      "outputs": []
    },
    {
      "cell_type": "code",
      "source": [
        "# list_of_channels_urls = [\n",
        "#     \"https://www.youtube.com/@BestEverFoodReviewShow\",\n",
        "#     \"https://www.youtube.com/@TheRamseyShow\",\n",
        "#     \"https://www.youtube.com/@MrBallen\",\n",
        "#     \"https://www.youtube.com/@MattWalsh\",\n",
        "#     \"https://www.youtube.com/@TheBehaviorPanel\",\n",
        "#     \"https://www.youtube.com/@VICE\",\n",
        "#     \"https://www.youtube.com/@CNN\",\n",
        "#     \"https://www.youtube.com/@Jeep\",\n",
        "#     \"https://www.youtube.com/@MrBeast\"\n",
        "#     ]"
      ],
      "metadata": {
        "id": "D7WqvItfNM_V"
      },
      "execution_count": null,
      "outputs": []
    },
    {
      "cell_type": "code",
      "source": [
        "# # Test `get_channel_id_from_url_YTAPI` using the `list_of_channels_urls`\n",
        "# for channel_url in list_of_channels_urls:\n",
        "#   channel_id = get_channel_id_from_url_YTAPI(api_key, channel_url)\n",
        "#   print(f\"Channel URL: {channel_url}, Channel ID: {channel_id}\")\n"
      ],
      "metadata": {
        "id": "E4qkTI71NHB1"
      },
      "execution_count": null,
      "outputs": []
    },
    {
      "cell_type": "code",
      "source": [],
      "metadata": {
        "id": "hhQt8E0fM2Kp"
      },
      "execution_count": null,
      "outputs": []
    },
    {
      "cell_type": "code",
      "source": [
        "def get_top_videos(channel_id, api_key):\n",
        "    \"\"\"\n",
        "    Retrieves the top 10 most viewed videos for a given YouTube channel.\n",
        "\n",
        "    Args:\n",
        "        channel_id (str): The ID of the YouTube channel.\n",
        "        api_key (str): A valid YouTube Data API key.\n",
        "\n",
        "    Returns:\n",
        "        list: A list containing the video IDs of the top 10 most viewed videos.\n",
        "    \"\"\"\n",
        "\n",
        "    # Construct the YouTube Data API request URL.\n",
        "    url = f\"https://www.googleapis.com/youtube/v3/search?key={api_key}&channelId={channel_id}&part=snippet,id&order=viewCount&maxResults=10\"\n",
        "\n",
        "\n",
        "    # Send a GET request to the YouTube Data API.\n",
        "    response = requests.get(url)\n",
        "\n",
        "    # Parse the JSON response from the API.\n",
        "    data = response.json()\n",
        "\n",
        "    top_videos_IDs = []\n",
        "    for item in data['items']:\n",
        "        # Extract the video ID from each search result item, handling potential KeyError exceptions.\n",
        "        try:\n",
        "            top_videos_IDs.append(item['id']['videoId'])\n",
        "        except KeyError:\n",
        "            continue # Skip items that don't have a 'videoId' (e.g., channel results)\n",
        "\n",
        "    return top_videos_IDs"
      ],
      "metadata": {
        "id": "PTZl7ZIqOT88"
      },
      "execution_count": null,
      "outputs": []
    },
    {
      "cell_type": "code",
      "source": [
        "# channel_url_id_list = [\n",
        "#     {\n",
        "#         'Channel URL': 'https://www.youtube.com/@BestEverFoodReviewShow',\n",
        "#         'Channel ID': 'UCcAd5Np7fO8SeejB1FVKcYw'\n",
        "#         },\n",
        "#     {\n",
        "#         'Channel URL': 'https://www.youtube.com/@TheRamseyShow',\n",
        "#         'Channel ID': 'UCzpwkXk_GlfmWntZ9v4l3Tg'\n",
        "#         },\n",
        "#     {\n",
        "#         'Channel URL': 'https://www.youtube.com/@MrBallen',\n",
        "#         'Channel ID': 'UCtPrkXdtCM5DACLufB9jbsA'\n",
        "#         },\n",
        "#     {\n",
        "#         'Channel URL': 'https://www.youtube.com/@MattWalsh',\n",
        "#         'Channel ID': 'UCO01ytfzgXYy4glnPJm4PPQ'\n",
        "#         },\n",
        "#     {\n",
        "#         'Channel URL': 'https://www.youtube.com/@TheBehaviorPanel',\n",
        "#         'Channel ID': 'UCx_8ri2rYergbu_06VNSPlw'\n",
        "#         },\n",
        "#     {\n",
        "#         'Channel URL': 'https://www.youtube.com/@VICE',\n",
        "#         'Channel ID': 'UCn8zNIfYAQNdrFRrr8oibKw'\n",
        "#         },\n",
        "#     {\n",
        "#         'Channel URL': 'https://www.youtube.com/@CNN',\n",
        "#         'Channel ID': 'UCupvZG-5ko_eiXAupbDfxWw'\n",
        "#         },\n",
        "#     {\n",
        "#         'Channel URL': 'https://www.youtube.com/@Jeep',\n",
        "#         'Channel ID': 'UCMWLdSdAyDcCy_OVzONKm0w'\n",
        "#         },\n",
        "#     {\n",
        "#         'Channel URL': 'https://www.youtube.com/@MrBeast',\n",
        "#         'Channel ID': 'UCX6OQ3DkcsbYNE6H8uQQuVA'\n",
        "#         }\n",
        "#     ]"
      ],
      "metadata": {
        "id": "9CLBD0yoOTwO"
      },
      "execution_count": null,
      "outputs": []
    },
    {
      "cell_type": "code",
      "source": [
        "# # Test get_top_videos function\n",
        "# for channel in channel_url_id_list:\n",
        "#     channel_id = channel['Channel ID']\n",
        "#     top_videos = get_top_videos(channel_id, api_key)\n",
        "#     print(f\"Top 10 videos for channel {channel['Channel URL']}:\")\n",
        "#     channel['Channel Top Videos'] = top_videos\n",
        "#     for video_id in top_videos:\n",
        "#         print(f\"  - https://www.youtube.com/watch?v={video_id}\")\n",
        "#     print(\"-\" * 30)"
      ],
      "metadata": {
        "id": "2LdZ7-n9Q2t3"
      },
      "execution_count": null,
      "outputs": []
    },
    {
      "cell_type": "code",
      "source": [
        "# channel_url_id_list"
      ],
      "metadata": {
        "id": "McctneiKSaGh"
      },
      "execution_count": null,
      "outputs": []
    },
    {
      "cell_type": "code",
      "source": [
        "def get_video_comments_count(video_id, youtube):\n",
        "    \"\"\"\n",
        "    Retrieves the number of comments for a YouTube video.\n",
        "\n",
        "    Args:\n",
        "        video_id: The ID of the YouTube video.\n",
        "        youtube: An instance of the YouTube API client.\n",
        "\n",
        "    Returns:\n",
        "        The number of comments for the video, or 0 if not available.\n",
        "    \"\"\"\n",
        "    response = youtube.videos().list(  # Makes an API call to the YouTube Data API's 'videos.list' method.\n",
        "        part='statistics',  # Requests only the 'statistics' part of the video data.\n",
        "        id=video_id  # Specifies the video ID to retrieve data for.\n",
        "    ).execute()  # Executes the API request and gets the response.\n",
        "\n",
        "    return int(response['items'][0]['statistics'].get('commentCount', 0))  # Extracts the 'commentCount' from the response and returns it as an integer.\n",
        "                                                                              # If 'commentCount' is not found, it returns 0.\n",
        "\n"
      ],
      "metadata": {
        "id": "b6SSBbxgSfrU"
      },
      "execution_count": null,
      "outputs": []
    },
    {
      "cell_type": "code",
      "source": [
        "# # Select a channel and get its top videos\n",
        "# channel = channel_url_id_list[0]  # Example: Selecting the first channel\n",
        "# top_videos = channel['Channel Top Videos']\n",
        "\n",
        "# # Test get_video_comments_count function for the first two videos\n",
        "# for video_id in top_videos[:2]:\n",
        "#     comment_count = get_video_comments_count(video_id, youtube)\n",
        "#     print(f\"Video ID: {video_id}, Comment Count: {comment_count}\")\n"
      ],
      "metadata": {
        "id": "Lo5W443XSySp"
      },
      "execution_count": null,
      "outputs": []
    },
    {
      "cell_type": "code",
      "source": [],
      "metadata": {
        "id": "ZU6YseHBgJuO"
      },
      "execution_count": null,
      "outputs": []
    },
    {
      "cell_type": "code",
      "source": [
        "def get_comments_html(video_url):\n",
        "    \"\"\"\n",
        "    Fetches the HTML content of the comments section from a YouTube video.\n",
        "\n",
        "    This function initializes a WebDriver instance to open the provided YouTube video URL,\n",
        "    scrolls down to load the comments section, and retrieves the HTML content of the loaded\n",
        "    comments section.\n",
        "\n",
        "    Args:\n",
        "        video_url (str): The URL of the YouTube video from which to fetch comments.\n",
        "\n",
        "    Returns:\n",
        "        str: The HTML content of the comments section.\n",
        "\n",
        "    Raises:\n",
        "        TimeoutException: If the comments section does not load within the specified time.\n",
        "    \"\"\"\n",
        "    driver = init_webdriver()\n",
        "    driver.get(video_url)\n",
        "\n",
        "    # Wait until the comments section is loaded\n",
        "    WebDriverWait(driver, 10).until(EC.presence_of_element_located((By.CSS_SELECTOR, 'ytd-comments')))\n",
        "\n",
        "    # Scroll to the comments section to load initial comments\n",
        "    driver.execute_script(\"window.scrollTo(0, document.documentElement.scrollHeight);\")\n",
        "\n",
        "    # Set initial values for dynamic loading\n",
        "    last_height = driver.execute_script(\"return document.documentElement.scrollHeight\")\n",
        "    scroll_pause_time = 2  # Time to wait between scrolls\n",
        "    max_scrolls = 100  # Increase the max number of scrolls to ensure all comments are loaded\n",
        "    scroll_count = 0\n",
        "\n",
        "    while scroll_count < max_scrolls:\n",
        "        # Scroll down to the bottom\n",
        "        driver.execute_script(\"window.scrollTo(0, document.documentElement.scrollHeight);\")\n",
        "\n",
        "        # Wait for new comments to load dynamically\n",
        "        time.sleep(scroll_pause_time)  # Simple wait to allow comments to load\n",
        "\n",
        "        # Check the new scroll height and compare it with the last height\n",
        "        new_height = driver.execute_script(\"return document.documentElement.scrollHeight\")\n",
        "        if new_height == last_height:\n",
        "            # If the height hasn't changed, try one more scroll to ensure all comments are loaded\n",
        "            time.sleep(scroll_pause_time)\n",
        "            new_height = driver.execute_script(\"return document.documentElement.scrollHeight\")\n",
        "            if new_height == last_height:\n",
        "                # If the height still hasn't changed, we've reached the end\n",
        "                print(\"All comments have been loaded.\")\n",
        "                break\n",
        "\n",
        "        last_height = new_height\n",
        "        scroll_count += 1\n",
        "\n",
        "    # Get the HTML of the comments section\n",
        "    comments_html = driver.page_source\n",
        "\n",
        "    # Close the driver\n",
        "    driver.quit()\n",
        "\n",
        "    return comments_html"
      ],
      "metadata": {
        "id": "DY1AwQYpSfdW"
      },
      "execution_count": null,
      "outputs": []
    },
    {
      "cell_type": "code",
      "source": [
        "# # Get the top videos for a channel\n",
        "# channel = channel_url_id_list[0]\n",
        "# top_videos = channel['Channel Top Videos']\n",
        "\n",
        "# # Test get_comments_html function for the first video\n",
        "# video_url = f\"https://www.youtube.com/watch?v={top_videos[0]}\"\n",
        "# comments_html = get_comments_html(video_url)\n"
      ],
      "metadata": {
        "id": "PtIsZeH6g7x3"
      },
      "execution_count": null,
      "outputs": []
    },
    {
      "cell_type": "code",
      "source": [
        "def get_comment_thread_renderers(comments_html):\n",
        "    \"\"\"\n",
        "    Parses the provided HTML content to extract YouTube comment threads and their counts.\n",
        "\n",
        "    This function uses BeautifulSoup to parse the HTML content of a YouTube video's comments section.\n",
        "    It finds and prints the number of comments and the number of comment thread renderers (`ytd-comment-thread-renderer`).\n",
        "    It then returns a list of all the `ytd-comment-thread-renderer` elements found in the HTML.\n",
        "\n",
        "    Args:\n",
        "        comments_html (str): The HTML content of the comments section of a YouTube video.\n",
        "\n",
        "    Returns:\n",
        "        list: A list of `ytd-comment-thread-renderer` elements found in the HTML.\n",
        "    \"\"\"\n",
        "\n",
        "    soup = BeautifulSoup(comments_html, 'html.parser')\n",
        "\n",
        "    # Find the span element with the specified class\n",
        "    comment_count_span = soup.find('span', class_='style-scope yt-formatted-string')\n",
        "\n",
        "    # Extract the text content of the span element\n",
        "    comment_count = comment_count_span.text.strip()\n",
        "\n",
        "    # Print or use the comment count\n",
        "    print(\"Comment Count:\", comment_count)\n",
        "\n",
        "    # Find all occurrences of the ytd-comment-thread-renderer element\n",
        "    comment_thread_renderers = soup.find_all('ytd-comment-thread-renderer', class_='style-scope ytd-item-section-renderer')\n",
        "\n",
        "    # Count the number of occurrences\n",
        "    comment_thread_count = len(comment_thread_renderers)\n",
        "\n",
        "    # Print or use the comment thread count\n",
        "    print(\"Number of ytd-comment-thread-renderer elements:\", comment_thread_count)\n",
        "\n",
        "    return comment_thread_renderers"
      ],
      "metadata": {
        "id": "2l2ask9bmKJp"
      },
      "execution_count": null,
      "outputs": []
    },
    {
      "cell_type": "code",
      "source": [
        "# # Test get_comment_thread_renderers function\n",
        "# comment_thread_renderers = get_comment_thread_renderers(comments_html)\n"
      ],
      "metadata": {
        "id": "vz2pKXeJsqVI"
      },
      "execution_count": null,
      "outputs": []
    },
    {
      "cell_type": "code",
      "source": [
        "def get_comments(comment_thread_renderers):\n",
        "    comments = list()\n",
        "    comments_data = list()\n",
        "    # Iterate through each comment thread renderer\n",
        "    for comment_thread_renderer in comment_thread_renderers:\n",
        "\n",
        "        # Extracting the comment text\n",
        "        comment_text_element = comment_thread_renderer.find('yt-attributed-string', id='content-text')\n",
        "        comment_text = comment_text_element.get_text(strip=True) if comment_text_element else None\n",
        "\n",
        "        # Extracting the number of likes\n",
        "        like_count_element = comment_thread_renderer.find('span', class_='style-scope ytd-comment-engagement-bar')\n",
        "        like_count = like_count_element.get_text(strip=True) if like_count_element else None\n",
        "\n",
        "        # Extracting the number of replies\n",
        "        reply_count_element = comment_thread_renderer.find('ytd-button-renderer', id='more-replies')\n",
        "        reply_count = reply_count_element.get_text(strip=True) if reply_count_element else None\n",
        "\n",
        "        comments.append(comment_text)\n",
        "\n",
        "        comments_data.append(\n",
        "            {\n",
        "            \"comment_text\": comment_text,\n",
        "            \"like_count\": like_count,\n",
        "            \"reply_count\": reply_count\n",
        "\n",
        "            }\n",
        "        )\n",
        "\n",
        "    return comments, comments_data\n",
        "\n"
      ],
      "metadata": {
        "id": "wGDdKRNOs24T"
      },
      "execution_count": null,
      "outputs": []
    },
    {
      "cell_type": "code",
      "source": [
        "# # Test get_comments function\n",
        "# comments, comments_data = get_comments(comment_thread_renderers)\n",
        "# df = pd.DataFrame(comments_data)\n",
        "# # Fill missing and empty values with 0\n",
        "# df['like_count'].replace('', 0, inplace=True)\n",
        "# df['reply_count'].replace('', 0, inplace=True)\n",
        "# df.fillna({'like_count': 0, 'reply_count': 0}, inplace=True)\n",
        "\n",
        "# # Convert columns to integers\n",
        "# df['like_count'] = df['like_count'].apply(convert_to_int)\n",
        "# df['reply_count'] = df['reply_count'].apply(convert_to_int)\n",
        "\n",
        "# df.head()"
      ],
      "metadata": {
        "id": "8IgwRw-lx_-9"
      },
      "execution_count": null,
      "outputs": []
    },
    {
      "cell_type": "code",
      "source": [],
      "metadata": {
        "id": "yKi4U2BQSfo0"
      },
      "execution_count": null,
      "outputs": []
    },
    {
      "cell_type": "code",
      "source": [
        "# # Test get_comments_html2\n",
        "# start_time = time.time()\n",
        "# comments_html = get_comments_html2(video_url)\n",
        "# end_time = time.time()\n",
        "# print(\"Comments HTML retrieved.\")\n",
        "# print(f\"Time taken: {end_time - start_time} seconds\")\n"
      ],
      "metadata": {
        "id": "UsNqh0OXJFp4"
      },
      "execution_count": null,
      "outputs": []
    },
    {
      "cell_type": "code",
      "source": [],
      "metadata": {
        "id": "b5x3bmYfKS0V"
      },
      "execution_count": null,
      "outputs": []
    },
    {
      "cell_type": "code",
      "source": [
        "# # Example YouTube video URL\n",
        "# video_url = \"https://www.youtube.com/watch?v=rkyj1U0n2TA\"\n",
        "\n",
        "\n",
        "# # Extract video ID\n",
        "# video_id = extract_video_id(video_url)\n",
        "\n",
        "# # Initialize YouTube API client\n",
        "# api_key = userdata.get('YouTubeAPI_key')  # Replace with your API key if not using Colab\n",
        "# youtube = initialize_youtube_api(api_key)\n",
        "\n",
        "\n",
        "\n",
        "# # Retrieve and display video comments\n",
        "# def get_video_comments(video_url):\n",
        "#     \"\"\"\n",
        "#     Retrieves comments from the provided YouTube video URL.\n",
        "\n",
        "#     Args:\n",
        "#         video_url (str): The URL of the YouTube video.\n",
        "\n",
        "#     Returns:\n",
        "#         list: A list of comments and their data.\n",
        "#     \"\"\"\n",
        "#     comments_html = get_comments_html(video_url)  # Get HTML of comments section\n",
        "#     comment_thread_renderers = get_comment_thread_renderers(comments_html)  # Extract comment renderers\n",
        "#     _, comments_data = get_comments(comment_thread_renderers)  # Extract comment data\n",
        "\n",
        "#     return comments_data\n",
        "\n",
        "# # Display video info\n",
        "# print(\"\\nVideo Information:\\n\")\n",
        "# title, extracted_video_url, view_count, like_count, commentCount, date_posted, first_paragraph, thumbnail_url = get_video_info(video_id)\n",
        "# print(f\"Title: {title}\")\n",
        "# print(f\"Video URL: {extracted_video_url}\")\n",
        "# print(f\"View count: {view_count}\")\n",
        "# print(f\"Like count: {like_count}\")\n",
        "# print(f\"Number of Comments: {commentCount}\")\n",
        "# print(f\"Date posted: {date_posted}\")\n",
        "# print(f\"Description: {first_paragraph}\")\n",
        "# print(f\"Thumbnail URL: {thumbnail_url}\")\n",
        "# print(\"\\n\")\n",
        "\n",
        "# # Retrieve and display video comments in JSON format\n",
        "# comments_data = get_video_comments(video_url)\n",
        "\n",
        "# # Convert comments to JSON and display\n",
        "# comments_json = json.dumps(comments_data, indent=4)\n",
        "# print(\"\\nVideo Comments (JSON Format):\\n\")\n",
        "# print(comments_json)"
      ],
      "metadata": {
        "id": "zklPBPlWKSup"
      },
      "execution_count": null,
      "outputs": []
    },
    {
      "cell_type": "code",
      "source": [],
      "metadata": {
        "id": "t74Cn6LgKSoI"
      },
      "execution_count": null,
      "outputs": []
    }
  ]
}