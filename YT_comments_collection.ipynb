{
  "cells": [
    {
      "cell_type": "markdown",
      "metadata": {
        "id": "view-in-github",
        "colab_type": "text"
      },
      "source": [
        "<a href=\"https://colab.research.google.com/github/kkrusere/youTube-comments-Analyzer/blob/main/YT_comments_collection.ipynb\" target=\"_parent\"><img src=\"https://colab.research.google.com/assets/colab-badge.svg\" alt=\"Open In Colab\"/></a>"
      ]
    },
    {
      "cell_type": "code",
      "execution_count": 1,
      "metadata": {
        "colab": {
          "base_uri": "https://localhost:8080/"
        },
        "id": "eU0xXXoBQzor",
        "outputId": "be5b7e92-b7fc-429b-f576-ac61bf168416"
      },
      "outputs": [
        {
          "output_type": "stream",
          "name": "stdout",
          "text": [
            "\u001b[33m\r0% [Working]\u001b[0m\r            \rHit:1 https://cloud.r-project.org/bin/linux/ubuntu jammy-cran40/ InRelease\n",
            "Hit:2 https://developer.download.nvidia.com/compute/cuda/repos/ubuntu2204/x86_64  InRelease\n",
            "Get:3 http://security.ubuntu.com/ubuntu jammy-security InRelease [129 kB]\n",
            "Hit:4 http://archive.ubuntu.com/ubuntu jammy InRelease\n",
            "Get:5 http://archive.ubuntu.com/ubuntu jammy-updates InRelease [128 kB]\n",
            "Hit:6 https://ppa.launchpadcontent.net/c2d4u.team/c2d4u4.0+/ubuntu jammy InRelease\n",
            "Hit:7 https://ppa.launchpadcontent.net/deadsnakes/ppa/ubuntu jammy InRelease\n",
            "Hit:8 http://archive.ubuntu.com/ubuntu jammy-backports InRelease\n",
            "Hit:9 https://ppa.launchpadcontent.net/graphics-drivers/ppa/ubuntu jammy InRelease\n",
            "Get:10 http://archive.ubuntu.com/ubuntu jammy-updates/main amd64 Packages [2,189 kB]\n",
            "Hit:11 https://ppa.launchpadcontent.net/ubuntugis/ppa/ubuntu jammy InRelease\n",
            "Get:12 http://archive.ubuntu.com/ubuntu jammy-updates/universe amd64 Packages [1,393 kB]\n",
            "Fetched 3,839 kB in 4s (1,079 kB/s)\n",
            "Reading package lists... Done\n",
            "Building dependency tree... Done\n",
            "Reading state information... Done\n",
            "47 packages can be upgraded. Run 'apt list --upgradable' to see them.\n",
            "Reading package lists... Done\n",
            "Building dependency tree... Done\n",
            "Reading state information... Done\n",
            "wget is already the newest version (1.21.2-2ubuntu1).\n",
            "curl is already the newest version (7.81.0-1ubuntu1.16).\n",
            "unzip is already the newest version (6.0-26ubuntu3.2).\n",
            "You might want to run 'apt --fix-broken install' to correct these.\n",
            "The following packages have unmet dependencies:\n",
            " google-chrome-stable : Depends: libvulkan1 but it is not going to be installed\n",
            "\u001b[1;31mE: \u001b[0mUnmet dependencies. Try 'apt --fix-broken install' with no packages (or specify a solution).\u001b[0m\n",
            "--2024-06-25 20:09:16--  http://archive.ubuntu.com/ubuntu/pool/main/libu/libu2f-host/libu2f-udev_1.1.4-1_all.deb\n",
            "Resolving archive.ubuntu.com (archive.ubuntu.com)... 91.189.91.83, 185.125.190.82, 91.189.91.82, ...\n",
            "Connecting to archive.ubuntu.com (archive.ubuntu.com)|91.189.91.83|:80... connected.\n",
            "HTTP request sent, awaiting response... 200 OK\n",
            "Length: 3708 (3.6K) [application/vnd.debian.binary-package]\n",
            "Saving to: ‘libu2f-udev_1.1.4-1_all.deb.6’\n",
            "\n",
            "libu2f-udev_1.1.4-1 100%[===================>]   3.62K  --.-KB/s    in 0s      \n",
            "\n",
            "2024-06-25 20:09:17 (706 MB/s) - ‘libu2f-udev_1.1.4-1_all.deb.6’ saved [3708/3708]\n",
            "\n",
            "(Reading database ... 122043 files and directories currently installed.)\n",
            "Preparing to unpack libu2f-udev_1.1.4-1_all.deb ...\n",
            "Unpacking libu2f-udev (1.1.4-1) over (1.1.4-1) ...\n",
            "Setting up libu2f-udev (1.1.4-1) ...\n",
            "--2024-06-25 20:09:17--  https://dl.google.com/linux/direct/google-chrome-stable_current_amd64.deb\n",
            "Resolving dl.google.com (dl.google.com)... 108.177.125.190, 108.177.125.91, 108.177.125.93, ...\n",
            "Connecting to dl.google.com (dl.google.com)|108.177.125.190|:443... connected.\n",
            "HTTP request sent, awaiting response... 200 OK\n",
            "Length: 108773084 (104M) [application/x-debian-package]\n",
            "Saving to: ‘google-chrome-stable_current_amd64.deb.6’\n",
            "\n",
            "google-chrome-stabl 100%[===================>] 103.73M   314MB/s    in 0.3s    \n",
            "\n",
            "2024-06-25 20:09:18 (314 MB/s) - ‘google-chrome-stable_current_amd64.deb.6’ saved [108773084/108773084]\n",
            "\n",
            "(Reading database ... 122043 files and directories currently installed.)\n",
            "Preparing to unpack google-chrome-stable_current_amd64.deb ...\n",
            "Unpacking google-chrome-stable (126.0.6478.126-1) over (126.0.6478.126-1) ...\n",
            "\u001b[1mdpkg:\u001b[0m dependency problems prevent configuration of google-chrome-stable:\n",
            " google-chrome-stable depends on libvulkan1; however:\n",
            "  Package libvulkan1 is not installed.\n",
            "\n",
            "\u001b[1mdpkg:\u001b[0m error processing package google-chrome-stable (--install):\n",
            " dependency problems - leaving unconfigured\n",
            "Processing triggers for man-db (2.10.2-1) ...\n",
            "Errors were encountered while processing:\n",
            " google-chrome-stable\n",
            "--2024-06-25 20:09:26--  https://edgedl.me.gvt1.com/edgedl/chrome/chrome-for-testing/118.0.5993.70/linux64/chromedriver-linux64.zip\n",
            "Resolving edgedl.me.gvt1.com (edgedl.me.gvt1.com)... 34.104.35.123, 2600:1900:4110:86f::\n",
            "Connecting to edgedl.me.gvt1.com (edgedl.me.gvt1.com)|34.104.35.123|:443... connected.\n",
            "HTTP request sent, awaiting response... 304 Not Modified\n",
            "File ‘/tmp/chromedriver-linux64.zip’ not modified on server. Omitting download.\n",
            "\n",
            "Archive:  /tmp/chromedriver-linux64.zip\n",
            "  inflating: /tmp/chromedriver-linux64/LICENSE.chromedriver  \n",
            "  inflating: /tmp/chromedriver-linux64/chromedriver  \n",
            "Requirement already satisfied: selenium in /usr/local/lib/python3.10/dist-packages (4.22.0)\n",
            "Requirement already satisfied: chromedriver_autoinstaller in /usr/local/lib/python3.10/dist-packages (0.6.4)\n",
            "Requirement already satisfied: urllib3[socks]<3,>=1.26 in /usr/local/lib/python3.10/dist-packages (from selenium) (2.0.7)\n",
            "Requirement already satisfied: trio~=0.17 in /usr/local/lib/python3.10/dist-packages (from selenium) (0.25.1)\n",
            "Requirement already satisfied: trio-websocket~=0.9 in /usr/local/lib/python3.10/dist-packages (from selenium) (0.11.1)\n",
            "Requirement already satisfied: certifi>=2021.10.8 in /usr/local/lib/python3.10/dist-packages (from selenium) (2024.6.2)\n",
            "Requirement already satisfied: typing_extensions>=4.9.0 in /usr/local/lib/python3.10/dist-packages (from selenium) (4.12.2)\n",
            "Requirement already satisfied: websocket-client>=1.8.0 in /usr/local/lib/python3.10/dist-packages (from selenium) (1.8.0)\n",
            "Requirement already satisfied: packaging>=23.1 in /usr/local/lib/python3.10/dist-packages (from chromedriver_autoinstaller) (24.1)\n",
            "Requirement already satisfied: attrs>=23.2.0 in /usr/local/lib/python3.10/dist-packages (from trio~=0.17->selenium) (23.2.0)\n",
            "Requirement already satisfied: sortedcontainers in /usr/local/lib/python3.10/dist-packages (from trio~=0.17->selenium) (2.4.0)\n",
            "Requirement already satisfied: idna in /usr/local/lib/python3.10/dist-packages (from trio~=0.17->selenium) (3.7)\n",
            "Requirement already satisfied: outcome in /usr/local/lib/python3.10/dist-packages (from trio~=0.17->selenium) (1.3.0.post0)\n",
            "Requirement already satisfied: sniffio>=1.3.0 in /usr/local/lib/python3.10/dist-packages (from trio~=0.17->selenium) (1.3.1)\n",
            "Requirement already satisfied: exceptiongroup in /usr/local/lib/python3.10/dist-packages (from trio~=0.17->selenium) (1.2.1)\n",
            "Requirement already satisfied: wsproto>=0.14 in /usr/local/lib/python3.10/dist-packages (from trio-websocket~=0.9->selenium) (1.2.0)\n",
            "Requirement already satisfied: pysocks!=1.5.7,<2.0,>=1.5.6 in /usr/local/lib/python3.10/dist-packages (from urllib3[socks]<3,>=1.26->selenium) (1.7.1)\n",
            "Requirement already satisfied: h11<1,>=0.9.0 in /usr/local/lib/python3.10/dist-packages (from wsproto>=0.14->trio-websocket~=0.9->selenium) (0.14.0)\n"
          ]
        },
        {
          "output_type": "execute_result",
          "data": {
            "text/plain": []
          },
          "metadata": {},
          "execution_count": 1
        }
      ],
      "source": [
        "%%shell\n",
        "sudo apt -y update\n",
        "sudo apt install -y wget curl unzip\n",
        "wget http://archive.ubuntu.com/ubuntu/pool/main/libu/libu2f-host/libu2f-udev_1.1.4-1_all.deb\n",
        "dpkg -i libu2f-udev_1.1.4-1_all.deb\n",
        "wget https://dl.google.com/linux/direct/google-chrome-stable_current_amd64.deb\n",
        "dpkg -i google-chrome-stable_current_amd64.deb\n",
        "\n",
        "wget -N https://edgedl.me.gvt1.com/edgedl/chrome/chrome-for-testing/118.0.5993.70/linux64/chromedriver-linux64.zip -P /tmp/\n",
        "unzip -o /tmp/chromedriver-linux64.zip -d /tmp/\n",
        "chmod +x /tmp/chromedriver-linux64/chromedriver\n",
        "mv /tmp/chromedriver-linux64/chromedriver /usr/local/bin/chromedriver\n",
        "pip install selenium chromedriver_autoinstaller"
      ]
    },
    {
      "cell_type": "code",
      "source": [
        "import os\n",
        "from google.colab import drive"
      ],
      "metadata": {
        "id": "lo_Rt1YYX9U5"
      },
      "execution_count": 2,
      "outputs": []
    },
    {
      "cell_type": "code",
      "source": [
        "#mounting google drive\n",
        "drive.mount('/content/drive')\n",
        "\n",
        "########################################\n",
        "\n",
        "#changing the working directory\n",
        "os.chdir(\"/content/drive/MyDrive/EV NLP Data\")\n",
        "\n",
        "!pwd\n"
      ],
      "metadata": {
        "id": "TqMUbwZnX_vZ",
        "outputId": "18bd7c1c-ee3b-43b8-9915-e1ca73b5de81",
        "colab": {
          "base_uri": "https://localhost:8080/"
        }
      },
      "execution_count": 3,
      "outputs": [
        {
          "output_type": "stream",
          "name": "stdout",
          "text": [
            "Drive already mounted at /content/drive; to attempt to forcibly remount, call drive.mount(\"/content/drive\", force_remount=True).\n",
            "/content/drive/MyDrive/EV NLP Data\n"
          ]
        }
      ]
    },
    {
      "cell_type": "code",
      "execution_count": 4,
      "metadata": {
        "id": "ql3oOw_zRdDb"
      },
      "outputs": [],
      "source": [
        "import sys\n",
        "sys.path.insert(0,'/usr/lib/chromium-browser/chromedriver')\n",
        "\n",
        "\n",
        "from selenium import webdriver\n",
        "import chromedriver_autoinstaller\n",
        "from selenium.webdriver.common.by import By\n",
        "from selenium.webdriver.common.keys import Keys\n",
        "from selenium.webdriver.support.ui import WebDriverWait\n",
        "from selenium.webdriver.support import expected_conditions as EC\n",
        "from selenium.webdriver.common.action_chains import ActionChains\n",
        "\n",
        "import random\n",
        "import time\n",
        "\n",
        "\n",
        "chrome_options = webdriver.ChromeOptions()\n",
        "chrome_options.add_argument('--headless')\n",
        "chrome_options.add_argument('--no-sandbox')\n",
        "chrome_options.add_argument('--disable-dev-shm-usage')\n",
        "chromedriver_autoinstaller.install()\n",
        "driver = webdriver.Chrome(options=chrome_options)\n",
        "\n",
        "\n",
        "from bs4 import BeautifulSoup\n",
        "import requests\n",
        "import json"
      ]
    },
    {
      "cell_type": "code",
      "source": [
        "import pandas as pd\n",
        "import numpy as np\n"
      ],
      "metadata": {
        "id": "KVMWOrY9stbw"
      },
      "execution_count": 5,
      "outputs": []
    },
    {
      "cell_type": "code",
      "execution_count": 23,
      "metadata": {
        "id": "YFxDFWLy2EeX"
      },
      "outputs": [],
      "source": [
        "import operator\n",
        "from google.colab import userdata\n",
        "api_key = userdata.get('YouTubeAPI_key')"
      ]
    },
    {
      "cell_type": "code",
      "execution_count": 24,
      "metadata": {
        "id": "JHJ2Uf54UY-J"
      },
      "outputs": [],
      "source": [
        "import googleapiclient.discovery\n",
        "from googleapiclient.discovery import build\n",
        "import datetime\n",
        "\n",
        "\n",
        "\n",
        "youtube = googleapiclient.discovery.build(\"youtube\", \"v3\", developerKey=api_key)\n"
      ]
    },
    {
      "cell_type": "code",
      "source": [],
      "metadata": {
        "id": "J32M7G962vOi"
      },
      "execution_count": 7,
      "outputs": []
    },
    {
      "cell_type": "markdown",
      "source": [
        "This Jupyter Notebook is designed to collect YouTube video comments from various videos. These comments will be used for creating, training, and validating a Sentiment Analysis model. The videos from which the comments were collected were chosen with no particular criteria other than being from my favorite channels and videos.\n",
        "\n",
        "The process of collecting comments makes use of the YouTube API, Selenium, BeautifulSoup, and other custom functions.\n",
        "\n",
        "The process:\n",
        "\n",
        "1. Create a list of favorite channels.\n",
        "2. Use the YouTube API to select the top 10 most-watched videos from each channel and store them in a master list of videos from which we will collect comments.\n",
        "3. For each video in the master video list, use Selenium and BeautifulSoup to collect the comments and store them in a pandas DataFrame.\n",
        "4. Clean and sanitize the comments in the DataFrame and prepare the data for Sentiment Analysis."
      ],
      "metadata": {
        "id": "yMLm81KQ27EV"
      }
    },
    {
      "cell_type": "code",
      "source": [],
      "metadata": {
        "id": "nNpaCEhz2vCm"
      },
      "execution_count": 7,
      "outputs": []
    },
    {
      "cell_type": "code",
      "source": [
        "# below are functions for reading a writting json file for the current working directory\n",
        "\n",
        "def save_to_json(data, filename):\n",
        "    with open(filename, 'w') as json_file:\n",
        "        json.dump(data, json_file, indent=4)\n",
        "\n",
        "def load_from_json(filename):\n",
        "    with open(filename, 'r') as json_file:\n",
        "        comments = json.load(json_file)\n",
        "    return comments"
      ],
      "metadata": {
        "id": "sQISFC8_errB"
      },
      "execution_count": 8,
      "outputs": []
    },
    {
      "cell_type": "code",
      "source": [],
      "metadata": {
        "id": "XE90kVwSerj-"
      },
      "execution_count": 8,
      "outputs": []
    },
    {
      "cell_type": "code",
      "source": [
        "# # We are going to save this of channels to a json file. There was no particular proceedure in creating the below list of channels other than trying to capture cannels that would create a balance on positive, negative and neutral comments.\n",
        "\n",
        "# # List of YouTube channel URLs\n",
        "# channels = [\n",
        "#     \"https://www.youtube.com/@BestEverFoodReviewShow\",\n",
        "#     \"https://www.youtube.com/@TheRamseyShow\",\n",
        "#     \"https://www.youtube.com/@MrBallen\",\n",
        "#     \"https://www.youtube.com/@MattWalsh\",\n",
        "#     \"https://www.youtube.com/@VICE\",\n",
        "#     \"https://www.youtube.com/@CNN\",\n",
        "#     \"https://www.youtube.com/@Jeep\",\n",
        "#     \"https://www.youtube.com/@MrBeast\",\n",
        "#     \"https://www.youtube.com/@obamawhitehouse\",\n",
        "#     \"https://www.youtube.com/@DonaldJTrumpforPresident\",\n",
        "#     \"https://www.youtube.com/@TheDailyShow\",\n",
        "#     \"https://www.youtube.com/@gordonramsay\",\n",
        "#     \"https://www.youtube.com/@frontline\",\n",
        "#     \"https://www.youtube.com/@JoeBiden\",\n",
        "#     \"https://www.youtube.com/@LastWeekTonight\",\n",
        "#     \"https://www.youtube.com/@edmundscars\",\n",
        "#     \"https://www.youtube.com/@BillBurrOfficial\",\n",
        "#     \"https://www.youtube.com/@netflixisajoke\",\n",
        "#     \"https://www.youtube.com/@TheLaughFactory\",\n",
        "#     \"https://www.youtube.com/@VICENews\",\n",
        "#     \"https://www.youtube.com/@SargonofAkkad\",\n",
        "#     \"https://www.youtube.com/@gags\",\n",
        "#     \"https://www.youtube.com/@LaurenSouthernOfficial\",\n",
        "#     \"https://www.youtube.com/@FunnyOrDie\",\n",
        "#     \"https://www.youtube.com/@dropout\",\n",
        "#     \"https://www.youtube.com/@thedavidpakmanshow\",\n",
        "#     \"https://www.youtube.com/@Vaush\",\n",
        "#     \"https://www.youtube.com/@ComedyCentral\",\n",
        "#     \"https://www.youtube.com/@SortedFood\",\n",
        "#     \"https://www.youtube.com/@gmc\",\n",
        "#     \"https://www.youtube.com/@mytruecrimenews\",\n",
        "#     \"https://www.youtube.com/@amazon\",\n",
        "#     \"https://www.youtube.com/@RealCandaceO\",\n",
        "#     \"https://www.youtube.com/@JCS\",\n",
        "#     \"https://www.youtube.com/@Google\",\n",
        "#     \"https://www.youtube.com/@ChrisHansen\",\n",
        "#     \"https://www.youtube.com/@PragerU\",\n",
        "#     \"https://www.youtube.com/@NBCSports\",\n",
        "#     \"https://www.youtube.com/@Apple\",\n",
        "#     \"https://www.youtube.com/@ExploreWithUs\",\n",
        "#     \"https://www.youtube.com/@TODAY\",\n",
        "#     \"https://www.youtube.com/@Microsoft\",\n",
        "#     \"https://www.youtube.com/@DatelineNBC\",\n",
        "#     \"https://www.youtube.com/@Timcast\",\n",
        "#     \"https://www.youtube.com/@AssociatedPress\",\n",
        "#     \"https://www.youtube.com/@JordanBPeterson\",\n",
        "#     \"https://www.youtube.com/@NBCNews\",\n",
        "#     \"https://www.youtube.com/@StevenCrowder\",\n",
        "#     \"https://www.youtube.com/@NFL\",\n",
        "#     \"https://www.youtube.com/@SabineHossenfelder\",\n",
        "#     \"https://www.youtube.com/@RubinReport\",\n",
        "#     \"https://www.youtube.com/@CNBC\",\n",
        "#     \"https://www.youtube.com/@DailyWirePlus\",\n",
        "#     \"https://www.youtube.com/@joerogan\",\n",
        "#     \"https://www.youtube.com/@60minutes\",\n",
        "#     \"https://www.youtube.com/@ElectricVehicleSpace\",\n",
        "#     \"https://www.youtube.com/@DougDeMuro\",\n",
        "#     \"https://www.youtube.com/@markets\",\n",
        "#     \"https://www.youtube.com/@nypost\",\n",
        "#     \"https://www.youtube.com/@neoexplains\",\n",
        "#     \"https://www.youtube.com/@unboxtherapy\",\n",
        "#     \"https://www.youtube.com/@KitchenNightmares\",\n",
        "#     \"https://www.youtube.com/@SamEckholm\",\n",
        "#     \"https://www.youtube.com/@RealStories\",\n",
        "#     \"https://www.youtube.com/@FreeDocumentary\",\n",
        "#     \"https://www.youtube.com/@TechQuarks\",\n",
        "#     \"https://www.youtube.com/@WonderDocs\",\n",
        "#     \"https://www.youtube.com/@sciencechannel\",\n",
        "#     \"https://www.youtube.com/@FluctusOfficial\",\n",
        "#     \"https://www.youtube.com/@Munchies\",\n",
        "#     \"https://www.youtube.com/@dcofficial\",\n",
        "#     \"https://www.youtube.com/@48hours\",\n",
        "#     \"https://www.youtube.com/@therealautoblog\",\n",
        "#     \"https://www.youtube.com/@BusinessInsider\",\n",
        "#     \"https://www.youtube.com/@NickDiGiovanni\",\n",
        "#     \"https://www.youtube.com/@RamTrucks\",\n",
        "#     \"https://www.youtube.com/@stalekrackerofficial4240\",\n",
        "#     \"https://www.youtube.com/@nytimes\",\n",
        "#     \"https://www.youtube.com/@DailyCallerVideo\",\n",
        "#     \"https://www.youtube.com/@babishculinaryuniverse\",\n",
        "#     \"https://www.youtube.com/@marvel\",\n",
        "#     \"https://www.youtube.com/@adidas\",\n",
        "#     \"https://www.youtube.com/@nissanusa\",\n",
        "#     \"https://www.youtube.com/@TED\",\n",
        "#     \"https://www.youtube.com/@CBSNews\",\n",
        "#     \"https://www.youtube.com/@ProHomeCooks\",\n",
        "#     \"https://www.youtube.com/@buzzfeedtasty\",\n",
        "#     \"https://www.youtube.com/@Honda\",\n",
        "#     \"https://www.youtube.com/@TFLEV\",\n",
        "#     \"https://www.youtube.com/@jimgaffigan\",\n",
        "#     \"https://www.youtube.com/@breakingpoints\",\n",
        "#     \"https://www.youtube.com/@Honest_Ads\",\n",
        "#     \"https://www.youtube.com/@Shaun_vids\",\n",
        "#     \"https://www.youtube.com/@JKenjiLopezAlt\",\n",
        "#     \"https://www.youtube.com/@epicurious\",\n",
        "#     \"https://www.youtube.com/@JoshuaWeissman\",\n",
        "#     \"https://www.youtube.com/@TheOnion\",\n",
        "#     \"https://www.youtube.com/@Chevrolet\",\n",
        "#     \"https://www.youtube.com/@HowItShouldHaveEnded\",\n",
        "#     \"https://www.youtube.com/@wsj\",\n",
        "#     \"https://www.youtube.com/@cracked\",\n",
        "#     \"https://www.youtube.com/@TheTRYChannel\",\n",
        "#     \"https://www.youtube.com/@TeamCoco\",\n",
        "#     \"https://www.youtube.com/@LOLNetwork\",\n",
        "#     \"https://www.youtube.com/@KeyAndPeele\",\n",
        "#     \"https://www.youtube.com/@bonappetit\",\n",
        "#     \"https://www.youtube.com/@MentourNow\",\n",
        "#     \"https://www.youtube.com/@HasanAbi\",\n",
        "#     \"https://www.youtube.com/@TheLateLateShow\",\n",
        "#     \"https://www.youtube.com/@ThatChapter\",\n",
        "#     \"https://www.youtube.com/@Coffeezilla\",\n",
        "#     \"https://www.youtube.com/@JimmyKimmelLive\",\n",
        "#     \"https://www.youtube.com/@MentourPilot\",\n",
        "#     \"https://www.youtube.com/@OpenAI\",\n",
        "#     \"https://www.youtube.com/@TheFBIFiles\",\n",
        "#     \"https://www.youtube.com/@CoffeehouseCrime\",\n",
        "#     \"https://www.youtube.com/@TechLead\",\n",
        "#     \"https://www.youtube.com/@gustoonz\",\n",
        "#     \"https://www.youtube.com/@TFLcar\",\n",
        "#     \"https://www.youtube.com/@BreakfastClubPower1051FM\",\n",
        "#     \"https://www.youtube.com/@nike\",\n",
        "#     \"https://www.youtube.com/@MaydayAirDisaster\",\n",
        "#     \"https://www.youtube.com/@GingerBilly\",\n",
        "#     \"https://www.youtube.com/@TheBabylonBee\",\n",
        "#     \"https://www.youtube.com/@Donut\",\n",
        "#     \"https://www.youtube.com/@CSPAN\",\n",
        "#     \"https://www.youtube.com/@PhilosophyTube\",\n",
        "#     \"https://www.youtube.com/@RealTime\",\n",
        "#     \"https://www.youtube.com/@kbb\",\n",
        "#     \"https://www.youtube.com/@tesla\",\n",
        "#     \"https://www.youtube.com/@TheYoungTurks\",\n",
        "#     \"https://www.youtube.com/@bigthink\",\n",
        "#     \"https://www.youtube.com/@LindsayEllisVids\",\n",
        "#     \"https://www.youtube.com/@latimes\",\n",
        "#     \"https://www.youtube.com/@SecularTalk\",\n",
        "#     \"https://www.youtube.com/@hbomberguy\",\n",
        "#     \"https://www.youtube.com/@NewsNation\",\n",
        "#     \"https://www.youtube.com/@aljazeeraenglish\",\n",
        "#     \"https://www.youtube.com/@BenShapiro\",\n",
        "#     \"https://www.youtube.com/@BadFaithPodcast\",\n",
        "#     \"https://www.youtube.com/@fifa\",\n",
        "#     \"https://www.youtube.com/@espn\",\n",
        "#     \"https://www.youtube.com/@ActualJusticeWarrior\",\n",
        "#     \"https://www.youtube.com/@ContraPoints\",\n",
        "#     \"https://www.youtube.com/@fallontonight\",\n",
        "#     \"https://www.youtube.com/@MarkWiens\",\n",
        "#     \"https://www.youtube.com/@BBC\",\n",
        "#     \"https://www.youtube.com/@pbsspacetime\",\n",
        "#     \"https://www.youtube.com/@Dodge\",\n",
        "#     \"https://www.youtube.com/@InsideEdition\",\n",
        "#     \"https://www.youtube.com/@ford\",\n",
        "#     \"https://www.youtube.com/@FoxNews\",\n",
        "#     \"https://www.youtube.com/@Beardmeatsfood\",\n",
        "#     \"https://www.youtube.com/@CodeBlueCam\",\n",
        "#     \"https://www.youtube.com/@SamChui\",\n",
        "#     \"https://www.youtube.com/@toyotausa\",\n",
        "#     \"https://www.youtube.com/@GugaFoods\",\n",
        "#     \"https://www.youtube.com/@BBCNews\",\n",
        "#     \"https://www.youtube.com/@ColbertLateShow\",\n",
        "#     \"https://www.youtube.com/@thehill\",\n",
        "#     \"https://www.youtube.com/@NatGeo\",\n",
        "#     \"https://www.youtube.com/@Cadillac\",\n",
        "#     \"https://www.youtube.com/@TheDodo\",\n",
        "#     \"https://www.youtube.com/@discovery\",\n",
        "#     \"https://www.youtube.com/@SimplilearnOfficial\",\n",
        "#     \"https://www.youtube.com/@NBCNews\"\n",
        "# ]\n",
        "\n",
        "# # Data to be written to JSON file\n",
        "# data = {\"channels\": channels}\n",
        "\n",
        "# # Writing to json file\n",
        "# save_to_json(data, \"channels.json\")"
      ],
      "metadata": {
        "id": "hf3_-dFZdFb3"
      },
      "execution_count": 9,
      "outputs": []
    },
    {
      "cell_type": "code",
      "source": [
        "#"
      ],
      "metadata": {
        "id": "p3GlBdDqdFJJ"
      },
      "execution_count": 10,
      "outputs": []
    },
    {
      "cell_type": "code",
      "source": [
        "# Reading the channel list from the saved jjson file\n",
        "json_data = load_from_json(\"channels.json\")\n",
        "channel_list = json_data['channels']"
      ],
      "metadata": {
        "id": "aB1ExA1XYQzk"
      },
      "execution_count": 11,
      "outputs": []
    },
    {
      "cell_type": "code",
      "source": [],
      "metadata": {
        "id": "qvDeptN8fs7E"
      },
      "execution_count": 11,
      "outputs": []
    },
    {
      "cell_type": "code",
      "source": [
        "## Method 1 - Using the YouTube API\n",
        "\n",
        "# Function to get the channel ID from a URL that has `channel handles`\n",
        "def get_channel_id_from_url_YTAPI(api_key, custom_url):\n",
        "    youtube = build('youtube', 'v3', developerKey=api_key)\n",
        "\n",
        "    # Removing the 'https://www.youtube.com/' part from the URL\n",
        "    username = custom_url.split('/')[-1]\n",
        "\n",
        "    # Using the 'search' method to find the channel\n",
        "    request = youtube.search().list(\n",
        "        part='snippet',\n",
        "        q=username,\n",
        "        type='channel',\n",
        "        maxResults=1\n",
        "    )\n",
        "\n",
        "    response = request.execute()\n",
        "\n",
        "    if 'items' in response and len(response['items']) > 0:\n",
        "        channel_id = response['items'][0]['snippet']['channelId']\n",
        "        return channel_id\n",
        "    else:\n",
        "        print(f\"ChannelID not found for URL: {custom_url}\")\n",
        "        return None"
      ],
      "metadata": {
        "id": "qfPQVjL7f6Ht"
      },
      "execution_count": 12,
      "outputs": []
    },
    {
      "cell_type": "code",
      "source": [],
      "metadata": {
        "id": "7IWguQ9Wn1Cu"
      },
      "execution_count": 12,
      "outputs": []
    },
    {
      "cell_type": "code",
      "source": [
        "# Function to get all video IDs from the channel\n",
        "def get_all_video_ids(channel_id):\n",
        "    video_ids = []\n",
        "    next_page_token = None\n",
        "\n",
        "    while True:\n",
        "        request = youtube.search().list(\n",
        "            part='id',\n",
        "            channelId=channel_id,\n",
        "            maxResults=50,\n",
        "            pageToken=next_page_token,\n",
        "            type='video'\n",
        "        )\n",
        "        response = request.execute()\n",
        "\n",
        "        for item in response['items']:\n",
        "            video_ids.append(item['id']['videoId'])\n",
        "\n",
        "        next_page_token = response.get('nextPageToken')\n",
        "        if not next_page_token:\n",
        "            break\n",
        "\n",
        "    return video_ids\n",
        "\n",
        "# Function to get video statistics (including view count)\n",
        "def get_video_stats(video_ids):\n",
        "    video_stats = []\n",
        "    for i in range(0, len(video_ids), 50):\n",
        "        request = youtube.videos().list(\n",
        "            part='statistics',\n",
        "            id=','.join(video_ids[i:i+50])\n",
        "        )\n",
        "        response = request.execute()\n",
        "        if response.status_code == 200:\n",
        "          # Process the successful response here.\n",
        "          print(\"Request successful!\")\n",
        "        else:\n",
        "          # Handle the error response here.\n",
        "          print(\"Error:\", response.status_code)\n",
        "\n",
        "        for item in response['items']:\n",
        "            view_count = int(item['statistics']['viewCount'])\n",
        "            video_stats.append((item['id'], view_count))\n",
        "\n",
        "    return video_stats"
      ],
      "metadata": {
        "id": "1pPRv9BXD9HQ"
      },
      "execution_count": 27,
      "outputs": []
    },
    {
      "cell_type": "code",
      "source": [
        "# prompt: if response was successfull\n",
        "\n",
        "if response.status_code == 200:\n",
        "  # Process the successful response here.\n",
        "  print(\"Request successful!\")\n",
        "else:\n",
        "  # Handle the error response here.\n",
        "  print(\"Error:\", response.status_code)\n"
      ],
      "metadata": {
        "id": "YPoSVMbTD9Eb",
        "outputId": "89427a2b-956e-4162-ba4e-d317a86f30c3",
        "colab": {
          "base_uri": "https://localhost:8080/",
          "height": 139
        }
      },
      "execution_count": 26,
      "outputs": [
        {
          "output_type": "error",
          "ename": "NameError",
          "evalue": "name 'response' is not defined",
          "traceback": [
            "\u001b[0;31m---------------------------------------------------------------------------\u001b[0m",
            "\u001b[0;31mNameError\u001b[0m                                 Traceback (most recent call last)",
            "\u001b[0;32m<ipython-input-26-ab0153f39f33>\u001b[0m in \u001b[0;36m<cell line: 1>\u001b[0;34m()\u001b[0m\n\u001b[0;32m----> 1\u001b[0;31m \u001b[0mresponse\u001b[0m\u001b[0;34m\u001b[0m\u001b[0;34m\u001b[0m\u001b[0m\n\u001b[0m",
            "\u001b[0;31mNameError\u001b[0m: name 'response' is not defined"
          ]
        }
      ]
    },
    {
      "cell_type": "code",
      "source": [
        "## Method 2 - Using Request and BeautifulSoup\n",
        "\n",
        "# Function to get the channel ID from a URL that has `channel handles`\n",
        "def get_channel_id_from_url2(url):\n",
        "\n",
        "  # Send a request to fetch the HTML content of the page\n",
        "  response = requests.get(url)\n",
        "\n",
        "  # Parse the HTML content using BeautifulSoup\n",
        "  soup = BeautifulSoup(response.text, 'html.parser')\n",
        "\n",
        "  # Find the channel ID from the HTML content\n",
        "  # The channel ID is usually within a link tag with the attribute containing '/channel/'\n",
        "  channel_id = None\n",
        "  for link in soup.find_all('link'):\n",
        "      href = link.get('href', '')\n",
        "      if '/channel/' in href:\n",
        "          channel_id = href.split('/channel/')[1]\n",
        "          break\n",
        "\n",
        "  return channel_id\n"
      ],
      "metadata": {
        "id": "HLhl60EHgy4s"
      },
      "execution_count": 13,
      "outputs": []
    },
    {
      "cell_type": "code",
      "source": [
        "# We are going to create a dictionary that we will turn into a data frame containing\n",
        "  # 1. Channel Name\n",
        "  # 2. Channel Url (with handle)\n",
        "  # 3. Channel ID\n",
        "  # 4. Chennel UrlwID (with ID)\n",
        "channel_dict = {\n",
        "    \"channel_name\": [],\n",
        "    \"channel_url\": [],\n",
        "    \"channel_id\": [],\n",
        "    \"chennel_UrlwID\": []\n",
        "}\n"
      ],
      "metadata": {
        "id": "I3Mal2CNiJu0"
      },
      "execution_count": 14,
      "outputs": []
    },
    {
      "cell_type": "code",
      "source": [
        "# Function to return th channel `username`\n",
        "def get_channel_username(url):\n",
        "  return url.split('@')[-1]"
      ],
      "metadata": {
        "id": "brLl0Ox4jFLi"
      },
      "execution_count": 15,
      "outputs": []
    },
    {
      "cell_type": "code",
      "source": [
        "# let's populate our data dictionary using the channel list\n",
        "random.shuffle(channel_list) # randomly shuffle the channel list\n",
        "for channel_url in channel_list:\n",
        "  channel_dict[\"channel_name\"].append(get_channel_username(channel_url))\n",
        "  channel_dict[\"channel_url\"].append(channel_url)\n",
        "  time.sleep(2) #wait for 2 seconds\n",
        "  channel_id = get_channel_id_from_url2(channel_url)\n",
        "  channel_dict[\"channel_id\"].append(channel_id)\n",
        "  channel_dict[\"chennel_UrlwID\"].append(f'https://www.youtube.com/channel/{channel_id}')\n"
      ],
      "metadata": {
        "id": "rdXKEaA1i8zV"
      },
      "execution_count": 16,
      "outputs": []
    },
    {
      "cell_type": "code",
      "source": [],
      "metadata": {
        "id": "JY9TZXjZ-b38"
      },
      "execution_count": 16,
      "outputs": []
    },
    {
      "cell_type": "code",
      "source": [
        "# Now we convert the `channel_dict` to a pandas dataframe\n",
        "df = pd.DataFrame(channel_dict)\n",
        "df.head()"
      ],
      "metadata": {
        "colab": {
          "base_uri": "https://localhost:8080/",
          "height": 224
        },
        "id": "NGKZ2mu-gy2I",
        "outputId": "6d0cac0c-f482-4946-f36c-77bfb915074f"
      },
      "execution_count": 17,
      "outputs": [
        {
          "output_type": "execute_result",
          "data": {
            "text/plain": [
              "  channel_name                          channel_url                channel_id  \\\n",
              "0       Google      https://www.youtube.com/@Google  UCK8sQmJBp8GCxrOtXWBpyEA   \n",
              "1    60minutes   https://www.youtube.com/@60minutes  UCsN32BtMd0IoByjJRNF12cw   \n",
              "2   DougDeMuro  https://www.youtube.com/@DougDeMuro  UCsqjHFMB_JYTaEnf_vmTNqg   \n",
              "3    NBCSports   https://www.youtube.com/@NBCSports  UCqZQlzSHbVJrwrn5XvzrzcA   \n",
              "4       NatGeo      https://www.youtube.com/@NatGeo  UCpVm7bg6pXKo1Pr6k5kxG9A   \n",
              "\n",
              "                                      chennel_UrlwID  \n",
              "0  https://www.youtube.com/channel/UCK8sQmJBp8GCx...  \n",
              "1  https://www.youtube.com/channel/UCsN32BtMd0IoB...  \n",
              "2  https://www.youtube.com/channel/UCsqjHFMB_JYTa...  \n",
              "3  https://www.youtube.com/channel/UCqZQlzSHbVJrw...  \n",
              "4  https://www.youtube.com/channel/UCpVm7bg6pXKo1...  "
            ],
            "text/html": [
              "\n",
              "  <div id=\"df-d2dddd5c-b50d-41f8-924a-34fb49522a52\" class=\"colab-df-container\">\n",
              "    <div>\n",
              "<style scoped>\n",
              "    .dataframe tbody tr th:only-of-type {\n",
              "        vertical-align: middle;\n",
              "    }\n",
              "\n",
              "    .dataframe tbody tr th {\n",
              "        vertical-align: top;\n",
              "    }\n",
              "\n",
              "    .dataframe thead th {\n",
              "        text-align: right;\n",
              "    }\n",
              "</style>\n",
              "<table border=\"1\" class=\"dataframe\">\n",
              "  <thead>\n",
              "    <tr style=\"text-align: right;\">\n",
              "      <th></th>\n",
              "      <th>channel_name</th>\n",
              "      <th>channel_url</th>\n",
              "      <th>channel_id</th>\n",
              "      <th>chennel_UrlwID</th>\n",
              "    </tr>\n",
              "  </thead>\n",
              "  <tbody>\n",
              "    <tr>\n",
              "      <th>0</th>\n",
              "      <td>Google</td>\n",
              "      <td>https://www.youtube.com/@Google</td>\n",
              "      <td>UCK8sQmJBp8GCxrOtXWBpyEA</td>\n",
              "      <td>https://www.youtube.com/channel/UCK8sQmJBp8GCx...</td>\n",
              "    </tr>\n",
              "    <tr>\n",
              "      <th>1</th>\n",
              "      <td>60minutes</td>\n",
              "      <td>https://www.youtube.com/@60minutes</td>\n",
              "      <td>UCsN32BtMd0IoByjJRNF12cw</td>\n",
              "      <td>https://www.youtube.com/channel/UCsN32BtMd0IoB...</td>\n",
              "    </tr>\n",
              "    <tr>\n",
              "      <th>2</th>\n",
              "      <td>DougDeMuro</td>\n",
              "      <td>https://www.youtube.com/@DougDeMuro</td>\n",
              "      <td>UCsqjHFMB_JYTaEnf_vmTNqg</td>\n",
              "      <td>https://www.youtube.com/channel/UCsqjHFMB_JYTa...</td>\n",
              "    </tr>\n",
              "    <tr>\n",
              "      <th>3</th>\n",
              "      <td>NBCSports</td>\n",
              "      <td>https://www.youtube.com/@NBCSports</td>\n",
              "      <td>UCqZQlzSHbVJrwrn5XvzrzcA</td>\n",
              "      <td>https://www.youtube.com/channel/UCqZQlzSHbVJrw...</td>\n",
              "    </tr>\n",
              "    <tr>\n",
              "      <th>4</th>\n",
              "      <td>NatGeo</td>\n",
              "      <td>https://www.youtube.com/@NatGeo</td>\n",
              "      <td>UCpVm7bg6pXKo1Pr6k5kxG9A</td>\n",
              "      <td>https://www.youtube.com/channel/UCpVm7bg6pXKo1...</td>\n",
              "    </tr>\n",
              "  </tbody>\n",
              "</table>\n",
              "</div>\n",
              "    <div class=\"colab-df-buttons\">\n",
              "\n",
              "  <div class=\"colab-df-container\">\n",
              "    <button class=\"colab-df-convert\" onclick=\"convertToInteractive('df-d2dddd5c-b50d-41f8-924a-34fb49522a52')\"\n",
              "            title=\"Convert this dataframe to an interactive table.\"\n",
              "            style=\"display:none;\">\n",
              "\n",
              "  <svg xmlns=\"http://www.w3.org/2000/svg\" height=\"24px\" viewBox=\"0 -960 960 960\">\n",
              "    <path d=\"M120-120v-720h720v720H120Zm60-500h600v-160H180v160Zm220 220h160v-160H400v160Zm0 220h160v-160H400v160ZM180-400h160v-160H180v160Zm440 0h160v-160H620v160ZM180-180h160v-160H180v160Zm440 0h160v-160H620v160Z\"/>\n",
              "  </svg>\n",
              "    </button>\n",
              "\n",
              "  <style>\n",
              "    .colab-df-container {\n",
              "      display:flex;\n",
              "      gap: 12px;\n",
              "    }\n",
              "\n",
              "    .colab-df-convert {\n",
              "      background-color: #E8F0FE;\n",
              "      border: none;\n",
              "      border-radius: 50%;\n",
              "      cursor: pointer;\n",
              "      display: none;\n",
              "      fill: #1967D2;\n",
              "      height: 32px;\n",
              "      padding: 0 0 0 0;\n",
              "      width: 32px;\n",
              "    }\n",
              "\n",
              "    .colab-df-convert:hover {\n",
              "      background-color: #E2EBFA;\n",
              "      box-shadow: 0px 1px 2px rgba(60, 64, 67, 0.3), 0px 1px 3px 1px rgba(60, 64, 67, 0.15);\n",
              "      fill: #174EA6;\n",
              "    }\n",
              "\n",
              "    .colab-df-buttons div {\n",
              "      margin-bottom: 4px;\n",
              "    }\n",
              "\n",
              "    [theme=dark] .colab-df-convert {\n",
              "      background-color: #3B4455;\n",
              "      fill: #D2E3FC;\n",
              "    }\n",
              "\n",
              "    [theme=dark] .colab-df-convert:hover {\n",
              "      background-color: #434B5C;\n",
              "      box-shadow: 0px 1px 3px 1px rgba(0, 0, 0, 0.15);\n",
              "      filter: drop-shadow(0px 1px 2px rgba(0, 0, 0, 0.3));\n",
              "      fill: #FFFFFF;\n",
              "    }\n",
              "  </style>\n",
              "\n",
              "    <script>\n",
              "      const buttonEl =\n",
              "        document.querySelector('#df-d2dddd5c-b50d-41f8-924a-34fb49522a52 button.colab-df-convert');\n",
              "      buttonEl.style.display =\n",
              "        google.colab.kernel.accessAllowed ? 'block' : 'none';\n",
              "\n",
              "      async function convertToInteractive(key) {\n",
              "        const element = document.querySelector('#df-d2dddd5c-b50d-41f8-924a-34fb49522a52');\n",
              "        const dataTable =\n",
              "          await google.colab.kernel.invokeFunction('convertToInteractive',\n",
              "                                                    [key], {});\n",
              "        if (!dataTable) return;\n",
              "\n",
              "        const docLinkHtml = 'Like what you see? Visit the ' +\n",
              "          '<a target=\"_blank\" href=https://colab.research.google.com/notebooks/data_table.ipynb>data table notebook</a>'\n",
              "          + ' to learn more about interactive tables.';\n",
              "        element.innerHTML = '';\n",
              "        dataTable['output_type'] = 'display_data';\n",
              "        await google.colab.output.renderOutput(dataTable, element);\n",
              "        const docLink = document.createElement('div');\n",
              "        docLink.innerHTML = docLinkHtml;\n",
              "        element.appendChild(docLink);\n",
              "      }\n",
              "    </script>\n",
              "  </div>\n",
              "\n",
              "\n",
              "<div id=\"df-79d9f88d-e1ea-44c1-b387-0aa5edc17f4d\">\n",
              "  <button class=\"colab-df-quickchart\" onclick=\"quickchart('df-79d9f88d-e1ea-44c1-b387-0aa5edc17f4d')\"\n",
              "            title=\"Suggest charts\"\n",
              "            style=\"display:none;\">\n",
              "\n",
              "<svg xmlns=\"http://www.w3.org/2000/svg\" height=\"24px\"viewBox=\"0 0 24 24\"\n",
              "     width=\"24px\">\n",
              "    <g>\n",
              "        <path d=\"M19 3H5c-1.1 0-2 .9-2 2v14c0 1.1.9 2 2 2h14c1.1 0 2-.9 2-2V5c0-1.1-.9-2-2-2zM9 17H7v-7h2v7zm4 0h-2V7h2v10zm4 0h-2v-4h2v4z\"/>\n",
              "    </g>\n",
              "</svg>\n",
              "  </button>\n",
              "\n",
              "<style>\n",
              "  .colab-df-quickchart {\n",
              "      --bg-color: #E8F0FE;\n",
              "      --fill-color: #1967D2;\n",
              "      --hover-bg-color: #E2EBFA;\n",
              "      --hover-fill-color: #174EA6;\n",
              "      --disabled-fill-color: #AAA;\n",
              "      --disabled-bg-color: #DDD;\n",
              "  }\n",
              "\n",
              "  [theme=dark] .colab-df-quickchart {\n",
              "      --bg-color: #3B4455;\n",
              "      --fill-color: #D2E3FC;\n",
              "      --hover-bg-color: #434B5C;\n",
              "      --hover-fill-color: #FFFFFF;\n",
              "      --disabled-bg-color: #3B4455;\n",
              "      --disabled-fill-color: #666;\n",
              "  }\n",
              "\n",
              "  .colab-df-quickchart {\n",
              "    background-color: var(--bg-color);\n",
              "    border: none;\n",
              "    border-radius: 50%;\n",
              "    cursor: pointer;\n",
              "    display: none;\n",
              "    fill: var(--fill-color);\n",
              "    height: 32px;\n",
              "    padding: 0;\n",
              "    width: 32px;\n",
              "  }\n",
              "\n",
              "  .colab-df-quickchart:hover {\n",
              "    background-color: var(--hover-bg-color);\n",
              "    box-shadow: 0 1px 2px rgba(60, 64, 67, 0.3), 0 1px 3px 1px rgba(60, 64, 67, 0.15);\n",
              "    fill: var(--button-hover-fill-color);\n",
              "  }\n",
              "\n",
              "  .colab-df-quickchart-complete:disabled,\n",
              "  .colab-df-quickchart-complete:disabled:hover {\n",
              "    background-color: var(--disabled-bg-color);\n",
              "    fill: var(--disabled-fill-color);\n",
              "    box-shadow: none;\n",
              "  }\n",
              "\n",
              "  .colab-df-spinner {\n",
              "    border: 2px solid var(--fill-color);\n",
              "    border-color: transparent;\n",
              "    border-bottom-color: var(--fill-color);\n",
              "    animation:\n",
              "      spin 1s steps(1) infinite;\n",
              "  }\n",
              "\n",
              "  @keyframes spin {\n",
              "    0% {\n",
              "      border-color: transparent;\n",
              "      border-bottom-color: var(--fill-color);\n",
              "      border-left-color: var(--fill-color);\n",
              "    }\n",
              "    20% {\n",
              "      border-color: transparent;\n",
              "      border-left-color: var(--fill-color);\n",
              "      border-top-color: var(--fill-color);\n",
              "    }\n",
              "    30% {\n",
              "      border-color: transparent;\n",
              "      border-left-color: var(--fill-color);\n",
              "      border-top-color: var(--fill-color);\n",
              "      border-right-color: var(--fill-color);\n",
              "    }\n",
              "    40% {\n",
              "      border-color: transparent;\n",
              "      border-right-color: var(--fill-color);\n",
              "      border-top-color: var(--fill-color);\n",
              "    }\n",
              "    60% {\n",
              "      border-color: transparent;\n",
              "      border-right-color: var(--fill-color);\n",
              "    }\n",
              "    80% {\n",
              "      border-color: transparent;\n",
              "      border-right-color: var(--fill-color);\n",
              "      border-bottom-color: var(--fill-color);\n",
              "    }\n",
              "    90% {\n",
              "      border-color: transparent;\n",
              "      border-bottom-color: var(--fill-color);\n",
              "    }\n",
              "  }\n",
              "</style>\n",
              "\n",
              "  <script>\n",
              "    async function quickchart(key) {\n",
              "      const quickchartButtonEl =\n",
              "        document.querySelector('#' + key + ' button');\n",
              "      quickchartButtonEl.disabled = true;  // To prevent multiple clicks.\n",
              "      quickchartButtonEl.classList.add('colab-df-spinner');\n",
              "      try {\n",
              "        const charts = await google.colab.kernel.invokeFunction(\n",
              "            'suggestCharts', [key], {});\n",
              "      } catch (error) {\n",
              "        console.error('Error during call to suggestCharts:', error);\n",
              "      }\n",
              "      quickchartButtonEl.classList.remove('colab-df-spinner');\n",
              "      quickchartButtonEl.classList.add('colab-df-quickchart-complete');\n",
              "    }\n",
              "    (() => {\n",
              "      let quickchartButtonEl =\n",
              "        document.querySelector('#df-79d9f88d-e1ea-44c1-b387-0aa5edc17f4d button');\n",
              "      quickchartButtonEl.style.display =\n",
              "        google.colab.kernel.accessAllowed ? 'block' : 'none';\n",
              "    })();\n",
              "  </script>\n",
              "</div>\n",
              "\n",
              "    </div>\n",
              "  </div>\n"
            ],
            "application/vnd.google.colaboratory.intrinsic+json": {
              "type": "dataframe",
              "variable_name": "df",
              "summary": "{\n  \"name\": \"df\",\n  \"rows\": 166,\n  \"fields\": [\n    {\n      \"column\": \"channel_name\",\n      \"properties\": {\n        \"dtype\": \"string\",\n        \"num_unique_values\": 165,\n        \"samples\": [\n          \"DailyCallerVideo\",\n          \"RealTime\",\n          \"Donut\"\n        ],\n        \"semantic_type\": \"\",\n        \"description\": \"\"\n      }\n    },\n    {\n      \"column\": \"channel_url\",\n      \"properties\": {\n        \"dtype\": \"string\",\n        \"num_unique_values\": 165,\n        \"samples\": [\n          \"https://www.youtube.com/@DailyCallerVideo\",\n          \"https://www.youtube.com/@RealTime\",\n          \"https://www.youtube.com/@Donut\"\n        ],\n        \"semantic_type\": \"\",\n        \"description\": \"\"\n      }\n    },\n    {\n      \"column\": \"channel_id\",\n      \"properties\": {\n        \"dtype\": \"string\",\n        \"num_unique_values\": 165,\n        \"samples\": [\n          \"UCfDdlNLRVb1h3_7Xh-WhL3w\",\n          \"UCy6kyFxaMqGtpE3pQTflK8A\",\n          \"UCL6JmiMXKoXS6bpP1D3bk8g\"\n        ],\n        \"semantic_type\": \"\",\n        \"description\": \"\"\n      }\n    },\n    {\n      \"column\": \"chennel_UrlwID\",\n      \"properties\": {\n        \"dtype\": \"string\",\n        \"num_unique_values\": 165,\n        \"samples\": [\n          \"https://www.youtube.com/channel/UCfDdlNLRVb1h3_7Xh-WhL3w\",\n          \"https://www.youtube.com/channel/UCy6kyFxaMqGtpE3pQTflK8A\",\n          \"https://www.youtube.com/channel/UCL6JmiMXKoXS6bpP1D3bk8g\"\n        ],\n        \"semantic_type\": \"\",\n        \"description\": \"\"\n      }\n    }\n  ]\n}"
            }
          },
          "metadata": {},
          "execution_count": 17
        }
      ]
    },
    {
      "cell_type": "code",
      "source": [],
      "metadata": {
        "id": "eOZan7p25usK"
      },
      "execution_count": null,
      "outputs": []
    },
    {
      "cell_type": "code",
      "source": [
        "for CHANNEL_ID in df['channel_id']:\n",
        "  print(CHANNEL_ID)\n",
        "\n",
        "  # Get all video IDs from the channel\n",
        "  video_ids = get_all_video_ids(CHANNEL_ID)\n",
        "\n",
        "  # Get statistics for all videos\n",
        "  video_stats = get_video_stats(video_ids)\n",
        "\n",
        "  # Sort videos by view count in descending order\n",
        "  sorted_videos = sorted(video_stats, key=operator.itemgetter(1), reverse=True)\n",
        "\n",
        "  # Get the top 10 most viewed videos\n",
        "  top_10_videos = sorted_videos[:10]\n",
        "\n",
        "  # Print the top 10 videos\n",
        "  for i, (video_id, view_count) in enumerate(top_10_videos, 1):\n",
        "      print(f\"{i}. Video ID: {video_id} - {view_count} views\")\n"
      ],
      "metadata": {
        "id": "iupZIzSP5uph",
        "outputId": "16b43cc7-1f31-41b9-e1e5-5bd9d9c139b0",
        "colab": {
          "base_uri": "https://localhost:8080/",
          "height": 343
        }
      },
      "execution_count": 28,
      "outputs": [
        {
          "output_type": "stream",
          "name": "stdout",
          "text": [
            "UCK8sQmJBp8GCxrOtXWBpyEA\n"
          ]
        },
        {
          "output_type": "error",
          "ename": "AttributeError",
          "evalue": "'dict' object has no attribute 'status_code'",
          "traceback": [
            "\u001b[0;31m---------------------------------------------------------------------------\u001b[0m",
            "\u001b[0;31mAttributeError\u001b[0m                            Traceback (most recent call last)",
            "\u001b[0;32m<ipython-input-28-b73edaa5d745>\u001b[0m in \u001b[0;36m<cell line: 1>\u001b[0;34m()\u001b[0m\n\u001b[1;32m      6\u001b[0m \u001b[0;34m\u001b[0m\u001b[0m\n\u001b[1;32m      7\u001b[0m   \u001b[0;31m# Get statistics for all videos\u001b[0m\u001b[0;34m\u001b[0m\u001b[0;34m\u001b[0m\u001b[0m\n\u001b[0;32m----> 8\u001b[0;31m   \u001b[0mvideo_stats\u001b[0m \u001b[0;34m=\u001b[0m \u001b[0mget_video_stats\u001b[0m\u001b[0;34m(\u001b[0m\u001b[0mvideo_ids\u001b[0m\u001b[0;34m)\u001b[0m\u001b[0;34m\u001b[0m\u001b[0;34m\u001b[0m\u001b[0m\n\u001b[0m\u001b[1;32m      9\u001b[0m \u001b[0;34m\u001b[0m\u001b[0m\n\u001b[1;32m     10\u001b[0m   \u001b[0;31m# Sort videos by view count in descending order\u001b[0m\u001b[0;34m\u001b[0m\u001b[0;34m\u001b[0m\u001b[0m\n",
            "\u001b[0;32m<ipython-input-27-ce7479e45dda>\u001b[0m in \u001b[0;36mget_video_stats\u001b[0;34m(video_ids)\u001b[0m\n\u001b[1;32m     32\u001b[0m         )\n\u001b[1;32m     33\u001b[0m         \u001b[0mresponse\u001b[0m \u001b[0;34m=\u001b[0m \u001b[0mrequest\u001b[0m\u001b[0;34m.\u001b[0m\u001b[0mexecute\u001b[0m\u001b[0;34m(\u001b[0m\u001b[0;34m)\u001b[0m\u001b[0;34m\u001b[0m\u001b[0;34m\u001b[0m\u001b[0m\n\u001b[0;32m---> 34\u001b[0;31m         \u001b[0;32mif\u001b[0m \u001b[0mresponse\u001b[0m\u001b[0;34m.\u001b[0m\u001b[0mstatus_code\u001b[0m \u001b[0;34m==\u001b[0m \u001b[0;36m200\u001b[0m\u001b[0;34m:\u001b[0m\u001b[0;34m\u001b[0m\u001b[0;34m\u001b[0m\u001b[0m\n\u001b[0m\u001b[1;32m     35\u001b[0m           \u001b[0;31m# Process the successful response here.\u001b[0m\u001b[0;34m\u001b[0m\u001b[0;34m\u001b[0m\u001b[0m\n\u001b[1;32m     36\u001b[0m           \u001b[0mprint\u001b[0m\u001b[0;34m(\u001b[0m\u001b[0;34m\"Request successful!\"\u001b[0m\u001b[0;34m)\u001b[0m\u001b[0;34m\u001b[0m\u001b[0;34m\u001b[0m\u001b[0m\n",
            "\u001b[0;31mAttributeError\u001b[0m: 'dict' object has no attribute 'status_code'"
          ]
        }
      ]
    },
    {
      "cell_type": "code",
      "source": [
        "# prompt: request error code\n",
        "\n",
        "if response.status_code == 200:\n",
        "  # Process the successful response here.\n",
        "  print(\"Request successful!\")\n",
        "else:\n",
        "  # Handle the error response here.\n",
        "  print(\"Error:\", response.status_code)\n"
      ],
      "metadata": {
        "id": "_EoN9cir5um5"
      },
      "execution_count": null,
      "outputs": []
    },
    {
      "cell_type": "code",
      "source": [],
      "metadata": {
        "id": "9P51OFT45ukF"
      },
      "execution_count": null,
      "outputs": []
    },
    {
      "cell_type": "code",
      "source": [],
      "metadata": {
        "id": "_TmsDkl42-RX"
      },
      "execution_count": null,
      "outputs": []
    },
    {
      "cell_type": "code",
      "source": [
        "# URL of the YouTube channel's videos page\n",
        "url = \"https://www.youtube.com/channel/UCkLXELm63_pH7L-r-548kig/videos\"\n",
        "\n",
        "# Send a request to fetch the page content\n",
        "response = requests.get(url)\n",
        "soup = BeautifulSoup(response.text, 'html.parser')\n",
        "\n",
        "# Function to parse the views and title\n",
        "def get_views_and_title(video):\n",
        "    title = video.find('a', id='video-title').text.strip()\n",
        "    views = video.find('span', class_='style-scope ytd-grid-video-renderer').text.strip()\n",
        "    return title, views\n",
        "\n",
        "# Get the list of videos\n",
        "videos = soup.find_all('ytd-grid-video-renderer', class_='style-scope ytd-grid-renderer')\n",
        "\n",
        "# Extract title and views for each video\n",
        "video_data = [get_views_and_title(video) for video in videos]\n",
        "\n",
        "# Sort videos by views (convert views to integers for comparison)\n",
        "def extract_views(view_string):\n",
        "    return int(view_string.split(' ')[0].replace(',', ''))\n",
        "\n",
        "video_data.sort(key=lambda x: extract_views(x[1]), reverse=True)\n",
        "\n",
        "# Get the top 10 most viewed videos\n",
        "top_10_videos = video_data[:10]\n",
        "\n",
        "for i, (title, views) in enumerate(top_10_videos, start=1):\n",
        "    print(f\"{i}. {title} - {views}\")\n"
      ],
      "metadata": {
        "id": "AFZ_uN12fCKl"
      },
      "execution_count": 42,
      "outputs": []
    },
    {
      "cell_type": "code",
      "source": [],
      "metadata": {
        "id": "wCJUFydQtYxq"
      },
      "execution_count": null,
      "outputs": []
    },
    {
      "cell_type": "code",
      "source": [
        "# URL of the YouTube channel's videos page\n",
        "url = \"https://www.youtube.com/channel/UCkLXELm63_pH7L-r-548kig/videos\"\n",
        "\n",
        "# Open the YouTube channel's videos page\n",
        "driver.get(url)\n",
        "time.sleep(3)  # Wait for the page to load\n",
        "\n",
        "# Scroll down to load more videos\n",
        "SCROLL_PAUSE_TIME = 2\n",
        "last_height = driver.execute_script(\"return document.documentElement.scrollHeight\")\n",
        "\n",
        "while True:\n",
        "    # Scroll down to the bottom\n",
        "    driver.execute_script(\"window.scrollTo(0, document.documentElement.scrollHeight);\")\n",
        "\n",
        "    # Wait to load the page\n",
        "    time.sleep(SCROLL_PAUSE_TIME)\n",
        "\n",
        "    # Calculate new scroll height and compare with last scroll height\n",
        "    new_height = driver.execute_script(\"return document.documentElement.scrollHeight\")\n",
        "    if new_height == last_height:\n",
        "        break\n",
        "    last_height = new_height\n",
        "\n",
        "# Get video titles and view counts\n",
        "videos = driver.find_elements(By.ID, 'dismissible')\n",
        "video_data = []\n",
        "\n",
        "for video in videos:\n",
        "    title = video.find_element(By.ID, 'video-title').text\n",
        "    views_text = video.find_element(By.XPATH, './/div[@id=\"metadata-line\"]/span[1]').text\n",
        "    if \"views\" in views_text:\n",
        "        views = int(views_text.split()[0].replace(\",\", \"\"))\n",
        "        video_data.append((title, views))\n",
        "\n",
        "# Sort videos by view count\n",
        "video_data.sort(key=lambda x: x[1], reverse=True)\n",
        "\n",
        "# Get top 10 most viewed videos\n",
        "top_10_videos = video_data[:10]\n",
        "\n",
        "# Print the top 10 videos\n",
        "for i, (title, views) in enumerate(top_10_videos, 1):\n",
        "    print(f\"{i}. {title} - {views} views\")\n"
      ],
      "metadata": {
        "id": "UheODcIutYvD"
      },
      "execution_count": 45,
      "outputs": []
    },
    {
      "cell_type": "code",
      "source": [],
      "metadata": {
        "id": "3hsSoXHrtYr8"
      },
      "execution_count": null,
      "outputs": []
    },
    {
      "cell_type": "code",
      "source": [
        "videos"
      ],
      "metadata": {
        "id": "YHjEitQb4bqy",
        "outputId": "a59df810-d98b-4985-9f51-d91f4196be58",
        "colab": {
          "base_uri": "https://localhost:8080/"
        }
      },
      "execution_count": 47,
      "outputs": [
        {
          "output_type": "execute_result",
          "data": {
            "text/plain": [
              "[<selenium.webdriver.remote.webelement.WebElement (session=\"59ed7f1d8287c6c6cd722e5584a9bef4\", element=\"f.D094E65B3261BFAD265CB11F9C6EE998.d.C0157FFA3C8B27E6EC5BD3EF6ADFDBFE.e.28\")>,\n",
              " <selenium.webdriver.remote.webelement.WebElement (session=\"59ed7f1d8287c6c6cd722e5584a9bef4\", element=\"f.D094E65B3261BFAD265CB11F9C6EE998.d.C0157FFA3C8B27E6EC5BD3EF6ADFDBFE.e.34\")>,\n",
              " <selenium.webdriver.remote.webelement.WebElement (session=\"59ed7f1d8287c6c6cd722e5584a9bef4\", element=\"f.D094E65B3261BFAD265CB11F9C6EE998.d.C0157FFA3C8B27E6EC5BD3EF6ADFDBFE.e.85\")>,\n",
              " <selenium.webdriver.remote.webelement.WebElement (session=\"59ed7f1d8287c6c6cd722e5584a9bef4\", element=\"f.D094E65B3261BFAD265CB11F9C6EE998.d.C0157FFA3C8B27E6EC5BD3EF6ADFDBFE.e.86\")>,\n",
              " <selenium.webdriver.remote.webelement.WebElement (session=\"59ed7f1d8287c6c6cd722e5584a9bef4\", element=\"f.D094E65B3261BFAD265CB11F9C6EE998.d.C0157FFA3C8B27E6EC5BD3EF6ADFDBFE.e.87\")>,\n",
              " <selenium.webdriver.remote.webelement.WebElement (session=\"59ed7f1d8287c6c6cd722e5584a9bef4\", element=\"f.D094E65B3261BFAD265CB11F9C6EE998.d.C0157FFA3C8B27E6EC5BD3EF6ADFDBFE.e.88\")>,\n",
              " <selenium.webdriver.remote.webelement.WebElement (session=\"59ed7f1d8287c6c6cd722e5584a9bef4\", element=\"f.D094E65B3261BFAD265CB11F9C6EE998.d.C0157FFA3C8B27E6EC5BD3EF6ADFDBFE.e.89\")>,\n",
              " <selenium.webdriver.remote.webelement.WebElement (session=\"59ed7f1d8287c6c6cd722e5584a9bef4\", element=\"f.D094E65B3261BFAD265CB11F9C6EE998.d.C0157FFA3C8B27E6EC5BD3EF6ADFDBFE.e.90\")>,\n",
              " <selenium.webdriver.remote.webelement.WebElement (session=\"59ed7f1d8287c6c6cd722e5584a9bef4\", element=\"f.D094E65B3261BFAD265CB11F9C6EE998.d.C0157FFA3C8B27E6EC5BD3EF6ADFDBFE.e.91\")>,\n",
              " <selenium.webdriver.remote.webelement.WebElement (session=\"59ed7f1d8287c6c6cd722e5584a9bef4\", element=\"f.D094E65B3261BFAD265CB11F9C6EE998.d.C0157FFA3C8B27E6EC5BD3EF6ADFDBFE.e.92\")>,\n",
              " <selenium.webdriver.remote.webelement.WebElement (session=\"59ed7f1d8287c6c6cd722e5584a9bef4\", element=\"f.D094E65B3261BFAD265CB11F9C6EE998.d.C0157FFA3C8B27E6EC5BD3EF6ADFDBFE.e.93\")>,\n",
              " <selenium.webdriver.remote.webelement.WebElement (session=\"59ed7f1d8287c6c6cd722e5584a9bef4\", element=\"f.D094E65B3261BFAD265CB11F9C6EE998.d.C0157FFA3C8B27E6EC5BD3EF6ADFDBFE.e.94\")>,\n",
              " <selenium.webdriver.remote.webelement.WebElement (session=\"59ed7f1d8287c6c6cd722e5584a9bef4\", element=\"f.D094E65B3261BFAD265CB11F9C6EE998.d.C0157FFA3C8B27E6EC5BD3EF6ADFDBFE.e.95\")>,\n",
              " <selenium.webdriver.remote.webelement.WebElement (session=\"59ed7f1d8287c6c6cd722e5584a9bef4\", element=\"f.D094E65B3261BFAD265CB11F9C6EE998.d.C0157FFA3C8B27E6EC5BD3EF6ADFDBFE.e.96\")>,\n",
              " <selenium.webdriver.remote.webelement.WebElement (session=\"59ed7f1d8287c6c6cd722e5584a9bef4\", element=\"f.D094E65B3261BFAD265CB11F9C6EE998.d.C0157FFA3C8B27E6EC5BD3EF6ADFDBFE.e.97\")>,\n",
              " <selenium.webdriver.remote.webelement.WebElement (session=\"59ed7f1d8287c6c6cd722e5584a9bef4\", element=\"f.D094E65B3261BFAD265CB11F9C6EE998.d.C0157FFA3C8B27E6EC5BD3EF6ADFDBFE.e.98\")>,\n",
              " <selenium.webdriver.remote.webelement.WebElement (session=\"59ed7f1d8287c6c6cd722e5584a9bef4\", element=\"f.D094E65B3261BFAD265CB11F9C6EE998.d.C0157FFA3C8B27E6EC5BD3EF6ADFDBFE.e.99\")>,\n",
              " <selenium.webdriver.remote.webelement.WebElement (session=\"59ed7f1d8287c6c6cd722e5584a9bef4\", element=\"f.D094E65B3261BFAD265CB11F9C6EE998.d.C0157FFA3C8B27E6EC5BD3EF6ADFDBFE.e.100\")>,\n",
              " <selenium.webdriver.remote.webelement.WebElement (session=\"59ed7f1d8287c6c6cd722e5584a9bef4\", element=\"f.D094E65B3261BFAD265CB11F9C6EE998.d.C0157FFA3C8B27E6EC5BD3EF6ADFDBFE.e.101\")>,\n",
              " <selenium.webdriver.remote.webelement.WebElement (session=\"59ed7f1d8287c6c6cd722e5584a9bef4\", element=\"f.D094E65B3261BFAD265CB11F9C6EE998.d.C0157FFA3C8B27E6EC5BD3EF6ADFDBFE.e.102\")>,\n",
              " <selenium.webdriver.remote.webelement.WebElement (session=\"59ed7f1d8287c6c6cd722e5584a9bef4\", element=\"f.D094E65B3261BFAD265CB11F9C6EE998.d.C0157FFA3C8B27E6EC5BD3EF6ADFDBFE.e.103\")>,\n",
              " <selenium.webdriver.remote.webelement.WebElement (session=\"59ed7f1d8287c6c6cd722e5584a9bef4\", element=\"f.D094E65B3261BFAD265CB11F9C6EE998.d.C0157FFA3C8B27E6EC5BD3EF6ADFDBFE.e.104\")>,\n",
              " <selenium.webdriver.remote.webelement.WebElement (session=\"59ed7f1d8287c6c6cd722e5584a9bef4\", element=\"f.D094E65B3261BFAD265CB11F9C6EE998.d.C0157FFA3C8B27E6EC5BD3EF6ADFDBFE.e.105\")>,\n",
              " <selenium.webdriver.remote.webelement.WebElement (session=\"59ed7f1d8287c6c6cd722e5584a9bef4\", element=\"f.D094E65B3261BFAD265CB11F9C6EE998.d.C0157FFA3C8B27E6EC5BD3EF6ADFDBFE.e.106\")>,\n",
              " <selenium.webdriver.remote.webelement.WebElement (session=\"59ed7f1d8287c6c6cd722e5584a9bef4\", element=\"f.D094E65B3261BFAD265CB11F9C6EE998.d.C0157FFA3C8B27E6EC5BD3EF6ADFDBFE.e.107\")>,\n",
              " <selenium.webdriver.remote.webelement.WebElement (session=\"59ed7f1d8287c6c6cd722e5584a9bef4\", element=\"f.D094E65B3261BFAD265CB11F9C6EE998.d.C0157FFA3C8B27E6EC5BD3EF6ADFDBFE.e.108\")>,\n",
              " <selenium.webdriver.remote.webelement.WebElement (session=\"59ed7f1d8287c6c6cd722e5584a9bef4\", element=\"f.D094E65B3261BFAD265CB11F9C6EE998.d.C0157FFA3C8B27E6EC5BD3EF6ADFDBFE.e.109\")>,\n",
              " <selenium.webdriver.remote.webelement.WebElement (session=\"59ed7f1d8287c6c6cd722e5584a9bef4\", element=\"f.D094E65B3261BFAD265CB11F9C6EE998.d.C0157FFA3C8B27E6EC5BD3EF6ADFDBFE.e.110\")>,\n",
              " <selenium.webdriver.remote.webelement.WebElement (session=\"59ed7f1d8287c6c6cd722e5584a9bef4\", element=\"f.D094E65B3261BFAD265CB11F9C6EE998.d.C0157FFA3C8B27E6EC5BD3EF6ADFDBFE.e.111\")>,\n",
              " <selenium.webdriver.remote.webelement.WebElement (session=\"59ed7f1d8287c6c6cd722e5584a9bef4\", element=\"f.D094E65B3261BFAD265CB11F9C6EE998.d.C0157FFA3C8B27E6EC5BD3EF6ADFDBFE.e.112\")>,\n",
              " <selenium.webdriver.remote.webelement.WebElement (session=\"59ed7f1d8287c6c6cd722e5584a9bef4\", element=\"f.D094E65B3261BFAD265CB11F9C6EE998.d.C0157FFA3C8B27E6EC5BD3EF6ADFDBFE.e.113\")>,\n",
              " <selenium.webdriver.remote.webelement.WebElement (session=\"59ed7f1d8287c6c6cd722e5584a9bef4\", element=\"f.D094E65B3261BFAD265CB11F9C6EE998.d.C0157FFA3C8B27E6EC5BD3EF6ADFDBFE.e.114\")>,\n",
              " <selenium.webdriver.remote.webelement.WebElement (session=\"59ed7f1d8287c6c6cd722e5584a9bef4\", element=\"f.D094E65B3261BFAD265CB11F9C6EE998.d.C0157FFA3C8B27E6EC5BD3EF6ADFDBFE.e.115\")>,\n",
              " <selenium.webdriver.remote.webelement.WebElement (session=\"59ed7f1d8287c6c6cd722e5584a9bef4\", element=\"f.D094E65B3261BFAD265CB11F9C6EE998.d.C0157FFA3C8B27E6EC5BD3EF6ADFDBFE.e.116\")>,\n",
              " <selenium.webdriver.remote.webelement.WebElement (session=\"59ed7f1d8287c6c6cd722e5584a9bef4\", element=\"f.D094E65B3261BFAD265CB11F9C6EE998.d.C0157FFA3C8B27E6EC5BD3EF6ADFDBFE.e.117\")>,\n",
              " <selenium.webdriver.remote.webelement.WebElement (session=\"59ed7f1d8287c6c6cd722e5584a9bef4\", element=\"f.D094E65B3261BFAD265CB11F9C6EE998.d.C0157FFA3C8B27E6EC5BD3EF6ADFDBFE.e.118\")>,\n",
              " <selenium.webdriver.remote.webelement.WebElement (session=\"59ed7f1d8287c6c6cd722e5584a9bef4\", element=\"f.D094E65B3261BFAD265CB11F9C6EE998.d.C0157FFA3C8B27E6EC5BD3EF6ADFDBFE.e.119\")>,\n",
              " <selenium.webdriver.remote.webelement.WebElement (session=\"59ed7f1d8287c6c6cd722e5584a9bef4\", element=\"f.D094E65B3261BFAD265CB11F9C6EE998.d.C0157FFA3C8B27E6EC5BD3EF6ADFDBFE.e.120\")>,\n",
              " <selenium.webdriver.remote.webelement.WebElement (session=\"59ed7f1d8287c6c6cd722e5584a9bef4\", element=\"f.D094E65B3261BFAD265CB11F9C6EE998.d.C0157FFA3C8B27E6EC5BD3EF6ADFDBFE.e.121\")>,\n",
              " <selenium.webdriver.remote.webelement.WebElement (session=\"59ed7f1d8287c6c6cd722e5584a9bef4\", element=\"f.D094E65B3261BFAD265CB11F9C6EE998.d.C0157FFA3C8B27E6EC5BD3EF6ADFDBFE.e.122\")>,\n",
              " <selenium.webdriver.remote.webelement.WebElement (session=\"59ed7f1d8287c6c6cd722e5584a9bef4\", element=\"f.D094E65B3261BFAD265CB11F9C6EE998.d.C0157FFA3C8B27E6EC5BD3EF6ADFDBFE.e.123\")>,\n",
              " <selenium.webdriver.remote.webelement.WebElement (session=\"59ed7f1d8287c6c6cd722e5584a9bef4\", element=\"f.D094E65B3261BFAD265CB11F9C6EE998.d.C0157FFA3C8B27E6EC5BD3EF6ADFDBFE.e.124\")>,\n",
              " <selenium.webdriver.remote.webelement.WebElement (session=\"59ed7f1d8287c6c6cd722e5584a9bef4\", element=\"f.D094E65B3261BFAD265CB11F9C6EE998.d.C0157FFA3C8B27E6EC5BD3EF6ADFDBFE.e.125\")>,\n",
              " <selenium.webdriver.remote.webelement.WebElement (session=\"59ed7f1d8287c6c6cd722e5584a9bef4\", element=\"f.D094E65B3261BFAD265CB11F9C6EE998.d.C0157FFA3C8B27E6EC5BD3EF6ADFDBFE.e.126\")>,\n",
              " <selenium.webdriver.remote.webelement.WebElement (session=\"59ed7f1d8287c6c6cd722e5584a9bef4\", element=\"f.D094E65B3261BFAD265CB11F9C6EE998.d.C0157FFA3C8B27E6EC5BD3EF6ADFDBFE.e.127\")>,\n",
              " <selenium.webdriver.remote.webelement.WebElement (session=\"59ed7f1d8287c6c6cd722e5584a9bef4\", element=\"f.D094E65B3261BFAD265CB11F9C6EE998.d.C0157FFA3C8B27E6EC5BD3EF6ADFDBFE.e.128\")>,\n",
              " <selenium.webdriver.remote.webelement.WebElement (session=\"59ed7f1d8287c6c6cd722e5584a9bef4\", element=\"f.D094E65B3261BFAD265CB11F9C6EE998.d.C0157FFA3C8B27E6EC5BD3EF6ADFDBFE.e.129\")>,\n",
              " <selenium.webdriver.remote.webelement.WebElement (session=\"59ed7f1d8287c6c6cd722e5584a9bef4\", element=\"f.D094E65B3261BFAD265CB11F9C6EE998.d.C0157FFA3C8B27E6EC5BD3EF6ADFDBFE.e.130\")>,\n",
              " <selenium.webdriver.remote.webelement.WebElement (session=\"59ed7f1d8287c6c6cd722e5584a9bef4\", element=\"f.D094E65B3261BFAD265CB11F9C6EE998.d.C0157FFA3C8B27E6EC5BD3EF6ADFDBFE.e.131\")>,\n",
              " <selenium.webdriver.remote.webelement.WebElement (session=\"59ed7f1d8287c6c6cd722e5584a9bef4\", element=\"f.D094E65B3261BFAD265CB11F9C6EE998.d.C0157FFA3C8B27E6EC5BD3EF6ADFDBFE.e.132\")>,\n",
              " <selenium.webdriver.remote.webelement.WebElement (session=\"59ed7f1d8287c6c6cd722e5584a9bef4\", element=\"f.D094E65B3261BFAD265CB11F9C6EE998.d.C0157FFA3C8B27E6EC5BD3EF6ADFDBFE.e.133\")>,\n",
              " <selenium.webdriver.remote.webelement.WebElement (session=\"59ed7f1d8287c6c6cd722e5584a9bef4\", element=\"f.D094E65B3261BFAD265CB11F9C6EE998.d.C0157FFA3C8B27E6EC5BD3EF6ADFDBFE.e.134\")>,\n",
              " <selenium.webdriver.remote.webelement.WebElement (session=\"59ed7f1d8287c6c6cd722e5584a9bef4\", element=\"f.D094E65B3261BFAD265CB11F9C6EE998.d.C0157FFA3C8B27E6EC5BD3EF6ADFDBFE.e.135\")>,\n",
              " <selenium.webdriver.remote.webelement.WebElement (session=\"59ed7f1d8287c6c6cd722e5584a9bef4\", element=\"f.D094E65B3261BFAD265CB11F9C6EE998.d.C0157FFA3C8B27E6EC5BD3EF6ADFDBFE.e.136\")>,\n",
              " <selenium.webdriver.remote.webelement.WebElement (session=\"59ed7f1d8287c6c6cd722e5584a9bef4\", element=\"f.D094E65B3261BFAD265CB11F9C6EE998.d.C0157FFA3C8B27E6EC5BD3EF6ADFDBFE.e.137\")>,\n",
              " <selenium.webdriver.remote.webelement.WebElement (session=\"59ed7f1d8287c6c6cd722e5584a9bef4\", element=\"f.D094E65B3261BFAD265CB11F9C6EE998.d.C0157FFA3C8B27E6EC5BD3EF6ADFDBFE.e.138\")>,\n",
              " <selenium.webdriver.remote.webelement.WebElement (session=\"59ed7f1d8287c6c6cd722e5584a9bef4\", element=\"f.D094E65B3261BFAD265CB11F9C6EE998.d.C0157FFA3C8B27E6EC5BD3EF6ADFDBFE.e.139\")>,\n",
              " <selenium.webdriver.remote.webelement.WebElement (session=\"59ed7f1d8287c6c6cd722e5584a9bef4\", element=\"f.D094E65B3261BFAD265CB11F9C6EE998.d.C0157FFA3C8B27E6EC5BD3EF6ADFDBFE.e.140\")>,\n",
              " <selenium.webdriver.remote.webelement.WebElement (session=\"59ed7f1d8287c6c6cd722e5584a9bef4\", element=\"f.D094E65B3261BFAD265CB11F9C6EE998.d.C0157FFA3C8B27E6EC5BD3EF6ADFDBFE.e.141\")>,\n",
              " <selenium.webdriver.remote.webelement.WebElement (session=\"59ed7f1d8287c6c6cd722e5584a9bef4\", element=\"f.D094E65B3261BFAD265CB11F9C6EE998.d.C0157FFA3C8B27E6EC5BD3EF6ADFDBFE.e.142\")>,\n",
              " <selenium.webdriver.remote.webelement.WebElement (session=\"59ed7f1d8287c6c6cd722e5584a9bef4\", element=\"f.D094E65B3261BFAD265CB11F9C6EE998.d.C0157FFA3C8B27E6EC5BD3EF6ADFDBFE.e.143\")>,\n",
              " <selenium.webdriver.remote.webelement.WebElement (session=\"59ed7f1d8287c6c6cd722e5584a9bef4\", element=\"f.D094E65B3261BFAD265CB11F9C6EE998.d.C0157FFA3C8B27E6EC5BD3EF6ADFDBFE.e.144\")>,\n",
              " <selenium.webdriver.remote.webelement.WebElement (session=\"59ed7f1d8287c6c6cd722e5584a9bef4\", element=\"f.D094E65B3261BFAD265CB11F9C6EE998.d.C0157FFA3C8B27E6EC5BD3EF6ADFDBFE.e.145\")>,\n",
              " <selenium.webdriver.remote.webelement.WebElement (session=\"59ed7f1d8287c6c6cd722e5584a9bef4\", element=\"f.D094E65B3261BFAD265CB11F9C6EE998.d.C0157FFA3C8B27E6EC5BD3EF6ADFDBFE.e.146\")>,\n",
              " <selenium.webdriver.remote.webelement.WebElement (session=\"59ed7f1d8287c6c6cd722e5584a9bef4\", element=\"f.D094E65B3261BFAD265CB11F9C6EE998.d.C0157FFA3C8B27E6EC5BD3EF6ADFDBFE.e.147\")>,\n",
              " <selenium.webdriver.remote.webelement.WebElement (session=\"59ed7f1d8287c6c6cd722e5584a9bef4\", element=\"f.D094E65B3261BFAD265CB11F9C6EE998.d.C0157FFA3C8B27E6EC5BD3EF6ADFDBFE.e.148\")>,\n",
              " <selenium.webdriver.remote.webelement.WebElement (session=\"59ed7f1d8287c6c6cd722e5584a9bef4\", element=\"f.D094E65B3261BFAD265CB11F9C6EE998.d.C0157FFA3C8B27E6EC5BD3EF6ADFDBFE.e.149\")>,\n",
              " <selenium.webdriver.remote.webelement.WebElement (session=\"59ed7f1d8287c6c6cd722e5584a9bef4\", element=\"f.D094E65B3261BFAD265CB11F9C6EE998.d.C0157FFA3C8B27E6EC5BD3EF6ADFDBFE.e.150\")>,\n",
              " <selenium.webdriver.remote.webelement.WebElement (session=\"59ed7f1d8287c6c6cd722e5584a9bef4\", element=\"f.D094E65B3261BFAD265CB11F9C6EE998.d.C0157FFA3C8B27E6EC5BD3EF6ADFDBFE.e.151\")>,\n",
              " <selenium.webdriver.remote.webelement.WebElement (session=\"59ed7f1d8287c6c6cd722e5584a9bef4\", element=\"f.D094E65B3261BFAD265CB11F9C6EE998.d.C0157FFA3C8B27E6EC5BD3EF6ADFDBFE.e.152\")>,\n",
              " <selenium.webdriver.remote.webelement.WebElement (session=\"59ed7f1d8287c6c6cd722e5584a9bef4\", element=\"f.D094E65B3261BFAD265CB11F9C6EE998.d.C0157FFA3C8B27E6EC5BD3EF6ADFDBFE.e.153\")>,\n",
              " <selenium.webdriver.remote.webelement.WebElement (session=\"59ed7f1d8287c6c6cd722e5584a9bef4\", element=\"f.D094E65B3261BFAD265CB11F9C6EE998.d.C0157FFA3C8B27E6EC5BD3EF6ADFDBFE.e.154\")>,\n",
              " <selenium.webdriver.remote.webelement.WebElement (session=\"59ed7f1d8287c6c6cd722e5584a9bef4\", element=\"f.D094E65B3261BFAD265CB11F9C6EE998.d.C0157FFA3C8B27E6EC5BD3EF6ADFDBFE.e.155\")>,\n",
              " <selenium.webdriver.remote.webelement.WebElement (session=\"59ed7f1d8287c6c6cd722e5584a9bef4\", element=\"f.D094E65B3261BFAD265CB11F9C6EE998.d.C0157FFA3C8B27E6EC5BD3EF6ADFDBFE.e.156\")>,\n",
              " <selenium.webdriver.remote.webelement.WebElement (session=\"59ed7f1d8287c6c6cd722e5584a9bef4\", element=\"f.D094E65B3261BFAD265CB11F9C6EE998.d.C0157FFA3C8B27E6EC5BD3EF6ADFDBFE.e.157\")>,\n",
              " <selenium.webdriver.remote.webelement.WebElement (session=\"59ed7f1d8287c6c6cd722e5584a9bef4\", element=\"f.D094E65B3261BFAD265CB11F9C6EE998.d.C0157FFA3C8B27E6EC5BD3EF6ADFDBFE.e.158\")>,\n",
              " <selenium.webdriver.remote.webelement.WebElement (session=\"59ed7f1d8287c6c6cd722e5584a9bef4\", element=\"f.D094E65B3261BFAD265CB11F9C6EE998.d.C0157FFA3C8B27E6EC5BD3EF6ADFDBFE.e.159\")>,\n",
              " <selenium.webdriver.remote.webelement.WebElement (session=\"59ed7f1d8287c6c6cd722e5584a9bef4\", element=\"f.D094E65B3261BFAD265CB11F9C6EE998.d.C0157FFA3C8B27E6EC5BD3EF6ADFDBFE.e.160\")>,\n",
              " <selenium.webdriver.remote.webelement.WebElement (session=\"59ed7f1d8287c6c6cd722e5584a9bef4\", element=\"f.D094E65B3261BFAD265CB11F9C6EE998.d.C0157FFA3C8B27E6EC5BD3EF6ADFDBFE.e.161\")>,\n",
              " <selenium.webdriver.remote.webelement.WebElement (session=\"59ed7f1d8287c6c6cd722e5584a9bef4\", element=\"f.D094E65B3261BFAD265CB11F9C6EE998.d.C0157FFA3C8B27E6EC5BD3EF6ADFDBFE.e.162\")>,\n",
              " <selenium.webdriver.remote.webelement.WebElement (session=\"59ed7f1d8287c6c6cd722e5584a9bef4\", element=\"f.D094E65B3261BFAD265CB11F9C6EE998.d.C0157FFA3C8B27E6EC5BD3EF6ADFDBFE.e.163\")>,\n",
              " <selenium.webdriver.remote.webelement.WebElement (session=\"59ed7f1d8287c6c6cd722e5584a9bef4\", element=\"f.D094E65B3261BFAD265CB11F9C6EE998.d.C0157FFA3C8B27E6EC5BD3EF6ADFDBFE.e.164\")>,\n",
              " <selenium.webdriver.remote.webelement.WebElement (session=\"59ed7f1d8287c6c6cd722e5584a9bef4\", element=\"f.D094E65B3261BFAD265CB11F9C6EE998.d.C0157FFA3C8B27E6EC5BD3EF6ADFDBFE.e.165\")>,\n",
              " <selenium.webdriver.remote.webelement.WebElement (session=\"59ed7f1d8287c6c6cd722e5584a9bef4\", element=\"f.D094E65B3261BFAD265CB11F9C6EE998.d.C0157FFA3C8B27E6EC5BD3EF6ADFDBFE.e.166\")>,\n",
              " <selenium.webdriver.remote.webelement.WebElement (session=\"59ed7f1d8287c6c6cd722e5584a9bef4\", element=\"f.D094E65B3261BFAD265CB11F9C6EE998.d.C0157FFA3C8B27E6EC5BD3EF6ADFDBFE.e.167\")>,\n",
              " <selenium.webdriver.remote.webelement.WebElement (session=\"59ed7f1d8287c6c6cd722e5584a9bef4\", element=\"f.D094E65B3261BFAD265CB11F9C6EE998.d.C0157FFA3C8B27E6EC5BD3EF6ADFDBFE.e.168\")>,\n",
              " <selenium.webdriver.remote.webelement.WebElement (session=\"59ed7f1d8287c6c6cd722e5584a9bef4\", element=\"f.D094E65B3261BFAD265CB11F9C6EE998.d.C0157FFA3C8B27E6EC5BD3EF6ADFDBFE.e.169\")>,\n",
              " <selenium.webdriver.remote.webelement.WebElement (session=\"59ed7f1d8287c6c6cd722e5584a9bef4\", element=\"f.D094E65B3261BFAD265CB11F9C6EE998.d.C0157FFA3C8B27E6EC5BD3EF6ADFDBFE.e.170\")>,\n",
              " <selenium.webdriver.remote.webelement.WebElement (session=\"59ed7f1d8287c6c6cd722e5584a9bef4\", element=\"f.D094E65B3261BFAD265CB11F9C6EE998.d.C0157FFA3C8B27E6EC5BD3EF6ADFDBFE.e.171\")>,\n",
              " <selenium.webdriver.remote.webelement.WebElement (session=\"59ed7f1d8287c6c6cd722e5584a9bef4\", element=\"f.D094E65B3261BFAD265CB11F9C6EE998.d.C0157FFA3C8B27E6EC5BD3EF6ADFDBFE.e.172\")>,\n",
              " <selenium.webdriver.remote.webelement.WebElement (session=\"59ed7f1d8287c6c6cd722e5584a9bef4\", element=\"f.D094E65B3261BFAD265CB11F9C6EE998.d.C0157FFA3C8B27E6EC5BD3EF6ADFDBFE.e.173\")>,\n",
              " <selenium.webdriver.remote.webelement.WebElement (session=\"59ed7f1d8287c6c6cd722e5584a9bef4\", element=\"f.D094E65B3261BFAD265CB11F9C6EE998.d.C0157FFA3C8B27E6EC5BD3EF6ADFDBFE.e.174\")>,\n",
              " <selenium.webdriver.remote.webelement.WebElement (session=\"59ed7f1d8287c6c6cd722e5584a9bef4\", element=\"f.D094E65B3261BFAD265CB11F9C6EE998.d.C0157FFA3C8B27E6EC5BD3EF6ADFDBFE.e.175\")>,\n",
              " <selenium.webdriver.remote.webelement.WebElement (session=\"59ed7f1d8287c6c6cd722e5584a9bef4\", element=\"f.D094E65B3261BFAD265CB11F9C6EE998.d.C0157FFA3C8B27E6EC5BD3EF6ADFDBFE.e.176\")>,\n",
              " <selenium.webdriver.remote.webelement.WebElement (session=\"59ed7f1d8287c6c6cd722e5584a9bef4\", element=\"f.D094E65B3261BFAD265CB11F9C6EE998.d.C0157FFA3C8B27E6EC5BD3EF6ADFDBFE.e.177\")>,\n",
              " <selenium.webdriver.remote.webelement.WebElement (session=\"59ed7f1d8287c6c6cd722e5584a9bef4\", element=\"f.D094E65B3261BFAD265CB11F9C6EE998.d.C0157FFA3C8B27E6EC5BD3EF6ADFDBFE.e.178\")>,\n",
              " <selenium.webdriver.remote.webelement.WebElement (session=\"59ed7f1d8287c6c6cd722e5584a9bef4\", element=\"f.D094E65B3261BFAD265CB11F9C6EE998.d.C0157FFA3C8B27E6EC5BD3EF6ADFDBFE.e.179\")>,\n",
              " <selenium.webdriver.remote.webelement.WebElement (session=\"59ed7f1d8287c6c6cd722e5584a9bef4\", element=\"f.D094E65B3261BFAD265CB11F9C6EE998.d.C0157FFA3C8B27E6EC5BD3EF6ADFDBFE.e.180\")>,\n",
              " <selenium.webdriver.remote.webelement.WebElement (session=\"59ed7f1d8287c6c6cd722e5584a9bef4\", element=\"f.D094E65B3261BFAD265CB11F9C6EE998.d.C0157FFA3C8B27E6EC5BD3EF6ADFDBFE.e.181\")>,\n",
              " <selenium.webdriver.remote.webelement.WebElement (session=\"59ed7f1d8287c6c6cd722e5584a9bef4\", element=\"f.D094E65B3261BFAD265CB11F9C6EE998.d.C0157FFA3C8B27E6EC5BD3EF6ADFDBFE.e.182\")>,\n",
              " <selenium.webdriver.remote.webelement.WebElement (session=\"59ed7f1d8287c6c6cd722e5584a9bef4\", element=\"f.D094E65B3261BFAD265CB11F9C6EE998.d.C0157FFA3C8B27E6EC5BD3EF6ADFDBFE.e.183\")>,\n",
              " <selenium.webdriver.remote.webelement.WebElement (session=\"59ed7f1d8287c6c6cd722e5584a9bef4\", element=\"f.D094E65B3261BFAD265CB11F9C6EE998.d.C0157FFA3C8B27E6EC5BD3EF6ADFDBFE.e.184\")>,\n",
              " <selenium.webdriver.remote.webelement.WebElement (session=\"59ed7f1d8287c6c6cd722e5584a9bef4\", element=\"f.D094E65B3261BFAD265CB11F9C6EE998.d.C0157FFA3C8B27E6EC5BD3EF6ADFDBFE.e.185\")>,\n",
              " <selenium.webdriver.remote.webelement.WebElement (session=\"59ed7f1d8287c6c6cd722e5584a9bef4\", element=\"f.D094E65B3261BFAD265CB11F9C6EE998.d.C0157FFA3C8B27E6EC5BD3EF6ADFDBFE.e.186\")>,\n",
              " <selenium.webdriver.remote.webelement.WebElement (session=\"59ed7f1d8287c6c6cd722e5584a9bef4\", element=\"f.D094E65B3261BFAD265CB11F9C6EE998.d.C0157FFA3C8B27E6EC5BD3EF6ADFDBFE.e.187\")>,\n",
              " <selenium.webdriver.remote.webelement.WebElement (session=\"59ed7f1d8287c6c6cd722e5584a9bef4\", element=\"f.D094E65B3261BFAD265CB11F9C6EE998.d.C0157FFA3C8B27E6EC5BD3EF6ADFDBFE.e.188\")>,\n",
              " <selenium.webdriver.remote.webelement.WebElement (session=\"59ed7f1d8287c6c6cd722e5584a9bef4\", element=\"f.D094E65B3261BFAD265CB11F9C6EE998.d.C0157FFA3C8B27E6EC5BD3EF6ADFDBFE.e.189\")>,\n",
              " <selenium.webdriver.remote.webelement.WebElement (session=\"59ed7f1d8287c6c6cd722e5584a9bef4\", element=\"f.D094E65B3261BFAD265CB11F9C6EE998.d.C0157FFA3C8B27E6EC5BD3EF6ADFDBFE.e.190\")>,\n",
              " <selenium.webdriver.remote.webelement.WebElement (session=\"59ed7f1d8287c6c6cd722e5584a9bef4\", element=\"f.D094E65B3261BFAD265CB11F9C6EE998.d.C0157FFA3C8B27E6EC5BD3EF6ADFDBFE.e.191\")>,\n",
              " <selenium.webdriver.remote.webelement.WebElement (session=\"59ed7f1d8287c6c6cd722e5584a9bef4\", element=\"f.D094E65B3261BFAD265CB11F9C6EE998.d.C0157FFA3C8B27E6EC5BD3EF6ADFDBFE.e.192\")>,\n",
              " <selenium.webdriver.remote.webelement.WebElement (session=\"59ed7f1d8287c6c6cd722e5584a9bef4\", element=\"f.D094E65B3261BFAD265CB11F9C6EE998.d.C0157FFA3C8B27E6EC5BD3EF6ADFDBFE.e.193\")>,\n",
              " <selenium.webdriver.remote.webelement.WebElement (session=\"59ed7f1d8287c6c6cd722e5584a9bef4\", element=\"f.D094E65B3261BFAD265CB11F9C6EE998.d.C0157FFA3C8B27E6EC5BD3EF6ADFDBFE.e.194\")>,\n",
              " <selenium.webdriver.remote.webelement.WebElement (session=\"59ed7f1d8287c6c6cd722e5584a9bef4\", element=\"f.D094E65B3261BFAD265CB11F9C6EE998.d.C0157FFA3C8B27E6EC5BD3EF6ADFDBFE.e.195\")>,\n",
              " <selenium.webdriver.remote.webelement.WebElement (session=\"59ed7f1d8287c6c6cd722e5584a9bef4\", element=\"f.D094E65B3261BFAD265CB11F9C6EE998.d.C0157FFA3C8B27E6EC5BD3EF6ADFDBFE.e.196\")>,\n",
              " <selenium.webdriver.remote.webelement.WebElement (session=\"59ed7f1d8287c6c6cd722e5584a9bef4\", element=\"f.D094E65B3261BFAD265CB11F9C6EE998.d.C0157FFA3C8B27E6EC5BD3EF6ADFDBFE.e.197\")>,\n",
              " <selenium.webdriver.remote.webelement.WebElement (session=\"59ed7f1d8287c6c6cd722e5584a9bef4\", element=\"f.D094E65B3261BFAD265CB11F9C6EE998.d.C0157FFA3C8B27E6EC5BD3EF6ADFDBFE.e.198\")>,\n",
              " <selenium.webdriver.remote.webelement.WebElement (session=\"59ed7f1d8287c6c6cd722e5584a9bef4\", element=\"f.D094E65B3261BFAD265CB11F9C6EE998.d.C0157FFA3C8B27E6EC5BD3EF6ADFDBFE.e.199\")>,\n",
              " <selenium.webdriver.remote.webelement.WebElement (session=\"59ed7f1d8287c6c6cd722e5584a9bef4\", element=\"f.D094E65B3261BFAD265CB11F9C6EE998.d.C0157FFA3C8B27E6EC5BD3EF6ADFDBFE.e.200\")>,\n",
              " <selenium.webdriver.remote.webelement.WebElement (session=\"59ed7f1d8287c6c6cd722e5584a9bef4\", element=\"f.D094E65B3261BFAD265CB11F9C6EE998.d.C0157FFA3C8B27E6EC5BD3EF6ADFDBFE.e.201\")>,\n",
              " <selenium.webdriver.remote.webelement.WebElement (session=\"59ed7f1d8287c6c6cd722e5584a9bef4\", element=\"f.D094E65B3261BFAD265CB11F9C6EE998.d.C0157FFA3C8B27E6EC5BD3EF6ADFDBFE.e.202\")>,\n",
              " <selenium.webdriver.remote.webelement.WebElement (session=\"59ed7f1d8287c6c6cd722e5584a9bef4\", element=\"f.D094E65B3261BFAD265CB11F9C6EE998.d.C0157FFA3C8B27E6EC5BD3EF6ADFDBFE.e.203\")>,\n",
              " <selenium.webdriver.remote.webelement.WebElement (session=\"59ed7f1d8287c6c6cd722e5584a9bef4\", element=\"f.D094E65B3261BFAD265CB11F9C6EE998.d.C0157FFA3C8B27E6EC5BD3EF6ADFDBFE.e.204\")>,\n",
              " <selenium.webdriver.remote.webelement.WebElement (session=\"59ed7f1d8287c6c6cd722e5584a9bef4\", element=\"f.D094E65B3261BFAD265CB11F9C6EE998.d.C0157FFA3C8B27E6EC5BD3EF6ADFDBFE.e.205\")>,\n",
              " <selenium.webdriver.remote.webelement.WebElement (session=\"59ed7f1d8287c6c6cd722e5584a9bef4\", element=\"f.D094E65B3261BFAD265CB11F9C6EE998.d.C0157FFA3C8B27E6EC5BD3EF6ADFDBFE.e.206\")>,\n",
              " <selenium.webdriver.remote.webelement.WebElement (session=\"59ed7f1d8287c6c6cd722e5584a9bef4\", element=\"f.D094E65B3261BFAD265CB11F9C6EE998.d.C0157FFA3C8B27E6EC5BD3EF6ADFDBFE.e.207\")>,\n",
              " <selenium.webdriver.remote.webelement.WebElement (session=\"59ed7f1d8287c6c6cd722e5584a9bef4\", element=\"f.D094E65B3261BFAD265CB11F9C6EE998.d.C0157FFA3C8B27E6EC5BD3EF6ADFDBFE.e.208\")>,\n",
              " <selenium.webdriver.remote.webelement.WebElement (session=\"59ed7f1d8287c6c6cd722e5584a9bef4\", element=\"f.D094E65B3261BFAD265CB11F9C6EE998.d.C0157FFA3C8B27E6EC5BD3EF6ADFDBFE.e.209\")>,\n",
              " <selenium.webdriver.remote.webelement.WebElement (session=\"59ed7f1d8287c6c6cd722e5584a9bef4\", element=\"f.D094E65B3261BFAD265CB11F9C6EE998.d.C0157FFA3C8B27E6EC5BD3EF6ADFDBFE.e.210\")>,\n",
              " <selenium.webdriver.remote.webelement.WebElement (session=\"59ed7f1d8287c6c6cd722e5584a9bef4\", element=\"f.D094E65B3261BFAD265CB11F9C6EE998.d.C0157FFA3C8B27E6EC5BD3EF6ADFDBFE.e.211\")>,\n",
              " <selenium.webdriver.remote.webelement.WebElement (session=\"59ed7f1d8287c6c6cd722e5584a9bef4\", element=\"f.D094E65B3261BFAD265CB11F9C6EE998.d.C0157FFA3C8B27E6EC5BD3EF6ADFDBFE.e.212\")>,\n",
              " <selenium.webdriver.remote.webelement.WebElement (session=\"59ed7f1d8287c6c6cd722e5584a9bef4\", element=\"f.D094E65B3261BFAD265CB11F9C6EE998.d.C0157FFA3C8B27E6EC5BD3EF6ADFDBFE.e.213\")>,\n",
              " <selenium.webdriver.remote.webelement.WebElement (session=\"59ed7f1d8287c6c6cd722e5584a9bef4\", element=\"f.D094E65B3261BFAD265CB11F9C6EE998.d.C0157FFA3C8B27E6EC5BD3EF6ADFDBFE.e.214\")>,\n",
              " <selenium.webdriver.remote.webelement.WebElement (session=\"59ed7f1d8287c6c6cd722e5584a9bef4\", element=\"f.D094E65B3261BFAD265CB11F9C6EE998.d.C0157FFA3C8B27E6EC5BD3EF6ADFDBFE.e.215\")>,\n",
              " <selenium.webdriver.remote.webelement.WebElement (session=\"59ed7f1d8287c6c6cd722e5584a9bef4\", element=\"f.D094E65B3261BFAD265CB11F9C6EE998.d.C0157FFA3C8B27E6EC5BD3EF6ADFDBFE.e.216\")>,\n",
              " <selenium.webdriver.remote.webelement.WebElement (session=\"59ed7f1d8287c6c6cd722e5584a9bef4\", element=\"f.D094E65B3261BFAD265CB11F9C6EE998.d.C0157FFA3C8B27E6EC5BD3EF6ADFDBFE.e.217\")>,\n",
              " <selenium.webdriver.remote.webelement.WebElement (session=\"59ed7f1d8287c6c6cd722e5584a9bef4\", element=\"f.D094E65B3261BFAD265CB11F9C6EE998.d.C0157FFA3C8B27E6EC5BD3EF6ADFDBFE.e.218\")>,\n",
              " <selenium.webdriver.remote.webelement.WebElement (session=\"59ed7f1d8287c6c6cd722e5584a9bef4\", element=\"f.D094E65B3261BFAD265CB11F9C6EE998.d.C0157FFA3C8B27E6EC5BD3EF6ADFDBFE.e.219\")>,\n",
              " <selenium.webdriver.remote.webelement.WebElement (session=\"59ed7f1d8287c6c6cd722e5584a9bef4\", element=\"f.D094E65B3261BFAD265CB11F9C6EE998.d.C0157FFA3C8B27E6EC5BD3EF6ADFDBFE.e.220\")>,\n",
              " <selenium.webdriver.remote.webelement.WebElement (session=\"59ed7f1d8287c6c6cd722e5584a9bef4\", element=\"f.D094E65B3261BFAD265CB11F9C6EE998.d.C0157FFA3C8B27E6EC5BD3EF6ADFDBFE.e.221\")>,\n",
              " <selenium.webdriver.remote.webelement.WebElement (session=\"59ed7f1d8287c6c6cd722e5584a9bef4\", element=\"f.D094E65B3261BFAD265CB11F9C6EE998.d.C0157FFA3C8B27E6EC5BD3EF6ADFDBFE.e.222\")>,\n",
              " <selenium.webdriver.remote.webelement.WebElement (session=\"59ed7f1d8287c6c6cd722e5584a9bef4\", element=\"f.D094E65B3261BFAD265CB11F9C6EE998.d.C0157FFA3C8B27E6EC5BD3EF6ADFDBFE.e.223\")>,\n",
              " <selenium.webdriver.remote.webelement.WebElement (session=\"59ed7f1d8287c6c6cd722e5584a9bef4\", element=\"f.D094E65B3261BFAD265CB11F9C6EE998.d.C0157FFA3C8B27E6EC5BD3EF6ADFDBFE.e.224\")>,\n",
              " <selenium.webdriver.remote.webelement.WebElement (session=\"59ed7f1d8287c6c6cd722e5584a9bef4\", element=\"f.D094E65B3261BFAD265CB11F9C6EE998.d.C0157FFA3C8B27E6EC5BD3EF6ADFDBFE.e.225\")>,\n",
              " <selenium.webdriver.remote.webelement.WebElement (session=\"59ed7f1d8287c6c6cd722e5584a9bef4\", element=\"f.D094E65B3261BFAD265CB11F9C6EE998.d.C0157FFA3C8B27E6EC5BD3EF6ADFDBFE.e.226\")>,\n",
              " <selenium.webdriver.remote.webelement.WebElement (session=\"59ed7f1d8287c6c6cd722e5584a9bef4\", element=\"f.D094E65B3261BFAD265CB11F9C6EE998.d.C0157FFA3C8B27E6EC5BD3EF6ADFDBFE.e.227\")>,\n",
              " <selenium.webdriver.remote.webelement.WebElement (session=\"59ed7f1d8287c6c6cd722e5584a9bef4\", element=\"f.D094E65B3261BFAD265CB11F9C6EE998.d.C0157FFA3C8B27E6EC5BD3EF6ADFDBFE.e.228\")>,\n",
              " <selenium.webdriver.remote.webelement.WebElement (session=\"59ed7f1d8287c6c6cd722e5584a9bef4\", element=\"f.D094E65B3261BFAD265CB11F9C6EE998.d.C0157FFA3C8B27E6EC5BD3EF6ADFDBFE.e.229\")>,\n",
              " <selenium.webdriver.remote.webelement.WebElement (session=\"59ed7f1d8287c6c6cd722e5584a9bef4\", element=\"f.D094E65B3261BFAD265CB11F9C6EE998.d.C0157FFA3C8B27E6EC5BD3EF6ADFDBFE.e.230\")>,\n",
              " <selenium.webdriver.remote.webelement.WebElement (session=\"59ed7f1d8287c6c6cd722e5584a9bef4\", element=\"f.D094E65B3261BFAD265CB11F9C6EE998.d.C0157FFA3C8B27E6EC5BD3EF6ADFDBFE.e.231\")>,\n",
              " <selenium.webdriver.remote.webelement.WebElement (session=\"59ed7f1d8287c6c6cd722e5584a9bef4\", element=\"f.D094E65B3261BFAD265CB11F9C6EE998.d.C0157FFA3C8B27E6EC5BD3EF6ADFDBFE.e.232\")>,\n",
              " <selenium.webdriver.remote.webelement.WebElement (session=\"59ed7f1d8287c6c6cd722e5584a9bef4\", element=\"f.D094E65B3261BFAD265CB11F9C6EE998.d.C0157FFA3C8B27E6EC5BD3EF6ADFDBFE.e.233\")>,\n",
              " <selenium.webdriver.remote.webelement.WebElement (session=\"59ed7f1d8287c6c6cd722e5584a9bef4\", element=\"f.D094E65B3261BFAD265CB11F9C6EE998.d.C0157FFA3C8B27E6EC5BD3EF6ADFDBFE.e.234\")>,\n",
              " <selenium.webdriver.remote.webelement.WebElement (session=\"59ed7f1d8287c6c6cd722e5584a9bef4\", element=\"f.D094E65B3261BFAD265CB11F9C6EE998.d.C0157FFA3C8B27E6EC5BD3EF6ADFDBFE.e.235\")>,\n",
              " <selenium.webdriver.remote.webelement.WebElement (session=\"59ed7f1d8287c6c6cd722e5584a9bef4\", element=\"f.D094E65B3261BFAD265CB11F9C6EE998.d.C0157FFA3C8B27E6EC5BD3EF6ADFDBFE.e.236\")>,\n",
              " <selenium.webdriver.remote.webelement.WebElement (session=\"59ed7f1d8287c6c6cd722e5584a9bef4\", element=\"f.D094E65B3261BFAD265CB11F9C6EE998.d.C0157FFA3C8B27E6EC5BD3EF6ADFDBFE.e.237\")>,\n",
              " <selenium.webdriver.remote.webelement.WebElement (session=\"59ed7f1d8287c6c6cd722e5584a9bef4\", element=\"f.D094E65B3261BFAD265CB11F9C6EE998.d.C0157FFA3C8B27E6EC5BD3EF6ADFDBFE.e.238\")>,\n",
              " <selenium.webdriver.remote.webelement.WebElement (session=\"59ed7f1d8287c6c6cd722e5584a9bef4\", element=\"f.D094E65B3261BFAD265CB11F9C6EE998.d.C0157FFA3C8B27E6EC5BD3EF6ADFDBFE.e.239\")>,\n",
              " <selenium.webdriver.remote.webelement.WebElement (session=\"59ed7f1d8287c6c6cd722e5584a9bef4\", element=\"f.D094E65B3261BFAD265CB11F9C6EE998.d.C0157FFA3C8B27E6EC5BD3EF6ADFDBFE.e.240\")>,\n",
              " <selenium.webdriver.remote.webelement.WebElement (session=\"59ed7f1d8287c6c6cd722e5584a9bef4\", element=\"f.D094E65B3261BFAD265CB11F9C6EE998.d.C0157FFA3C8B27E6EC5BD3EF6ADFDBFE.e.241\")>,\n",
              " <selenium.webdriver.remote.webelement.WebElement (session=\"59ed7f1d8287c6c6cd722e5584a9bef4\", element=\"f.D094E65B3261BFAD265CB11F9C6EE998.d.C0157FFA3C8B27E6EC5BD3EF6ADFDBFE.e.242\")>,\n",
              " <selenium.webdriver.remote.webelement.WebElement (session=\"59ed7f1d8287c6c6cd722e5584a9bef4\", element=\"f.D094E65B3261BFAD265CB11F9C6EE998.d.C0157FFA3C8B27E6EC5BD3EF6ADFDBFE.e.243\")>,\n",
              " <selenium.webdriver.remote.webelement.WebElement (session=\"59ed7f1d8287c6c6cd722e5584a9bef4\", element=\"f.D094E65B3261BFAD265CB11F9C6EE998.d.C0157FFA3C8B27E6EC5BD3EF6ADFDBFE.e.244\")>,\n",
              " <selenium.webdriver.remote.webelement.WebElement (session=\"59ed7f1d8287c6c6cd722e5584a9bef4\", element=\"f.D094E65B3261BFAD265CB11F9C6EE998.d.C0157FFA3C8B27E6EC5BD3EF6ADFDBFE.e.245\")>,\n",
              " <selenium.webdriver.remote.webelement.WebElement (session=\"59ed7f1d8287c6c6cd722e5584a9bef4\", element=\"f.D094E65B3261BFAD265CB11F9C6EE998.d.C0157FFA3C8B27E6EC5BD3EF6ADFDBFE.e.246\")>,\n",
              " <selenium.webdriver.remote.webelement.WebElement (session=\"59ed7f1d8287c6c6cd722e5584a9bef4\", element=\"f.D094E65B3261BFAD265CB11F9C6EE998.d.C0157FFA3C8B27E6EC5BD3EF6ADFDBFE.e.247\")>,\n",
              " <selenium.webdriver.remote.webelement.WebElement (session=\"59ed7f1d8287c6c6cd722e5584a9bef4\", element=\"f.D094E65B3261BFAD265CB11F9C6EE998.d.C0157FFA3C8B27E6EC5BD3EF6ADFDBFE.e.248\")>,\n",
              " <selenium.webdriver.remote.webelement.WebElement (session=\"59ed7f1d8287c6c6cd722e5584a9bef4\", element=\"f.D094E65B3261BFAD265CB11F9C6EE998.d.C0157FFA3C8B27E6EC5BD3EF6ADFDBFE.e.249\")>,\n",
              " <selenium.webdriver.remote.webelement.WebElement (session=\"59ed7f1d8287c6c6cd722e5584a9bef4\", element=\"f.D094E65B3261BFAD265CB11F9C6EE998.d.C0157FFA3C8B27E6EC5BD3EF6ADFDBFE.e.250\")>,\n",
              " <selenium.webdriver.remote.webelement.WebElement (session=\"59ed7f1d8287c6c6cd722e5584a9bef4\", element=\"f.D094E65B3261BFAD265CB11F9C6EE998.d.C0157FFA3C8B27E6EC5BD3EF6ADFDBFE.e.251\")>,\n",
              " <selenium.webdriver.remote.webelement.WebElement (session=\"59ed7f1d8287c6c6cd722e5584a9bef4\", element=\"f.D094E65B3261BFAD265CB11F9C6EE998.d.C0157FFA3C8B27E6EC5BD3EF6ADFDBFE.e.252\")>,\n",
              " <selenium.webdriver.remote.webelement.WebElement (session=\"59ed7f1d8287c6c6cd722e5584a9bef4\", element=\"f.D094E65B3261BFAD265CB11F9C6EE998.d.C0157FFA3C8B27E6EC5BD3EF6ADFDBFE.e.253\")>,\n",
              " <selenium.webdriver.remote.webelement.WebElement (session=\"59ed7f1d8287c6c6cd722e5584a9bef4\", element=\"f.D094E65B3261BFAD265CB11F9C6EE998.d.C0157FFA3C8B27E6EC5BD3EF6ADFDBFE.e.254\")>,\n",
              " <selenium.webdriver.remote.webelement.WebElement (session=\"59ed7f1d8287c6c6cd722e5584a9bef4\", element=\"f.D094E65B3261BFAD265CB11F9C6EE998.d.C0157FFA3C8B27E6EC5BD3EF6ADFDBFE.e.255\")>,\n",
              " <selenium.webdriver.remote.webelement.WebElement (session=\"59ed7f1d8287c6c6cd722e5584a9bef4\", element=\"f.D094E65B3261BFAD265CB11F9C6EE998.d.C0157FFA3C8B27E6EC5BD3EF6ADFDBFE.e.256\")>,\n",
              " <selenium.webdriver.remote.webelement.WebElement (session=\"59ed7f1d8287c6c6cd722e5584a9bef4\", element=\"f.D094E65B3261BFAD265CB11F9C6EE998.d.C0157FFA3C8B27E6EC5BD3EF6ADFDBFE.e.257\")>,\n",
              " <selenium.webdriver.remote.webelement.WebElement (session=\"59ed7f1d8287c6c6cd722e5584a9bef4\", element=\"f.D094E65B3261BFAD265CB11F9C6EE998.d.C0157FFA3C8B27E6EC5BD3EF6ADFDBFE.e.258\")>,\n",
              " <selenium.webdriver.remote.webelement.WebElement (session=\"59ed7f1d8287c6c6cd722e5584a9bef4\", element=\"f.D094E65B3261BFAD265CB11F9C6EE998.d.C0157FFA3C8B27E6EC5BD3EF6ADFDBFE.e.259\")>,\n",
              " <selenium.webdriver.remote.webelement.WebElement (session=\"59ed7f1d8287c6c6cd722e5584a9bef4\", element=\"f.D094E65B3261BFAD265CB11F9C6EE998.d.C0157FFA3C8B27E6EC5BD3EF6ADFDBFE.e.260\")>,\n",
              " <selenium.webdriver.remote.webelement.WebElement (session=\"59ed7f1d8287c6c6cd722e5584a9bef4\", element=\"f.D094E65B3261BFAD265CB11F9C6EE998.d.C0157FFA3C8B27E6EC5BD3EF6ADFDBFE.e.261\")>,\n",
              " <selenium.webdriver.remote.webelement.WebElement (session=\"59ed7f1d8287c6c6cd722e5584a9bef4\", element=\"f.D094E65B3261BFAD265CB11F9C6EE998.d.C0157FFA3C8B27E6EC5BD3EF6ADFDBFE.e.262\")>,\n",
              " <selenium.webdriver.remote.webelement.WebElement (session=\"59ed7f1d8287c6c6cd722e5584a9bef4\", element=\"f.D094E65B3261BFAD265CB11F9C6EE998.d.C0157FFA3C8B27E6EC5BD3EF6ADFDBFE.e.263\")>,\n",
              " <selenium.webdriver.remote.webelement.WebElement (session=\"59ed7f1d8287c6c6cd722e5584a9bef4\", element=\"f.D094E65B3261BFAD265CB11F9C6EE998.d.C0157FFA3C8B27E6EC5BD3EF6ADFDBFE.e.264\")>,\n",
              " <selenium.webdriver.remote.webelement.WebElement (session=\"59ed7f1d8287c6c6cd722e5584a9bef4\", element=\"f.D094E65B3261BFAD265CB11F9C6EE998.d.C0157FFA3C8B27E6EC5BD3EF6ADFDBFE.e.265\")>,\n",
              " <selenium.webdriver.remote.webelement.WebElement (session=\"59ed7f1d8287c6c6cd722e5584a9bef4\", element=\"f.D094E65B3261BFAD265CB11F9C6EE998.d.C0157FFA3C8B27E6EC5BD3EF6ADFDBFE.e.266\")>,\n",
              " <selenium.webdriver.remote.webelement.WebElement (session=\"59ed7f1d8287c6c6cd722e5584a9bef4\", element=\"f.D094E65B3261BFAD265CB11F9C6EE998.d.C0157FFA3C8B27E6EC5BD3EF6ADFDBFE.e.267\")>,\n",
              " <selenium.webdriver.remote.webelement.WebElement (session=\"59ed7f1d8287c6c6cd722e5584a9bef4\", element=\"f.D094E65B3261BFAD265CB11F9C6EE998.d.C0157FFA3C8B27E6EC5BD3EF6ADFDBFE.e.268\")>,\n",
              " <selenium.webdriver.remote.webelement.WebElement (session=\"59ed7f1d8287c6c6cd722e5584a9bef4\", element=\"f.D094E65B3261BFAD265CB11F9C6EE998.d.C0157FFA3C8B27E6EC5BD3EF6ADFDBFE.e.269\")>,\n",
              " <selenium.webdriver.remote.webelement.WebElement (session=\"59ed7f1d8287c6c6cd722e5584a9bef4\", element=\"f.D094E65B3261BFAD265CB11F9C6EE998.d.C0157FFA3C8B27E6EC5BD3EF6ADFDBFE.e.270\")>,\n",
              " <selenium.webdriver.remote.webelement.WebElement (session=\"59ed7f1d8287c6c6cd722e5584a9bef4\", element=\"f.D094E65B3261BFAD265CB11F9C6EE998.d.C0157FFA3C8B27E6EC5BD3EF6ADFDBFE.e.271\")>,\n",
              " <selenium.webdriver.remote.webelement.WebElement (session=\"59ed7f1d8287c6c6cd722e5584a9bef4\", element=\"f.D094E65B3261BFAD265CB11F9C6EE998.d.C0157FFA3C8B27E6EC5BD3EF6ADFDBFE.e.272\")>,\n",
              " <selenium.webdriver.remote.webelement.WebElement (session=\"59ed7f1d8287c6c6cd722e5584a9bef4\", element=\"f.D094E65B3261BFAD265CB11F9C6EE998.d.C0157FFA3C8B27E6EC5BD3EF6ADFDBFE.e.273\")>,\n",
              " <selenium.webdriver.remote.webelement.WebElement (session=\"59ed7f1d8287c6c6cd722e5584a9bef4\", element=\"f.D094E65B3261BFAD265CB11F9C6EE998.d.C0157FFA3C8B27E6EC5BD3EF6ADFDBFE.e.274\")>,\n",
              " <selenium.webdriver.remote.webelement.WebElement (session=\"59ed7f1d8287c6c6cd722e5584a9bef4\", element=\"f.D094E65B3261BFAD265CB11F9C6EE998.d.C0157FFA3C8B27E6EC5BD3EF6ADFDBFE.e.275\")>,\n",
              " <selenium.webdriver.remote.webelement.WebElement (session=\"59ed7f1d8287c6c6cd722e5584a9bef4\", element=\"f.D094E65B3261BFAD265CB11F9C6EE998.d.C0157FFA3C8B27E6EC5BD3EF6ADFDBFE.e.276\")>,\n",
              " <selenium.webdriver.remote.webelement.WebElement (session=\"59ed7f1d8287c6c6cd722e5584a9bef4\", element=\"f.D094E65B3261BFAD265CB11F9C6EE998.d.C0157FFA3C8B27E6EC5BD3EF6ADFDBFE.e.277\")>,\n",
              " <selenium.webdriver.remote.webelement.WebElement (session=\"59ed7f1d8287c6c6cd722e5584a9bef4\", element=\"f.D094E65B3261BFAD265CB11F9C6EE998.d.C0157FFA3C8B27E6EC5BD3EF6ADFDBFE.e.278\")>,\n",
              " <selenium.webdriver.remote.webelement.WebElement (session=\"59ed7f1d8287c6c6cd722e5584a9bef4\", element=\"f.D094E65B3261BFAD265CB11F9C6EE998.d.C0157FFA3C8B27E6EC5BD3EF6ADFDBFE.e.279\")>,\n",
              " <selenium.webdriver.remote.webelement.WebElement (session=\"59ed7f1d8287c6c6cd722e5584a9bef4\", element=\"f.D094E65B3261BFAD265CB11F9C6EE998.d.C0157FFA3C8B27E6EC5BD3EF6ADFDBFE.e.280\")>,\n",
              " <selenium.webdriver.remote.webelement.WebElement (session=\"59ed7f1d8287c6c6cd722e5584a9bef4\", element=\"f.D094E65B3261BFAD265CB11F9C6EE998.d.C0157FFA3C8B27E6EC5BD3EF6ADFDBFE.e.281\")>,\n",
              " <selenium.webdriver.remote.webelement.WebElement (session=\"59ed7f1d8287c6c6cd722e5584a9bef4\", element=\"f.D094E65B3261BFAD265CB11F9C6EE998.d.C0157FFA3C8B27E6EC5BD3EF6ADFDBFE.e.282\")>,\n",
              " <selenium.webdriver.remote.webelement.WebElement (session=\"59ed7f1d8287c6c6cd722e5584a9bef4\", element=\"f.D094E65B3261BFAD265CB11F9C6EE998.d.C0157FFA3C8B27E6EC5BD3EF6ADFDBFE.e.283\")>,\n",
              " <selenium.webdriver.remote.webelement.WebElement (session=\"59ed7f1d8287c6c6cd722e5584a9bef4\", element=\"f.D094E65B3261BFAD265CB11F9C6EE998.d.C0157FFA3C8B27E6EC5BD3EF6ADFDBFE.e.284\")>,\n",
              " <selenium.webdriver.remote.webelement.WebElement (session=\"59ed7f1d8287c6c6cd722e5584a9bef4\", element=\"f.D094E65B3261BFAD265CB11F9C6EE998.d.C0157FFA3C8B27E6EC5BD3EF6ADFDBFE.e.285\")>,\n",
              " <selenium.webdriver.remote.webelement.WebElement (session=\"59ed7f1d8287c6c6cd722e5584a9bef4\", element=\"f.D094E65B3261BFAD265CB11F9C6EE998.d.C0157FFA3C8B27E6EC5BD3EF6ADFDBFE.e.286\")>,\n",
              " <selenium.webdriver.remote.webelement.WebElement (session=\"59ed7f1d8287c6c6cd722e5584a9bef4\", element=\"f.D094E65B3261BFAD265CB11F9C6EE998.d.C0157FFA3C8B27E6EC5BD3EF6ADFDBFE.e.287\")>,\n",
              " <selenium.webdriver.remote.webelement.WebElement (session=\"59ed7f1d8287c6c6cd722e5584a9bef4\", element=\"f.D094E65B3261BFAD265CB11F9C6EE998.d.C0157FFA3C8B27E6EC5BD3EF6ADFDBFE.e.288\")>,\n",
              " <selenium.webdriver.remote.webelement.WebElement (session=\"59ed7f1d8287c6c6cd722e5584a9bef4\", element=\"f.D094E65B3261BFAD265CB11F9C6EE998.d.C0157FFA3C8B27E6EC5BD3EF6ADFDBFE.e.289\")>,\n",
              " <selenium.webdriver.remote.webelement.WebElement (session=\"59ed7f1d8287c6c6cd722e5584a9bef4\", element=\"f.D094E65B3261BFAD265CB11F9C6EE998.d.C0157FFA3C8B27E6EC5BD3EF6ADFDBFE.e.290\")>,\n",
              " <selenium.webdriver.remote.webelement.WebElement (session=\"59ed7f1d8287c6c6cd722e5584a9bef4\", element=\"f.D094E65B3261BFAD265CB11F9C6EE998.d.C0157FFA3C8B27E6EC5BD3EF6ADFDBFE.e.291\")>,\n",
              " <selenium.webdriver.remote.webelement.WebElement (session=\"59ed7f1d8287c6c6cd722e5584a9bef4\", element=\"f.D094E65B3261BFAD265CB11F9C6EE998.d.C0157FFA3C8B27E6EC5BD3EF6ADFDBFE.e.292\")>,\n",
              " <selenium.webdriver.remote.webelement.WebElement (session=\"59ed7f1d8287c6c6cd722e5584a9bef4\", element=\"f.D094E65B3261BFAD265CB11F9C6EE998.d.C0157FFA3C8B27E6EC5BD3EF6ADFDBFE.e.293\")>,\n",
              " <selenium.webdriver.remote.webelement.WebElement (session=\"59ed7f1d8287c6c6cd722e5584a9bef4\", element=\"f.D094E65B3261BFAD265CB11F9C6EE998.d.C0157FFA3C8B27E6EC5BD3EF6ADFDBFE.e.294\")>,\n",
              " <selenium.webdriver.remote.webelement.WebElement (session=\"59ed7f1d8287c6c6cd722e5584a9bef4\", element=\"f.D094E65B3261BFAD265CB11F9C6EE998.d.C0157FFA3C8B27E6EC5BD3EF6ADFDBFE.e.295\")>,\n",
              " <selenium.webdriver.remote.webelement.WebElement (session=\"59ed7f1d8287c6c6cd722e5584a9bef4\", element=\"f.D094E65B3261BFAD265CB11F9C6EE998.d.C0157FFA3C8B27E6EC5BD3EF6ADFDBFE.e.296\")>,\n",
              " <selenium.webdriver.remote.webelement.WebElement (session=\"59ed7f1d8287c6c6cd722e5584a9bef4\", element=\"f.D094E65B3261BFAD265CB11F9C6EE998.d.C0157FFA3C8B27E6EC5BD3EF6ADFDBFE.e.297\")>,\n",
              " <selenium.webdriver.remote.webelement.WebElement (session=\"59ed7f1d8287c6c6cd722e5584a9bef4\", element=\"f.D094E65B3261BFAD265CB11F9C6EE998.d.C0157FFA3C8B27E6EC5BD3EF6ADFDBFE.e.298\")>,\n",
              " <selenium.webdriver.remote.webelement.WebElement (session=\"59ed7f1d8287c6c6cd722e5584a9bef4\", element=\"f.D094E65B3261BFAD265CB11F9C6EE998.d.C0157FFA3C8B27E6EC5BD3EF6ADFDBFE.e.299\")>,\n",
              " <selenium.webdriver.remote.webelement.WebElement (session=\"59ed7f1d8287c6c6cd722e5584a9bef4\", element=\"f.D094E65B3261BFAD265CB11F9C6EE998.d.C0157FFA3C8B27E6EC5BD3EF6ADFDBFE.e.300\")>,\n",
              " <selenium.webdriver.remote.webelement.WebElement (session=\"59ed7f1d8287c6c6cd722e5584a9bef4\", element=\"f.D094E65B3261BFAD265CB11F9C6EE998.d.C0157FFA3C8B27E6EC5BD3EF6ADFDBFE.e.301\")>,\n",
              " <selenium.webdriver.remote.webelement.WebElement (session=\"59ed7f1d8287c6c6cd722e5584a9bef4\", element=\"f.D094E65B3261BFAD265CB11F9C6EE998.d.C0157FFA3C8B27E6EC5BD3EF6ADFDBFE.e.302\")>,\n",
              " <selenium.webdriver.remote.webelement.WebElement (session=\"59ed7f1d8287c6c6cd722e5584a9bef4\", element=\"f.D094E65B3261BFAD265CB11F9C6EE998.d.C0157FFA3C8B27E6EC5BD3EF6ADFDBFE.e.303\")>,\n",
              " <selenium.webdriver.remote.webelement.WebElement (session=\"59ed7f1d8287c6c6cd722e5584a9bef4\", element=\"f.D094E65B3261BFAD265CB11F9C6EE998.d.C0157FFA3C8B27E6EC5BD3EF6ADFDBFE.e.304\")>,\n",
              " <selenium.webdriver.remote.webelement.WebElement (session=\"59ed7f1d8287c6c6cd722e5584a9bef4\", element=\"f.D094E65B3261BFAD265CB11F9C6EE998.d.C0157FFA3C8B27E6EC5BD3EF6ADFDBFE.e.305\")>,\n",
              " <selenium.webdriver.remote.webelement.WebElement (session=\"59ed7f1d8287c6c6cd722e5584a9bef4\", element=\"f.D094E65B3261BFAD265CB11F9C6EE998.d.C0157FFA3C8B27E6EC5BD3EF6ADFDBFE.e.306\")>,\n",
              " <selenium.webdriver.remote.webelement.WebElement (session=\"59ed7f1d8287c6c6cd722e5584a9bef4\", element=\"f.D094E65B3261BFAD265CB11F9C6EE998.d.C0157FFA3C8B27E6EC5BD3EF6ADFDBFE.e.307\")>,\n",
              " <selenium.webdriver.remote.webelement.WebElement (session=\"59ed7f1d8287c6c6cd722e5584a9bef4\", element=\"f.D094E65B3261BFAD265CB11F9C6EE998.d.C0157FFA3C8B27E6EC5BD3EF6ADFDBFE.e.308\")>,\n",
              " <selenium.webdriver.remote.webelement.WebElement (session=\"59ed7f1d8287c6c6cd722e5584a9bef4\", element=\"f.D094E65B3261BFAD265CB11F9C6EE998.d.C0157FFA3C8B27E6EC5BD3EF6ADFDBFE.e.309\")>,\n",
              " <selenium.webdriver.remote.webelement.WebElement (session=\"59ed7f1d8287c6c6cd722e5584a9bef4\", element=\"f.D094E65B3261BFAD265CB11F9C6EE998.d.C0157FFA3C8B27E6EC5BD3EF6ADFDBFE.e.310\")>,\n",
              " <selenium.webdriver.remote.webelement.WebElement (session=\"59ed7f1d8287c6c6cd722e5584a9bef4\", element=\"f.D094E65B3261BFAD265CB11F9C6EE998.d.C0157FFA3C8B27E6EC5BD3EF6ADFDBFE.e.311\")>,\n",
              " <selenium.webdriver.remote.webelement.WebElement (session=\"59ed7f1d8287c6c6cd722e5584a9bef4\", element=\"f.D094E65B3261BFAD265CB11F9C6EE998.d.C0157FFA3C8B27E6EC5BD3EF6ADFDBFE.e.312\")>,\n",
              " <selenium.webdriver.remote.webelement.WebElement (session=\"59ed7f1d8287c6c6cd722e5584a9bef4\", element=\"f.D094E65B3261BFAD265CB11F9C6EE998.d.C0157FFA3C8B27E6EC5BD3EF6ADFDBFE.e.313\")>,\n",
              " <selenium.webdriver.remote.webelement.WebElement (session=\"59ed7f1d8287c6c6cd722e5584a9bef4\", element=\"f.D094E65B3261BFAD265CB11F9C6EE998.d.C0157FFA3C8B27E6EC5BD3EF6ADFDBFE.e.314\")>,\n",
              " <selenium.webdriver.remote.webelement.WebElement (session=\"59ed7f1d8287c6c6cd722e5584a9bef4\", element=\"f.D094E65B3261BFAD265CB11F9C6EE998.d.C0157FFA3C8B27E6EC5BD3EF6ADFDBFE.e.315\")>,\n",
              " <selenium.webdriver.remote.webelement.WebElement (session=\"59ed7f1d8287c6c6cd722e5584a9bef4\", element=\"f.D094E65B3261BFAD265CB11F9C6EE998.d.C0157FFA3C8B27E6EC5BD3EF6ADFDBFE.e.316\")>,\n",
              " <selenium.webdriver.remote.webelement.WebElement (session=\"59ed7f1d8287c6c6cd722e5584a9bef4\", element=\"f.D094E65B3261BFAD265CB11F9C6EE998.d.C0157FFA3C8B27E6EC5BD3EF6ADFDBFE.e.317\")>,\n",
              " <selenium.webdriver.remote.webelement.WebElement (session=\"59ed7f1d8287c6c6cd722e5584a9bef4\", element=\"f.D094E65B3261BFAD265CB11F9C6EE998.d.C0157FFA3C8B27E6EC5BD3EF6ADFDBFE.e.318\")>,\n",
              " <selenium.webdriver.remote.webelement.WebElement (session=\"59ed7f1d8287c6c6cd722e5584a9bef4\", element=\"f.D094E65B3261BFAD265CB11F9C6EE998.d.C0157FFA3C8B27E6EC5BD3EF6ADFDBFE.e.319\")>,\n",
              " <selenium.webdriver.remote.webelement.WebElement (session=\"59ed7f1d8287c6c6cd722e5584a9bef4\", element=\"f.D094E65B3261BFAD265CB11F9C6EE998.d.C0157FFA3C8B27E6EC5BD3EF6ADFDBFE.e.320\")>,\n",
              " <selenium.webdriver.remote.webelement.WebElement (session=\"59ed7f1d8287c6c6cd722e5584a9bef4\", element=\"f.D094E65B3261BFAD265CB11F9C6EE998.d.C0157FFA3C8B27E6EC5BD3EF6ADFDBFE.e.321\")>,\n",
              " <selenium.webdriver.remote.webelement.WebElement (session=\"59ed7f1d8287c6c6cd722e5584a9bef4\", element=\"f.D094E65B3261BFAD265CB11F9C6EE998.d.C0157FFA3C8B27E6EC5BD3EF6ADFDBFE.e.322\")>,\n",
              " <selenium.webdriver.remote.webelement.WebElement (session=\"59ed7f1d8287c6c6cd722e5584a9bef4\", element=\"f.D094E65B3261BFAD265CB11F9C6EE998.d.C0157FFA3C8B27E6EC5BD3EF6ADFDBFE.e.323\")>,\n",
              " <selenium.webdriver.remote.webelement.WebElement (session=\"59ed7f1d8287c6c6cd722e5584a9bef4\", element=\"f.D094E65B3261BFAD265CB11F9C6EE998.d.C0157FFA3C8B27E6EC5BD3EF6ADFDBFE.e.324\")>,\n",
              " <selenium.webdriver.remote.webelement.WebElement (session=\"59ed7f1d8287c6c6cd722e5584a9bef4\", element=\"f.D094E65B3261BFAD265CB11F9C6EE998.d.C0157FFA3C8B27E6EC5BD3EF6ADFDBFE.e.325\")>,\n",
              " <selenium.webdriver.remote.webelement.WebElement (session=\"59ed7f1d8287c6c6cd722e5584a9bef4\", element=\"f.D094E65B3261BFAD265CB11F9C6EE998.d.C0157FFA3C8B27E6EC5BD3EF6ADFDBFE.e.326\")>,\n",
              " <selenium.webdriver.remote.webelement.WebElement (session=\"59ed7f1d8287c6c6cd722e5584a9bef4\", element=\"f.D094E65B3261BFAD265CB11F9C6EE998.d.C0157FFA3C8B27E6EC5BD3EF6ADFDBFE.e.327\")>,\n",
              " <selenium.webdriver.remote.webelement.WebElement (session=\"59ed7f1d8287c6c6cd722e5584a9bef4\", element=\"f.D094E65B3261BFAD265CB11F9C6EE998.d.C0157FFA3C8B27E6EC5BD3EF6ADFDBFE.e.328\")>,\n",
              " <selenium.webdriver.remote.webelement.WebElement (session=\"59ed7f1d8287c6c6cd722e5584a9bef4\", element=\"f.D094E65B3261BFAD265CB11F9C6EE998.d.C0157FFA3C8B27E6EC5BD3EF6ADFDBFE.e.329\")>,\n",
              " <selenium.webdriver.remote.webelement.WebElement (session=\"59ed7f1d8287c6c6cd722e5584a9bef4\", element=\"f.D094E65B3261BFAD265CB11F9C6EE998.d.C0157FFA3C8B27E6EC5BD3EF6ADFDBFE.e.330\")>,\n",
              " <selenium.webdriver.remote.webelement.WebElement (session=\"59ed7f1d8287c6c6cd722e5584a9bef4\", element=\"f.D094E65B3261BFAD265CB11F9C6EE998.d.C0157FFA3C8B27E6EC5BD3EF6ADFDBFE.e.331\")>,\n",
              " <selenium.webdriver.remote.webelement.WebElement (session=\"59ed7f1d8287c6c6cd722e5584a9bef4\", element=\"f.D094E65B3261BFAD265CB11F9C6EE998.d.C0157FFA3C8B27E6EC5BD3EF6ADFDBFE.e.332\")>,\n",
              " <selenium.webdriver.remote.webelement.WebElement (session=\"59ed7f1d8287c6c6cd722e5584a9bef4\", element=\"f.D094E65B3261BFAD265CB11F9C6EE998.d.C0157FFA3C8B27E6EC5BD3EF6ADFDBFE.e.333\")>,\n",
              " <selenium.webdriver.remote.webelement.WebElement (session=\"59ed7f1d8287c6c6cd722e5584a9bef4\", element=\"f.D094E65B3261BFAD265CB11F9C6EE998.d.C0157FFA3C8B27E6EC5BD3EF6ADFDBFE.e.334\")>,\n",
              " <selenium.webdriver.remote.webelement.WebElement (session=\"59ed7f1d8287c6c6cd722e5584a9bef4\", element=\"f.D094E65B3261BFAD265CB11F9C6EE998.d.C0157FFA3C8B27E6EC5BD3EF6ADFDBFE.e.335\")>,\n",
              " <selenium.webdriver.remote.webelement.WebElement (session=\"59ed7f1d8287c6c6cd722e5584a9bef4\", element=\"f.D094E65B3261BFAD265CB11F9C6EE998.d.C0157FFA3C8B27E6EC5BD3EF6ADFDBFE.e.336\")>,\n",
              " <selenium.webdriver.remote.webelement.WebElement (session=\"59ed7f1d8287c6c6cd722e5584a9bef4\", element=\"f.D094E65B3261BFAD265CB11F9C6EE998.d.C0157FFA3C8B27E6EC5BD3EF6ADFDBFE.e.337\")>,\n",
              " <selenium.webdriver.remote.webelement.WebElement (session=\"59ed7f1d8287c6c6cd722e5584a9bef4\", element=\"f.D094E65B3261BFAD265CB11F9C6EE998.d.C0157FFA3C8B27E6EC5BD3EF6ADFDBFE.e.338\")>,\n",
              " <selenium.webdriver.remote.webelement.WebElement (session=\"59ed7f1d8287c6c6cd722e5584a9bef4\", element=\"f.D094E65B3261BFAD265CB11F9C6EE998.d.C0157FFA3C8B27E6EC5BD3EF6ADFDBFE.e.339\")>,\n",
              " <selenium.webdriver.remote.webelement.WebElement (session=\"59ed7f1d8287c6c6cd722e5584a9bef4\", element=\"f.D094E65B3261BFAD265CB11F9C6EE998.d.C0157FFA3C8B27E6EC5BD3EF6ADFDBFE.e.340\")>,\n",
              " <selenium.webdriver.remote.webelement.WebElement (session=\"59ed7f1d8287c6c6cd722e5584a9bef4\", element=\"f.D094E65B3261BFAD265CB11F9C6EE998.d.C0157FFA3C8B27E6EC5BD3EF6ADFDBFE.e.341\")>,\n",
              " <selenium.webdriver.remote.webelement.WebElement (session=\"59ed7f1d8287c6c6cd722e5584a9bef4\", element=\"f.D094E65B3261BFAD265CB11F9C6EE998.d.C0157FFA3C8B27E6EC5BD3EF6ADFDBFE.e.342\")>,\n",
              " <selenium.webdriver.remote.webelement.WebElement (session=\"59ed7f1d8287c6c6cd722e5584a9bef4\", element=\"f.D094E65B3261BFAD265CB11F9C6EE998.d.C0157FFA3C8B27E6EC5BD3EF6ADFDBFE.e.343\")>,\n",
              " <selenium.webdriver.remote.webelement.WebElement (session=\"59ed7f1d8287c6c6cd722e5584a9bef4\", element=\"f.D094E65B3261BFAD265CB11F9C6EE998.d.C0157FFA3C8B27E6EC5BD3EF6ADFDBFE.e.344\")>,\n",
              " <selenium.webdriver.remote.webelement.WebElement (session=\"59ed7f1d8287c6c6cd722e5584a9bef4\", element=\"f.D094E65B3261BFAD265CB11F9C6EE998.d.C0157FFA3C8B27E6EC5BD3EF6ADFDBFE.e.345\")>,\n",
              " <selenium.webdriver.remote.webelement.WebElement (session=\"59ed7f1d8287c6c6cd722e5584a9bef4\", element=\"f.D094E65B3261BFAD265CB11F9C6EE998.d.C0157FFA3C8B27E6EC5BD3EF6ADFDBFE.e.346\")>,\n",
              " <selenium.webdriver.remote.webelement.WebElement (session=\"59ed7f1d8287c6c6cd722e5584a9bef4\", element=\"f.D094E65B3261BFAD265CB11F9C6EE998.d.C0157FFA3C8B27E6EC5BD3EF6ADFDBFE.e.347\")>,\n",
              " <selenium.webdriver.remote.webelement.WebElement (session=\"59ed7f1d8287c6c6cd722e5584a9bef4\", element=\"f.D094E65B3261BFAD265CB11F9C6EE998.d.C0157FFA3C8B27E6EC5BD3EF6ADFDBFE.e.348\")>,\n",
              " <selenium.webdriver.remote.webelement.WebElement (session=\"59ed7f1d8287c6c6cd722e5584a9bef4\", element=\"f.D094E65B3261BFAD265CB11F9C6EE998.d.C0157FFA3C8B27E6EC5BD3EF6ADFDBFE.e.349\")>,\n",
              " <selenium.webdriver.remote.webelement.WebElement (session=\"59ed7f1d8287c6c6cd722e5584a9bef4\", element=\"f.D094E65B3261BFAD265CB11F9C6EE998.d.C0157FFA3C8B27E6EC5BD3EF6ADFDBFE.e.350\")>,\n",
              " <selenium.webdriver.remote.webelement.WebElement (session=\"59ed7f1d8287c6c6cd722e5584a9bef4\", element=\"f.D094E65B3261BFAD265CB11F9C6EE998.d.C0157FFA3C8B27E6EC5BD3EF6ADFDBFE.e.351\")>,\n",
              " <selenium.webdriver.remote.webelement.WebElement (session=\"59ed7f1d8287c6c6cd722e5584a9bef4\", element=\"f.D094E65B3261BFAD265CB11F9C6EE998.d.C0157FFA3C8B27E6EC5BD3EF6ADFDBFE.e.352\")>,\n",
              " <selenium.webdriver.remote.webelement.WebElement (session=\"59ed7f1d8287c6c6cd722e5584a9bef4\", element=\"f.D094E65B3261BFAD265CB11F9C6EE998.d.C0157FFA3C8B27E6EC5BD3EF6ADFDBFE.e.353\")>,\n",
              " <selenium.webdriver.remote.webelement.WebElement (session=\"59ed7f1d8287c6c6cd722e5584a9bef4\", element=\"f.D094E65B3261BFAD265CB11F9C6EE998.d.C0157FFA3C8B27E6EC5BD3EF6ADFDBFE.e.354\")>,\n",
              " <selenium.webdriver.remote.webelement.WebElement (session=\"59ed7f1d8287c6c6cd722e5584a9bef4\", element=\"f.D094E65B3261BFAD265CB11F9C6EE998.d.C0157FFA3C8B27E6EC5BD3EF6ADFDBFE.e.355\")>,\n",
              " <selenium.webdriver.remote.webelement.WebElement (session=\"59ed7f1d8287c6c6cd722e5584a9bef4\", element=\"f.D094E65B3261BFAD265CB11F9C6EE998.d.C0157FFA3C8B27E6EC5BD3EF6ADFDBFE.e.356\")>,\n",
              " <selenium.webdriver.remote.webelement.WebElement (session=\"59ed7f1d8287c6c6cd722e5584a9bef4\", element=\"f.D094E65B3261BFAD265CB11F9C6EE998.d.C0157FFA3C8B27E6EC5BD3EF6ADFDBFE.e.357\")>,\n",
              " <selenium.webdriver.remote.webelement.WebElement (session=\"59ed7f1d8287c6c6cd722e5584a9bef4\", element=\"f.D094E65B3261BFAD265CB11F9C6EE998.d.C0157FFA3C8B27E6EC5BD3EF6ADFDBFE.e.358\")>,\n",
              " <selenium.webdriver.remote.webelement.WebElement (session=\"59ed7f1d8287c6c6cd722e5584a9bef4\", element=\"f.D094E65B3261BFAD265CB11F9C6EE998.d.C0157FFA3C8B27E6EC5BD3EF6ADFDBFE.e.359\")>,\n",
              " <selenium.webdriver.remote.webelement.WebElement (session=\"59ed7f1d8287c6c6cd722e5584a9bef4\", element=\"f.D094E65B3261BFAD265CB11F9C6EE998.d.C0157FFA3C8B27E6EC5BD3EF6ADFDBFE.e.360\")>,\n",
              " <selenium.webdriver.remote.webelement.WebElement (session=\"59ed7f1d8287c6c6cd722e5584a9bef4\", element=\"f.D094E65B3261BFAD265CB11F9C6EE998.d.C0157FFA3C8B27E6EC5BD3EF6ADFDBFE.e.361\")>,\n",
              " <selenium.webdriver.remote.webelement.WebElement (session=\"59ed7f1d8287c6c6cd722e5584a9bef4\", element=\"f.D094E65B3261BFAD265CB11F9C6EE998.d.C0157FFA3C8B27E6EC5BD3EF6ADFDBFE.e.362\")>,\n",
              " <selenium.webdriver.remote.webelement.WebElement (session=\"59ed7f1d8287c6c6cd722e5584a9bef4\", element=\"f.D094E65B3261BFAD265CB11F9C6EE998.d.C0157FFA3C8B27E6EC5BD3EF6ADFDBFE.e.363\")>,\n",
              " <selenium.webdriver.remote.webelement.WebElement (session=\"59ed7f1d8287c6c6cd722e5584a9bef4\", element=\"f.D094E65B3261BFAD265CB11F9C6EE998.d.C0157FFA3C8B27E6EC5BD3EF6ADFDBFE.e.364\")>,\n",
              " <selenium.webdriver.remote.webelement.WebElement (session=\"59ed7f1d8287c6c6cd722e5584a9bef4\", element=\"f.D094E65B3261BFAD265CB11F9C6EE998.d.C0157FFA3C8B27E6EC5BD3EF6ADFDBFE.e.365\")>,\n",
              " <selenium.webdriver.remote.webelement.WebElement (session=\"59ed7f1d8287c6c6cd722e5584a9bef4\", element=\"f.D094E65B3261BFAD265CB11F9C6EE998.d.C0157FFA3C8B27E6EC5BD3EF6ADFDBFE.e.366\")>,\n",
              " <selenium.webdriver.remote.webelement.WebElement (session=\"59ed7f1d8287c6c6cd722e5584a9bef4\", element=\"f.D094E65B3261BFAD265CB11F9C6EE998.d.C0157FFA3C8B27E6EC5BD3EF6ADFDBFE.e.367\")>,\n",
              " <selenium.webdriver.remote.webelement.WebElement (session=\"59ed7f1d8287c6c6cd722e5584a9bef4\", element=\"f.D094E65B3261BFAD265CB11F9C6EE998.d.C0157FFA3C8B27E6EC5BD3EF6ADFDBFE.e.368\")>,\n",
              " <selenium.webdriver.remote.webelement.WebElement (session=\"59ed7f1d8287c6c6cd722e5584a9bef4\", element=\"f.D094E65B3261BFAD265CB11F9C6EE998.d.C0157FFA3C8B27E6EC5BD3EF6ADFDBFE.e.369\")>,\n",
              " <selenium.webdriver.remote.webelement.WebElement (session=\"59ed7f1d8287c6c6cd722e5584a9bef4\", element=\"f.D094E65B3261BFAD265CB11F9C6EE998.d.C0157FFA3C8B27E6EC5BD3EF6ADFDBFE.e.370\")>,\n",
              " <selenium.webdriver.remote.webelement.WebElement (session=\"59ed7f1d8287c6c6cd722e5584a9bef4\", element=\"f.D094E65B3261BFAD265CB11F9C6EE998.d.C0157FFA3C8B27E6EC5BD3EF6ADFDBFE.e.371\")>,\n",
              " <selenium.webdriver.remote.webelement.WebElement (session=\"59ed7f1d8287c6c6cd722e5584a9bef4\", element=\"f.D094E65B3261BFAD265CB11F9C6EE998.d.C0157FFA3C8B27E6EC5BD3EF6ADFDBFE.e.372\")>,\n",
              " <selenium.webdriver.remote.webelement.WebElement (session=\"59ed7f1d8287c6c6cd722e5584a9bef4\", element=\"f.D094E65B3261BFAD265CB11F9C6EE998.d.C0157FFA3C8B27E6EC5BD3EF6ADFDBFE.e.373\")>,\n",
              " <selenium.webdriver.remote.webelement.WebElement (session=\"59ed7f1d8287c6c6cd722e5584a9bef4\", element=\"f.D094E65B3261BFAD265CB11F9C6EE998.d.C0157FFA3C8B27E6EC5BD3EF6ADFDBFE.e.374\")>,\n",
              " <selenium.webdriver.remote.webelement.WebElement (session=\"59ed7f1d8287c6c6cd722e5584a9bef4\", element=\"f.D094E65B3261BFAD265CB11F9C6EE998.d.C0157FFA3C8B27E6EC5BD3EF6ADFDBFE.e.375\")>,\n",
              " <selenium.webdriver.remote.webelement.WebElement (session=\"59ed7f1d8287c6c6cd722e5584a9bef4\", element=\"f.D094E65B3261BFAD265CB11F9C6EE998.d.C0157FFA3C8B27E6EC5BD3EF6ADFDBFE.e.376\")>,\n",
              " <selenium.webdriver.remote.webelement.WebElement (session=\"59ed7f1d8287c6c6cd722e5584a9bef4\", element=\"f.D094E65B3261BFAD265CB11F9C6EE998.d.C0157FFA3C8B27E6EC5BD3EF6ADFDBFE.e.377\")>,\n",
              " <selenium.webdriver.remote.webelement.WebElement (session=\"59ed7f1d8287c6c6cd722e5584a9bef4\", element=\"f.D094E65B3261BFAD265CB11F9C6EE998.d.C0157FFA3C8B27E6EC5BD3EF6ADFDBFE.e.378\")>,\n",
              " <selenium.webdriver.remote.webelement.WebElement (session=\"59ed7f1d8287c6c6cd722e5584a9bef4\", element=\"f.D094E65B3261BFAD265CB11F9C6EE998.d.C0157FFA3C8B27E6EC5BD3EF6ADFDBFE.e.379\")>,\n",
              " <selenium.webdriver.remote.webelement.WebElement (session=\"59ed7f1d8287c6c6cd722e5584a9bef4\", element=\"f.D094E65B3261BFAD265CB11F9C6EE998.d.C0157FFA3C8B27E6EC5BD3EF6ADFDBFE.e.380\")>,\n",
              " <selenium.webdriver.remote.webelement.WebElement (session=\"59ed7f1d8287c6c6cd722e5584a9bef4\", element=\"f.D094E65B3261BFAD265CB11F9C6EE998.d.C0157FFA3C8B27E6EC5BD3EF6ADFDBFE.e.381\")>,\n",
              " <selenium.webdriver.remote.webelement.WebElement (session=\"59ed7f1d8287c6c6cd722e5584a9bef4\", element=\"f.D094E65B3261BFAD265CB11F9C6EE998.d.C0157FFA3C8B27E6EC5BD3EF6ADFDBFE.e.382\")>,\n",
              " <selenium.webdriver.remote.webelement.WebElement (session=\"59ed7f1d8287c6c6cd722e5584a9bef4\", element=\"f.D094E65B3261BFAD265CB11F9C6EE998.d.C0157FFA3C8B27E6EC5BD3EF6ADFDBFE.e.383\")>,\n",
              " <selenium.webdriver.remote.webelement.WebElement (session=\"59ed7f1d8287c6c6cd722e5584a9bef4\", element=\"f.D094E65B3261BFAD265CB11F9C6EE998.d.C0157FFA3C8B27E6EC5BD3EF6ADFDBFE.e.384\")>,\n",
              " <selenium.webdriver.remote.webelement.WebElement (session=\"59ed7f1d8287c6c6cd722e5584a9bef4\", element=\"f.D094E65B3261BFAD265CB11F9C6EE998.d.C0157FFA3C8B27E6EC5BD3EF6ADFDBFE.e.385\")>,\n",
              " <selenium.webdriver.remote.webelement.WebElement (session=\"59ed7f1d8287c6c6cd722e5584a9bef4\", element=\"f.D094E65B3261BFAD265CB11F9C6EE998.d.C0157FFA3C8B27E6EC5BD3EF6ADFDBFE.e.386\")>,\n",
              " <selenium.webdriver.remote.webelement.WebElement (session=\"59ed7f1d8287c6c6cd722e5584a9bef4\", element=\"f.D094E65B3261BFAD265CB11F9C6EE998.d.C0157FFA3C8B27E6EC5BD3EF6ADFDBFE.e.387\")>,\n",
              " <selenium.webdriver.remote.webelement.WebElement (session=\"59ed7f1d8287c6c6cd722e5584a9bef4\", element=\"f.D094E65B3261BFAD265CB11F9C6EE998.d.C0157FFA3C8B27E6EC5BD3EF6ADFDBFE.e.388\")>,\n",
              " <selenium.webdriver.remote.webelement.WebElement (session=\"59ed7f1d8287c6c6cd722e5584a9bef4\", element=\"f.D094E65B3261BFAD265CB11F9C6EE998.d.C0157FFA3C8B27E6EC5BD3EF6ADFDBFE.e.389\")>,\n",
              " <selenium.webdriver.remote.webelement.WebElement (session=\"59ed7f1d8287c6c6cd722e5584a9bef4\", element=\"f.D094E65B3261BFAD265CB11F9C6EE998.d.C0157FFA3C8B27E6EC5BD3EF6ADFDBFE.e.390\")>,\n",
              " <selenium.webdriver.remote.webelement.WebElement (session=\"59ed7f1d8287c6c6cd722e5584a9bef4\", element=\"f.D094E65B3261BFAD265CB11F9C6EE998.d.C0157FFA3C8B27E6EC5BD3EF6ADFDBFE.e.391\")>,\n",
              " <selenium.webdriver.remote.webelement.WebElement (session=\"59ed7f1d8287c6c6cd722e5584a9bef4\", element=\"f.D094E65B3261BFAD265CB11F9C6EE998.d.C0157FFA3C8B27E6EC5BD3EF6ADFDBFE.e.392\")>,\n",
              " <selenium.webdriver.remote.webelement.WebElement (session=\"59ed7f1d8287c6c6cd722e5584a9bef4\", element=\"f.D094E65B3261BFAD265CB11F9C6EE998.d.C0157FFA3C8B27E6EC5BD3EF6ADFDBFE.e.393\")>,\n",
              " <selenium.webdriver.remote.webelement.WebElement (session=\"59ed7f1d8287c6c6cd722e5584a9bef4\", element=\"f.D094E65B3261BFAD265CB11F9C6EE998.d.C0157FFA3C8B27E6EC5BD3EF6ADFDBFE.e.394\")>,\n",
              " <selenium.webdriver.remote.webelement.WebElement (session=\"59ed7f1d8287c6c6cd722e5584a9bef4\", element=\"f.D094E65B3261BFAD265CB11F9C6EE998.d.C0157FFA3C8B27E6EC5BD3EF6ADFDBFE.e.395\")>,\n",
              " <selenium.webdriver.remote.webelement.WebElement (session=\"59ed7f1d8287c6c6cd722e5584a9bef4\", element=\"f.D094E65B3261BFAD265CB11F9C6EE998.d.C0157FFA3C8B27E6EC5BD3EF6ADFDBFE.e.396\")>,\n",
              " <selenium.webdriver.remote.webelement.WebElement (session=\"59ed7f1d8287c6c6cd722e5584a9bef4\", element=\"f.D094E65B3261BFAD265CB11F9C6EE998.d.C0157FFA3C8B27E6EC5BD3EF6ADFDBFE.e.397\")>,\n",
              " <selenium.webdriver.remote.webelement.WebElement (session=\"59ed7f1d8287c6c6cd722e5584a9bef4\", element=\"f.D094E65B3261BFAD265CB11F9C6EE998.d.C0157FFA3C8B27E6EC5BD3EF6ADFDBFE.e.398\")>,\n",
              " <selenium.webdriver.remote.webelement.WebElement (session=\"59ed7f1d8287c6c6cd722e5584a9bef4\", element=\"f.D094E65B3261BFAD265CB11F9C6EE998.d.C0157FFA3C8B27E6EC5BD3EF6ADFDBFE.e.399\")>,\n",
              " <selenium.webdriver.remote.webelement.WebElement (session=\"59ed7f1d8287c6c6cd722e5584a9bef4\", element=\"f.D094E65B3261BFAD265CB11F9C6EE998.d.C0157FFA3C8B27E6EC5BD3EF6ADFDBFE.e.400\")>,\n",
              " <selenium.webdriver.remote.webelement.WebElement (session=\"59ed7f1d8287c6c6cd722e5584a9bef4\", element=\"f.D094E65B3261BFAD265CB11F9C6EE998.d.C0157FFA3C8B27E6EC5BD3EF6ADFDBFE.e.401\")>,\n",
              " <selenium.webdriver.remote.webelement.WebElement (session=\"59ed7f1d8287c6c6cd722e5584a9bef4\", element=\"f.D094E65B3261BFAD265CB11F9C6EE998.d.C0157FFA3C8B27E6EC5BD3EF6ADFDBFE.e.402\")>,\n",
              " <selenium.webdriver.remote.webelement.WebElement (session=\"59ed7f1d8287c6c6cd722e5584a9bef4\", element=\"f.D094E65B3261BFAD265CB11F9C6EE998.d.C0157FFA3C8B27E6EC5BD3EF6ADFDBFE.e.403\")>,\n",
              " <selenium.webdriver.remote.webelement.WebElement (session=\"59ed7f1d8287c6c6cd722e5584a9bef4\", element=\"f.D094E65B3261BFAD265CB11F9C6EE998.d.C0157FFA3C8B27E6EC5BD3EF6ADFDBFE.e.404\")>,\n",
              " <selenium.webdriver.remote.webelement.WebElement (session=\"59ed7f1d8287c6c6cd722e5584a9bef4\", element=\"f.D094E65B3261BFAD265CB11F9C6EE998.d.C0157FFA3C8B27E6EC5BD3EF6ADFDBFE.e.405\")>,\n",
              " <selenium.webdriver.remote.webelement.WebElement (session=\"59ed7f1d8287c6c6cd722e5584a9bef4\", element=\"f.D094E65B3261BFAD265CB11F9C6EE998.d.C0157FFA3C8B27E6EC5BD3EF6ADFDBFE.e.406\")>,\n",
              " <selenium.webdriver.remote.webelement.WebElement (session=\"59ed7f1d8287c6c6cd722e5584a9bef4\", element=\"f.D094E65B3261BFAD265CB11F9C6EE998.d.C0157FFA3C8B27E6EC5BD3EF6ADFDBFE.e.407\")>,\n",
              " <selenium.webdriver.remote.webelement.WebElement (session=\"59ed7f1d8287c6c6cd722e5584a9bef4\", element=\"f.D094E65B3261BFAD265CB11F9C6EE998.d.C0157FFA3C8B27E6EC5BD3EF6ADFDBFE.e.408\")>,\n",
              " <selenium.webdriver.remote.webelement.WebElement (session=\"59ed7f1d8287c6c6cd722e5584a9bef4\", element=\"f.D094E65B3261BFAD265CB11F9C6EE998.d.C0157FFA3C8B27E6EC5BD3EF6ADFDBFE.e.409\")>,\n",
              " <selenium.webdriver.remote.webelement.WebElement (session=\"59ed7f1d8287c6c6cd722e5584a9bef4\", element=\"f.D094E65B3261BFAD265CB11F9C6EE998.d.C0157FFA3C8B27E6EC5BD3EF6ADFDBFE.e.410\")>,\n",
              " <selenium.webdriver.remote.webelement.WebElement (session=\"59ed7f1d8287c6c6cd722e5584a9bef4\", element=\"f.D094E65B3261BFAD265CB11F9C6EE998.d.C0157FFA3C8B27E6EC5BD3EF6ADFDBFE.e.411\")>,\n",
              " <selenium.webdriver.remote.webelement.WebElement (session=\"59ed7f1d8287c6c6cd722e5584a9bef4\", element=\"f.D094E65B3261BFAD265CB11F9C6EE998.d.C0157FFA3C8B27E6EC5BD3EF6ADFDBFE.e.412\")>,\n",
              " <selenium.webdriver.remote.webelement.WebElement (session=\"59ed7f1d8287c6c6cd722e5584a9bef4\", element=\"f.D094E65B3261BFAD265CB11F9C6EE998.d.C0157FFA3C8B27E6EC5BD3EF6ADFDBFE.e.413\")>,\n",
              " <selenium.webdriver.remote.webelement.WebElement (session=\"59ed7f1d8287c6c6cd722e5584a9bef4\", element=\"f.D094E65B3261BFAD265CB11F9C6EE998.d.C0157FFA3C8B27E6EC5BD3EF6ADFDBFE.e.414\")>,\n",
              " <selenium.webdriver.remote.webelement.WebElement (session=\"59ed7f1d8287c6c6cd722e5584a9bef4\", element=\"f.D094E65B3261BFAD265CB11F9C6EE998.d.C0157FFA3C8B27E6EC5BD3EF6ADFDBFE.e.415\")>,\n",
              " <selenium.webdriver.remote.webelement.WebElement (session=\"59ed7f1d8287c6c6cd722e5584a9bef4\", element=\"f.D094E65B3261BFAD265CB11F9C6EE998.d.C0157FFA3C8B27E6EC5BD3EF6ADFDBFE.e.416\")>,\n",
              " <selenium.webdriver.remote.webelement.WebElement (session=\"59ed7f1d8287c6c6cd722e5584a9bef4\", element=\"f.D094E65B3261BFAD265CB11F9C6EE998.d.C0157FFA3C8B27E6EC5BD3EF6ADFDBFE.e.417\")>,\n",
              " <selenium.webdriver.remote.webelement.WebElement (session=\"59ed7f1d8287c6c6cd722e5584a9bef4\", element=\"f.D094E65B3261BFAD265CB11F9C6EE998.d.C0157FFA3C8B27E6EC5BD3EF6ADFDBFE.e.418\")>,\n",
              " <selenium.webdriver.remote.webelement.WebElement (session=\"59ed7f1d8287c6c6cd722e5584a9bef4\", element=\"f.D094E65B3261BFAD265CB11F9C6EE998.d.C0157FFA3C8B27E6EC5BD3EF6ADFDBFE.e.419\")>,\n",
              " <selenium.webdriver.remote.webelement.WebElement (session=\"59ed7f1d8287c6c6cd722e5584a9bef4\", element=\"f.D094E65B3261BFAD265CB11F9C6EE998.d.C0157FFA3C8B27E6EC5BD3EF6ADFDBFE.e.420\")>,\n",
              " <selenium.webdriver.remote.webelement.WebElement (session=\"59ed7f1d8287c6c6cd722e5584a9bef4\", element=\"f.D094E65B3261BFAD265CB11F9C6EE998.d.C0157FFA3C8B27E6EC5BD3EF6ADFDBFE.e.421\")>,\n",
              " <selenium.webdriver.remote.webelement.WebElement (session=\"59ed7f1d8287c6c6cd722e5584a9bef4\", element=\"f.D094E65B3261BFAD265CB11F9C6EE998.d.C0157FFA3C8B27E6EC5BD3EF6ADFDBFE.e.422\")>,\n",
              " <selenium.webdriver.remote.webelement.WebElement (session=\"59ed7f1d8287c6c6cd722e5584a9bef4\", element=\"f.D094E65B3261BFAD265CB11F9C6EE998.d.C0157FFA3C8B27E6EC5BD3EF6ADFDBFE.e.423\")>,\n",
              " <selenium.webdriver.remote.webelement.WebElement (session=\"59ed7f1d8287c6c6cd722e5584a9bef4\", element=\"f.D094E65B3261BFAD265CB11F9C6EE998.d.C0157FFA3C8B27E6EC5BD3EF6ADFDBFE.e.424\")>,\n",
              " <selenium.webdriver.remote.webelement.WebElement (session=\"59ed7f1d8287c6c6cd722e5584a9bef4\", element=\"f.D094E65B3261BFAD265CB11F9C6EE998.d.C0157FFA3C8B27E6EC5BD3EF6ADFDBFE.e.425\")>,\n",
              " <selenium.webdriver.remote.webelement.WebElement (session=\"59ed7f1d8287c6c6cd722e5584a9bef4\", element=\"f.D094E65B3261BFAD265CB11F9C6EE998.d.C0157FFA3C8B27E6EC5BD3EF6ADFDBFE.e.426\")>,\n",
              " <selenium.webdriver.remote.webelement.WebElement (session=\"59ed7f1d8287c6c6cd722e5584a9bef4\", element=\"f.D094E65B3261BFAD265CB11F9C6EE998.d.C0157FFA3C8B27E6EC5BD3EF6ADFDBFE.e.427\")>,\n",
              " <selenium.webdriver.remote.webelement.WebElement (session=\"59ed7f1d8287c6c6cd722e5584a9bef4\", element=\"f.D094E65B3261BFAD265CB11F9C6EE998.d.C0157FFA3C8B27E6EC5BD3EF6ADFDBFE.e.428\")>,\n",
              " <selenium.webdriver.remote.webelement.WebElement (session=\"59ed7f1d8287c6c6cd722e5584a9bef4\", element=\"f.D094E65B3261BFAD265CB11F9C6EE998.d.C0157FFA3C8B27E6EC5BD3EF6ADFDBFE.e.429\")>,\n",
              " <selenium.webdriver.remote.webelement.WebElement (session=\"59ed7f1d8287c6c6cd722e5584a9bef4\", element=\"f.D094E65B3261BFAD265CB11F9C6EE998.d.C0157FFA3C8B27E6EC5BD3EF6ADFDBFE.e.430\")>,\n",
              " <selenium.webdriver.remote.webelement.WebElement (session=\"59ed7f1d8287c6c6cd722e5584a9bef4\", element=\"f.D094E65B3261BFAD265CB11F9C6EE998.d.C0157FFA3C8B27E6EC5BD3EF6ADFDBFE.e.431\")>,\n",
              " <selenium.webdriver.remote.webelement.WebElement (session=\"59ed7f1d8287c6c6cd722e5584a9bef4\", element=\"f.D094E65B3261BFAD265CB11F9C6EE998.d.C0157FFA3C8B27E6EC5BD3EF6ADFDBFE.e.432\")>,\n",
              " <selenium.webdriver.remote.webelement.WebElement (session=\"59ed7f1d8287c6c6cd722e5584a9bef4\", element=\"f.D094E65B3261BFAD265CB11F9C6EE998.d.C0157FFA3C8B27E6EC5BD3EF6ADFDBFE.e.433\")>,\n",
              " <selenium.webdriver.remote.webelement.WebElement (session=\"59ed7f1d8287c6c6cd722e5584a9bef4\", element=\"f.D094E65B3261BFAD265CB11F9C6EE998.d.C0157FFA3C8B27E6EC5BD3EF6ADFDBFE.e.434\")>,\n",
              " <selenium.webdriver.remote.webelement.WebElement (session=\"59ed7f1d8287c6c6cd722e5584a9bef4\", element=\"f.D094E65B3261BFAD265CB11F9C6EE998.d.C0157FFA3C8B27E6EC5BD3EF6ADFDBFE.e.435\")>,\n",
              " <selenium.webdriver.remote.webelement.WebElement (session=\"59ed7f1d8287c6c6cd722e5584a9bef4\", element=\"f.D094E65B3261BFAD265CB11F9C6EE998.d.C0157FFA3C8B27E6EC5BD3EF6ADFDBFE.e.436\")>,\n",
              " <selenium.webdriver.remote.webelement.WebElement (session=\"59ed7f1d8287c6c6cd722e5584a9bef4\", element=\"f.D094E65B3261BFAD265CB11F9C6EE998.d.C0157FFA3C8B27E6EC5BD3EF6ADFDBFE.e.437\")>,\n",
              " <selenium.webdriver.remote.webelement.WebElement (session=\"59ed7f1d8287c6c6cd722e5584a9bef4\", element=\"f.D094E65B3261BFAD265CB11F9C6EE998.d.C0157FFA3C8B27E6EC5BD3EF6ADFDBFE.e.438\")>,\n",
              " <selenium.webdriver.remote.webelement.WebElement (session=\"59ed7f1d8287c6c6cd722e5584a9bef4\", element=\"f.D094E65B3261BFAD265CB11F9C6EE998.d.C0157FFA3C8B27E6EC5BD3EF6ADFDBFE.e.439\")>,\n",
              " <selenium.webdriver.remote.webelement.WebElement (session=\"59ed7f1d8287c6c6cd722e5584a9bef4\", element=\"f.D094E65B3261BFAD265CB11F9C6EE998.d.C0157FFA3C8B27E6EC5BD3EF6ADFDBFE.e.440\")>,\n",
              " <selenium.webdriver.remote.webelement.WebElement (session=\"59ed7f1d8287c6c6cd722e5584a9bef4\", element=\"f.D094E65B3261BFAD265CB11F9C6EE998.d.C0157FFA3C8B27E6EC5BD3EF6ADFDBFE.e.441\")>,\n",
              " <selenium.webdriver.remote.webelement.WebElement (session=\"59ed7f1d8287c6c6cd722e5584a9bef4\", element=\"f.D094E65B3261BFAD265CB11F9C6EE998.d.C0157FFA3C8B27E6EC5BD3EF6ADFDBFE.e.442\")>,\n",
              " <selenium.webdriver.remote.webelement.WebElement (session=\"59ed7f1d8287c6c6cd722e5584a9bef4\", element=\"f.D094E65B3261BFAD265CB11F9C6EE998.d.C0157FFA3C8B27E6EC5BD3EF6ADFDBFE.e.443\")>,\n",
              " <selenium.webdriver.remote.webelement.WebElement (session=\"59ed7f1d8287c6c6cd722e5584a9bef4\", element=\"f.D094E65B3261BFAD265CB11F9C6EE998.d.C0157FFA3C8B27E6EC5BD3EF6ADFDBFE.e.444\")>,\n",
              " <selenium.webdriver.remote.webelement.WebElement (session=\"59ed7f1d8287c6c6cd722e5584a9bef4\", element=\"f.D094E65B3261BFAD265CB11F9C6EE998.d.C0157FFA3C8B27E6EC5BD3EF6ADFDBFE.e.445\")>,\n",
              " <selenium.webdriver.remote.webelement.WebElement (session=\"59ed7f1d8287c6c6cd722e5584a9bef4\", element=\"f.D094E65B3261BFAD265CB11F9C6EE998.d.C0157FFA3C8B27E6EC5BD3EF6ADFDBFE.e.446\")>,\n",
              " <selenium.webdriver.remote.webelement.WebElement (session=\"59ed7f1d8287c6c6cd722e5584a9bef4\", element=\"f.D094E65B3261BFAD265CB11F9C6EE998.d.C0157FFA3C8B27E6EC5BD3EF6ADFDBFE.e.447\")>,\n",
              " <selenium.webdriver.remote.webelement.WebElement (session=\"59ed7f1d8287c6c6cd722e5584a9bef4\", element=\"f.D094E65B3261BFAD265CB11F9C6EE998.d.C0157FFA3C8B27E6EC5BD3EF6ADFDBFE.e.448\")>,\n",
              " <selenium.webdriver.remote.webelement.WebElement (session=\"59ed7f1d8287c6c6cd722e5584a9bef4\", element=\"f.D094E65B3261BFAD265CB11F9C6EE998.d.C0157FFA3C8B27E6EC5BD3EF6ADFDBFE.e.449\")>,\n",
              " <selenium.webdriver.remote.webelement.WebElement (session=\"59ed7f1d8287c6c6cd722e5584a9bef4\", element=\"f.D094E65B3261BFAD265CB11F9C6EE998.d.C0157FFA3C8B27E6EC5BD3EF6ADFDBFE.e.450\")>,\n",
              " <selenium.webdriver.remote.webelement.WebElement (session=\"59ed7f1d8287c6c6cd722e5584a9bef4\", element=\"f.D094E65B3261BFAD265CB11F9C6EE998.d.C0157FFA3C8B27E6EC5BD3EF6ADFDBFE.e.451\")>,\n",
              " <selenium.webdriver.remote.webelement.WebElement (session=\"59ed7f1d8287c6c6cd722e5584a9bef4\", element=\"f.D094E65B3261BFAD265CB11F9C6EE998.d.C0157FFA3C8B27E6EC5BD3EF6ADFDBFE.e.452\")>,\n",
              " <selenium.webdriver.remote.webelement.WebElement (session=\"59ed7f1d8287c6c6cd722e5584a9bef4\", element=\"f.D094E65B3261BFAD265CB11F9C6EE998.d.C0157FFA3C8B27E6EC5BD3EF6ADFDBFE.e.453\")>,\n",
              " <selenium.webdriver.remote.webelement.WebElement (session=\"59ed7f1d8287c6c6cd722e5584a9bef4\", element=\"f.D094E65B3261BFAD265CB11F9C6EE998.d.C0157FFA3C8B27E6EC5BD3EF6ADFDBFE.e.454\")>,\n",
              " <selenium.webdriver.remote.webelement.WebElement (session=\"59ed7f1d8287c6c6cd722e5584a9bef4\", element=\"f.D094E65B3261BFAD265CB11F9C6EE998.d.C0157FFA3C8B27E6EC5BD3EF6ADFDBFE.e.455\")>,\n",
              " <selenium.webdriver.remote.webelement.WebElement (session=\"59ed7f1d8287c6c6cd722e5584a9bef4\", element=\"f.D094E65B3261BFAD265CB11F9C6EE998.d.C0157FFA3C8B27E6EC5BD3EF6ADFDBFE.e.456\")>,\n",
              " <selenium.webdriver.remote.webelement.WebElement (session=\"59ed7f1d8287c6c6cd722e5584a9bef4\", element=\"f.D094E65B3261BFAD265CB11F9C6EE998.d.C0157FFA3C8B27E6EC5BD3EF6ADFDBFE.e.457\")>,\n",
              " <selenium.webdriver.remote.webelement.WebElement (session=\"59ed7f1d8287c6c6cd722e5584a9bef4\", element=\"f.D094E65B3261BFAD265CB11F9C6EE998.d.C0157FFA3C8B27E6EC5BD3EF6ADFDBFE.e.458\")>,\n",
              " <selenium.webdriver.remote.webelement.WebElement (session=\"59ed7f1d8287c6c6cd722e5584a9bef4\", element=\"f.D094E65B3261BFAD265CB11F9C6EE998.d.C0157FFA3C8B27E6EC5BD3EF6ADFDBFE.e.459\")>,\n",
              " <selenium.webdriver.remote.webelement.WebElement (session=\"59ed7f1d8287c6c6cd722e5584a9bef4\", element=\"f.D094E65B3261BFAD265CB11F9C6EE998.d.C0157FFA3C8B27E6EC5BD3EF6ADFDBFE.e.460\")>,\n",
              " <selenium.webdriver.remote.webelement.WebElement (session=\"59ed7f1d8287c6c6cd722e5584a9bef4\", element=\"f.D094E65B3261BFAD265CB11F9C6EE998.d.C0157FFA3C8B27E6EC5BD3EF6ADFDBFE.e.461\")>,\n",
              " <selenium.webdriver.remote.webelement.WebElement (session=\"59ed7f1d8287c6c6cd722e5584a9bef4\", element=\"f.D094E65B3261BFAD265CB11F9C6EE998.d.C0157FFA3C8B27E6EC5BD3EF6ADFDBFE.e.462\")>,\n",
              " <selenium.webdriver.remote.webelement.WebElement (session=\"59ed7f1d8287c6c6cd722e5584a9bef4\", element=\"f.D094E65B3261BFAD265CB11F9C6EE998.d.C0157FFA3C8B27E6EC5BD3EF6ADFDBFE.e.463\")>,\n",
              " <selenium.webdriver.remote.webelement.WebElement (session=\"59ed7f1d8287c6c6cd722e5584a9bef4\", element=\"f.D094E65B3261BFAD265CB11F9C6EE998.d.C0157FFA3C8B27E6EC5BD3EF6ADFDBFE.e.464\")>,\n",
              " <selenium.webdriver.remote.webelement.WebElement (session=\"59ed7f1d8287c6c6cd722e5584a9bef4\", element=\"f.D094E65B3261BFAD265CB11F9C6EE998.d.C0157FFA3C8B27E6EC5BD3EF6ADFDBFE.e.465\")>,\n",
              " <selenium.webdriver.remote.webelement.WebElement (session=\"59ed7f1d8287c6c6cd722e5584a9bef4\", element=\"f.D094E65B3261BFAD265CB11F9C6EE998.d.C0157FFA3C8B27E6EC5BD3EF6ADFDBFE.e.466\")>,\n",
              " <selenium.webdriver.remote.webelement.WebElement (session=\"59ed7f1d8287c6c6cd722e5584a9bef4\", element=\"f.D094E65B3261BFAD265CB11F9C6EE998.d.C0157FFA3C8B27E6EC5BD3EF6ADFDBFE.e.467\")>,\n",
              " <selenium.webdriver.remote.webelement.WebElement (session=\"59ed7f1d8287c6c6cd722e5584a9bef4\", element=\"f.D094E65B3261BFAD265CB11F9C6EE998.d.C0157FFA3C8B27E6EC5BD3EF6ADFDBFE.e.468\")>,\n",
              " <selenium.webdriver.remote.webelement.WebElement (session=\"59ed7f1d8287c6c6cd722e5584a9bef4\", element=\"f.D094E65B3261BFAD265CB11F9C6EE998.d.C0157FFA3C8B27E6EC5BD3EF6ADFDBFE.e.469\")>,\n",
              " <selenium.webdriver.remote.webelement.WebElement (session=\"59ed7f1d8287c6c6cd722e5584a9bef4\", element=\"f.D094E65B3261BFAD265CB11F9C6EE998.d.C0157FFA3C8B27E6EC5BD3EF6ADFDBFE.e.470\")>,\n",
              " <selenium.webdriver.remote.webelement.WebElement (session=\"59ed7f1d8287c6c6cd722e5584a9bef4\", element=\"f.D094E65B3261BFAD265CB11F9C6EE998.d.C0157FFA3C8B27E6EC5BD3EF6ADFDBFE.e.471\")>,\n",
              " <selenium.webdriver.remote.webelement.WebElement (session=\"59ed7f1d8287c6c6cd722e5584a9bef4\", element=\"f.D094E65B3261BFAD265CB11F9C6EE998.d.C0157FFA3C8B27E6EC5BD3EF6ADFDBFE.e.472\")>,\n",
              " <selenium.webdriver.remote.webelement.WebElement (session=\"59ed7f1d8287c6c6cd722e5584a9bef4\", element=\"f.D094E65B3261BFAD265CB11F9C6EE998.d.C0157FFA3C8B27E6EC5BD3EF6ADFDBFE.e.473\")>,\n",
              " <selenium.webdriver.remote.webelement.WebElement (session=\"59ed7f1d8287c6c6cd722e5584a9bef4\", element=\"f.D094E65B3261BFAD265CB11F9C6EE998.d.C0157FFA3C8B27E6EC5BD3EF6ADFDBFE.e.474\")>,\n",
              " <selenium.webdriver.remote.webelement.WebElement (session=\"59ed7f1d8287c6c6cd722e5584a9bef4\", element=\"f.D094E65B3261BFAD265CB11F9C6EE998.d.C0157FFA3C8B27E6EC5BD3EF6ADFDBFE.e.475\")>,\n",
              " <selenium.webdriver.remote.webelement.WebElement (session=\"59ed7f1d8287c6c6cd722e5584a9bef4\", element=\"f.D094E65B3261BFAD265CB11F9C6EE998.d.C0157FFA3C8B27E6EC5BD3EF6ADFDBFE.e.476\")>,\n",
              " <selenium.webdriver.remote.webelement.WebElement (session=\"59ed7f1d8287c6c6cd722e5584a9bef4\", element=\"f.D094E65B3261BFAD265CB11F9C6EE998.d.C0157FFA3C8B27E6EC5BD3EF6ADFDBFE.e.477\")>,\n",
              " <selenium.webdriver.remote.webelement.WebElement (session=\"59ed7f1d8287c6c6cd722e5584a9bef4\", element=\"f.D094E65B3261BFAD265CB11F9C6EE998.d.C0157FFA3C8B27E6EC5BD3EF6ADFDBFE.e.478\")>,\n",
              " <selenium.webdriver.remote.webelement.WebElement (session=\"59ed7f1d8287c6c6cd722e5584a9bef4\", element=\"f.D094E65B3261BFAD265CB11F9C6EE998.d.C0157FFA3C8B27E6EC5BD3EF6ADFDBFE.e.479\")>,\n",
              " <selenium.webdriver.remote.webelement.WebElement (session=\"59ed7f1d8287c6c6cd722e5584a9bef4\", element=\"f.D094E65B3261BFAD265CB11F9C6EE998.d.C0157FFA3C8B27E6EC5BD3EF6ADFDBFE.e.480\")>,\n",
              " <selenium.webdriver.remote.webelement.WebElement (session=\"59ed7f1d8287c6c6cd722e5584a9bef4\", element=\"f.D094E65B3261BFAD265CB11F9C6EE998.d.C0157FFA3C8B27E6EC5BD3EF6ADFDBFE.e.481\")>,\n",
              " <selenium.webdriver.remote.webelement.WebElement (session=\"59ed7f1d8287c6c6cd722e5584a9bef4\", element=\"f.D094E65B3261BFAD265CB11F9C6EE998.d.C0157FFA3C8B27E6EC5BD3EF6ADFDBFE.e.482\")>,\n",
              " <selenium.webdriver.remote.webelement.WebElement (session=\"59ed7f1d8287c6c6cd722e5584a9bef4\", element=\"f.D094E65B3261BFAD265CB11F9C6EE998.d.C0157FFA3C8B27E6EC5BD3EF6ADFDBFE.e.483\")>,\n",
              " <selenium.webdriver.remote.webelement.WebElement (session=\"59ed7f1d8287c6c6cd722e5584a9bef4\", element=\"f.D094E65B3261BFAD265CB11F9C6EE998.d.C0157FFA3C8B27E6EC5BD3EF6ADFDBFE.e.484\")>,\n",
              " <selenium.webdriver.remote.webelement.WebElement (session=\"59ed7f1d8287c6c6cd722e5584a9bef4\", element=\"f.D094E65B3261BFAD265CB11F9C6EE998.d.C0157FFA3C8B27E6EC5BD3EF6ADFDBFE.e.485\")>,\n",
              " <selenium.webdriver.remote.webelement.WebElement (session=\"59ed7f1d8287c6c6cd722e5584a9bef4\", element=\"f.D094E65B3261BFAD265CB11F9C6EE998.d.C0157FFA3C8B27E6EC5BD3EF6ADFDBFE.e.486\")>,\n",
              " <selenium.webdriver.remote.webelement.WebElement (session=\"59ed7f1d8287c6c6cd722e5584a9bef4\", element=\"f.D094E65B3261BFAD265CB11F9C6EE998.d.C0157FFA3C8B27E6EC5BD3EF6ADFDBFE.e.487\")>,\n",
              " <selenium.webdriver.remote.webelement.WebElement (session=\"59ed7f1d8287c6c6cd722e5584a9bef4\", element=\"f.D094E65B3261BFAD265CB11F9C6EE998.d.C0157FFA3C8B27E6EC5BD3EF6ADFDBFE.e.488\")>,\n",
              " <selenium.webdriver.remote.webelement.WebElement (session=\"59ed7f1d8287c6c6cd722e5584a9bef4\", element=\"f.D094E65B3261BFAD265CB11F9C6EE998.d.C0157FFA3C8B27E6EC5BD3EF6ADFDBFE.e.489\")>,\n",
              " <selenium.webdriver.remote.webelement.WebElement (session=\"59ed7f1d8287c6c6cd722e5584a9bef4\", element=\"f.D094E65B3261BFAD265CB11F9C6EE998.d.C0157FFA3C8B27E6EC5BD3EF6ADFDBFE.e.490\")>,\n",
              " <selenium.webdriver.remote.webelement.WebElement (session=\"59ed7f1d8287c6c6cd722e5584a9bef4\", element=\"f.D094E65B3261BFAD265CB11F9C6EE998.d.C0157FFA3C8B27E6EC5BD3EF6ADFDBFE.e.491\")>,\n",
              " <selenium.webdriver.remote.webelement.WebElement (session=\"59ed7f1d8287c6c6cd722e5584a9bef4\", element=\"f.D094E65B3261BFAD265CB11F9C6EE998.d.C0157FFA3C8B27E6EC5BD3EF6ADFDBFE.e.492\")>,\n",
              " <selenium.webdriver.remote.webelement.WebElement (session=\"59ed7f1d8287c6c6cd722e5584a9bef4\", element=\"f.D094E65B3261BFAD265CB11F9C6EE998.d.C0157FFA3C8B27E6EC5BD3EF6ADFDBFE.e.493\")>,\n",
              " <selenium.webdriver.remote.webelement.WebElement (session=\"59ed7f1d8287c6c6cd722e5584a9bef4\", element=\"f.D094E65B3261BFAD265CB11F9C6EE998.d.C0157FFA3C8B27E6EC5BD3EF6ADFDBFE.e.494\")>,\n",
              " <selenium.webdriver.remote.webelement.WebElement (session=\"59ed7f1d8287c6c6cd722e5584a9bef4\", element=\"f.D094E65B3261BFAD265CB11F9C6EE998.d.C0157FFA3C8B27E6EC5BD3EF6ADFDBFE.e.495\")>,\n",
              " <selenium.webdriver.remote.webelement.WebElement (session=\"59ed7f1d8287c6c6cd722e5584a9bef4\", element=\"f.D094E65B3261BFAD265CB11F9C6EE998.d.C0157FFA3C8B27E6EC5BD3EF6ADFDBFE.e.496\")>,\n",
              " <selenium.webdriver.remote.webelement.WebElement (session=\"59ed7f1d8287c6c6cd722e5584a9bef4\", element=\"f.D094E65B3261BFAD265CB11F9C6EE998.d.C0157FFA3C8B27E6EC5BD3EF6ADFDBFE.e.497\")>,\n",
              " <selenium.webdriver.remote.webelement.WebElement (session=\"59ed7f1d8287c6c6cd722e5584a9bef4\", element=\"f.D094E65B3261BFAD265CB11F9C6EE998.d.C0157FFA3C8B27E6EC5BD3EF6ADFDBFE.e.498\")>,\n",
              " <selenium.webdriver.remote.webelement.WebElement (session=\"59ed7f1d8287c6c6cd722e5584a9bef4\", element=\"f.D094E65B3261BFAD265CB11F9C6EE998.d.C0157FFA3C8B27E6EC5BD3EF6ADFDBFE.e.499\")>,\n",
              " <selenium.webdriver.remote.webelement.WebElement (session=\"59ed7f1d8287c6c6cd722e5584a9bef4\", element=\"f.D094E65B3261BFAD265CB11F9C6EE998.d.C0157FFA3C8B27E6EC5BD3EF6ADFDBFE.e.500\")>,\n",
              " <selenium.webdriver.remote.webelement.WebElement (session=\"59ed7f1d8287c6c6cd722e5584a9bef4\", element=\"f.D094E65B3261BFAD265CB11F9C6EE998.d.C0157FFA3C8B27E6EC5BD3EF6ADFDBFE.e.501\")>,\n",
              " <selenium.webdriver.remote.webelement.WebElement (session=\"59ed7f1d8287c6c6cd722e5584a9bef4\", element=\"f.D094E65B3261BFAD265CB11F9C6EE998.d.C0157FFA3C8B27E6EC5BD3EF6ADFDBFE.e.502\")>,\n",
              " <selenium.webdriver.remote.webelement.WebElement (session=\"59ed7f1d8287c6c6cd722e5584a9bef4\", element=\"f.D094E65B3261BFAD265CB11F9C6EE998.d.C0157FFA3C8B27E6EC5BD3EF6ADFDBFE.e.503\")>,\n",
              " <selenium.webdriver.remote.webelement.WebElement (session=\"59ed7f1d8287c6c6cd722e5584a9bef4\", element=\"f.D094E65B3261BFAD265CB11F9C6EE998.d.C0157FFA3C8B27E6EC5BD3EF6ADFDBFE.e.504\")>,\n",
              " <selenium.webdriver.remote.webelement.WebElement (session=\"59ed7f1d8287c6c6cd722e5584a9bef4\", element=\"f.D094E65B3261BFAD265CB11F9C6EE998.d.C0157FFA3C8B27E6EC5BD3EF6ADFDBFE.e.505\")>,\n",
              " <selenium.webdriver.remote.webelement.WebElement (session=\"59ed7f1d8287c6c6cd722e5584a9bef4\", element=\"f.D094E65B3261BFAD265CB11F9C6EE998.d.C0157FFA3C8B27E6EC5BD3EF6ADFDBFE.e.506\")>,\n",
              " <selenium.webdriver.remote.webelement.WebElement (session=\"59ed7f1d8287c6c6cd722e5584a9bef4\", element=\"f.D094E65B3261BFAD265CB11F9C6EE998.d.C0157FFA3C8B27E6EC5BD3EF6ADFDBFE.e.507\")>,\n",
              " <selenium.webdriver.remote.webelement.WebElement (session=\"59ed7f1d8287c6c6cd722e5584a9bef4\", element=\"f.D094E65B3261BFAD265CB11F9C6EE998.d.C0157FFA3C8B27E6EC5BD3EF6ADFDBFE.e.508\")>,\n",
              " <selenium.webdriver.remote.webelement.WebElement (session=\"59ed7f1d8287c6c6cd722e5584a9bef4\", element=\"f.D094E65B3261BFAD265CB11F9C6EE998.d.C0157FFA3C8B27E6EC5BD3EF6ADFDBFE.e.509\")>,\n",
              " <selenium.webdriver.remote.webelement.WebElement (session=\"59ed7f1d8287c6c6cd722e5584a9bef4\", element=\"f.D094E65B3261BFAD265CB11F9C6EE998.d.C0157FFA3C8B27E6EC5BD3EF6ADFDBFE.e.510\")>,\n",
              " <selenium.webdriver.remote.webelement.WebElement (session=\"59ed7f1d8287c6c6cd722e5584a9bef4\", element=\"f.D094E65B3261BFAD265CB11F9C6EE998.d.C0157FFA3C8B27E6EC5BD3EF6ADFDBFE.e.511\")>,\n",
              " <selenium.webdriver.remote.webelement.WebElement (session=\"59ed7f1d8287c6c6cd722e5584a9bef4\", element=\"f.D094E65B3261BFAD265CB11F9C6EE998.d.C0157FFA3C8B27E6EC5BD3EF6ADFDBFE.e.512\")>,\n",
              " <selenium.webdriver.remote.webelement.WebElement (session=\"59ed7f1d8287c6c6cd722e5584a9bef4\", element=\"f.D094E65B3261BFAD265CB11F9C6EE998.d.C0157FFA3C8B27E6EC5BD3EF6ADFDBFE.e.513\")>,\n",
              " <selenium.webdriver.remote.webelement.WebElement (session=\"59ed7f1d8287c6c6cd722e5584a9bef4\", element=\"f.D094E65B3261BFAD265CB11F9C6EE998.d.C0157FFA3C8B27E6EC5BD3EF6ADFDBFE.e.514\")>,\n",
              " <selenium.webdriver.remote.webelement.WebElement (session=\"59ed7f1d8287c6c6cd722e5584a9bef4\", element=\"f.D094E65B3261BFAD265CB11F9C6EE998.d.C0157FFA3C8B27E6EC5BD3EF6ADFDBFE.e.515\")>,\n",
              " <selenium.webdriver.remote.webelement.WebElement (session=\"59ed7f1d8287c6c6cd722e5584a9bef4\", element=\"f.D094E65B3261BFAD265CB11F9C6EE998.d.C0157FFA3C8B27E6EC5BD3EF6ADFDBFE.e.516\")>,\n",
              " <selenium.webdriver.remote.webelement.WebElement (session=\"59ed7f1d8287c6c6cd722e5584a9bef4\", element=\"f.D094E65B3261BFAD265CB11F9C6EE998.d.C0157FFA3C8B27E6EC5BD3EF6ADFDBFE.e.517\")>,\n",
              " <selenium.webdriver.remote.webelement.WebElement (session=\"59ed7f1d8287c6c6cd722e5584a9bef4\", element=\"f.D094E65B3261BFAD265CB11F9C6EE998.d.C0157FFA3C8B27E6EC5BD3EF6ADFDBFE.e.518\")>,\n",
              " <selenium.webdriver.remote.webelement.WebElement (session=\"59ed7f1d8287c6c6cd722e5584a9bef4\", element=\"f.D094E65B3261BFAD265CB11F9C6EE998.d.C0157FFA3C8B27E6EC5BD3EF6ADFDBFE.e.519\")>,\n",
              " <selenium.webdriver.remote.webelement.WebElement (session=\"59ed7f1d8287c6c6cd722e5584a9bef4\", element=\"f.D094E65B3261BFAD265CB11F9C6EE998.d.C0157FFA3C8B27E6EC5BD3EF6ADFDBFE.e.520\")>,\n",
              " <selenium.webdriver.remote.webelement.WebElement (session=\"59ed7f1d8287c6c6cd722e5584a9bef4\", element=\"f.D094E65B3261BFAD265CB11F9C6EE998.d.C0157FFA3C8B27E6EC5BD3EF6ADFDBFE.e.521\")>,\n",
              " <selenium.webdriver.remote.webelement.WebElement (session=\"59ed7f1d8287c6c6cd722e5584a9bef4\", element=\"f.D094E65B3261BFAD265CB11F9C6EE998.d.C0157FFA3C8B27E6EC5BD3EF6ADFDBFE.e.522\")>,\n",
              " <selenium.webdriver.remote.webelement.WebElement (session=\"59ed7f1d8287c6c6cd722e5584a9bef4\", element=\"f.D094E65B3261BFAD265CB11F9C6EE998.d.C0157FFA3C8B27E6EC5BD3EF6ADFDBFE.e.523\")>]"
            ]
          },
          "metadata": {},
          "execution_count": 47
        }
      ]
    },
    {
      "cell_type": "code",
      "source": [],
      "metadata": {
        "id": "99NgL-kGtYpH"
      },
      "execution_count": null,
      "outputs": []
    },
    {
      "cell_type": "code",
      "source": [
        "def get_channel_videos(channel_url):\n",
        "    # Extract channel ID from URL\n",
        "    if 'channel/' in channel_url:\n",
        "        channel_id = channel_url.split('channel/')[-1]\n",
        "    else:\n",
        "        # Handle other URL formats if necessary\n",
        "        raise ValueError('Unsupported URL format. Please provide a valid channel URL.')\n",
        "\n",
        "\n",
        "    # Get channel uploads playlist ID\n",
        "    response = youtube.channels().list(\n",
        "        part='contentDetails',\n",
        "        id=channel_id\n",
        "    ).execute()\n",
        "\n",
        "    uploads_playlist_id = response['items'][0]['contentDetails']['relatedPlaylists']['uploads']\n",
        "\n",
        "    # Get all videos in the uploads playlist\n",
        "    videos = []\n",
        "    next_page_token = None\n",
        "    while True:\n",
        "        response = youtube.playlistItems().list(\n",
        "            part='contentDetails',\n",
        "            playlistId=uploads_playlist_id,\n",
        "            maxResults=50,\n",
        "            pageToken=next_page_token\n",
        "        ).execute()\n",
        "\n",
        "        videos += response['items']\n",
        "        next_page_token = response.get('nextPageToken')\n",
        "\n",
        "        if next_page_token is None:\n",
        "            break\n",
        "\n",
        "    return [video['contentDetails']['videoId'] for video in videos]"
      ],
      "metadata": {
        "id": "nJj-_JqrYgOA"
      },
      "execution_count": null,
      "outputs": []
    },
    {
      "cell_type": "code",
      "source": [],
      "metadata": {
        "id": "TlKdUizoYgLa"
      },
      "execution_count": null,
      "outputs": []
    },
    {
      "cell_type": "code",
      "source": [
        "def get_video_comments_count(video_id, youtube):\n",
        "    response = youtube.videos().list(\n",
        "        part='statistics',\n",
        "        id=video_id\n",
        "    ).execute()\n",
        "\n",
        "    return int(response['items'][0]['statistics'].get('commentCount', 0))"
      ],
      "metadata": {
        "id": "xeeArd_JYgH2"
      },
      "execution_count": null,
      "outputs": []
    },
    {
      "cell_type": "code",
      "source": [],
      "metadata": {
        "id": "w_DFqP5-Yi-4"
      },
      "execution_count": null,
      "outputs": []
    },
    {
      "cell_type": "code",
      "source": [
        "def get_top_5_videos(channel_url):\n",
        "    video_ids = get_channel_videos(channel_url)\n",
        "\n",
        "    youtube = build('youtube', 'v3', developerKey=API_KEY)\n",
        "\n",
        "    video_comments = []\n",
        "    for video_id in video_ids:\n",
        "        comment_count = get_video_comments_count(video_id, youtube)\n",
        "        video_comments.append((video_id, comment_count))\n",
        "\n",
        "    # Sort videos by comment count in descending order and get top 5\n",
        "    top_5_videos = sorted(video_comments, key=lambda x: x[1], reverse=True)[:5]\n",
        "\n",
        "    return top_5_videos\n",
        "\n",
        "\n"
      ],
      "metadata": {
        "id": "NfDNZ6wrYQxO"
      },
      "execution_count": null,
      "outputs": []
    },
    {
      "cell_type": "code",
      "source": [],
      "metadata": {
        "id": "EM8eVh6yYQu4"
      },
      "execution_count": null,
      "outputs": []
    },
    {
      "cell_type": "code",
      "source": [
        "# Example usage\n",
        "channel_url = 'https://www.youtube.com/channel/CHANNEL_ID'\n",
        "top_videos = get_top_5_videos(channel_url)\n",
        "print(top_videos)"
      ],
      "metadata": {
        "id": "RMN965j6YQrf"
      },
      "execution_count": null,
      "outputs": []
    },
    {
      "cell_type": "code",
      "source": [],
      "metadata": {
        "id": "KWBsUPKyYQmC"
      },
      "execution_count": null,
      "outputs": []
    },
    {
      "cell_type": "code",
      "source": [],
      "metadata": {
        "id": "uKrUoprXhKPx"
      },
      "execution_count": null,
      "outputs": []
    },
    {
      "cell_type": "code",
      "source": [],
      "metadata": {
        "id": "YLTEFPM0yVZa"
      },
      "execution_count": null,
      "outputs": []
    },
    {
      "cell_type": "code",
      "source": [
        "channel_id = 'UCfuEu0ff9Yy_oA5U21C5Stw'\n",
        "\n",
        "request = youtube.search().list(\n",
        "    part='snippet',\n",
        "    channelId=channel_id,\n",
        "    type='video',\n",
        "    order='viewCount',\n",
        "    maxResults=10\n",
        ")\n",
        "video_url_list = []\n",
        "\n",
        "response = request.execute()\n",
        "\n",
        "for item in response['items']:\n",
        "    video_title = item['snippet']['title']\n",
        "    video_id = item['id']['videoId']\n",
        "    video_url = f'https://www.youtube.com/watch?v={video_id}'\n",
        "\n",
        "    print(f'Title: {video_title} | URL: {video_url}')\n"
      ],
      "metadata": {
        "id": "vVKMIQMLyVWU",
        "outputId": "1f576d91-2fe4-4b66-c04e-6530776737fc",
        "colab": {
          "base_uri": "https://localhost:8080/"
        }
      },
      "execution_count": null,
      "outputs": [
        {
          "output_type": "stream",
          "name": "stdout",
          "text": [
            "Title: I killed the QUEEN to save the hive. | URL: https://www.youtube.com/watch?v=DXuzQkXVKXI\n",
            "Title: What comes out of an egg this BIG? The 50 day hatching adventure. | URL: https://www.youtube.com/watch?v=Cp19XhbqJ_c\n",
            "Title: The Round Beehive Explained... | URL: https://www.youtube.com/watch?v=qcjj9PjhBdU\n",
            "Title: We tricked our hens into hatching out the RAREST baby peacocks! | URL: https://www.youtube.com/watch?v=8rwC8FQugrw\n",
            "Title: What’s INSIDE of our Emu Eggs? | URL: https://www.youtube.com/watch?v=vIqhcG1oy2w\n",
            "Title: A New Bee Emerges | URL: https://www.youtube.com/watch?v=3JsX0OC58d4\n",
            "Title: These are NOT your normal big, green eggs. | URL: https://www.youtube.com/watch?v=jjEAZrZbHnU\n",
            "Title: How many Emu Eggs are there? | URL: https://www.youtube.com/watch?v=m9a2LYfgjkA\n",
            "Title: Meet the Guicken. How did this happen? | URL: https://www.youtube.com/watch?v=LY5lxc2lMjE\n",
            "Title: Our Emus Finally Laid Eggs *after 4 years* | URL: https://www.youtube.com/watch?v=J8fTVQpWsCQ\n"
          ]
        }
      ]
    },
    {
      "cell_type": "code",
      "source": [
        "def get_channel_id_from_handle_url(handle_url):\n",
        "    \"\"\"Fetches the YouTube channel ID from a URL containing only the handle.\n",
        "\n",
        "    This function uses the YouTube Data API's 'search' endpoint to look for\n",
        "    channels matching the given handle. It extracts the channel ID from the\n",
        "    first matching result.\n",
        "\n",
        "    Args:\n",
        "        handle_url: The YouTube channel URL containing only the handle (e.g.,\n",
        "            'https://www.youtube.com/@Google').\n",
        "\n",
        "    Returns:\n",
        "        The channel ID (string) if found, otherwise None.\n",
        "\n",
        "    Raises:\n",
        "        googleapiclient.errors.HttpError: If there's an issue with the API request.\n",
        "    \"\"\"\n",
        "    try:\n",
        "        request = youtube.search().list(\n",
        "            part='snippet',\n",
        "            q=handle_url,   # Search for the handle\n",
        "            type='channel',\n",
        "            maxResults=1    # We only need one result\n",
        "        )\n",
        "        response = request.execute()\n",
        "\n",
        "        if response['items']:\n",
        "            channel_id = response['items'][0]['snippet']['channelId']\n",
        "            return channel_id\n",
        "\n",
        "    except googleapiclient.errors.HttpError as e:\n",
        "        print(f\"An error occurred: {e}\")\n",
        "\n",
        "    return None  # Return None if no channel is found\n"
      ],
      "metadata": {
        "id": "i7sQ-0Xy7NwP"
      },
      "execution_count": null,
      "outputs": []
    },
    {
      "cell_type": "code",
      "source": [],
      "metadata": {
        "id": "fZIaYKvv9jc3"
      },
      "execution_count": null,
      "outputs": []
    },
    {
      "cell_type": "code",
      "source": [],
      "metadata": {
        "id": "XZ_rr_tt9jaB"
      },
      "execution_count": null,
      "outputs": []
    },
    {
      "cell_type": "code",
      "source": [
        "from urllib.parse import urlparse, parse_qs\n",
        "\n",
        "def get_channel_id_from_handle(handle_url):\n",
        "    \"\"\"Extracts the YouTube channel ID from a URL containing only the handle.\n",
        "\n",
        "    This function takes a YouTube channel URL that might be in various formats\n",
        "    (shortened, custom, etc.) and extracts the unique channel ID. It works even\n",
        "    if the URL only contains the handle, utilizing the YouTube Data API for the lookup.\n",
        "\n",
        "    Args:\n",
        "        handle_url: The YouTube channel URL (string) containing the handle.\n",
        "\n",
        "    Returns:\n",
        "        The channel ID (string) if found, or None if not found or on API error.\n",
        "\n",
        "    Raises:\n",
        "        googleapiclient.errors.HttpError: If there's an issue with the API request.\n",
        "    \"\"\"\n",
        "\n",
        "    try:\n",
        "        # Try direct extraction from URL if it's a standard format\n",
        "        parsed_url = urlparse(handle_url)\n",
        "        if parsed_url.netloc == 'www.youtube.com' and parsed_url.path.startswith('/c/'):\n",
        "            return parsed_url.path.split('/')[2]  # Handle after /c/\n",
        "        elif parsed_url.netloc == 'www.youtube.com' and parsed_url.path.startswith('/channel/'):\n",
        "            return parsed_url.path.split('/')[2]\n",
        "        else:\n",
        "            query_params = parse_qs(parsed_url.query)\n",
        "            if 'ab_channel' in query_params:\n",
        "                return query_params['ab_channel'][0]  # from query parameter\n",
        "    except ValueError:\n",
        "        # Parsing failed, continue with API lookup\n",
        "        pass\n",
        "\n",
        "    # If direct extraction fails, use the YouTube Data API for lookup\n",
        "    request = youtube.search().list(\n",
        "        part='snippet',\n",
        "        q=handle_url,  # Search by the handle\n",
        "        type='channel',\n",
        "        maxResults=1\n",
        "    )\n",
        "\n",
        "    response = request.execute()\n",
        "\n",
        "    if response['items']:\n",
        "        return response['items'][0]['snippet']['channelId']  # Extract ID from result\n",
        "\n",
        "    return None  # Channel not found or error occurred\n"
      ],
      "metadata": {
        "id": "vICZgUxk9jXM"
      },
      "execution_count": null,
      "outputs": []
    },
    {
      "cell_type": "code",
      "source": [],
      "metadata": {
        "id": "zFHHfIdw74dD"
      },
      "execution_count": null,
      "outputs": []
    },
    {
      "cell_type": "code",
      "source": [
        "get_channel_id_from_handle_url('https://www.youtube.com/@thehill')"
      ],
      "metadata": {
        "id": "JYpHtEGU77Fw",
        "outputId": "48c33e79-cff3-462c-f78a-d8fcc6667f2d",
        "colab": {
          "base_uri": "https://localhost:8080/",
          "height": 35
        }
      },
      "execution_count": null,
      "outputs": [
        {
          "output_type": "execute_result",
          "data": {
            "text/plain": [
              "'UCfuEu0ff9Yy_oA5U21C5Stw'"
            ],
            "application/vnd.google.colaboratory.intrinsic+json": {
              "type": "string"
            }
          },
          "metadata": {},
          "execution_count": 10
        }
      ]
    },
    {
      "cell_type": "code",
      "source": [
        "get_channel_id_from_handle('https://www.youtube.com/@thehill')\n"
      ],
      "metadata": {
        "id": "QIbvxXe49m1F",
        "outputId": "1d3f19c3-51f9-4563-dc42-d007710377ba",
        "colab": {
          "base_uri": "https://localhost:8080/",
          "height": 35
        }
      },
      "execution_count": null,
      "outputs": [
        {
          "output_type": "execute_result",
          "data": {
            "text/plain": [
              "'UCfuEu0ff9Yy_oA5U21C5Stw'"
            ],
            "application/vnd.google.colaboratory.intrinsic+json": {
              "type": "string"
            }
          },
          "metadata": {},
          "execution_count": 21
        }
      ]
    },
    {
      "cell_type": "code",
      "source": [
        "UCPWXiRWZ29zrxPFIQT7eHSA"
      ],
      "metadata": {
        "id": "1bJEanRn75cm"
      },
      "execution_count": null,
      "outputs": []
    },
    {
      "cell_type": "code",
      "source": [
        "def get_video_list(channel_id):\n",
        "  \"\"\"Fetches a list of top-viewed video URLs from a YouTube channel.\n",
        "\n",
        "  This function uses the YouTube Data API to retrieve the details (title, ID)\n",
        "  of the most viewed videos on a specified channel. It constructs full URLs for\n",
        "  each video and returns them in a list.\n",
        "\n",
        "  Args:\n",
        "      channel_id: The YouTube channel ID (string) from which to retrieve videos.\n",
        "\n",
        "  Returns:\n",
        "      A list of strings representing the URLs of the top-viewed videos.\n",
        "  \"\"\"\n",
        "\n",
        "  request = youtube.search().list(\n",
        "    part='snippet',\n",
        "    channelId=channel_id,\n",
        "    type='video',\n",
        "    order='viewCount',\n",
        "    maxResults=10\n",
        "  )\n",
        "  video_url_list = []\n",
        "\n",
        "  response = request.execute()\n",
        "\n",
        "  for item in response['items']:\n",
        "      video_title = item['snippet']['title']\n",
        "      video_id = item['id']['videoId']\n",
        "      video_url = f'https://www.youtube.com/watch?v={video_id}'\n",
        "\n",
        "      video_url_list.append(video_url)\n",
        "\n",
        "\n",
        "  return video_url_list"
      ],
      "metadata": {
        "id": "XOLBj-qwyU7N"
      },
      "execution_count": null,
      "outputs": []
    },
    {
      "cell_type": "code",
      "source": [],
      "metadata": {
        "id": "y4ppDByqyU4H"
      },
      "execution_count": null,
      "outputs": []
    },
    {
      "cell_type": "code",
      "source": [],
      "metadata": {
        "id": "QgMT_bXTycOp"
      },
      "execution_count": null,
      "outputs": []
    },
    {
      "cell_type": "code",
      "source": [],
      "metadata": {
        "id": "tUsrsmnAycL2"
      },
      "execution_count": null,
      "outputs": []
    },
    {
      "cell_type": "code",
      "execution_count": null,
      "metadata": {
        "id": "BHMs7BUE6ern"
      },
      "outputs": [],
      "source": [
        "# YouTube video URL\n",
        "video_url = \"https://www.youtube.com/watch?v=-cJ1fSX3Nec\""
      ]
    },
    {
      "cell_type": "code",
      "execution_count": null,
      "metadata": {
        "id": "VH7DXhiBwmO4"
      },
      "outputs": [],
      "source": []
    },
    {
      "cell_type": "code",
      "execution_count": null,
      "metadata": {
        "id": "TLcVyvxJwmMS"
      },
      "outputs": [],
      "source": [
        "try:\n",
        "    wait = WebDriverWait(driver, 5)\n",
        "\n",
        "    # Open the YouTube video\n",
        "    driver.get(video_url)\n",
        "\n",
        "    wait.until(EC.visibility_of_element_located((By.TAG_NAME, 'body')))\n",
        "\n",
        "    # Scroll down to load comments\n",
        "    last_height = 0\n",
        "    while True:\n",
        "        # Scroll to the end of the page\n",
        "        #driver.find_element(By.TAG_NAME, 'body').send_keys(Keys.END)\n",
        "        # Scroll using page-manager element's scroll height\n",
        "        driver.execute_script(\"window.scrollTo(0, document.getElementById('page-manager').scrollHeight);\")\n",
        "        time.sleep(5)  # Adjust sleep time as needed\n",
        "\n",
        "        # Get the current page height\n",
        "        new_height = driver.execute_script(\"return document.getElementById('page-manager').scrollHeight\")\n",
        "\n",
        "        # Break the loop if no more content is loaded\n",
        "        if new_height == last_height:\n",
        "            break\n",
        "\n",
        "        last_height = new_height\n",
        "\n",
        "    # Wait for the comments section to be visible\n",
        "    comments_section = wait.until(EC.visibility_of_element_located((By.CSS_SELECTOR, \"ytd-comments#comments.style-scope.ytd-watch-flexy\")))\n",
        "\n",
        "    # Get the HTML content of the comments section\n",
        "    comments_html = comments_section.get_attribute('outerHTML')\n",
        "\n",
        "finally:\n",
        "    # Close the WebDriver session\n",
        "    driver.quit()\n",
        "\n"
      ]
    },
    {
      "cell_type": "code",
      "execution_count": null,
      "metadata": {
        "id": "jnHBdhQQwmJZ"
      },
      "outputs": [],
      "source": []
    },
    {
      "cell_type": "code",
      "execution_count": null,
      "metadata": {
        "colab": {
          "base_uri": "https://localhost:8080/"
        },
        "id": "5ieZY8eEqJ9D",
        "outputId": "6214d0fe-8c81-49a4-ab92-06a742161991"
      },
      "outputs": [
        {
          "output_type": "stream",
          "name": "stdout",
          "text": [
            "Comment Count: 9,327\n"
          ]
        }
      ],
      "source": [
        "soup = BeautifulSoup(comments_html, 'html.parser')\n",
        "\n",
        "# Find the span element with the specified class\n",
        "comment_count_span = soup.find('span', class_='style-scope yt-formatted-string')\n",
        "\n",
        "# Extract the text content of the span element\n",
        "comment_count = comment_count_span.text.strip()\n",
        "\n",
        "# Print or use the comment count\n",
        "print(\"Comment Count:\", comment_count)"
      ]
    },
    {
      "cell_type": "code",
      "execution_count": null,
      "metadata": {
        "colab": {
          "base_uri": "https://localhost:8080/"
        },
        "id": "fN0V7PReqJy5",
        "outputId": "322f3c05-9837-405c-b707-061e9afe9651"
      },
      "outputs": [
        {
          "output_type": "stream",
          "name": "stdout",
          "text": [
            "Number of ytd-comment-thread-renderer elements: 957\n"
          ]
        }
      ],
      "source": [
        "# Find all occurrences of the ytd-comment-thread-renderer element\n",
        "comment_thread_renderers = soup.find_all('ytd-comment-thread-renderer', class_='style-scope ytd-item-section-renderer')\n",
        "\n",
        "# Count the number of occurrences\n",
        "comment_thread_count = len(comment_thread_renderers)\n",
        "\n",
        "# Print or use the comment thread count\n",
        "print(\"Number of ytd-comment-thread-renderer elements:\", comment_thread_count)"
      ]
    },
    {
      "cell_type": "code",
      "source": [],
      "metadata": {
        "id": "pODm38fYW-oJ"
      },
      "execution_count": null,
      "outputs": []
    },
    {
      "cell_type": "code",
      "source": [
        "# Function to save comments data to a JSON file\n",
        "def save_comments_to_json(comments, filename = 'youtube_comments.json'):\n",
        "    with open(filename, 'w') as json_file:\n",
        "        json.dump(comments, json_file, indent=4)\n",
        "\n",
        "def load_comments_from_json(filename = 'youtube_comments.json'):\n",
        "    with open(filename, 'r') as json_file:\n",
        "        comments = json.load(json_file)\n",
        "    return comments"
      ],
      "metadata": {
        "id": "c01OJ8kGXAEo"
      },
      "execution_count": null,
      "outputs": []
    },
    {
      "cell_type": "code",
      "source": [],
      "metadata": {
        "id": "Lfcjiy0EXABQ"
      },
      "execution_count": null,
      "outputs": []
    },
    {
      "cell_type": "code",
      "execution_count": null,
      "metadata": {
        "id": "jVh7Bi4zs17k"
      },
      "outputs": [],
      "source": []
    },
    {
      "cell_type": "code",
      "execution_count": null,
      "metadata": {
        "id": "oxuNM3-v6iyv"
      },
      "outputs": [],
      "source": [
        "comments = []\n",
        "comments_data = load_comments_from_json()\n",
        "# Iterate through each comment thread renderer\n",
        "for comment_thread_renderer in comment_thread_renderers:\n",
        "\n",
        "    # Extracting the comment text\n",
        "    comment_text_element = comment_thread_renderer.find('yt-attributed-string', id='content-text')\n",
        "    comment_text = comment_text_element.get_text(strip=True) if comment_text_element else None\n",
        "\n",
        "    # Extracting the number of likes\n",
        "    like_count_element = comment_thread_renderer.find('span', class_='style-scope ytd-comment-engagement-bar')\n",
        "    like_count = like_count_element.get_text(strip=True) if like_count_element else None\n",
        "\n",
        "    # Extracting the number of replies\n",
        "    reply_count_element = comment_thread_renderer.find('ytd-button-renderer', id='more-replies')\n",
        "    reply_count = reply_count_element.get_text(strip=True) if reply_count_element else None\n",
        "\n",
        "    comments.append(comment_text)\n",
        "\n",
        "    print(\"Comment Text:\", comment_text)\n",
        "    print(\"Like Count:\", like_count)\n",
        "    print(\"Reply Count:\", reply_count)\n",
        "\n",
        "    print(\"\\n\\n\\n\")\n",
        "\n",
        "\n",
        "    comments_data.append(\n",
        "        {\n",
        "        \"comment_text\": comment_text,\n",
        "        \"like_count\": like_count,\n",
        "        \"reply_count\": reply_count\n",
        "\n",
        "        }\n",
        "    )\n",
        "\n",
        "\n",
        "save_comments_to_json(comments = comments_data)"
      ]
    },
    {
      "cell_type": "markdown",
      "source": [],
      "metadata": {
        "id": "0xnxn5_VBwR2"
      }
    },
    {
      "cell_type": "code",
      "source": [
        "len(load_comments_from_json())"
      ],
      "metadata": {
        "id": "HqxB4_8hWgqK",
        "outputId": "2752b835-caa2-4103-e169-9ceef67853f6",
        "colab": {
          "base_uri": "https://localhost:8080/"
        }
      },
      "execution_count": null,
      "outputs": [
        {
          "output_type": "execute_result",
          "data": {
            "text/plain": [
              "16477"
            ]
          },
          "metadata": {},
          "execution_count": 11
        }
      ]
    },
    {
      "cell_type": "code",
      "source": [],
      "metadata": {
        "id": "qTTKlLrKWgnS"
      },
      "execution_count": null,
      "outputs": []
    },
    {
      "cell_type": "code",
      "source": [],
      "metadata": {
        "id": "2PDPb4YUWgkz"
      },
      "execution_count": null,
      "outputs": []
    },
    {
      "cell_type": "code",
      "execution_count": null,
      "metadata": {
        "id": "MU5jFfivUasf"
      },
      "outputs": [],
      "source": []
    },
    {
      "cell_type": "code",
      "source": [
        "def get_video_id(video_url):\n",
        "  video_id = video_url.split('=')[1]\n",
        "\n",
        "  return video_id"
      ],
      "metadata": {
        "id": "9TPnHzmttD-H"
      },
      "execution_count": null,
      "outputs": []
    },
    {
      "cell_type": "code",
      "execution_count": null,
      "metadata": {
        "colab": {
          "base_uri": "https://localhost:8080/"
        },
        "id": "nsai3V1XfUL9",
        "outputId": "f0150c4c-c992-4b64-817a-302e0aac323d"
      },
      "outputs": [
        {
          "output_type": "stream",
          "name": "stdout",
          "text": [
            "Title: Why EVs Are Piling Up At Dealerships In The U.S.\n",
            "Thumbnail URL: <img src=\"https://i.ytimg.com/vi/cZlsZwcIgpc/maxresdefault.jpg\" alt=\"Thumbnail\">\n",
            "View count: 4492458\n",
            "Like count: 36502\n",
            "Number of Comments: 23211\n",
            "Date posted: 2023-10-16 16:26:47\n",
            "Description: In August 2023, it took about twice as long to sell an EV in the U.S. as it did the previous January. Prices of EVs are down 22% year-over-year and that's mainly driven by Tesla. About two thirds of EVs sold are Elon Musk's brand. Companies like Ford have ramped up hybrid production as demand has leveled off. While slightly more than half of consumers say EVs are the future and will eventually replace Internal Combustion Engines, less than a third of dealers say so. This all comes at a time when investments in EVs are more than ever. So what's really going on? Watch the video to learn more.\n"
          ]
        }
      ],
      "source": [
        "# Request video details\n",
        "response = youtube.videos().list(\n",
        "    part=\"snippet,statistics\",\n",
        "    id=get_video_id(video_url)\n",
        ").execute()\n",
        "\n",
        "# Extract required information\n",
        "video = response[\"items\"][0]\n",
        "title = video[\"snippet\"][\"title\"]\n",
        "thumbnail_url = video[\"snippet\"][\"thumbnails\"][\"maxres\"][\"url\"]\n",
        "view_count = video[\"statistics\"][\"viewCount\"]\n",
        "like_count = video[\"statistics\"][\"likeCount\"]\n",
        "commentCount = video[\"statistics\"][\"commentCount\"]\n",
        "date_posted = video[\"snippet\"][\"publishedAt\"]\n",
        "description = video[\"snippet\"][\"description\"]\n",
        "\n",
        "\n",
        "date_str = date_posted\n",
        "date_object = datetime.datetime.strptime(date_str, \"%Y-%m-%dT%H:%M:%SZ\")\n",
        "\n",
        "# Format the date object\n",
        "date_posted = date_object.strftime(\"%Y-%m-%d %H:%M:%S\")\n",
        "\n",
        "\n",
        "# Split the description by newlines\n",
        "paragraphs = description.split(\"\\n\")\n",
        "\n",
        "# Get the first paragraph\n",
        "first_paragraph = paragraphs[0]\n",
        "\n",
        "# Generate HTML to display the thumbnail\n",
        "thumbnail_html = f'<img src=\"{thumbnail_url}\" alt=\"Thumbnail\">'\n",
        "\n",
        "# Print the information\n",
        "print(\"Title:\", title)\n",
        "print(\"Thumbnail URL:\", thumbnail_html)\n",
        "print(\"View count:\", view_count)\n",
        "print(\"Like count:\", like_count)\n",
        "print(\"Number of Comments:\", commentCount)\n",
        "print(\"Date posted:\", date_posted)\n",
        "print(\"Description:\", first_paragraph)\n"
      ]
    },
    {
      "cell_type": "code",
      "execution_count": null,
      "metadata": {
        "id": "paihhshgdgc_"
      },
      "outputs": [],
      "source": []
    },
    {
      "cell_type": "code",
      "source": [
        "# Search for videos using the YouTube API\n",
        "def search_videos(query, youtube = youtube):\n",
        "\n",
        "  # Request video search\n",
        "  response = youtube.search().list(\n",
        "      q=query,\n",
        "      type=\"video\",\n",
        "      part=\"id,snippet\",\n",
        "      maxResults=10\n",
        "  ).execute()\n",
        "\n",
        "  # Extract video IDs from search results\n",
        "  video_ids = []\n",
        "  for item in response[\"items\"]:\n",
        "    video_ids.append(item[\"id\"][\"videoId\"])\n",
        "\n",
        "  return video_ids"
      ],
      "metadata": {
        "id": "yELZ0SdqswL8"
      },
      "execution_count": null,
      "outputs": []
    },
    {
      "cell_type": "code",
      "source": [],
      "metadata": {
        "id": "fpCKbrnPOvN1"
      },
      "execution_count": null,
      "outputs": []
    },
    {
      "cell_type": "code",
      "source": [
        "def get_video_info(video_id):\n",
        "  # Request video details\n",
        "  response = youtube.videos().list(\n",
        "      part=\"snippet,statistics\",\n",
        "      id=video_id\n",
        "  ).execute()\n",
        "\n",
        "  # Extract required information\n",
        "  video = response[\"items\"][0]\n",
        "  title = video[\"snippet\"][\"title\"]\n",
        "  view_count = video[\"statistics\"][\"viewCount\"]\n",
        "  like_count = video[\"statistics\"][\"likeCount\"]\n",
        "  commentCount = video[\"statistics\"][\"commentCount\"]\n",
        "  date_posted = video[\"snippet\"][\"publishedAt\"]\n",
        "  description = video[\"snippet\"][\"description\"]\n",
        "\n",
        "\n",
        "  date_str = date_posted\n",
        "  date_object = datetime.datetime.strptime(date_str, \"%Y-%m-%dT%H:%M:%SZ\")\n",
        "\n",
        "  # Format the date object\n",
        "  date_posted = date_object.strftime(\"%Y-%m-%d %H:%M:%S\")\n",
        "\n",
        "\n",
        "  # Split the description by newlines\n",
        "  paragraphs = description.split(\"\\n\")\n",
        "\n",
        "  # Get the first paragraph\n",
        "  first_paragraph = paragraphs[0]\n",
        "\n",
        "  extracted_video_url = f\"https://www.youtube.com/watch?v={video_id}\"\n",
        "\n",
        "\n",
        "  # Print the information\n",
        "  print(\"Title:\", title)\n",
        "  print(\"Video URL:\", extracted_video_url)\n",
        "  print(\"View count:\", view_count)\n",
        "  print(\"Like count:\", like_count)\n",
        "  print(\"Number of Comments:\", commentCount)\n",
        "  print(\"Date posted:\", date_posted)\n",
        "  print(\"Description:\", first_paragraph)\n",
        "  print(\"\\n\\n\\n\")\n"
      ],
      "metadata": {
        "id": "ZYi3Cag9OvE_"
      },
      "execution_count": null,
      "outputs": []
    },
    {
      "cell_type": "code",
      "source": [],
      "metadata": {
        "id": "0Zswn5xbOrKC"
      },
      "execution_count": null,
      "outputs": []
    },
    {
      "cell_type": "code",
      "source": [
        "search_query = \"Electric Vehicles\"\n",
        "video_ids = search_videos(search_query)\n",
        "\n",
        "\n",
        "for video_id in video_ids:\n",
        "  get_video_info(video_id)"
      ],
      "metadata": {
        "colab": {
          "base_uri": "https://localhost:8080/"
        },
        "id": "Pw36E4SFswGo",
        "outputId": "6b0c9f02-4067-45a4-db93-2889af7be05c"
      },
      "execution_count": null,
      "outputs": [
        {
          "output_type": "stream",
          "name": "stdout",
          "text": [
            "Title: Should I Get An Electric Car?\n",
            "Video URL: https://www.youtube.com/watch?v=vXjs17ydRgI\n",
            "View count: 40707\n",
            "Like count: 2661\n",
            "Number of Comments: 574\n",
            "Date posted: 2024-04-10 15:31:46\n",
            "Description: Check out Insectarium on PBS Terra: https://www.youtube.com/watch?v=jowk_A71-EU\n",
            "\n",
            "\n",
            "\n",
            "\n",
            "Title: Used electric cars. The FIVE golden buying rules | Electrifying\n",
            "Video URL: https://www.youtube.com/watch?v=aIYyycWQc34\n",
            "View count: 13639\n",
            "Like count: 682\n",
            "Number of Comments: 96\n",
            "Date posted: 2024-04-09 15:30:00\n",
            "Description: #usedelectric #buyingcars #electriccars\n",
            "\n",
            "\n",
            "\n",
            "\n",
            "Title: Are used EVs a rip-off?!\n",
            "Video URL: https://www.youtube.com/watch?v=Ur47okU3eUk\n",
            "View count: 350718\n",
            "Like count: 13192\n",
            "Number of Comments: 1927\n",
            "Date posted: 2024-04-10 10:05:09\n",
            "Description: Sell your car for free with Carwow: https://bit.ly/Sell-Your-Car-For-Free-1004\n",
            "\n",
            "\n",
            "\n",
            "\n",
            "Title: Why Hybrids Are Beating EVs In The U.S.\n",
            "Video URL: https://www.youtube.com/watch?v=R_J_T7TWbXY\n",
            "View count: 633530\n",
            "Like count: 9340\n",
            "Number of Comments: 2979\n",
            "Date posted: 2024-04-02 16:00:20\n",
            "Description: When Japanese automaker Toyota first brought hybrids to the U.S. in the early 2000s, they were at the cutting edge of green transportation. But soon after, EVs stole the spotlight. Elon Musk-led Tesla disrupted the auto industry and nearly every major legacy automaker scrambled to take part in the coming EV revolution. With almost no fully electric vehicles, the once vanguard Toyota looked behind the times. However, as of early 2024, EV sales are leveling off and hybrids are making a comeback. Automakers such as Ford, BMW, Mercedes, Hyundai and General Motors are all either pulling back on EV production or boosting the manufacture of the humble hybrid. The vast majority of hybrids are standard ones - with an engine and backup battery. But plug-in hybrids are a growing category. Automakers such as GM are reintroducing them to North America.\n",
            "\n",
            "\n",
            "\n",
            "\n",
            "Title: Honest Government Ad | Electric Vehicles\n",
            "Video URL: https://www.youtube.com/watch?v=fLflYkgnNBY\n",
            "View count: 3140140\n",
            "Like count: 141825\n",
            "Number of Comments: 13341\n",
            "Date posted: 2021-04-24 04:05:53\n",
            "Description: The Australien Government has made an ad about its Electric Vehicle policy, and it's surprisingly honest and informative.\n",
            "\n",
            "\n",
            "\n",
            "\n",
            "Title: Electric Cars: Inconvenient Facts, Part One\n",
            "Video URL: https://www.youtube.com/watch?v=z2HneqfZGsM\n",
            "View count: 1944778\n",
            "Like count: 96314\n",
            "Number of Comments: 14415\n",
            "Date posted: 2022-11-01 12:30:24\n",
            "Description: Politicians and activists who want all cars to go electric are guilty of magical thinking.  \n",
            "\n",
            "\n",
            "\n",
            "\n",
            "Title: Save money on tyres & my perfect Electric Car ! | MW180\n",
            "Video URL: https://www.youtube.com/watch?v=o17jzHL_Wto\n",
            "View count: 3838\n",
            "Like count: 518\n",
            "Number of Comments: 203\n",
            "Date posted: 2024-04-10 17:00:28\n",
            "Description: This week I help you save money on tyres and I've found my perfect electric car !\n",
            "\n",
            "\n",
            "\n",
            "\n",
            "Title: The Cheapest EVs You Can Buy Today | Most Affordable Electric Cars & SUVs for 2024\n",
            "Video URL: https://www.youtube.com/watch?v=06Q-BbvA48Q\n",
            "View count: 80327\n",
            "Like count: 568\n",
            "Number of Comments: 50\n",
            "Date posted: 2024-02-08 17:00:01\n",
            "Description: While electric vehicles, in general, remain pricier than their internal combustion-engine counterparts, there are still a decent number of affordable models to choose from — some of which may surprise you. In this video, Edmunds’ Nick Yekikian goes through the cheapest EVs currently available!\n",
            "\n",
            "\n",
            "\n",
            "\n",
            "Title: How an Electric Car Works? Its Parts & Functions [Explained]\n",
            "Video URL: https://www.youtube.com/watch?v=tJfERzrG-D8\n",
            "View count: 2260407\n",
            "Like count: 28614\n",
            "Number of Comments: 673\n",
            "Date posted: 2021-10-25 03:30:07\n",
            "Description: How does an Electric Car Work? Its Parts & Functions Explained\n",
            "\n",
            "\n",
            "\n",
            "\n",
            "Title: Why EV Sales Are Falling | CNBC Marathon\n",
            "Video URL: https://www.youtube.com/watch?v=oDFS6gfDV7k\n",
            "View count: 562412\n",
            "Like count: 6200\n",
            "Number of Comments: 2244\n",
            "Date posted: 2024-03-02 17:00:37\n",
            "Description: CNBC Marathon explores the decline of electric vehicle sales and its implications.\n",
            "\n",
            "\n",
            "\n",
            "\n"
          ]
        }
      ]
    },
    {
      "cell_type": "code",
      "execution_count": null,
      "metadata": {
        "id": "oJT4gLq0PU1z"
      },
      "outputs": [],
      "source": []
    },
    {
      "cell_type": "code",
      "source": [],
      "metadata": {
        "id": "7RSC_pdtQ99W"
      },
      "execution_count": null,
      "outputs": []
    }
  ],
  "metadata": {
    "colab": {
      "provenance": [],
      "machine_shape": "hm",
      "include_colab_link": true
    },
    "kernelspec": {
      "display_name": "Python 3",
      "name": "python3"
    },
    "language_info": {
      "codemirror_mode": {
        "name": "ipython",
        "version": 3
      },
      "file_extension": ".py",
      "mimetype": "text/x-python",
      "name": "python",
      "nbconvert_exporter": "python",
      "pygments_lexer": "ipython3",
      "version": "3.12.1"
    }
  },
  "nbformat": 4,
  "nbformat_minor": 0
}