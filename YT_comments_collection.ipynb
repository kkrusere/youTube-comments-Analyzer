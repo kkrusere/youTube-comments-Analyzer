{
  "cells": [
    {
      "cell_type": "markdown",
      "metadata": {
        "id": "view-in-github",
        "colab_type": "text"
      },
      "source": [
        "<a href=\"https://colab.research.google.com/github/kkrusere/youTube-comments-Analyzer/blob/main/YT_comments_collection.ipynb\" target=\"_parent\"><img src=\"https://colab.research.google.com/assets/colab-badge.svg\" alt=\"Open In Colab\"/></a>"
      ]
    },
    {
      "cell_type": "code",
      "execution_count": null,
      "metadata": {
        "id": "eU0xXXoBQzor"
      },
      "outputs": [],
      "source": [
        "%%shell\n",
        "sudo apt -y update\n",
        "sudo apt install -y wget curl unzip\n",
        "wget http://archive.ubuntu.com/ubuntu/pool/main/libu/libu2f-host/libu2f-udev_1.1.4-1_all.deb\n",
        "dpkg -i libu2f-udev_1.1.4-1_all.deb\n",
        "wget https://dl.google.com/linux/direct/google-chrome-stable_current_amd64.deb\n",
        "dpkg -i google-chrome-stable_current_amd64.deb\n",
        "\n",
        "wget -N https://edgedl.me.gvt1.com/edgedl/chrome/chrome-for-testing/118.0.5993.70/linux64/chromedriver-linux64.zip -P /tmp/\n",
        "unzip -o /tmp/chromedriver-linux64.zip -d /tmp/\n",
        "chmod +x /tmp/chromedriver-linux64/chromedriver\n",
        "mv /tmp/chromedriver-linux64/chromedriver /usr/local/bin/chromedriver\n",
        "pip install selenium chromedriver_autoinstaller"
      ]
    },
    {
      "cell_type": "code",
      "source": [
        "!pip install peft\n",
        "!pip install datasets\n",
        "!pip install rouge-score"
      ],
      "metadata": {
        "id": "2iAPTc9BExMh"
      },
      "execution_count": null,
      "outputs": []
    },
    {
      "cell_type": "code",
      "source": [],
      "metadata": {
        "id": "EXC_Unt0ExGz"
      },
      "execution_count": 2,
      "outputs": []
    },
    {
      "cell_type": "code",
      "execution_count": 3,
      "metadata": {
        "id": "lo_Rt1YYX9U5"
      },
      "outputs": [],
      "source": [
        "import os\n",
        "from google.colab import drive"
      ]
    },
    {
      "cell_type": "code",
      "execution_count": 4,
      "metadata": {
        "colab": {
          "base_uri": "https://localhost:8080/"
        },
        "id": "TqMUbwZnX_vZ",
        "outputId": "e1548f20-e683-49f6-8219-c9689c4534df"
      },
      "outputs": [
        {
          "output_type": "stream",
          "name": "stdout",
          "text": [
            "Mounted at /content/drive\n",
            "/content/drive/MyDrive/NLP_Data\n"
          ]
        }
      ],
      "source": [
        "#mounting google drive\n",
        "drive.mount('/content/drive')\n",
        "\n",
        "########################################\n",
        "\n",
        "#changing the working directory\n",
        "os.chdir(\"/content/drive/MyDrive/NLP_Data\")\n",
        "\n",
        "!pwd\n"
      ]
    },
    {
      "cell_type": "code",
      "execution_count": 5,
      "metadata": {
        "id": "ql3oOw_zRdDb"
      },
      "outputs": [],
      "source": [
        "import sys\n",
        "sys.path.insert(0,'/usr/lib/chromium-browser/chromedriver')\n",
        "\n",
        "\n",
        "from selenium import webdriver\n",
        "import chromedriver_autoinstaller\n",
        "from selenium.webdriver.common.by import By\n",
        "from selenium.webdriver.common.keys import Keys\n",
        "from selenium.webdriver.support.ui import WebDriverWait\n",
        "from selenium.webdriver.support import expected_conditions as EC\n",
        "from selenium.webdriver.common.action_chains import ActionChains\n",
        "from selenium.webdriver.chrome.service import Service\n",
        "from selenium.common.exceptions import TimeoutException, ElementNotInteractableException\n",
        "from selenium.webdriver.common.action_chains import ActionChains\n",
        "\n",
        "import random\n",
        "import time\n",
        "\n",
        "\n",
        "chrome_options = webdriver.ChromeOptions()\n",
        "chrome_options.add_argument('--headless')\n",
        "chrome_options.add_argument('--no-sandbox')\n",
        "chrome_options.add_argument('--disable-dev-shm-usage')\n",
        "chromedriver_autoinstaller.install()\n",
        "driver = webdriver.Chrome(options=chrome_options)\n",
        "\n",
        "\n",
        "from bs4 import BeautifulSoup\n",
        "import requests\n",
        "import json\n",
        "\n",
        "import pandas as pd\n",
        "import numpy as np\n",
        "\n",
        "import operator\n",
        "from google.colab import userdata\n",
        "api_key = userdata.get('YouTubeAPI_key')\n",
        "\n",
        "import googleapiclient.discovery\n",
        "from googleapiclient.discovery import build\n",
        "import datetime\n",
        "\n",
        "from datasets import Dataset\n",
        "\n",
        "from sklearn.model_selection import train_test_split\n",
        "from datasets import Dataset, load_metric\n",
        "from transformers import BartTokenizer, BartForConditionalGeneration, TrainingArguments, Trainer\n",
        "from peft import LoraConfig, get_peft_model\n",
        "\n",
        "import torch\n",
        "import re\n",
        "import string"
      ]
    },
    {
      "cell_type": "code",
      "execution_count": 5,
      "metadata": {
        "id": "ps6xt7G1EfGL"
      },
      "outputs": [],
      "source": []
    },
    {
      "cell_type": "markdown",
      "metadata": {
        "id": "yMLm81KQ27EV"
      },
      "source": [
        "This Jupyter Notebook is designed to collect YouTube video comments from various videos. These comments will be used for creating, training, and validating a Sentiment Analysis model. The videos from which the comments were collected were chosen with no particular criteria other than being from my favorite channels and videos.\n",
        "\n",
        "The process of collecting comments makes use of the YouTube API, Selenium, BeautifulSoup, and other custom functions.\n",
        "\n",
        "The process:\n",
        "\n",
        "1. Create a list of favorite channels.\n",
        "2. Use the YouTube API to select the top 10 most-watched videos from each channel and store them in a master list of videos from which we will collect comments.\n",
        "3. For each video in the master video list, use Selenium and BeautifulSoup to collect the comments and store them in a pandas DataFrame.\n",
        "4. Clean and sanitize the comments in the DataFrame and prepare the data for Sentiment Analysis."
      ]
    },
    {
      "cell_type": "code",
      "execution_count": 5,
      "metadata": {
        "id": "nNpaCEhz2vCm"
      },
      "outputs": [],
      "source": []
    },
    {
      "cell_type": "code",
      "execution_count": 6,
      "metadata": {
        "id": "sQISFC8_errB"
      },
      "outputs": [],
      "source": [
        "# Below are functions for reading a writting json file for the current working directory\n",
        "\n",
        "def save_to_json(data, filename):\n",
        "    with open(filename, 'w') as json_file:\n",
        "        json.dump(data, json_file, indent=4)\n",
        "\n",
        "def load_from_json(filename):\n",
        "    with open(filename, 'r') as json_file:\n",
        "        comments = json.load(json_file)\n",
        "    return comments"
      ]
    },
    {
      "cell_type": "code",
      "execution_count": 6,
      "metadata": {
        "id": "XE90kVwSerj-"
      },
      "outputs": [],
      "source": []
    },
    {
      "cell_type": "code",
      "execution_count": 7,
      "metadata": {
        "id": "hf3_-dFZdFb3"
      },
      "outputs": [],
      "source": [
        "# Function to convert string values containing suffixes 'K', 'M', or 'B' to integers and extract numeric values.\n",
        "def convert_to_int(value):\n",
        "  \"\"\"\n",
        "    - If the value is NaN or an empty string, return 0.\n",
        "    - If the value is a string:\n",
        "      - Extract numeric digits from the string.\n",
        "      - Convert the extracted digits to an integer.\n",
        "      - If the string contains 'K', multiply the number by 1,000.\n",
        "      - If the string contains 'M', multiply the number by 1,000,000.\n",
        "      - If the string contains 'B', multiply the number by 1,000,000,000.\n",
        "    - Return the converted integer value.\n",
        "\n",
        "  \"\"\"\n",
        "  if pd.isna(value) or value == '':\n",
        "      return 0\n",
        "  if isinstance(value, str):\n",
        "      # Extract numbers and convert them\n",
        "      num = re.findall(r'\\d+', value)\n",
        "      if not num:\n",
        "          return 0\n",
        "      num = ''.join(num)\n",
        "      if 'K' in value:\n",
        "          return int(float(num) * 1000)\n",
        "      if 'M' in value:\n",
        "          return int(float(num) * 1000000)\n",
        "      if 'B' in value:\n",
        "          return int(float(num) * 1000000000)\n",
        "      return int(num)\n",
        "  return int(value)"
      ]
    },
    {
      "cell_type": "code",
      "execution_count": 7,
      "metadata": {
        "id": "p3GlBdDqdFJJ"
      },
      "outputs": [],
      "source": []
    },
    {
      "cell_type": "code",
      "execution_count": 8,
      "metadata": {
        "id": "aB1ExA1XYQzk"
      },
      "outputs": [],
      "source": [
        "# # Reading the channel list from the saved json file\n",
        "# json_data = load_from_json(\"channels.json\")\n",
        "# channel_list = json_data['channels']"
      ]
    },
    {
      "cell_type": "code",
      "execution_count": 8,
      "metadata": {
        "id": "qvDeptN8fs7E"
      },
      "outputs": [],
      "source": []
    },
    {
      "cell_type": "code",
      "source": [
        "# Initialize YouTube API client\n",
        "def initialize_youtube_api(api_key):\n",
        "    return build(\"youtube\", \"v3\", developerKey=api_key)\n",
        "\n",
        "def init_webdriver():\n",
        "    \"\"\"Initializes and returns a Chrome WebDriver instance with options.\"\"\"\n",
        "    try:\n",
        "        chrome_options = webdriver.ChromeOptions()\n",
        "        chrome_options.add_argument('--headless')\n",
        "        chrome_options.add_argument('--no-sandbox')\n",
        "        chrome_options.add_argument('--disable-dev-shm-usage')\n",
        "        chromedriver_autoinstaller.install()\n",
        "        driver = webdriver.Chrome(options=chrome_options)\n",
        "\n",
        "        print(\"WebDriver initialized successfully\")  # Confirm initialization\n",
        "        return driver\n",
        "    except Exception as e:\n",
        "        print(f\"Failed to initialize WebDriver: {e}\")\n",
        "        raise\n",
        "\n",
        "def close_webdriver(driver):\n",
        "    \"\"\"Closes the provided WebDriver instance.\"\"\"\n",
        "    print(\"WebDriver successfully closed\")\n",
        "    driver.quit()\n"
      ],
      "metadata": {
        "id": "VFze5_JN7rTy"
      },
      "execution_count": 9,
      "outputs": []
    },
    {
      "cell_type": "code",
      "source": [],
      "metadata": {
        "id": "aX9K9LUs9vuX"
      },
      "execution_count": 9,
      "outputs": []
    },
    {
      "cell_type": "code",
      "source": [
        "# The function will accept a single parameter, the video_id.\n",
        "# It will construct the YouTube URL using the standard base URL and the provided video_id.\n",
        "# The completed URL will be returned.\n",
        "\n",
        "def get_youtube_url(video_id):\n",
        "  \"\"\"\n",
        "  Constructs a YouTube URL from a given video ID.\n",
        "\n",
        "  Args:\n",
        "      video_id: The unique identifier for a YouTube video.\n",
        "\n",
        "  Returns:\n",
        "      The full URL of the YouTube video.\n",
        "  \"\"\"\n",
        "\n",
        "  video_url = f\"https://www.youtube.com/watch?v={video_id}\"\n",
        "\n",
        "  return video_url\n"
      ],
      "metadata": {
        "id": "2cgZlIy-9vrA"
      },
      "execution_count": 10,
      "outputs": []
    },
    {
      "cell_type": "code",
      "source": [],
      "metadata": {
        "id": "ULTKqAEy7rO1"
      },
      "execution_count": 10,
      "outputs": []
    },
    {
      "cell_type": "code",
      "execution_count": 11,
      "metadata": {
        "id": "7IWguQ9Wn1Cu"
      },
      "outputs": [],
      "source": [
        "def get_comments_html(video_url, driver):\n",
        "    \"\"\"\n",
        "    Fetches the HTML content of the comments section from a YouTube video.\n",
        "\n",
        "    This function initializes a WebDriver instance to open the provided YouTube video URL,\n",
        "    scrolls down to load the comments section, and retrieves the HTML content of the loaded\n",
        "    comments section.\n",
        "\n",
        "    Args:\n",
        "        video_url (str): The URL of the YouTube video from which to fetch comments.\n",
        "        driver: An initialized WebDriver instance (from Selenium).\n",
        "\n",
        "    Returns:\n",
        "        str: The HTML content of the comments section.\n",
        "\n",
        "    Raises:\n",
        "        TimeoutException: If the comments section does not load within the specified time.\n",
        "    \"\"\"\n",
        "\n",
        "    # Wait until the comments section is loaded\n",
        "    WebDriverWait(driver, 10).until(EC.presence_of_element_located((By.CSS_SELECTOR, 'ytd-comments')))\n",
        "\n",
        "    # Scroll to the comments section to load initial comments\n",
        "    driver.execute_script(\"window.scrollTo(0, document.documentElement.scrollHeight);\")\n",
        "\n",
        "    # Set initial values for dynamic loading\n",
        "    last_height = driver.execute_script(\"return document.documentElement.scrollHeight\")\n",
        "    scroll_pause_time = 2  # Time to wait between scrolls\n",
        "    max_scrolls = 100  # Increase the max number of scrolls to ensure all comments are loaded\n",
        "    scroll_count = 0\n",
        "\n",
        "    while scroll_count < max_scrolls:\n",
        "        # Scroll down to the bottom\n",
        "        driver.execute_script(\"window.scrollTo(0, document.documentElement.scrollHeight);\")\n",
        "\n",
        "        # Wait for new comments to load dynamically\n",
        "        time.sleep(scroll_pause_time)  # Simple wait to allow comments to load\n",
        "\n",
        "        # Check the new scroll height and compare it with the last height\n",
        "        new_height = driver.execute_script(\"return document.documentElement.scrollHeight\")\n",
        "        if new_height == last_height:\n",
        "            # If the height hasn't changed, try one more scroll to ensure all comments are loaded\n",
        "            time.sleep(scroll_pause_time)\n",
        "            new_height = driver.execute_script(\"return document.documentElement.scrollHeight\")\n",
        "            if new_height == last_height:\n",
        "                # If the height still hasn't changed, we've reached the end\n",
        "                print(\"All comments have been loaded.\")\n",
        "                break\n",
        "\n",
        "        last_height = new_height\n",
        "        scroll_count += 1\n",
        "\n",
        "    # Get the HTML of the comments section\n",
        "    comments_html = driver.page_source\n",
        "\n",
        "    # Close the driver\n",
        "    driver.quit()\n",
        "\n",
        "    return comments_html"
      ]
    },
    {
      "cell_type": "code",
      "source": [],
      "metadata": {
        "id": "DaAB_9fT-Ivv"
      },
      "execution_count": 11,
      "outputs": []
    },
    {
      "cell_type": "code",
      "source": [
        "def get_comment_thread_renderers(comments_html):\n",
        "    \"\"\"\n",
        "    Parses the provided HTML content to extract YouTube comment threads and their counts.\n",
        "\n",
        "    This function uses BeautifulSoup to parse the HTML content of a YouTube video's comments section.\n",
        "    It finds and prints the number of comments and the number of comment thread renderers (`ytd-comment-thread-renderer`).\n",
        "    It then returns a list of all the `ytd-comment-thread-renderer` elements found in the HTML.\n",
        "\n",
        "    Args:\n",
        "        comments_html (str): The HTML content of the comments section of a YouTube video.\n",
        "\n",
        "    Returns:\n",
        "        list: A list of `ytd-comment-thread-renderer` elements found in the HTML.\n",
        "    \"\"\"\n",
        "\n",
        "    soup = BeautifulSoup(comments_html, 'html.parser')\n",
        "\n",
        "    # Find the span element with the specified class\n",
        "    comment_count_span = soup.find('span', class_='style-scope yt-formatted-string')\n",
        "\n",
        "    # Extract the text content of the span element\n",
        "    comment_count = comment_count_span.text.strip()\n",
        "\n",
        "    # # Print or use the comment count\n",
        "    # print(\"Comment Count:\", comment_count)\n",
        "\n",
        "    # Find all occurrences of the ytd-comment-thread-renderer element\n",
        "    comment_thread_renderers = soup.find_all('ytd-comment-thread-renderer', class_='style-scope ytd-item-section-renderer')\n",
        "\n",
        "    # Count the number of occurrences\n",
        "    comment_thread_count = len(comment_thread_renderers)\n",
        "\n",
        "    # # Print or use the comment thread count\n",
        "    # print(\"Number of ytd-comment-thread-renderer elements:\", comment_thread_count)\n",
        "\n",
        "    return comment_thread_renderers"
      ],
      "metadata": {
        "id": "nQce9ZdW-Iso"
      },
      "execution_count": 12,
      "outputs": []
    },
    {
      "cell_type": "code",
      "source": [],
      "metadata": {
        "id": "BX2dDo1f-QA9"
      },
      "execution_count": 12,
      "outputs": []
    },
    {
      "cell_type": "code",
      "source": [
        "def get_comments(comment_thread_renderers):\n",
        "    comments = list()\n",
        "    comments_data = list()\n",
        "    # Iterate through each comment thread renderer\n",
        "    for comment_thread_renderer in comment_thread_renderers:\n",
        "\n",
        "        # Extracting the comment text\n",
        "        comment_text_element = comment_thread_renderer.find('yt-attributed-string', id='content-text')\n",
        "        comment_text = comment_text_element.get_text(strip=True) if comment_text_element else None\n",
        "\n",
        "        # Extracting the number of likes\n",
        "        like_count_element = comment_thread_renderer.find('span', class_='style-scope ytd-comment-engagement-bar')\n",
        "        like_count = like_count_element.get_text(strip=True) if like_count_element else None\n",
        "\n",
        "        # Extracting the number of replies\n",
        "        reply_count_element = comment_thread_renderer.find('ytd-button-renderer', id='more-replies')\n",
        "        reply_count = reply_count_element.get_text(strip=True) if reply_count_element else None\n",
        "\n",
        "        comments.append(comment_text)\n",
        "\n",
        "        comments_data.append(\n",
        "            {\n",
        "            \"comment_text\": comment_text,\n",
        "            \"like_count\": like_count,\n",
        "            \"reply_count\": reply_count\n",
        "\n",
        "            }\n",
        "        )\n",
        "\n",
        "    return comments, comments_data\n"
      ],
      "metadata": {
        "id": "1qdrNHsP-RHy"
      },
      "execution_count": 13,
      "outputs": []
    },
    {
      "cell_type": "code",
      "source": [],
      "metadata": {
        "id": "eAoOeocICNqN"
      },
      "execution_count": 13,
      "outputs": []
    },
    {
      "cell_type": "code",
      "source": [
        "def clean_description(description_data, model_path=\"./fine-tuned-lora-model\"):\n",
        "    \"\"\"\n",
        "    Cleans and summarizes YouTube video descriptions using a fine-tuned LoRA model.\n",
        "\n",
        "    Args:\n",
        "        description_data: A list of dictionaries containing video details (channel_name, video_title, video_description).\n",
        "        model_path: The path to the fine-tuned LoRA model.\n",
        "\n",
        "    Returns:\n",
        "        A list of cleaned and summarized video descriptions.\n",
        "    \"\"\"\n",
        "    # Configure LoRA\n",
        "    lora_config = LoraConfig(\n",
        "        r=16,  # Rank of the LoRA matrix\n",
        "        lora_alpha=32,  # Scaling factor for LoRA\n",
        "        target_modules=[\"q_proj\", \"v_proj\"],  # Target attention layers to apply LoRA\n",
        "        lora_dropout=0.05,  # Dropout rate for LoRA\n",
        "        bias=\"none\",  # No bias\n",
        "    )\n",
        "\n",
        "    # Preparing input for inference\n",
        "    formatted_inputs = [\n",
        "        f\"Channel: {item['channel_name']}, Title: {item['video_title']}, Description: {item['video_description']}\"\n",
        "        for item in description_data\n",
        "    ]\n",
        "\n",
        "\n",
        "    # Loading the fine-tuned LoRA model and tokenizer\n",
        "    model = BartForConditionalGeneration.from_pretrained(model_path)\n",
        "\n",
        "    # # Tokenize input\n",
        "    tokenizer = BartTokenizer.from_pretrained(model_path)\n",
        "    inputs = tokenizer(formatted_inputs, max_length=512, return_tensors=\"pt\", truncation=True, padding=\"max_length\")\n",
        "\n",
        "    # Move inputs to the same device as the model\n",
        "    device = torch.device(\"cuda\" if torch.cuda.is_available() else \"cpu\")\n",
        "    inputs = {key: value.to(device) for key, value in inputs.items()}\n",
        "\n",
        "\n",
        "    # LoRA configuration applied to the model\n",
        "    lora_model = get_peft_model(model, lora_config)\n",
        "    lora_model.to(device)\n",
        "\n",
        "    # Generate Cleaned Descriptions\n",
        "    with torch.no_grad():\n",
        "        outputs = lora_model.generate(\n",
        "            input_ids=inputs[\"input_ids\"],\n",
        "            attention_mask=inputs[\"attention_mask\"],\n",
        "            max_length=128,\n",
        "            num_beams=4,\n",
        "            early_stopping=True\n",
        "        )\n",
        "\n",
        "    # Decode and print summaries\n",
        "    cleaned_descriptions = tokenizer.batch_decode(outputs, skip_special_tokens=True)\n",
        "\n",
        "    return cleaned_descriptions[0]"
      ],
      "metadata": {
        "id": "QjP0LbMbEF1U"
      },
      "execution_count": 14,
      "outputs": []
    },
    {
      "cell_type": "code",
      "source": [],
      "metadata": {
        "id": "ofSGBkwcEFxa"
      },
      "execution_count": 14,
      "outputs": []
    },
    {
      "cell_type": "code",
      "source": [],
      "metadata": {
        "id": "NTIRmf_jEFtg"
      },
      "execution_count": 14,
      "outputs": []
    },
    {
      "cell_type": "code",
      "source": [
        "# Retrieve and display video comments\n",
        "def get_video_comments(video_url, driver):\n",
        "    \"\"\"\n",
        "    Retrieves comments from the provided YouTube video URL.\n",
        "\n",
        "    Args:\n",
        "        video_url (str): The URL of the YouTube video.\n",
        "\n",
        "    Returns:\n",
        "        list: A list of comments and their data.\n",
        "    \"\"\"\n",
        "    #print(\"\\nwe are now in the get_video_comments function\\n\")\n",
        "    comments_html = get_comments_html(video_url, driver)  # Get HTML of comments section\n",
        "    comment_thread_renderers = get_comment_thread_renderers(comments_html)  # Extract comment renderers\n",
        "    _, comments_data = get_comments(comment_thread_renderers)  # Extract comment data\n",
        "\n",
        "    return comments_data"
      ],
      "metadata": {
        "id": "mNP_Z8zdCMWn"
      },
      "execution_count": 15,
      "outputs": []
    },
    {
      "cell_type": "code",
      "source": [],
      "metadata": {
        "id": "UimTMwbz-REa"
      },
      "execution_count": 15,
      "outputs": []
    },
    {
      "cell_type": "code",
      "source": [
        "def get_video_data(video_id):\n",
        "    \"\"\"Fetches video data from YouTube given a video ID.\n",
        "\n",
        "    Args:\n",
        "        video_id (str): The ID of the YouTube video to fetch data for.\n",
        "\n",
        "    Returns:\n",
        "        dict: A dictionary containing the video data with the following keys:\n",
        "            - 'channel_name': The name of the channel that uploaded the video.\n",
        "            - 'video_title': The title of the video.\n",
        "            - 'video_description': The description of the video.\n",
        "\n",
        "    Raises:\n",
        "        Exception: If there is an error accessing or processing the video data.\n",
        "    \"\"\"\n",
        "    driver = init_webdriver()\n",
        "    video_url = f\"https://www.youtube.com/watch?v={video_id}\"\n",
        "    video_data = {}\n",
        "\n",
        "    try:\n",
        "        driver.get(video_url)\n",
        "\n",
        "        try:\n",
        "            # Wait for the bottom-row element to be present\n",
        "            bottom_row = WebDriverWait(driver, 20).until(\n",
        "                EC.presence_of_element_located((By.XPATH, '//*[@id=\"bottom-row\"]'))\n",
        "            )\n",
        "\n",
        "            # Locate and click the expand button if it exists\n",
        "            try:\n",
        "                expand_button = WebDriverWait(driver, 10).until(\n",
        "                    EC.element_to_be_clickable((By.XPATH, '/html/body/ytd-app/div[1]/ytd-page-manager/ytd-watch-flexy/div[5]/div[1]/div/div[2]/ytd-watch-metadata/div/div[4]/div[1]/div/ytd-text-inline-expander/tp-yt-paper-button[1]'))\n",
        "                )\n",
        "                expand_button.click()\n",
        "            except TimeoutException:\n",
        "                pass  # Ignore if the expand button is not found\n",
        "\n",
        "            # Wait for elements to be visible and extract data\n",
        "            expanded_description = WebDriverWait(driver, 10).until(\n",
        "                EC.visibility_of_element_located((By.ID, 'description-inline-expander'))\n",
        "            )\n",
        "            title_element = WebDriverWait(driver, 10).until(\n",
        "                EC.presence_of_element_located((By.XPATH, '//h1[@class=\"style-scope ytd-watch-metadata\"]//yt-formatted-string'))\n",
        "            )\n",
        "            channel_name_element = WebDriverWait(driver, 10).until(\n",
        "                EC.presence_of_element_located((By.XPATH, '//ytd-channel-name[@id=\"channel-name\"]//yt-formatted-string//a'))\n",
        "            )\n",
        "\n",
        "            video_data = {\n",
        "                'channel_name': channel_name_element.text,\n",
        "                'video_title': title_element.text,\n",
        "                'video_description': expanded_description.text\n",
        "            }\n",
        "            # print(\"\\nwe got the raw video_data\")\n",
        "            temp_list = list()\n",
        "            temp_list.append(video_data)\n",
        "            cleaned_description = clean_description(temp_list)\n",
        "            video_data['video_description'] = cleaned_description\n",
        "\n",
        "            comments_data = get_video_comments(video_url, driver)\n",
        "            video_data['comments'] = comments_data\n",
        "\n",
        "        except TimeoutException:\n",
        "            print(f\"Error processing {video_url}: Elements not found within timeout.\")\n",
        "\n",
        "    except Exception as e:\n",
        "        print(f\"Error processing {video_url}: {e}\")\n",
        "\n",
        "\n",
        "\n",
        "    finally:\n",
        "        # Close the browser when done\n",
        "        close_webdriver(driver)\n",
        "\n",
        "    return video_data\n",
        "\n",
        "\n"
      ],
      "metadata": {
        "id": "gwxMow8r_K5K"
      },
      "execution_count": 16,
      "outputs": []
    },
    {
      "cell_type": "code",
      "source": [],
      "metadata": {
        "id": "HFYHQuwP_K0w"
      },
      "execution_count": 16,
      "outputs": []
    },
    {
      "cell_type": "code",
      "source": [
        "def read_and_shuffle_video_ids(filename):\n",
        "  \"\"\"Reads video IDs from a JSON file and returns a shuffled list.\"\"\"\n",
        "  video_id_list = load_from_json(filename)\n",
        "  random.shuffle(video_id_list)\n",
        "  return video_id_list\n",
        "\n",
        "\n",
        "video_id_list = read_and_shuffle_video_ids(\"video_Id_list.json\")\n"
      ],
      "metadata": {
        "id": "IErfKmtR_KrW"
      },
      "execution_count": 17,
      "outputs": []
    },
    {
      "cell_type": "code",
      "source": [
        "len(video_id_list)"
      ],
      "metadata": {
        "colab": {
          "base_uri": "https://localhost:8080/"
        },
        "id": "2WSG6ZCQ_Kn_",
        "outputId": "60535e8b-3950-429f-e108-53b848c4c73c"
      },
      "execution_count": 18,
      "outputs": [
        {
          "output_type": "execute_result",
          "data": {
            "text/plain": [
              "1674"
            ]
          },
          "metadata": {},
          "execution_count": 18
        }
      ]
    },
    {
      "cell_type": "code",
      "source": [
        "video_id = video_id_list[5]\n",
        "video_id"
      ],
      "metadata": {
        "colab": {
          "base_uri": "https://localhost:8080/",
          "height": 35
        },
        "id": "06lVL0OsAYp-",
        "outputId": "b2e62aec-f2cb-411d-f89d-74d790dae21c"
      },
      "execution_count": 19,
      "outputs": [
        {
          "output_type": "execute_result",
          "data": {
            "text/plain": [
              "'f7NpnBPtilI'"
            ],
            "application/vnd.google.colaboratory.intrinsic+json": {
              "type": "string"
            }
          },
          "metadata": {},
          "execution_count": 19
        }
      ]
    },
    {
      "cell_type": "code",
      "source": [
        "# Test\n",
        "video_data = get_video_data(video_id)\n",
        "print(video_data)\n"
      ],
      "metadata": {
        "id": "VrR686pIAiTJ",
        "colab": {
          "base_uri": "https://localhost:8080/",
          "height": 354,
          "referenced_widgets": [
            "32d4266c58c842e589eab17df138a29a",
            "35dfa583a4794edba2436c0dbc8e6d26",
            "79e4b13776564d9fb03aa639b7e2ff85",
            "f2bdb16ae774468aac3fea89414fd310",
            "6f45421e722d4682aeac8584c2d526ec",
            "3079de68b1774d24a023e2da9faae3a1",
            "846f858cc18c42c9bc4c80a4704ed840",
            "acb8db7895824910af4e96abac0ecfc0",
            "63cf0399a6264a71a1951c7b4fec9306",
            "7cba138ee23b4f92ad79efc319b8712e",
            "a8010f5134b94c378aba5ba9885291d7",
            "b2aba561624a4770b5f76af9e306fee1",
            "c8ddaa672d1d469093d388304436965c",
            "73da0ff4852944ae9da7e013853a21df",
            "4521a626bdbc4318beebee6a1e8fc67f",
            "847c2b7f6370427abc479cae4f0f8c92",
            "6657b3ecca7c41d697527fba768e6d51",
            "e32bb188f6cd48fbba42f26e5c908ebc",
            "f463008c6650415ab0b92abee5391491",
            "497b32f00de746c0b4359b46f779acb5",
            "683f699eed734e209033d02f7507af59",
            "5c631ce495c5401a9626abd481d1352b",
            "b9626462d5a84efbb4a7b3513636aab2",
            "786941d762f946d19f7b1aaf3fdc0510",
            "8934e24956684af3a351d5ec0c8431ba",
            "d8c8210dfc8e410c9cd29b2ce081d44d",
            "0750b1da051c4a2f99937c856c7b51f9",
            "3f802a76651e4a6cb6e2b404fa395d4e",
            "268004b4ff0d4517ba8aea6ec546b1b1",
            "6eaba82501434db2920a2a61dd25052a",
            "2aebee468c2a427ba6fea818e2b97bec",
            "6164937cbf29445fb98d216590d9f828",
            "e5c172ff0ce74506b3923af20e735eb8"
          ]
        },
        "outputId": "40c38228-a222-45ac-8b92-4c003d08c8ba"
      },
      "execution_count": 20,
      "outputs": [
        {
          "output_type": "stream",
          "name": "stdout",
          "text": [
            "WebDriver initialized successfully\n"
          ]
        },
        {
          "output_type": "stream",
          "name": "stderr",
          "text": [
            "/usr/local/lib/python3.10/dist-packages/huggingface_hub/utils/_token.py:89: UserWarning: \n",
            "The secret `HF_TOKEN` does not exist in your Colab secrets.\n",
            "To authenticate with the Hugging Face Hub, create a token in your settings tab (https://huggingface.co/settings/tokens), set it as secret in your Google Colab and restart your session.\n",
            "You will be able to reuse this secret in all of your notebooks.\n",
            "Please note that authentication is recommended but still optional to access public models or datasets.\n",
            "  warnings.warn(\n"
          ]
        },
        {
          "output_type": "display_data",
          "data": {
            "text/plain": [
              "config.json:   0%|          | 0.00/1.58k [00:00<?, ?B/s]"
            ],
            "application/vnd.jupyter.widget-view+json": {
              "version_major": 2,
              "version_minor": 0,
              "model_id": "32d4266c58c842e589eab17df138a29a"
            }
          },
          "metadata": {}
        },
        {
          "output_type": "display_data",
          "data": {
            "text/plain": [
              "model.safetensors:   0%|          | 0.00/1.63G [00:00<?, ?B/s]"
            ],
            "application/vnd.jupyter.widget-view+json": {
              "version_major": 2,
              "version_minor": 0,
              "model_id": "b2aba561624a4770b5f76af9e306fee1"
            }
          },
          "metadata": {}
        },
        {
          "output_type": "display_data",
          "data": {
            "text/plain": [
              "generation_config.json:   0%|          | 0.00/363 [00:00<?, ?B/s]"
            ],
            "application/vnd.jupyter.widget-view+json": {
              "version_major": 2,
              "version_minor": 0,
              "model_id": "b9626462d5a84efbb4a7b3513636aab2"
            }
          },
          "metadata": {}
        },
        {
          "output_type": "stream",
          "name": "stdout",
          "text": [
            "All comments have been loaded.\n"
          ]
        },
        {
          "output_type": "stream",
          "name": "stderr",
          "text": [
            "WARNING:urllib3.connectionpool:Retrying (Retry(total=2, connect=None, read=None, redirect=None, status=None)) after connection broken by 'NewConnectionError('<urllib3.connection.HTTPConnection object at 0x7f320602c5e0>: Failed to establish a new connection: [Errno 111] Connection refused')': /session/db709f8049a7e20270011312de5df576\n",
            "WARNING:urllib3.connectionpool:Retrying (Retry(total=1, connect=None, read=None, redirect=None, status=None)) after connection broken by 'NewConnectionError('<urllib3.connection.HTTPConnection object at 0x7f320602c2e0>: Failed to establish a new connection: [Errno 111] Connection refused')': /session/db709f8049a7e20270011312de5df576\n",
            "WARNING:urllib3.connectionpool:Retrying (Retry(total=0, connect=None, read=None, redirect=None, status=None)) after connection broken by 'NewConnectionError('<urllib3.connection.HTTPConnection object at 0x7f320602c790>: Failed to establish a new connection: [Errno 111] Connection refused')': /session/db709f8049a7e20270011312de5df576\n"
          ]
        },
        {
          "output_type": "stream",
          "name": "stdout",
          "text": [
            "WebDriver successfully closed\n",
            "{'channel_name': 'Breakfast Club Power 105.1 FM', 'video_title': 'The Breakfast Club Reacts to Dave Chapelle\\'s Netflix Special \"The Closer\"', 'video_description': 'The Breakfast Club Reacts to Dave Chapelle\\'s Netflix Special \"The Closer\" The Breakfast Club features celebrity interviews, Charlamagne tha God’s Donkey of the Day, Angela Yee\\'s Rumor Reports, DJ Envy\\'s mixes and so much more! Every guest visiting the world\\'s most dangerous morning show is grilled with a blend of honesty and humor.', 'comments': [{'comment_text': \"It is impossible to cancel Dave Chappelle. You cannot cancel someone who doesn't need your validation & would happily walk away from it all.\", 'like_count': '9.7K', 'reply_count': '199 replies'}, {'comment_text': 'The Closer is a masterclass of comedic mastery, man. Probably the strongest of his Netflix specials. Even with the two (clearly LGBTQ) ladies in front middle section lookin like they wanted to shank him in the parking lot', 'like_count': '4.1K', 'reply_count': '208 replies'}, {'comment_text': 'That’s the thing, Dave doesn’t care about being canceled, he has the accolades, he has the money, he is his own boss, I believe he just wants to say things that most are afraid to say and he will forever be legendary for that', 'like_count': '1.4K', 'reply_count': '19 replies'}, {'comment_text': 'The point of the “Da Baby” anecdote is, he can physically hurt someone and it amplified his career, but emotionally hurting someone is going beyond acceptable. Hurting someone’s feelings is “enough” to ruin someone’s career in this PC culture. THAT is the point that is being made', 'like_count': '342', 'reply_count': '11 replies'}, {'comment_text': 'Dave wasn’t even really tell jokes he was telling truths that happens to be funny', 'like_count': '5.5K', 'reply_count': '75 replies'}, {'comment_text': 'The Daphne story actually makes me think the trans community isn’t as down for each other as they try to make everyone think.', 'like_count': '722', 'reply_count': '17 replies'}, {'comment_text': 'They are trying to cancel Dave on Twitter again? He\\'s doesn\\'t care, because like he said \"Twitter is not a real place\".', 'like_count': '1.3K', 'reply_count': '14 replies'}, {'comment_text': '“Young lady I knew your father… And she was a wonderful woman”\\nThank you Dave. Humanity does not get better than this regardless of what your detractors say.', 'like_count': '437', 'reply_count': '5 replies'}, {'comment_text': \"If people think Dave is anti LGBT,  they aren't LISTENING to his words.\", 'like_count': '2.9K', 'reply_count': '67 replies'}, {'comment_text': 'Dave Chappelle\\'s response to haters: \"I\\'m rich, bitch!\"', 'like_count': '1.6K', 'reply_count': '12 replies'}, {'comment_text': 'I am pretty sure his intentions are not ONLY to make people laugh.  The Closer had a HUGE message, that was made crystal clear at the end, yet people completely ignore that.  He brings it all home yet people ignore that.  He is NOT anti anything, yet people ignore that.  There is no hope for people.  People will always have something to complain about.  ALWAYS.  Dave has a talent in story telling and harnessing thoughts and circumstances.  His sessions go beyond comedy.  He is a national treasure.', 'like_count': '706', 'reply_count': '23 replies'}, {'comment_text': 'He literally said this is my last special, he knew the outrage was coming and did it anyway. 100% courage and is my G.O.A.T comedian.', 'like_count': '410', 'reply_count': '8 replies'}, {'comment_text': \"Funny how they criticize Dave for his other jokes, but yet it's silence when it comes to Daphne. It's sad that she was bullied by the same community that she went so hard for.\\nR.I.P Daphne Dorman.\", 'like_count': '1K', 'reply_count': '100 replies'}, {'comment_text': \"Dave's point about Da Baby was valid. He wasn't speaking criminally, he was speaking in terms of being cancelled socially. That makes his point very valid.\", 'like_count': '636', 'reply_count': '32 replies'}, {'comment_text': 'At the end he literally said \"I\\'m not telling any more jokes about the trans community until I can be sure we are laughing together.\" No one plays THAT clip', 'like_count': '70', 'reply_count': None}, {'comment_text': 'Dave says is in the special “they don’t LISTEN” not only are these jokes but he was speaking a truth. He talks about daphne to point out the hypocrisy in the community. At the end of the day it doesn’t matter what race or gender you are. We are all human and we should be fighting for our right to be human and express ourselves. Instead they just took whatever he said as outrage. Which is his point in the first place', 'like_count': '511', 'reply_count': '6 replies'}, {'comment_text': 'Dave Chapelle is the closest thing we have to a modern day Philosopher wrapped in humor rather than obscure meaning. He is brilliant and his audience knows that...', 'like_count': '488', 'reply_count': '7 replies'}, {'comment_text': 'Crazy no one is talking about what he said about his friend who committed suicide and how it hurt him, or how he started a trust fund for her daughter smh. Tired of this bs honestly.', 'like_count': '339', 'reply_count': '8 replies'}, {'comment_text': 'The people having a problem with Dave couldn’t have handled Richard Pryor or Redd Fox or Andrew Dice Clay. People have got to stop being so up tight and sensitive', 'like_count': '211', 'reply_count': '18 replies'}, {'comment_text': '“ Trans people don’t listen” he made jokes about every community but who are the ones who are attacking him? Which  one of the communities had a problem? Remember his story about the black slave, who ended up being a slave owner after he was free and doing worse things to slaves than white slave owners did, because that’s all he knew. Man Dave is a truely genius.', 'like_count': '639', 'reply_count': '26 replies'}, {'comment_text': 'A FEW spoke out against. It seems the MAJORITY agreed with him. The distinction is important~ Dave is and will always be a legend.', 'like_count': '306', 'reply_count': '2 replies'}, {'comment_text': 'I almost dropped a tear at the end when he spoke about daphne. Rest In Peace, and thank you for impacting Dave', 'like_count': '397', 'reply_count': '10 replies'}, {'comment_text': 'The people demanding \"EQUALITY \", are also demanding that they are off limits to ridicule', 'like_count': '52', 'reply_count': None}, {'comment_text': 'You can\\'t cancel someone who\\'s already \"cancelled\" himself from those guys ... Dave doesn\\'t care!', 'like_count': '1.3K', 'reply_count': '10 replies'}, {'comment_text': 'Dave cannot be canceled!! All the complainers are proving his point, smh! He spoke FACTS!! Society has become so hypersensitive, ESPECIALLY to the truth', 'like_count': '810', 'reply_count': '7 replies'}, {'comment_text': 'Don\\'t forget, Dave started this special saying \"You might not see me for a while after this one.\"\\nHe knew, and knows, what he thinks and says are not for everyone. Proceed, Dave. I\\'m here for it.', 'like_count': '349', 'reply_count': '7 replies'}, {'comment_text': \"I have been trans for 32 years and I was NOT offended by Dave's comedy set regarding trans topics. These  woke crazed offenderatti alphabet mobs don't speak for all of us. How dare they take their stance and not acknowledge the damage their rage caused by inflicting their bullying hate on Dave's trans friend Daphne who he mentions in the Closer special. She commited suicide days after she was attacked by these nasty A-holes for daring to stand up for Dave. The causality is more than obvious in regard to pushing someone over the edge. I have also experienced this anger in the past for daring to differ in my oppinions to those in my crew but nothing like Daphne experienced. This is their real legacy, may Daphne rest in peace, and their legacy there had nothing to do with protecting ALL trans women and educating about the high suicide rates among our kind. I have done stand up Comedy in the past and the pressure being applied by these people to sensor comedy I find disgusting. Humour is all we have left thanks to these over exhaulted cancel kill joys and they want that as well? Oh no honey no way! Go run to your miserable pity parties and get lost because we will not have comedy also stolen so you can claim another part of the sky and turn it grey while claiming you own all the rainbows. I have watched these people hyjack our community for years and is another example that controlling parts of that community are still rufusing to let ALL trans women speak for ourselves. Constantly dictacting to us what we must be offended by while handing us all gag orders and a rule book on acceptable collective trans behavour and opinion. Well screw them. I think for myself and I gladly profess that I did not find Dave offensive AT ALL. He was halarious.\", 'like_count': '28', 'reply_count': '1 reply'}, {'comment_text': '“ I will tell her daughter one day that… I knew her father, and she was amazing”Brilliant#DC', 'like_count': '297', 'reply_count': '8 replies'}, {'comment_text': 'Dave is not just a Comedian, he is a Highly intelligent comedian who makes jokes out of truths!!  Very socially conscious.', 'like_count': '1K', 'reply_count': '19 replies'}, {'comment_text': \"Dave C. is brilliant, I didn't hear any lies. People have the right to be offended and he has a right to tell his jokes. He always says if you click on his face to watch his show, don't complain about what you hear.\", 'like_count': '379', 'reply_count': '2 replies'}, {'comment_text': 'I’m a Lesbian and I laughed soooooo hard! His show was needed for so many. The last two years with Covid have been so hard on us. Everyone is so damn angry nowadays. So yes, Dave talked about a part of my community… so what. This was the hardest I laughed this entire year.', 'like_count': '306', 'reply_count': '11 replies'}, {'comment_text': 'Dave Chapelle is a legend. I love that he is willing to share his insights through the use of comedy.  He makes you stop and think and as a white guy, I find myself tending to agree with him most of the time. He also makes me laugh the most of any other comedians today. Bill Burr being a close second.', 'like_count': '98', 'reply_count': None}, {'comment_text': 'Dave was like \"You want the truth?! YOU CAN\\'T HANDLE THE TRUTH\"That shit was spot on and probably his best work. I couldn\\'t stop laughing', 'like_count': '134', 'reply_count': '5 replies'}, {'comment_text': 'That negative feedback just makes me convinced that Dave is speaking truth and that this is a must watch', 'like_count': '159', 'reply_count': '1 reply'}, {'comment_text': \"Chappelle proved once again why he's the greatest comedian of our generation\", 'like_count': '602', 'reply_count': '16 replies'}, {'comment_text': 'I knew Daphne. What he did for her was incredible, no one would do that if they were transphobic. The fact that his words outweigh his actions is part of his critique.', 'like_count': '65', 'reply_count': None}, {'comment_text': 'Hearing that they were trying to cancel it made go watch it right away and that was some of the best Dave yet!! It was amazing!! Laughed so hard', 'like_count': '364', 'reply_count': '12 replies'}, {'comment_text': 'If people of that \"community\" don\\'t understand the point he made indiscriminately and internally about his trans friend Daphne Dorman. Then we see who are part of the problem with progress for humanity.', 'like_count': '454', 'reply_count': '10 replies'}, {'comment_text': \"I'm a Richard Pryor and Red Fox fan. I'm a Eddie Murphy fan in his early days. Dave Chapelle is a legend. He doesn't need to be validated because he showed he is willing to walk away from things even at the height of success.\", 'like_count': '349', 'reply_count': '19 replies'}, {'comment_text': 'It was absolutely hilarious, the woke culture is trying to kill comedy, and thankfully we have people like Dave to fight back', 'like_count': '69', 'reply_count': None}, {'comment_text': \"I left that special almost in tears. People taking snippets and soundbites of this entire piece of art out of the context of the show makes them sound more malicious. If people listen to the entire show with open hearts they will see he's talking about the rights of black people, the rights of everyone, cancelling as bullying, and how we treat each other. He expected and calculated himself getting 'cancelled' as part of the art to prove the entire point. And it worked.\", 'like_count': '122', 'reply_count': '5 replies'}, {'comment_text': 'The point Dave made was simply people are more upset over what Da Baby said about the white driven gay community then him actually killing a black man. Self defense or not. He actually gave the gay community credit for organizing and shutting down. The fact that his comedy special is a discussion makes Dave the goat.', 'like_count': '319', 'reply_count': '4 replies'}, {'comment_text': 'Dave is a genius he actually opens doors for more conversation, people need to be educated', 'like_count': '231', 'reply_count': '1 reply'}, {'comment_text': 'Every comment I’ve read here supports Dave’s free speech and generally agree with him \\nGood job people', 'like_count': '47', 'reply_count': None}, {'comment_text': \"Dave is hilarious and simply brilliant. His points were valid. It's comedy people! Canceling him is insane. Some people like playing victim and find logic offensive.\", 'like_count': '175', 'reply_count': '5 replies'}, {'comment_text': 'You know Chappelle is the GOAT when people edit his comedy so poorly as they did here and it still kills.', 'like_count': '207', 'reply_count': '3 replies'}, {'comment_text': \"Angela is the only one I have heard so far that actually mentioned Dave's friend. Which was a good point to his whole special.\", 'like_count': '379', 'reply_count': '3 replies'}, {'comment_text': 'What Dave accomplished was to highlight the \"intersection\" of racism, white privilege and the LGBTQ community. He even explicitly says that for those too dense to comprehend subtleties. \\nThat is what has people \"outraged,\" that he call out white gay racism and how they operate in the same sphere of white supremacy when it benefits them.', 'like_count': '127', 'reply_count': '6 replies'}, {'comment_text': \"Curious to go back and listen for a second time. Dave is great at storytelling as always. And you can tell people didn't watch the entire thing and are just reading blogs and tweets, because he addressed every group in the special.\", 'like_count': '257', 'reply_count': '9 replies'}, {'comment_text': \"The threat with Dave is  that he's intelligent and makes reasonable strong rational arguments through comedy and this threatens emotional unintelligent people.\", 'like_count': '390', 'reply_count': '15 replies'}, {'comment_text': 'It’s called “The closer” for a reason lol, Dave is 100% right to speak on his views and provide his reasoning..and this proves his points these ppl don’t wanna have a conversation they just wanna set the rules and tear down those who oppose..', 'like_count': '310', 'reply_count': '5 replies'}, {'comment_text': \"lol this camera man didn't know where to zoom in and when... hang in there buddy\", 'like_count': '137', 'reply_count': '1 reply'}, {'comment_text': 'Everybody needs to just go follow Dave on all his social media accounts and let \"them\" know he is supported and can\\'t be cancelled!', 'like_count': '474', 'reply_count': '7 replies'}, {'comment_text': 'Chapelle is the best. His comedy is so good because it’s rooted in truth', 'like_count': '337', 'reply_count': '1 reply'}, {'comment_text': \"Chappelle is a cultural icon, especially for 25-40 year olds. You can't cancel him.\", 'like_count': '168', 'reply_count': '7 replies'}, {'comment_text': \"Dave had a deeper meaning behind his stand up and I hope everyone received the message it's still several communities who don't get equal treatment... So much truth behind his stand up and he was making a point.\", 'like_count': '16', 'reply_count': None}, {'comment_text': \"Dave Chapelle in Sticks and Stones: If you don't like what I'm saying, just remember you clicked on my face..\\n\\nPeople still responding to a Dave Chapelle special two years later.... lol\", 'like_count': '46', 'reply_count': '1 reply'}, {'comment_text': 'It was a great closer to an ongoing discussion. He said nothing wrong at all. Just simply breaking down the hypocrisy of it all', 'like_count': '601', 'reply_count': '11 replies'}, {'comment_text': \"Dave Chappelle is unapologetic about his craft! His material is NOT for the faint at heart, furthermore, he's factual well educated on all topics! \\nHe exercised his#first#amendment#rights!\", 'like_count': '228', 'reply_count': '2 replies'}, {'comment_text': 'Dave\\'s special\" the closer\" was funny as hell!  It was also an honor to his friendship with Daphne whom he mentored. It was also a tribute to his friend Norm that just passed away. Dave is an excellent comedian whom  also possesses common sense and logic which is missing from today\\'s culture.', 'like_count': '30', 'reply_count': None}, {'comment_text': \"One of his greatest stand ups ever, nobody willing to speak the truth and take those stones! You can kill black folks but if you don't support the gay movement! Your career is over!smh\", 'like_count': '122', 'reply_count': '1 reply'}, {'comment_text': 'The Closer was easily one of the most important standup acts in history. I knew people would ignore the entire message in that show in favor of choice parts, where the ability to understand was cut by a word trigger; he shined a light on this cancel culture that is Nationally supported for the most part, so everybody he called out are now seeing themselves in the mirror…..and they STILL don’t recognize the face they see.\\n“Master Of His Craft” indeed', 'like_count': '88', 'reply_count': '4 replies'}, {'comment_text': \"Dave is a genius at his delivery it's funny how logical his jokes really are.\", 'like_count': '196', 'reply_count': None}, {'comment_text': \"Dave is a living legend. He's one of life's true champs.\", 'like_count': '33', 'reply_count': None}, {'comment_text': 'THE INDUSTRY IS BEHIND HIM. Netflix gave him a ton of money, his specials not goin nowhere … do what you do Dave', 'like_count': '679', 'reply_count': '10 replies'}, {'comment_text': \"Q : How can you cancel a man that walked away from 50 million...??\\nA : You can't, he the goat!!\", 'like_count': '60', 'reply_count': None}, {'comment_text': \"Dave be friended a trans gender, Put her on his show, helped her with her performance and when she died  he opened a fundraising account for her daughter that doesn't sound like a trans-phobic man to me. Yet, it feels like people want him to say what they like to hear not his perspectives. I watched the special twice and listened. The man made arguments and supported them clearly. Yes, not everyone should agree with his perspective nor did I agree with everything he said so what the problem exactly?\", 'like_count': '367', 'reply_count': '15 replies'}, {'comment_text': 'All this \"controversy\" is just making me want to watch it AGAIN', 'like_count': '35', 'reply_count': '1 reply'}, {'comment_text': 'Dave was stating truths wrapped in comedy. Like he said “I can’t even say the truth without making it funny.”', 'like_count': '369', 'reply_count': '10 replies'}, {'comment_text': \"I would like to formally thank all the people giving negative attention to Dave's recent special. I didn't even know he dropped one until y'all started whinging about it. Now I've watched it 3 times and told everyone I know to watch. They all loved it.\", 'like_count': '51', 'reply_count': '3 replies'}, {'comment_text': 'I just watched The Closer special.  All the contraversies do is up his ratings.  Great special.  They need to \"Stop punching down on Dave and his people\"\\nDave acknowledged that LGBTQ are going though a human experience, and that the struggle is real.', 'like_count': '71', 'reply_count': None}, {'comment_text': \"Dave is a legend. If they remove his show on Netflix, I'll buy it. I don't think the people that are complaining about the show even watched it.\", 'like_count': '17', 'reply_count': None}, {'comment_text': 'Dave\\'s punchline \"don\\'t abort dababy\" was great.  The story about his trans friend was told to highlight he\\'s not against trans people.  Anyway imo it was a great special.', 'like_count': '180', 'reply_count': '3 replies'}, {'comment_text': 'Dave said “LGBTQ” once and the whole community was triggered and didn’t actually listen to what he was saying\\n\\nOne of the main points he made was that the “LGBTQ” community only made so much progress for their movement, is because WHITE PEOPLE are also gay\\n\\nIf the black community were the only LGBTQ people on the planet, nobody would give a shit and the movement would be dead\\n\\nKinda like how nobody gives a shit about “Black lives matters” but they all love “Stop Asian hate”\\n\\nOr how a large portion of the white LBGTQ members treat the black LBGTQ members poorly (racism in the LGBTQ community)', 'like_count': '279', 'reply_count': '15 replies'}, {'comment_text': 'The ultimate hypocrisy in all of this was the LGBT bullying Daphne Dorman to commit suicide.', 'like_count': '71', 'reply_count': '5 replies'}, {'comment_text': 'Whenever you speak the truth, someone will be offended. Dave is probably the last real comedian since George Carlin speaking about realism and turning it into humor IMO', 'like_count': '9', 'reply_count': None}, {'comment_text': 'Going to rewatch all Daves Netflix specials this weekend to show my support for him', 'like_count': '74', 'reply_count': '1 reply'}, {'comment_text': \"Dave is the GOAT the Mark Twain of our generation.  He's not going to be silenced by anyone.\", 'like_count': '272', 'reply_count': '9 replies'}, {'comment_text': 'Dave was teaching in his special. A lot of people missed that and still will.', 'like_count': '64', 'reply_count': '2 replies'}, {'comment_text': 'The part about the white, gay guy who was filming him and when Dave called him on it, he pulled out his cell phone and called the cops.  To quote Dave \"Gay people are gay, until they need to be white again.  And THAT\\'S what I have a problem with!\".  Oh, Catlin Jenner being named \"Women of the Year and she\\'s only been a woman for 1 year\" was a good point too.  Funny how nobody is upset that he talked about white Hollywood feminist who thought dressing up in black gowns at an award show was a \"protest\", but  didn\\'t protest against Harvey Weinstein.  I thin he\\'s looking at YOU MERYL STREEP!', 'like_count': '3', 'reply_count': None}, {'comment_text': 'The fact that people want to have it removed proves the greater point Chapelle’s special. Absolute genius.', 'like_count': '58', 'reply_count': None}, {'comment_text': \"Dave Chappelle WAS a comedian. After 2006, he's more of a guiding light nowadays. If you can get conservatives and liberals agreeing with you and creating dialog, you're doing something right.\", 'like_count': '51', 'reply_count': '3 replies'}, {'comment_text': \"We live in a world where everyone thinks they're special. Just cause you're attracted to whoever and wanna be whoever don't make you special. Everyone is looking for a reason to be upset about. Dave spoke truth.\", 'like_count': '180', 'reply_count': '7 replies'}, {'comment_text': \"Going out with a bang, and didn't upset anyone with a love for comedy and laughter.\", 'like_count': '8', 'reply_count': None}, {'comment_text': 'You can’t cancel JK Rolling ! The alphabet Mafia need to be stopped.', 'like_count': '172', 'reply_count': '8 replies'}, {'comment_text': 'I found Dave’s special to be hilarious! He made great points and did what comedians are suppose to do. Also DaBaby has done a lot of messed up stuff so it is crazy that he gets away with everything but he’s finally canceled for lgbt comments?', 'like_count': '248', 'reply_count': '23 replies'}, {'comment_text': \"Chappelle didn't lie and he didn't pander to the PC crowd. A lot of the discussion was highlighting the lack of intersectionalism in the LGBT fight. Hes also talking about how LGBT fight takes priority over all other issues including black issues. And most importantly and Chappelle said, the LGBT community DOES NOT LISTEN.\", 'like_count': '76', 'reply_count': None}, {'comment_text': \"Dave speaks his truth. That's everyone's right. Period.\", 'like_count': '9', 'reply_count': None}, {'comment_text': 'Dave is the goat! U cannot and will not EVER  CANCEL HIM PERIOD!', 'like_count': '115', 'reply_count': None}, {'comment_text': 'Yes.yes...I agree Dave is \"more \" than a comedian. He speaks to and therefore encourages  discussion and debate on current culture / overall state of affairs...', 'like_count': '252', 'reply_count': '3 replies'}, {'comment_text': 'The same people wanting to cancel Dave Chappelle about his special are the same ones screaming at YouTube, Facebook and IG for allowing them to have Free Speech to type whatever they want without consequence. Go Figure.', 'like_count': '53', 'reply_count': '1 reply'}, {'comment_text': 'The funniest part is these insane leftists prove Dave’s points over and over again.', 'like_count': '7', 'reply_count': None}, {'comment_text': 'Just watched it yesterday. It was amazing and I’m glad he spoke his mind.', 'like_count': '130', 'reply_count': '1 reply'}, {'comment_text': 'Special was dope as always.', 'like_count': '442', 'reply_count': '9 replies'}, {'comment_text': 'His intent is to open the minds of so many band wagging hoppers. He speaks to the part of the brain that rarely gets used and that part is the logical thinking part. The common sense part. He just insert it in a comedic way.', 'like_count': '65', 'reply_count': '8 replies'}, {'comment_text': 'Team Terf for Daphne. Rest in Peace a beautiful human being.', 'like_count': '5', 'reply_count': None}, {'comment_text': \"No one understands the kind of high respect Dave Chappelle has from the ground level to the top, you can't cancel that! He is speaking the truth and the truth hurts.\", 'like_count': '129', 'reply_count': None}, {'comment_text': '“Some” being upset and wanting Netflix is cancel him and remove his special further proves the point he was making.', 'like_count': '161', 'reply_count': '3 replies'}, {'comment_text': \"I'll definitely support Dave even if Netflix cancels him. He's one of the REALIST people in the mainstream.\", 'like_count': '120', 'reply_count': '1 reply'}, {'comment_text': \"It was called Closer. He's done. They can't cancel him. \\n\\nHe's not anti LGBTQ. He's anti-stupidity, which gives quite a lot to lampoon.\", 'like_count': '2', 'reply_count': None}, {'comment_text': 'Dave told his truths that a lot of ppl are afraid to speak on. Some of those ppl are way to sensitive. I’m starting to believe a lot of THEM truly don’t like who they are and think everybody feels the same way.', 'like_count': '33', 'reply_count': None}, {'comment_text': 'Amazing episode modasucka’s!', 'like_count': '1.3K', 'reply_count': '32 replies'}, {'comment_text': 'They need to let Dave do his thang. He is one of the G.O.A.T.', 'like_count': '128', 'reply_count': '4 replies'}, {'comment_text': \"That's the thing I love about Dave. He makes you laugh, then makes you think, then makes you balance out the equation.\", 'like_count': '2', 'reply_count': None}, {'comment_text': '\"Daphne is not part of your tribe(trans community) shes my tribe\" When Dave said that it brought tears to my eyes', 'like_count': '40', 'reply_count': None}, {'comment_text': \"Charlemagne doing the broken buck dance. Acting like he's for Dave and throwing dirt at the same time for his handlers\", 'like_count': '342', 'reply_count': '20 replies'}, {'comment_text': 'Dave is a GOAT, addressing things and worrying about things that are true.', 'like_count': '296', 'reply_count': '3 replies'}, {'comment_text': 'It\\'s not even about \"pushing the limit\".  THE TRUTH IS THE TRUTH.  The laughter is aimed at a fact; laughter at times makes the TRUTHFUL FACT easier to swallow, and this is one of those \"swallowing\" moments.', 'like_count': '', 'reply_count': None}, {'comment_text': 'Dave : I dont hate lgbt I just think ya get real emotional about everythi..\\nLgbt : omg ! how could you ? I’m shaking !!!!', 'like_count': '48', 'reply_count': '1 reply'}, {'comment_text': 'All of the “outrage” makes me want to go  watch it again and again.', 'like_count': '116', 'reply_count': '4 replies'}, {'comment_text': 'I’m old enough to remember comedy. People didn’t get offended. It reflected life at the time. The Closer was a masterpiece. I’m riding with Dave.', 'like_count': '43', 'reply_count': '2 replies'}, {'comment_text': 'What I love and respect about Dave is he doesn’t care. He’s a genius. He’s a comedian and funny. However, he also lets you think about what he’s saying. Just laugh. If you don’t like it don’t listen. Not that hard. Go Dave.', 'like_count': '3', 'reply_count': None}, {'comment_text': 'Dave just dropped a true classic comedy stand up special. PERIOD.', 'like_count': '151', 'reply_count': '3 replies'}, {'comment_text': 'You can “cancel” him on Netflix or whatever MAYBE\\nBut he can always go do stand up whenever/wherever he wants', 'like_count': '85', 'reply_count': '3 replies'}, {'comment_text': 'And I quote, “I never had a problem with the trans ppl, I always had a problem with the white ppl. I said \\n1. How much do I have To participate in your self image?\\n2. Don’t talk about this in front of black ppl\\n3. I know niggas in brooklyn who wear high heels just to feel safe\\n4. Why is it Easier for bruce Jenner to change his gender than Cassius clay to change his name?\\nIf you’re listening I’m not even talking about them, I’m talking about us, but THEY DONT LISTEN…VERY ANNOYING.”\\n\\nThat’s spot on. Even if you’re in the minority, what black ppl have gone thru in this country is just unbelievable, and the lack of acceptance for changing your name and religion and not wanting to enter the war (Ali) is highlighting how we HAVE to accept trans easily-the way they didn’t accept Ali back then. Man listen. \\n\\nAnd I’ll end with this. No comment on them dragging Daphne huh? \\nLong Live Chappelle', 'like_count': '50', 'reply_count': '3 replies'}, {'comment_text': \"Y'all forget something. Comedians purpose throughout history has been to talk about the relevant issues and the times of their era...in a funny way. If you want empty laughs then go watch slap stick comedy. But if you're talking about stand-up. The greats always speak on the issues. This is why Dave is the Goat!\", 'like_count': '', 'reply_count': None}, {'comment_text': 'I was clapping in tears at the closing of the Closer. He is much more than a comedian.', 'like_count': '24', 'reply_count': None}, {'comment_text': 'Special was the funniest stand up I seen in like 2-3 years!', 'like_count': '76', 'reply_count': '6 replies'}, {'comment_text': 'Like Dave said folks too sensitive his whole set was hilarious I laughed at everything I could never cancel him I love how he not scared to say what he say & he right soon as someone say something against the gay community the world is in a uproar ugh so tired of this damn movement', 'like_count': '75', 'reply_count': None}, {'comment_text': 'Chappelle is a comedic genius, he has cracked the code , he now uses humor to it‘s highest social potential. His profound message is plain to see to anyone who will actually listen.', 'like_count': '', 'reply_count': None}, {'comment_text': \"That Special was HILARIOUS!! And also heartfelt. I don't know why people revel in taking someone's voice.... Especially people that advocate against silencing marginalized people. It's a paradox. Let Dave be funny. It's that simple.\", 'like_count': '40', 'reply_count': None}, {'comment_text': 'Amusing watching TBC walk on egg shells on this topic because they’re beholden to those interests knowing damn well they agree with Dave more than they’d like to admit. Especially Envy trying to minimize Dave’s insight as if it’s just supposed to be jokes. That’s how crazy society’s gotten now, that the nuanced and rational perspective of an obviously intelligent, inclusive, and worldly human being is regarded as something to be shunned, silenced, and deemed malicious.', 'like_count': '87', 'reply_count': None}, {'comment_text': 'The alphabet crew once again missed the forest for the trees.', 'like_count': '100', 'reply_count': '1 reply'}, {'comment_text': \"Apparently glaad didn't actually watch The Closer. If they did they would have heard Dave say he was an ally to the gay community and talk about his dear friend Daphne who was a Trans woman that stood up for Dave and his art on Twitter. She was dragged on Twitter for standing up to her own people and it got so bad that she killed herself. You could see he was clearly distraught about it. As the Father of a Trans son it had me in tears. That being said, there is many in the LGBTQ community along with their families who love Dave and his comedy. Including Daphne's sisters who have said that they will always stand behind Dave and that he will always be part of their tribe. Nobody in the Trans community that is hurt by these jokes are talking about the fact of Dave offering her to be the opening act for all his shows in the Bay Area. The LGBTQ community did nothing like that for her. That's huge for any comedian because Dave is the G.O.A.T. Plus the fact that after her passing he set up a trust fund for Daphne's young daughter, and that he hopes he's alive when she comes of age so he could give her the money himself and tell her that her Mom was his dear friend and he loved her.\", 'like_count': '1', 'reply_count': None}, {'comment_text': 'His piece on empathy was spot on! His homage to his transgender friend was honorable.', 'like_count': '78', 'reply_count': '2 replies'}, {'comment_text': \"I've never appreciated Chappelle like I do now. Little bits of seemingly unrelated anecdotes thrown about here and there. But I listened today: When he began, the middle, and the end. Because he asked; it pained him that many weren't. It takes a crisis for an artist to go out of his way to interpret his work for the audience because they don't get it. So it was important to me that, if I was going to hate a man, at least I should know it with absolute certainty why and that he deserves it. I listened and I heard, and this was a mind-blowing piece of reality check. And one hella piece of art dressed in comedy. Paradox 1: It/he mourned for those who don't listen, and turns out they didn't! Paradox 2: They attacked him/it and vindicated his/its very point. Meta-art at its finest!!!\", 'like_count': '41', 'reply_count': '1 reply'}, {'comment_text': 'I like how Angela Yee just lied. Dave specifically said that he didn’t know what was the reason Daphne killed herself. He didn’t blame the trans community.', 'like_count': '27', 'reply_count': None}, {'comment_text': 'Dave is too much of a legend where it’s impossible to cancel the comedy Goat', 'like_count': '2', 'reply_count': None}, {'comment_text': 'It went over people heads. He wasn\\'t making fun of the LGBTQ community. He was talking about the White Privilege its wreaks of like all the \"Movements\"', 'like_count': '67', 'reply_count': '7 replies'}, {'comment_text': \"Dave makes people think of all this hypocrisy going on and laugh at the same time!! Genius... it's really what we need right now!\", 'like_count': '64', 'reply_count': None}, {'comment_text': \"Shout out to Yee for talking about the closing bit the most important bit in the special. Proof they and them can't see the hypocrisy in there hate.\", 'like_count': '151', 'reply_count': '4 replies'}, {'comment_text': 'I happened to watch your show and you mentioned The Closer. I love Dave Chappell. So I decided to watch the show. I think he was really funny and made great points. Sad people ride their high horses that they just don’t listen. Dave is brilliant and his perspective is needed.', 'like_count': '3', 'reply_count': None}, {'comment_text': 'Dave is such a  genius, each joke can be dissected in a 2 hr lecture series. The depths are way too deep for a shallow mind', 'like_count': '150', 'reply_count': '3 replies'}, {'comment_text': 'I love David Chappelle he roasts \"EVERYBODY\", nobody gets special treatment from him.  He is a comedian. Fugg errrrrbody.', 'like_count': '37', 'reply_count': None}, {'comment_text': '\"The Closer\" is one of the best.', 'like_count': '62', 'reply_count': None}, {'comment_text': 'Dave Chapelle: They coming for you, is it one they? Or all of they? I laughed out loud because that shit is funny.', 'like_count': '', 'reply_count': None}, {'comment_text': \"Dave got y'all talking and being mad. MASTERCLASS.\", 'like_count': '31', 'reply_count': None}, {'comment_text': 'I mess with Dave and he was spitting straight facts!  They were all jokes and no hateful rhetoric was said.  You may not agree with him, but sometimes truth hurts.  Laugh at that stuff and move on.  We can all accept each other and not agree with each other.', 'like_count': '28', 'reply_count': '1 reply'}, {'comment_text': 'Do they realize by reacting the way they are reacting  is making his statement even more true with every tweet.', 'like_count': '45', 'reply_count': '1 reply'}, {'comment_text': 'Dave does not hate any one... he has the most love of any human I have seen. He said nothing offensive he is stating pure facts and the real living people in the world know that and love him for it.', 'like_count': '', 'reply_count': None}, {'comment_text': \"People are literally missing the points that Dave was trying to make, they're only focusing on the bad and not the good, what kind of world do we live in\", 'like_count': '41', 'reply_count': None}, {'comment_text': \"Chappelle's objective is to educate in a hilarious way He could have a whole arena listen to him rant in complete silence..now that is a goat\", 'like_count': '36', 'reply_count': None}, {'comment_text': 'People with Common Sense and Logical Thinking AbilitiesNEEDto stick together now more than ever', 'like_count': '76', 'reply_count': '3 replies'}, {'comment_text': 'His specials were literally  a dialog with the communities he offended. And he had questions that he presented that no one bothered to amswer. Their response was, \"Get rid of him. This is the point with Da Baby. Somehow, this movememt Started out,  \" Let us be free.\" Which alot of people agreed with into,\" Follow us or Else.\" And people  were like wait a minute, now.', 'like_count': '', 'reply_count': None}, {'comment_text': \"I just finished the special and it was amazing and typical Dave, but I'm actually glad it's his last special for a while and that he's done talking about the LGBTQ community. Them punching down on anyone and everyone that disagrees with them needs to be talked about and addressed in a more serious manner.. it's ironic they don't see they're own hypocrisy.\", 'like_count': '69', 'reply_count': '2 replies'}, {'comment_text': 'When you cry about everything, after a while people will stop listening', 'like_count': '101', 'reply_count': '4 replies'}, {'comment_text': 'I watched \"The Closer\" last night and I thought it was funny and insightful. Dave Chapelle is a great storyteller. Generally speaking, comedians engage in satire. Sooner or later we all get poked fun at. If people are offended they should just turn it off.', 'like_count': '63', 'reply_count': None}, {'comment_text': '“Being offended don’t make you right… it makes you offended”', 'like_count': '1', 'reply_count': None}, {'comment_text': 'Dave is telling a story. And at the end is the climax.\\nThe truth hurts', 'like_count': '37', 'reply_count': None}, {'comment_text': '\"That\\'s not blood, thats beet juice!\"', 'like_count': '18', 'reply_count': None}, {'comment_text': 'The closer is a master piece. Loved it.', 'like_count': '38', 'reply_count': None}, {'comment_text': 'Open your ear and listen, truly listen. The brother is intelligent and deep with what he had to say in this awesome special. I loved it', 'like_count': '3', 'reply_count': None}, {'comment_text': 'Facts about shooting and taking a human life of an African American verses hurting someone’s feelings being a disrespectful unbalanced reaction is a valid point.', 'like_count': '67', 'reply_count': '3 replies'}, {'comment_text': 'Y’all are missing the whole point of what Dave was trying to say. He was saying we are all human and we are all living a human experience. Yes he used some lines for shock value as most comedians do…but that wasn’t to point of any of his statements.', 'like_count': '32', 'reply_count': '1 reply'}, {'comment_text': 'Think about it: He titled it: \"The Closer.\" The ending subtitles he played Gloria Gaynor\\'s \\'I will Survive.\\'\" Meaning he knew The Alphabet Gang would be offended. Even though he said nothing wrong! In my opinion, he exposes how they can be bullies and play the victim. His educational piece on empathy proves that as well. I\\'m on Dave\\'s side on this one.️', 'like_count': '35', 'reply_count': '1 reply'}, {'comment_text': 'I love it when Dave said \" empathy isnt  gay or black, it has to be Bi.. it MUST go both ways\".. dont look at that in a sexual manner.. see it as simply this.. Empathy must be felt from all angles, all parties... all people.. If we cared for someone that we didnt know as we do for those we DO know... maybe there wouldnt be so much hate in the world... maybe our history wouldnt be drenched in so much spilled blood.  and maybe, just maybe we will find our humanity ..', 'like_count': '', 'reply_count': None}, {'comment_text': 'Dave Chappelle is comic genius as well as a person who sees how extra-sensitive our society is. He uses his platform wisely and very well', 'like_count': '175', 'reply_count': '2 replies'}, {'comment_text': 'Don’t see a whole lot of people in these comments mad at Dave. Feels like the outrage is fabricated', 'like_count': '6', 'reply_count': None}, {'comment_text': \"Dave's a genius he says things in a way that is purposeful.\", 'like_count': '85', 'reply_count': '4 replies'}, {'comment_text': \"He came out and said this is his last special. He knew what he would get by telling his story. Self esteem shouldn't have anything to do with someone else. Tighten up.\", 'like_count': '', 'reply_count': None}, {'comment_text': \"Big dummies haven't figured out that their actions prove his point. He speaks facts therefore he will never be cancelled\", 'like_count': '28', 'reply_count': None}, {'comment_text': 'He really reminded me of George carlin in this special just pure truth bombs that happened to be funny, he is the new GOAT.', 'like_count': '44', 'reply_count': None}, {'comment_text': \"I love Dave. He's HILARIOUS. People need to chill and laugh again FFS\", 'like_count': '45', 'reply_count': '1 reply'}, {'comment_text': 'Netflix is & will NOT take down the special and they should NOT. People have no right to demand or tell  an entity how to run their business! If you don’t like a product just don’t buy it! Plain & simple. We are so privileged to have the GOAT among us, a true genius for sure.', 'like_count': '', 'reply_count': None}, {'comment_text': 'Dave is a beast the special was', 'like_count': '61', 'reply_count': None}, {'comment_text': 'Daves comedy is unique, he does this in alot of his shows but wasnt really telling jokes was just talking truths which happen to be funny because of the way he delivers them.', 'like_count': '135', 'reply_count': '1 reply'}, {'comment_text': 'Shout out to dave for speaking the truth !!', 'like_count': '49', 'reply_count': '1 reply'}, {'comment_text': 'Dave spoke facts tho. Real talk. He was speaking facts!!!', 'like_count': '7', 'reply_count': None}, {'comment_text': '“There’s no such thing as an appropriate joke, that’s why it’s funny.” - Michael Scott', 'like_count': '22', 'reply_count': None}, {'comment_text': 'Dave is an absolute genius and it takes a certain level of sophistication from the audience to understand his satire.', 'like_count': '22', 'reply_count': '2 replies'}, {'comment_text': 'Dave is one of the best and most prolific social commentators we’ve ever had. We wants all the smoke and can handle it. I love the man.', 'like_count': '45', 'reply_count': None}, {'comment_text': \"Free Dave..oh wait, he's already free\", 'like_count': '4', 'reply_count': None}, {'comment_text': 'I love how GLAAD is saying that he has negative reviews.  Yes, he does. But he also has 97% on Rotten Tomatoes.', 'like_count': '21', 'reply_count': '1 reply'}, {'comment_text': 'That was a great routine, packed with a LOT of valuable points, and it’s a great example of how people listen to respond and not listen to hear the persons point of view!#EarthIsGhetto', 'like_count': '71', 'reply_count': '1 reply'}, {'comment_text': \"I think  DaBabby's example was a good one because though on one side some people are settled with the outcome of his murder trial on the other side there are some people who are not, and their opinion is that he got away with murder. So just like his recent LGBTQ statements, there are people on both sides of the fence. But it was the latter that got him canceled. However, if we are to really consider all the sides and weigh both things, whether you are on the side of self-defence or murder, the Walmart incident would be considered a greater atrocity. Hence the point I think Dave was making is that 'in his opinion', unless you offend certain people then you can get away with almost anything.\", 'like_count': '22', 'reply_count': None}, {'comment_text': 'There are quite a few people who don’t have the intelligence to see the messaging in Dave’s comedy…… he’s deeper than they know. He’s more than a comedian, so much more, and he makes me proud to be an Ohioan. I’m firmly standing behind him, come whatever.', 'like_count': '', 'reply_count': None}, {'comment_text': \"He's not trying to be, he's trying to prove a point and the delivery has shades of humor! The message is always on point, since killing me softly...\", 'like_count': '51', 'reply_count': None}, {'comment_text': '“They don’t listen” he did a whole bit about his friendship with a trans woman but they don’t want to talk about that', 'like_count': '68', 'reply_count': '8 replies'}, {'comment_text': 'Dave is a truth teller. His beliefs just happen to be funny, because he is a gifted orator. Dave is basically last of the Mohicans fighting against this generations \"virally offended\" outrage tribalism.', 'like_count': '67', 'reply_count': '1 reply'}, {'comment_text': 'As a comedian it is really hard not to judge or criticize in a stand up as it is naturally what a comedian does, in this day and age not being able to touch on any subject because our current country is sensitive to everything, it then becomes harder for a comedian to joke around so what Dave is doing is he\\'s trying to open up people and say \"hey it\\'s okay to joke around with each other, there\\'s no hard feelings, let\\'s laugh about it because we are friends\" and I respect that', 'like_count': '', 'reply_count': None}, {'comment_text': 'I wish they used their \"if you don\\'t like it turn it off\" solution for 99% of the shit they talk about, but they have different rules for different people...there is a word for that', 'like_count': '14', 'reply_count': None}, {'comment_text': 'I thought it was a masterful performance….Legendary…. nobody knows how to tell a bunch of little jokes and tie them all together, into a great story like Dave! I hate talking about politics, but I love hearing him tell jokes about it', 'like_count': '14', 'reply_count': None}, {'comment_text': \"I think a lot of people missed the point and format. In grade school, we were taught the compare/contrast t chart. The whole special, Dave was comparing and contrasting the plight of black people to whites, Jews, LGBTQ's and anybody else I missed. It's unfortunate that most ppl missed it because he is going to pay a great cost. I know he doesn't care about the money or fame, but I'm sure he at least thought he would clear up people's understanding. Dave is down for his people. And he created a special highlighting the reality that to many Black Lives DON'T Matter.\\n\\nThat special was in my opinion as much a tribute to black people.\", 'like_count': '24', 'reply_count': None}, {'comment_text': \"Dave mentionned that Ta Baby killing was self defence, The guy arguing that the exemple is'nt good didn't research it enough (CTHAGOD), just need to see more of Dave's show already available online. Still funny and valid.\", 'like_count': '', 'reply_count': None}, {'comment_text': \"Wasn't Charlamagne just saying he a comedian and it jokes now he over thinking Chapelle da baby joke\", 'like_count': '27', 'reply_count': None}, {'comment_text': 'Why would Netflix take down Dave’s special, but leave Cuties on there?', 'like_count': '19', 'reply_count': '1 reply'}, {'comment_text': 'his line comparing transto Impossible burger or Beyond meat was comedic genius', 'like_count': '51', 'reply_count': None}, {'comment_text': 'Are you f kidding! Dave Chapelle is killing it!! He is more popular now than he ever was! People need to get a grip. The world needs Dave Chapelle.', 'like_count': '1', 'reply_count': None}, {'comment_text': 'Charla is committed to stepping on that joke', 'like_count': '21', 'reply_count': '3 replies'}, {'comment_text': 'Boy do I wish George Carlin and Patrice O’Neil were here at this present moment. They would flip the world upside down with their style of comedy!', 'like_count': '21', 'reply_count': None}, {'comment_text': 'Like Angela said, I think the point was to create a conversation around this topic that people are so afraid to talk about.', 'like_count': '15', 'reply_count': None}, {'comment_text': 'It’s comedy, Laugh or Leave! He made it clear in the act that he was not going after anybody!', 'like_count': '', 'reply_count': None}, {'comment_text': 'That one snippet made me watch the special right now Dave is a legend', 'like_count': '19', 'reply_count': None}, {'comment_text': 'Dave Chapelle Is A True Genius!!! When He Speaks The Universe Listens And Laughs!!!', 'like_count': '14', 'reply_count': None}, {'comment_text': 'That was a great special. He stepped out there and brought it all the way back home.', 'like_count': '21', 'reply_count': None}, {'comment_text': 'Stop hating on Dave! He is raw.\\nHe is real! And I will always go to his shows!', 'like_count': '1', 'reply_count': None}, {'comment_text': 'Dave is an absolute genius! He started out by saying that people don’t listen and then people didn’t listen, the first joke was about child sexual abuse smh and the main focus is about transAnd I cried when he spoke about Daphne Dorman, it’s was poignant and to the point about how we pick and choose what to be outraged about, people just don’t listen!', 'like_count': '23', 'reply_count': '1 reply'}, {'comment_text': 'The special was GOOD ASF! Dave was speaking FACTS! The folks with the loudest opinions about the special probably didn’t watch it. It was AWESOME!', 'like_count': '29', 'reply_count': None}, {'comment_text': 'This special was a MASTER! PIECE!!! Literally, GENIUS!!! Thank you Dave Chappelle! THANK YOU!!!', 'like_count': '19', 'reply_count': None}, {'comment_text': 'Probably one of the boldest most courageous especials, it goes beyond comedy, the message was clear: \"I am gonna talk about our taboos and address a different angles of real problems, that noone else dared to\"... RESPECT Dave.\\n\\n\"They are called, space je*s\" That\\'s what he\\'s gonna get cancelled for, the beauty is, he knows and he doesn\\'t care, that\\'s why I have more respect for him than any other celebrity, politician known today in the US.', 'like_count': '', 'reply_count': None}, {'comment_text': 'I don’t know why people just can’t refuse to watch something as opposed to making sure NONE OF us watch it too. I hate pornography but I’m not protesting anyone’s right to watch it.', 'like_count': '39', 'reply_count': '1 reply'}, {'comment_text': 'Dave is the goat anyone who wants him cancelled can smd', 'like_count': '40', 'reply_count': '2 replies'}, {'comment_text': \"it is a beautiful special!!! people need to see this, really moving. He wasn't even trying to be funny. GOAT\", 'like_count': '19', 'reply_count': '1 reply'}, {'comment_text': \"It's like threatening a soldier with death, when dying is part of their life. Dave is the GOAT! My muslim brother..\", 'like_count': '1', 'reply_count': None}, {'comment_text': \"Dave Chapelle is a legendlet's build him a statue. We need to give him his flowers whilst he can smell them\", 'like_count': '15', 'reply_count': None}, {'comment_text': 'I don’t care What The F you say about my Homie Dave Chapelle. Let me tell you something Patna! He is the truth pal. No matter how much hate they spew against him. He’s a very intelligent man, a master at his craft and he punch lines in a way no other person ever do in so far as I admire his wit and wisdom deeply. That man is the truth. Period!!', 'like_count': '12', 'reply_count': None}, {'comment_text': \"Can't wait for Dave's next special. This man is a genius. How can you cancel someone who walked away from 50 million? Dave is the human idga**#comedy\", 'like_count': '13', 'reply_count': None}, {'comment_text': 'Comedians have never been held to PC standards to protect people’s feelings. The stage is where they drop the truth, & make people laugh at the same time. \\nRichard Pryor, Redd Foxx, Eddie Murphy, Robin Williams, & Dave Chapelle all drop funny truths and insights into relevant issues that affect real people. We need to put a stop to the extremely sensitive people of all races and genders that want to stop free thought.', 'like_count': '', 'reply_count': None}, {'comment_text': \"Dave Chapelle's point about Da Baby was that his immediate comments about a community compared to the immediate reaction to the shooting before the verdict were treated completely different. One cancelled and one had little attention. It wasn't focusing on the outcome it was focusing on the intensity of the initial reactions in comparison.\", 'like_count': '16', 'reply_count': '2 replies'}, {'comment_text': \"He is the goat and some people don't like watching people have continue success so they tried hard to find every little thing to tear that person down and watch them fall. It's toxic but it's a fact.\", 'like_count': '25', 'reply_count': None}, {'comment_text': 'It was truly art️ Best comedy special since Katt Williams - Pimp Chronicles', 'like_count': '55', 'reply_count': None}, {'comment_text': 'That \"he\\'s just a comedian\" shit is cool. I remember when Desus and Mero where on here and DJ Envy was too butt hurt to talk to them but it\\'s all jokes right?', 'like_count': '2', 'reply_count': None}, {'comment_text': 'Never Forget Daphne Dorman\\'s own \"supposed community\" (the acronym people) bullied him/her to commit suicide.', 'like_count': '25', 'reply_count': '2 replies'}, {'comment_text': 'Cancel dave Chappell? NEVER! stand by him 100%', 'like_count': '5', 'reply_count': None}, {'comment_text': 'Dave Chappelle, in the beginning and throughout that routine told us all, \"he\\'s going to go hard\"....so they\\'ll be fine, they\\'re all adults....at least most of them pretend to be..LoL', 'like_count': '17', 'reply_count': None}, {'comment_text': \"Dave Chapelle issued a challenge and  Transgender supporters should rise to the occasion. He said biology is a fact not a social construction. Remember the artful distinction he drew between O.J. and Michael Jackson. The  notion of social construct has to be taught; it isn't handed down from parent to child. He deserves a comedic response.\", 'like_count': '', 'reply_count': None}, {'comment_text': \"Mr Chapelle has once again proven he's one of the very few industry people with a Back bone. Such a GOAT.\", 'like_count': '14', 'reply_count': None}, {'comment_text': \"He told the truth and that's what God loves, so let me get this straight everytime a celebrity mention something about them they're going to get people canceled#WOW️\", 'like_count': '27', 'reply_count': None}, {'comment_text': 'Numbers don’t lie…. We love Dave C. He won’t be canceled. He’s the best storyteller everrrrr. He’s a comedian. He’s funny as hell. He tell truths now we can’t laugh at the ridiculousness of us ALL. LGBTQIA’s+ CHILL Y’all are biased in your own community so stop the high sensitivity DAMN', 'like_count': '33', 'reply_count': None}, {'comment_text': 'THAT BEYONDJOKE WAS GENIUS', 'like_count': '', 'reply_count': None}, {'comment_text': 'Clearly these folks complaining haven’t seen his other specials lol Dave will tell you at his show how it’s gonna be lol', 'like_count': '23', 'reply_count': None}, {'comment_text': 'Dave is a Comedian/Activist and he uses his platform to enlighten, protest, etc there is not a Malcom, George Carlin. Martin, or Bernard mac Mc Coula. We need more like him', 'like_count': '5', 'reply_count': None}, {'comment_text': 'The Breakfast club promote exactly what Dave is talking about!', 'like_count': '11', 'reply_count': None}, {'comment_text': 'Murder or self defense, Dave is still technically correct because both involve killing someone. Daves point wasn\\'t \"You can murder someone and your career is fine\", his point was you can \"Kill someone and your career will be fine\".', 'like_count': '', 'reply_count': None}, {'comment_text': 'Dave is the GOAT', 'like_count': '10', 'reply_count': None}, {'comment_text': \"I had a marriage where i had to manage a woman's emotions and feelings about everything... it was Impossible.  Now expand that to an entire hypersensitive community... maybe more Impossible\", 'like_count': '22', 'reply_count': None}, {'comment_text': 'For all those people who have issues with DAVE. JUST DONT WATCH IT sensitive people. You dont support him others do so your opinion to cancel him isnt gonna happen', 'like_count': '24', 'reply_count': None}, {'comment_text': \"Bruh special was cold blooded needed to be said at da end of da day it's comedy respect his comedic genius gangsta no cap lol stay safe RIP Michael K Williams AJ Johnson Norm MacDonald n Willie Garson BLM God bless stop all dis hate checkout The Main Squeeze\", 'like_count': '1', 'reply_count': None}, {'comment_text': 'Dave Chappelle\\'s \"The Closer\" isBRILLIANTwithout a doubtIf people are so ignorant they can\\'t watch the entire special and listen to exactly what he\\'s saying that\\'s their fault. They\\'re missing out. He said nothing wrong but boy did he do everything right. It was the first time you\\'d laugh, shed a sad tearAND laughagain - at a COMEDY show, WOWWhat an awesome guy. RIP Daphne Dorman.️', 'like_count': '8', 'reply_count': None}, {'comment_text': \"Regardless of anything else Daphne Dorman was a lovely person, one of the kindest humans I've ever met.  She will be missed.\", 'like_count': '12', 'reply_count': None}, {'comment_text': \"I read the Dear White People showrunner is boycotting Netflix now stating all the same stuff he said they would. Don't even realize you fell right into his trap lol\", 'like_count': '50', 'reply_count': '2 replies'}, {'comment_text': 'Chalamagne is the only one laughing on record about the terf joke because he isn’t as scared', 'like_count': '', 'reply_count': None}, {'comment_text': 'OMG thank you Angela.  I just emailed a podcast I listen to reminding them the story he told about Daphanie. His issue with the transgender community is personal.  Flame Monroe speaks about the transgender community shunning he/she/we for not always siding with them.', 'like_count': '6', 'reply_count': None}, {'comment_text': 'this comment section has greatly restored my faith in humanity. Love Chappelle to the very end', 'like_count': '10', 'reply_count': None}, {'comment_text': 'Thank you Angela Yee! Thank you for telling more to the story than just one segment of the special!! You must watch the entire special to understand his point he is bringing up!', 'like_count': '10', 'reply_count': None}, {'comment_text': 'David Chappelle is a Comedian genius. He speaks truth and make it funny.', 'like_count': '', 'reply_count': None}, {'comment_text': 'Love Dave!!! The fact that ppl haven’t figured out that he doesn’t care what ppl think about his jokes is funny to me. He knows good and well ppl would be upset with this special just like in the past. As far as I’m concerned he told nothing but the truth as usual.', 'like_count': '4', 'reply_count': '1 reply'}, {'comment_text': 'I can’t believe this. Angela Yee didn’t overreact to someone offending the LBGQ community??? They definitely don’t wanna burn any bridges with Dave. They would never confront Dave like they did Boosie. The only difference is Dave is telling his truth through jokes and Boosie on Instagram posts. They be selective politicking. \\n\\n* For the I’m on Dave side too lol', 'like_count': '30', 'reply_count': '2 replies'}, {'comment_text': 'Hands down this is my new favorite special from Dave, he pulled no punches and tells the hard truths we all thinking about in our heads.', 'like_count': '15', 'reply_count': None}, {'comment_text': 'Us in straight community we support him', 'like_count': '1', 'reply_count': None}, {'comment_text': 'Dave the truth', 'like_count': '23', 'reply_count': None}, {'comment_text': 'Dave told the whole truth…and nothin but the truth', 'like_count': '11', 'reply_count': None}, {'comment_text': 'THEY COMING FOR YOU DAVE!!\\nDave: \".... One they? Or many theys?\"', 'like_count': '4', 'reply_count': None}, {'comment_text': 'Does anyone find it interesting that Bill Burr’s “Paper Tiger” hit similar topics as Dave’s previous specials but Chappelle is getting ALL the heat? I wonder why, hmmm?', 'like_count': '3', 'reply_count': '4 replies'}, {'comment_text': 'I love Dave and JK!!! Closer was!!! RIP DAPHNE!!!', 'like_count': '11', 'reply_count': None}, {'comment_text': 'To provoke a reaction that actually validates your worldview, is pretty Ingenious. Dave has mastered that art form.', 'like_count': '4', 'reply_count': None}, {'comment_text': 'You could visibly see the white people in the audience of Dave special getting offended. I love every second of it', 'like_count': '13', 'reply_count': '15 replies'}, {'comment_text': 'They are crazy Dave killed it and again they are proving his point.', 'like_count': '2', 'reply_count': None}, {'comment_text': \"They are proving what he says is true....you can't say anything about LBGTQ community.\", 'like_count': '12', 'reply_count': '1 reply'}, {'comment_text': 'It was not out of context, Dave put it into context. DaBaby killed someone, a “nigga”. Dave has always tried to effectively communicate how the things that happen with black men are rarely seen as critical oppose to when things happen with members of the LGBTQIA community.', 'like_count': '6', 'reply_count': None}, {'comment_text': 'That special was dope, “stop punching down on our people”', 'like_count': '27', 'reply_count': None}, {'comment_text': 'You can’t cancel a man who is quick to cancel himself, bounce to Africa decides to come back on whatever terms he wants. people are too damn soft nowadays I can’t even take some of these “communities” seriously with all the crying they do for attention some people need to cancel them selves and reflect on life', 'like_count': '1', 'reply_count': None}, {'comment_text': 'This special made me laugh and cry. It was brilliant. Dave Chappelle had great points and should have know some ppl would be in their feelings', 'like_count': '5', 'reply_count': None}, {'comment_text': 'That community mad but like Dave said they played a part in the suicide of one of their own . Miss me with that.', 'like_count': '14', 'reply_count': None}, {'comment_text': 'Wasn’t a comedy special it was just a Ted talk still loved it', 'like_count': '10', 'reply_count': None}, {'comment_text': 'reason why he got so much hate is he told it how it is factual and logical and ridiculous at time is how people react he knew he would get a reaction and he wanted it to be honest cause he could prove his point.', 'like_count': '', 'reply_count': None}, {'comment_text': 'Does anyone really understand that Dave Chappelle has no hate for anyone. Dude is a positive dude and talks about our humanity. Thats the type of people we need.', 'like_count': '17', 'reply_count': None}, {'comment_text': 'I remember in the beginning of the show where he said he was going to be walking away for a while anyway. I believe this was his last contractural obligation to them anyway, and for the people way in the back- controversy makes money.', 'like_count': '10', 'reply_count': None}, {'comment_text': \"Dave Chappelle is off the hook! His comedy is hilarious his delivery is concise and it's comedy! Can't cancel Dave! He makes sense.\", 'like_count': '6', 'reply_count': None}, {'comment_text': 'That lady has the best voice for someone on radio.', 'like_count': '', 'reply_count': None}, {'comment_text': 'Dave seriously embarrasses everyone attempting this comedy thing!!! Thank you Mr. Chappelle for choosing your people over money EVERY SINGLE TIME!', 'like_count': '9', 'reply_count': None}, {'comment_text': 'Dave Chapelle is a genius and this show should compel us all to have the conversation! It’s very one sided these days and the story of Daphne is a true story! Let’s talk about that....It was deep and funny.. Hopefully we can all work together to understand both sides.. Empathy is not straight , it’s not gay, it’s bisexual, it must go both ways!!I️And btw Dave can’t be cancelled!️', 'like_count': '14', 'reply_count': '1 reply'}, {'comment_text': 'Dave doesn’t care if you like it or not. He’s like Evil Knievel, he gets paid for the attempt!', 'like_count': '17', 'reply_count': None}, {'comment_text': \"Let's not forget the effect of abuse on a person's mind. After being persecuted, isolated, etc, that person's mind will see more monsters under the bed that there really are. These communities have been so hurt they are perceiving enemies that aren't there.\", 'like_count': '', 'reply_count': None}, {'comment_text': '“You don’t like it, turn it off.” It’s that simple.', 'like_count': '24', 'reply_count': '3 replies'}, {'comment_text': \"Actually Charlemagne proved Dave's point even more without realizing it. You see, he took time to research what happened. On the surface what Dababy did looks bad, but Trans people do the opposite, they take the surface and ignore the context and the rest of the conversation.\", 'like_count': '24', 'reply_count': '2 replies'}, {'comment_text': \"I miss George Carlin because they would be having heart attack after heart attack because he'd be going in LIKE HE ALWAYS DOES. I'm glad Dave isn't bothered. Keep being amazing Dave we will keep supporting you.\", 'like_count': '6', 'reply_count': None}, {'comment_text': \"Dave is simply standing on the fact that comedians should be able to make fun of EVERYONE LIKE THEY ALWAYS HAVE but this one community can't take it.\", 'like_count': '', 'reply_count': None}, {'comment_text': \"Dave is a underground  comedian, hes not tied to no major companys, he's independent!!\", 'like_count': '9', 'reply_count': '1 reply'}, {'comment_text': 'Dave can’t be canceled he’s the goat. True inclusion mean excepting that we don’t all except everything. But can call exist with each other successfully. Cancel cancel culture.', 'like_count': '8', 'reply_count': None}, {'comment_text': \"Dave never said she took her life because she was shunned from her own community. He said im sure gettin dragged through Twitter didn't help.\", 'like_count': '6', 'reply_count': '1 reply'}, {'comment_text': \"These groups are basically giving Dave's The Closer more viewers....\", 'like_count': '', 'reply_count': None}, {'comment_text': \"Like he said, people should listen to what he's saying. And he was correct.\", 'like_count': '12', 'reply_count': None}, {'comment_text': \"I loved hearing the audience cringe during the specialI didn't realize that it had an actual sound to it#Worthy\", 'like_count': '11', 'reply_count': None}, {'comment_text': 'Dave ain’t going anywhere! He is one of our kings!', 'like_count': '6', 'reply_count': None}, {'comment_text': 'I have a question for the Trans Community: “Many in said group were quick to cancel Dave for his COMMENTS,but did nothing to Trump for his ACTIONS for banning Trans in the Military. Why?!”', 'like_count': '2', 'reply_count': None}, {'comment_text': 'All this “controversy” sells the sh!t out of tickets and makes Dave even more $$$$.', 'like_count': '12', 'reply_count': None}, {'comment_text': 'Protect Dave at all COSTS️', 'like_count': '16', 'reply_count': None}, {'comment_text': 'Dave reminded us what comedy is supposed to be \\nit’s comedy when do we all get so so serious if you don’t like it don’t watch\\n I loved it', 'like_count': '6', 'reply_count': None}, {'comment_text': 'Seriously....but seriously...this man walked away from $50M and went to Africa, then came back even stronger. You really think you can cancel him? ROTFL', 'like_count': '1', 'reply_count': None}, {'comment_text': 'They aint taking it down. Netflix still has most of Louis C.K.s specials on there platform lol', 'like_count': '5', 'reply_count': None}, {'comment_text': 'Once again. Dave’s right. They simply ‘don’t listen’. Point proven once again.', 'like_count': '9', 'reply_count': None}, {'comment_text': 'Now bring Flame Monroe on to upset them more', 'like_count': '4', 'reply_count': None}, {'comment_text': 'At the end of the day, the TRUTH could NEVER be cancelled.', 'like_count': '', 'reply_count': None}, {'comment_text': \"You can't cancel someone who's been popping since 91' and before social media\", 'like_count': '9', 'reply_count': None}, {'comment_text': 'Dave is truly amazing and I hope that more people start understanding how all this is driving us insane. I definitely stand with Dave. Speak your mind', 'like_count': '7', 'reply_count': None}, {'comment_text': 'I just got done watching it and about 20 minutes in it starts to be the funniest shit I’ve ever seen.', 'like_count': '27', 'reply_count': None}, {'comment_text': \"The ending Dave's show was beyond amazing\", 'like_count': '1', 'reply_count': None}, {'comment_text': \"As It should Dave. The show is to have communication and Looky here It's happening. Great show Dave\", 'like_count': '18', 'reply_count': None}, {'comment_text': 'They’re making his point! His jokes are in truth! This generation George Carlin!', 'like_count': '20', 'reply_count': None}, {'comment_text': 'when dave talked about his friend daphne dorman i was thinking like \"what a fun person to be around with\" and dave was like she committed suicide and i was immediately all saddened, annoyed, pissed and disappointed by how the community treated her. I\\'ve had gay uncles and lesbian aunties who i was close with and the way the new LGBTQ\\'s are acting and taking jokes is not how they were to me and other people and it\\'s just an absolutely sad thing for me to see.', 'like_count': '15', 'reply_count': None}, {'comment_text': 'I’ve got a couple friends who process like Chappelle.  One of them left a $500k a year gig because it became too much of a corporate bullshit nightmare for him. Travelled America in an RV after selling nearly everything he owned.\\nI say that because from those people I learned they see our cheap, plastic society for what it is because they have a knack for peeling back the carefully constructed artifices of our bullshit needs, wants, and drives.\\nPeople get angry at folks like Chappelle and the people I know because they aren’t perceptive enough to pick up the idea.  They can’t (or won’t) pick up the idea because they get so hung up on the buzzwords they can’t see the message.\\n\\nSomething the entertainment talking heads would do well to remember is:\\nChappelle don’t need you.  He’s proven that.', 'like_count': '', 'reply_count': None}, {'comment_text': 'Literally just finished watching!!LOVED IT!!', 'like_count': '5', 'reply_count': None}, {'comment_text': 'The very fact there’s talk of cancelling Dave Chappelle just goes to show that nuance is dead in this day and age.', 'like_count': '6', 'reply_count': None}, {'comment_text': 'That damn community wild af', 'like_count': '9', 'reply_count': None}, {'comment_text': \"Dave's number one defense is that he wasn't wrong. He held up a mirror on American society. If you don't like what you see, be that change you do want to see.\", 'like_count': '', 'reply_count': None}, {'comment_text': 'Now that’s what I call waking up good job guys David Chapelle’s special and a hilarious but true which made it spectacularly funny to thumbs up', 'like_count': '4', 'reply_count': None}, {'comment_text': 'I loved the special. Dave did his thing and was very honest and even to a degree vulnerable.', 'like_count': '4', 'reply_count': None}, {'comment_text': 'Sticks and stones still my favorite, but this just asgreat. He is a story teller and he delivered it beautifully', 'like_count': '8', 'reply_count': '1 reply'}, {'comment_text': 'Love how charlemagne put that out there about dababy. Very important', 'like_count': '1', 'reply_count': None}, {'comment_text': 'I love Dave idc he speaks what everyone thinks.', 'like_count': '4', 'reply_count': None}, {'comment_text': 'Ppl will always have a problem with the truth. Everything that Dave Said Was the Truth. Nothing was lies or false', 'like_count': '5', 'reply_count': None}, {'comment_text': 'Dave is the GOAT and melts snowflakes with', 'like_count': '4', 'reply_count': None}, {'comment_text': 'his intention is for people to THINK. To REFLECT and he knows the way to do it is not by preaching but with a punchline.', 'like_count': '', 'reply_count': None}, {'comment_text': 'The special is hilarious! Ppl act like this is the 1st time he’s told these type of jokes. Remember the “alphabet people” from his last special? It’s ridiculous.', 'like_count': '4', 'reply_count': None}, {'comment_text': \"The special is great. People are very sensitive but at the same time I can't tell people how to feel.\", 'like_count': '25', 'reply_count': '2 replies'}, {'comment_text': \"The standup was hilarious and touching. Dave chapelle standup always keeps me entertained and focused. ALot of sensitive people who really can't take a joke.\", 'like_count': '4', 'reply_count': None}, {'comment_text': 'Dave said what he said… Like he said in the special “Y’all too Brittle”', 'like_count': '1', 'reply_count': None}, {'comment_text': 'They can’t stand to see a black man be at the top.they should try watching his special.', 'like_count': '9', 'reply_count': None}, {'comment_text': 'Chapelle isn’t saying that it was justified or not justified he’s just saying that killing someone right or wrong won’t get you canceled yet insults do?', 'like_count': '4', 'reply_count': None}, {'comment_text': 'G.O.A.T. Chapelle', 'like_count': '7', 'reply_count': None}, {'comment_text': 'Dave Chapelle is our modern day Paul Mooney. The special was awesome, some people took it so negative. He was speaking very deep from his heart. He truly is a master of his craft. I loved it#NinJahKevSAiDIt', 'like_count': '1', 'reply_count': None}, {'comment_text': 'Charlamagne corny industry azz, protecting his ABCD bag is hilarious. The joke is the fact no outrage over taking someone’s life be it self defense or nah but getting canceled over saying anything remotely negative about the KQBTL. CTG gotta go', 'like_count': '4', 'reply_count': None}, {'comment_text': 'I watched the special after hearing about how “controversial” it is. I don’t even understand why people think that. He’s poking fun at the LGBTQ community but in a lot of ways defending them & acknowledging their struggles as marginalized members of society. They don’t play those clips though, just the sound bites where he’s making jokes about them. I thought the special was funny & entertaining. He made some great points.', 'like_count': '16', 'reply_count': None}, {'comment_text': 'What’s going on with today’s world? Everybody is so sensitive these days. God forbid anyone says anything and all of a sudden u see all these people get emotionally hurt. How do they deal with life, if they can’t even handle a joke? I have no problem with what u do in the bedroom, just keep it private. Growing up I knew about people of different sexualities but nobody was shoving it in my face like it is today. The other day in the store my kid pointed at this person and asked me if that’s a man or a woman? And I was so confused myself, that I couldn’t explain what kind of breed that was lol. I get that they wanted to become more open, and for others to be more accepting of their sexuality. But with more exposure u’ll naturally have more people talking about it. Don’t get butt hurt. U should be thankful to Chapelle for giving it time and attention.', 'like_count': '6', 'reply_count': None}, {'comment_text': 'Dave Chapelle has done more for the transgender community than cancel culture has. Comedy unites us and cancel culture divides us. Love you Dave Chapelle!', 'like_count': '1', 'reply_count': None}, {'comment_text': \"Wait a minute, Daphne is DEAD?! I'm NOT being funny, I'm very upset about this news.\", 'like_count': '7', 'reply_count': '3 replies'}, {'comment_text': 'Dave was speaking facts and funny. The Closure was very good', 'like_count': '4', 'reply_count': None}, {'comment_text': 'That’s crazy that special was funny it’s just jokes. Another classic by Dave Chapelle', 'like_count': '13', 'reply_count': None}, {'comment_text': 'Dave spoke nothing but the truth.. ! Lots of these people complaining didn’t watch the entire show!', 'like_count': '', 'reply_count': None}, {'comment_text': 'that special was fire, i loved every mintue of it', 'like_count': '12', 'reply_count': None}, {'comment_text': 'I figured they wouldnt leave him alone when he asked to be left alone.', 'like_count': '10', 'reply_count': None}, {'comment_text': \"Dave's comedy is simply a conversation. He's telling the audience his thoughts for then to decipher how they please. All of his dialogue is meant to spark conversation.\", 'like_count': '13', 'reply_count': '1 reply'}, {'comment_text': 'The truth is Dave is being funny and honest', 'like_count': '', 'reply_count': None}, {'comment_text': 'Once again his point is proven', 'like_count': '4', 'reply_count': None}, {'comment_text': 'Charlemagne is missing the point entirely and comes off defensive.\\n\\nDave didn’t need to specify whether or not it was self defense because the point he was trying drive home didn’t need it. He even says to Google it, which when you do that’s the first article that pops up containing all relevant details about the incident. Also, there’s a photo of them both that rolls through the credits, which adds to the fact that the joke had nothing to do with assassinating his character or painting him as a “monster”.', 'like_count': '10', 'reply_count': '5 replies'}, {'comment_text': 'Meanwhile the whole special Dave explained everything...albeit in his usual humorous manner. Today people continue to just ignore the message and only care about the moment/literal.', 'like_count': '4', 'reply_count': None}, {'comment_text': 'Actually, breakfast club, his intentions wasn\\'t to be funny. His intentions was to be REAL/TRUTHFUL while geniusly putting the context into a form that\\'s a lil bit more accepting, which is \"funny\".', 'like_count': '', 'reply_count': None}, {'comment_text': 'DAVE IS THE GOAT', 'like_count': '11', 'reply_count': None}, {'comment_text': \"It wasn't self defense the key witness didn't show up and  the detective even confirmed this was not a robbery gone wrong dude just killed someone\", 'like_count': '7', 'reply_count': None}, {'comment_text': 'I love how everyone loves Dave Chapelle. He’s so respected and should be. He makes fun of everyone, even the black community. How can you be upset?', 'like_count': '7', 'reply_count': '2 replies'}, {'comment_text': \"Dave Chappelle the GOAT. You cant cancel him. You won't cancel him. Us logical people will never let you cancel him.\", 'like_count': '', 'reply_count': None}, {'comment_text': 'I suggest reading up on that story regarding DaBaby killing the teen in Walmart. The family has been adamant that the kid was following him because he was a fan and wanted a pic and DaBaby snapped. And that is in line with several interactions he has had in public with fans. Career skyrocketed afterwards which says a lot about the dysfunction of our culture.', 'like_count': '10', 'reply_count': None}, {'comment_text': 'The negative responses from some of those who urge to cancel Dave’s special heard only what they wanted to hear. He was crystal clear about how he feels about the LGBTQ community. His closing bit was dedicated to someone very near and dear to him that he loves deeply, that died, and she happens to be a trans women. He spoke about how he started a trust fund for his dear friends daughter and the only narrative that those in the media and some in the LGBTQ community can report is his alleged dislike for the LGBTQ community?! What comedy special were y’all watching because you couldn’t have been watching The Closer.  That is NOT what he said at all! Y’all heard what y’all wanted to hear! Let’s talk about the real gems he was dropping in this special as he always does. This man is LEGENDARY. ICONIC. But unfortunately, some of y’all won’t see or appreciate that until it’s too late.', 'like_count': '5', 'reply_count': None}, {'comment_text': 'Dave my man thx again! For making me laugh', 'like_count': '4', 'reply_count': None}, {'comment_text': 'I always hated stand up comedy because most comedians always made crass jokes centred on sex or some shallow rubbish.. Chappelle is the first comedian to make you laugh at real life issues, promoting debate while educating you... He is a genius!', 'like_count': '', 'reply_count': None}, {'comment_text': 'Dave states at the end of his special that \"They are not listening.\" \\r\\nhe is literally fighting the most powerful movement in our time and winning. NO on has ever defeated LGTBQ.#POWER', 'like_count': '15', 'reply_count': None}, {'comment_text': 'Every time, cancel culture wants to go after a Dave Special. We go and boost the views. \"I have to watch just in case they really take it down\" is on the minds of fans.', 'like_count': '14', 'reply_count': '1 reply'}, {'comment_text': \"It's amazing how someone can get upset over their own LIFESTYLE choices!!!\", 'like_count': '13', 'reply_count': '1 reply'}, {'comment_text': \"I haven't watched it yet, but now I can't wait! My favorite joke by him so far is the LGBT in the car. How Gay man are driving, Lesbians are in the  Passenger seat, bisexuals are in the back with the Transgender and they pull over for the Questioning.\", 'like_count': '1', 'reply_count': '1 reply'}, {'comment_text': 'Special was hilarious. It was facts he was tellin. this world takes truth as hate.', 'like_count': '4', 'reply_count': None}, {'comment_text': 'Kudos to Dave for telling the truth. Even his jokes are truthful and the truth hurts those living a lie.', 'like_count': '5', 'reply_count': None}, {'comment_text': \"doesn't Chapelle joke about everybody?  isn't that what comedians do?\", 'like_count': '5', 'reply_count': None}, {'comment_text': 'First and only time in my life I every cared or wanted to hear the breakfast clubs opinion on something that matters.', 'like_count': '', 'reply_count': None}, {'comment_text': \"He legitimately proved to corporations that there's more money in not bowing down to the Twitter mob. Start of the end for cancel culture.\", 'like_count': '8', 'reply_count': '1 reply'}, {'comment_text': 'Leave Dave Chappelle ALONE. SO OVER HOLDING POLITICAL AGENDA CORRECTNESS. DAVE TOLD THE T R U T H', 'like_count': '20', 'reply_count': '3 replies'}, {'comment_text': 'Dave knew this conversation would make people show their true character. First time I have seen the breakfast club tip toe around something this intentional. They sounded like they had no opinions about it. Refreshing to hear people be left alone. There was that \"he\\'s a comedian\" jab thrown out as if he\\'s not considered one of the greatest to ever do it. The \"woke\" farm is having to see just how \"woke\" they want to be.', 'like_count': '7', 'reply_count': '1 reply'}, {'comment_text': 'Dave comedy is food for thought. Sarcasm a little satire plus social commentary.', 'like_count': '', 'reply_count': None}, {'comment_text': \"I'm sorry Dave isn't funny, HE'S HILARIOUS!!!\", 'like_count': '17', 'reply_count': '2 replies'}, {'comment_text': 'Special was dope period End of story and we gotta get back to sayin its just jokes in the world.', 'like_count': '4', 'reply_count': None}, {'comment_text': '“Every human on earth, had to pass through the legs of a woman” Why are women are so disrespected?', 'like_count': '4', 'reply_count': '1 reply'}, {'comment_text': 'I think the way he dissected today’s racism and a blindto our black men human experiences was pure fucking art. He stated he was going all in and showed empathy in the process of painting a compare and contrast through comedy. Beautiful', 'like_count': '1', 'reply_count': None}, {'comment_text': \"One of the funniest and true stand ups I've seen in a long time! I've gotta agree with Angela what about Daphne that was a testament to what type of person Dave is! Watch THE CLOSER BECAUSE ITS THAT FUNNY AND WORTH WATCHING AND THEN FORM A TRUE OPINION!\", 'like_count': '4', 'reply_count': None}, {'comment_text': 'Dave said these New Gays are soft', 'like_count': '4', 'reply_count': None}, {'comment_text': 'CharlieMane doesnt know comedy, and yes DaBaby is a monster.', 'like_count': '4', 'reply_count': None}, {'comment_text': \"If you don't like Dave Chappelle, that speaks volume of you as a person. I am going to be me, your industry and/or money will not control me or my life's outcome and the industry hates that. Shouts out to Dave Chapelle...\", 'like_count': '', 'reply_count': None}, {'comment_text': 'It was a weak set imo. JK and Chapelle are right, of course they are. But to devote most of his set to this crap made it pretty dull and a bit indulgent.', 'like_count': '4', 'reply_count': None}, {'comment_text': \"I'm tired of all these queens crying about everything, comedian's tell jokes. Get over it or take some midol.smh\", 'like_count': '6', 'reply_count': None}, {'comment_text': 'Why do people hold comedians to a higher standard than the news media? A comedian can’t misrepresent something to make a joke, but the news can lie to your face about life and death matters but Dave needs to get canceled??? It ain’t time to sweep the kitchen when the house is on fire!', 'like_count': '', 'reply_count': None}, {'comment_text': 'I loved his “Space Jews” joke. It was spot-on funny!', 'like_count': '', 'reply_count': None}, {'comment_text': \"DC is not malicious; he's funny.  DC's free to SAY anything (even funny comments) and we are free to listen and laugh; it was good.\", 'like_count': '', 'reply_count': None}, {'comment_text': \"Dave is not transphobic. I'm a 53 year old brown trans woman so I know when someone is with me or against me. And employees shouldn't determine Netflix content: Customers should\", 'like_count': '1', 'reply_count': None}, {'comment_text': \"Dave Chappelle is what legends are made of.  Dave is absolutely BRILLIANT and funny as HELLDave, we've got your back. \\nKeep speaking the TRUTH\", 'like_count': '', 'reply_count': None}, {'comment_text': 'Dave is genius! He’s figured out a way to speak on controversial issues in this cancel culture.  If you tell a joke as a personal experience something that you’ve gone through or experienced personally no one can dispute it because it’s your personal experience.', 'like_count': '', 'reply_count': None}, {'comment_text': 'Yee obviously the only one to actually watch the special', 'like_count': '', 'reply_count': None}, {'comment_text': 'Chapelle is a force of nature - you can’t cancel nature.', 'like_count': '', 'reply_count': None}, {'comment_text': 'He’s correct. 95% gave thumbs up to the closer!', 'like_count': '', 'reply_count': None}, {'comment_text': 'Dave\\'s the GOAT, can\\'t cancel him.\\nAny club wants to cancel him faces serious chances of being canceled by fans and comedians.\\nNetflix canceling him also insane, since he\\'s doing great for them.   More likely to extend and/or expand his deal.   See if he wants to do some limited run series.\\n\\nPlus seems like anyone who wants him cancelled didn\\'t watch the whole thing, he jokes about all communities and himself.\\nIt\\'ll do more harm then good trying to cancel Dave, laugh at it and be cool with a sense of humour, instead try to cancel him and be associated as \"Karen\\'s\" trying to ruin everyone\\'s fun. \\nWho wants to hang out with a \"Karen\" instead of someone with a sense of humour.', 'like_count': '', 'reply_count': None}, {'comment_text': 'Dave Chappelle today is what George Carlin was back in the day.... raw but real', 'like_count': '', 'reply_count': None}, {'comment_text': 'I think I heard a very good point on this situation. I agree that Netflix should not remove it but there is no denying the fact Chapelle is punching down when he disparages the trans community vs punching up. Society seems to prefer to attack the weak vs going after the powerful.', 'like_count': '', 'reply_count': None}, {'comment_text': 'Is anyone talking about the indiscriminate use of the N word with no issue, but one word about the LGBTQIA community and all hell breaks loose smdh\\nDave is always on point.', 'like_count': '', 'reply_count': None}, {'comment_text': \"Love your show. I was surprised you didn't mention Dave's reviews on Rotten Tomatoes in which their Tomato Meter was only 35% but the audience rating is 99%. I guess the wokes control the Tomato Meter. Sad but true.\", 'like_count': '3', 'reply_count': None}, {'comment_text': 'Dave is the true king of comedy', 'like_count': '', 'reply_count': None}, {'comment_text': 'Any adult man who looks like a Teenage Mutant Ninja Turtle should never be cancelled', 'like_count': '', 'reply_count': None}, {'comment_text': '“The truth does not need to be validated by your crooked knowledge” – Dick Gregory', 'like_count': '1', 'reply_count': None}, {'comment_text': \"I watched, I laughed, I oohed, and I oofed among other responses.  I am not saying no one should be offended and I am not cosigning him being cancelled.  There is so much happening in this world by those who have full intentions on hurting those in the lgbtq community.  Dave is a damn comedian and there are other comedians out there that will upset you along with Dave.  I choose not to spend my money to see them or take the time to watch them if they have pissed me off in the past.  They are a waste of my time.  I have been offended by different people who think I don't have a right to anything simply because I am black and/or female.  Those are the ones that I am more worried about getting cancelled.  The ones that can make laws and rules that go against me and those that look like me.  The ones who have ill intent in their damn hearts and souls.  Dave Chappelle doesn't make the rules, he is not in the position to sign off on laws that says, because of my gender I can't get a job or keep my job, he is not in the position to put me in prison because of my race or sexual preference, he is not in the position to make sure anyone who wants to physically harm me won't be held accountable for any violent acts against me! Pretty much what I am saying is, Dave Chappelle is a comedian and though words can hurt people and they do matter, he is in no position to control your life and cannot make rules/laws that screw you over.  Yes, you can let him know you are not okay with something he said that you found offensive... you should.  Share your thoughts and then don't watch shit else from him, don't support anything that supports him if it bothers you that way.  Though, remember that you will need to know this, are you guilty of ever using words that hurt someone?  Have you ever made someone feel like they don't matter.  If you can't say no, then be careful of what you expect of others.  We are all guilty (imo) of doing something that we complained about.  At the end of the day, I think if we talk more and explain how we feel and why, we can get a lot more accomplished.  Don't forget, we all need Jesus and God Bless us all!\", 'like_count': '', 'reply_count': None}, {'comment_text': 'Being criticized or disliked is not being \"cancelled\". \\nPunching down for laughs, while griping about being punched down on is called lateral violence. Bump this guy.\\nTo compare him to Richard Pryor, Lenny Bruce is a big stretch.', 'like_count': '', 'reply_count': None}, {'comment_text': 'They’re throwing a tantrum and making it bigger. They were valid points.', 'like_count': '', 'reply_count': None}, {'comment_text': 'Dave Chappelle. GOAT.', 'like_count': '1', 'reply_count': None}, {'comment_text': 'Dave chappelle said what eveyone can’t say without facing the mob of cancel culture.', 'like_count': '', 'reply_count': None}, {'comment_text': 'If you watched the whole thing he gave a special message about a Trans person in his life . It was a friend of his who passed away. Dave is a legend', 'like_count': '', 'reply_count': None}, {'comment_text': 'Genius dababy Team Chappelle all the way let’s go!!!!', 'like_count': '1', 'reply_count': None}, {'comment_text': 'Dave Chappelle  told the truth,while being a comedian at the same time! And if some people want to complain about what he said,then they don’t have to watch him.', 'like_count': '', 'reply_count': None}, {'comment_text': \"To see Charlemagne act like people shouldn't be offended and then get offended because Dave Chappelle talks about da baby is pretty funny actually\", 'like_count': '', 'reply_count': None}, {'comment_text': \"Whats crazy is that everywhere I look in the comment sections people have Dave's back..... that alone tells me enough.\", 'like_count': '', 'reply_count': None}, {'comment_text': \"most of the people who are upset haven't even watched the special to take in the context of the entire special.\", 'like_count': '', 'reply_count': None}, {'comment_text': \"You can tell that even these guys don't want to talk about this topic. They are scared of being canceled lol\", 'like_count': '', 'reply_count': None}, {'comment_text': 'Dave skillfully   Made da baby story into a funny story with a few slight changes to the truth', 'like_count': '', 'reply_count': None}, {'comment_text': 'I love when u can hide truths in \"jokes\"', 'like_count': '', 'reply_count': None}, {'comment_text': '\"If you don\\'t like it turn it off\" - PERIOD', 'like_count': '', 'reply_count': None}, {'comment_text': 'that\\'s my favorite statement, \"if you don\\'t like it, turn it off....\"  move on.', 'like_count': '', 'reply_count': None}, {'comment_text': \"Dave is not just a comedian he's  also an Educator, because if you were to really listen to what he's  saying YOU JUST MIGHT LEARN SOMETHING...the comment he made about the rapper that shot the guy in Walmart it was for us to understand that Black & Brown people can be killed and nobody blinks an eye BUT if any comment is made about the LGBTQIT IS THE WORST THING EVERRRR!!!#MYOPINON.\", 'like_count': '', 'reply_count': None}, {'comment_text': 'When Charlemagne said \"Dave isn\\'t trying to be malicious, he\\'s trying to be funny\" ... On top of that, he\\'s also trying to inform us all in regards to what the f**k is really going on and how we ALL need to come together, because their dividing and conquering tactic is winning right now.', 'like_count': '', 'reply_count': None}, {'comment_text': \"He's the Goat. No one will change that. He's a hero\", 'like_count': '', 'reply_count': None}, {'comment_text': 'when she asked if any of them watched the show, none said yes... i tuned out.', 'like_count': '', 'reply_count': None}, {'comment_text': \"Denzel didn't win a Oscar for the movie Glory but won it for being the bad guy in Training Day not Malcom X and etc\", 'like_count': '', 'reply_count': None}, {'comment_text': \"I like Charlemagne,  he's never ashamed to sound dumb.\", 'like_count': '', 'reply_count': None}, {'comment_text': 'I STAND BY DAVE CHAPELLE', 'like_count': '1', 'reply_count': None}, {'comment_text': 'Ctg speaking with a forked tongue , wonder why look at his dolls . Speaks volumes', 'like_count': '', 'reply_count': None}, {'comment_text': 'Man like Dave saying the things most people think but are too afraid to say', 'like_count': '', 'reply_count': None}, {'comment_text': 'He’s 80% funny and 20% offensive. But in order to think you have to risk being offensive (The Lobster)', 'like_count': '', 'reply_count': None}, {'comment_text': 'As a Jew i lough so hard about the \"space-Jews\" jokes!! It\\'s the best thing when you can lough about something in your own identity. Don\\'t take yourself and your ego too seriously guys...', 'like_count': '', 'reply_count': None}, {'comment_text': 'Angela can get while she’s reading the paper her voice is beautiful', 'like_count': '', 'reply_count': None}, {'comment_text': 'You know what’s funny about that Dababy joke?…I didn’t even need to know the back story to understand the joke. (Referencing that “taken out of context” argument) Like maybe there’s a lot more people out here that don’t need you to explain context. We get Dave. We know where Dave is coming from. We are Dave & are impressed by the way he creatively says what we are thinking. That goes for all his jokes, all day️', 'like_count': '', 'reply_count': None}, {'comment_text': \"Dave is awesome. He's been through a lot to get where he is now and I have total respect for the guy.... or non-birthing person (ugh).\", 'like_count': '3', 'reply_count': None}, {'comment_text': 'Dave Chappelle is the man, he is old school and speaks nothing but the truth.', 'like_count': '', 'reply_count': None}, {'comment_text': \"As a white guy who lives in Atlanta and has almost all black friends...if the black community and the LGBTQ community doesn't want Dave Chapelle any more...we'll gladly take him.\", 'like_count': '', 'reply_count': '1 reply'}, {'comment_text': 'No Angela, Dave did not say daphne killed her self because of that he said he doesn’t know if it was that but we all know it was but my point is he didn’t directly say it so no one should say that he did', 'like_count': '', 'reply_count': None}, {'comment_text': \"0:17Black people will fight for anyone other than themselves! That's why we need people like Umar Johnson\", 'like_count': '', 'reply_count': None}, {'comment_text': 'Whatever happened to \"If you don\\'t like it, then change the fuckin channel?\" NOBODY has ever said you HAVE TO LISTEN.', 'like_count': '', 'reply_count': None}, {'comment_text': 'Stand up with David Chapelle he’s rightone  man one woman makes a family a man’s always going to be born a man a woman is always going to be a woman this is how we were all made we make a family God made it this way  you can never Change this️️️️', 'like_count': '1', 'reply_count': None}, {'comment_text': \"I'd say the problem is that some people don't know the difference between gender & Sex, Sex is biological while Gender is Conceptual and dictated by Societal norms. \\n\\nJk Rowling doesn't understand that either and the only people who deny Biological Sex are few far in between to be taken seriously anyway.\", 'like_count': '', 'reply_count': None}, {'comment_text': 'The GOAT. People are crazy to try and cancel Chappelle.', 'like_count': '', 'reply_count': None}, {'comment_text': 'His jokes rang so much truth', 'like_count': '', 'reply_count': None}, {'comment_text': 'Charlamagne thinks Harry Potter is complicated lol', 'like_count': '', 'reply_count': None}, {'comment_text': 'Dave is the man! He spoke truth!', 'like_count': '', 'reply_count': None}, {'comment_text': \"Dave Chappelle is thee man!!! He definitely addresses real issues and is extremely clever in his delivery.... where is the lie in what he said???  He said nothing hateful, he is a comedian and it's about time someone steps up and states the damn truth.   Gender IS and Always will be a factor!!!\", 'like_count': '', 'reply_count': None}, {'comment_text': \"Cancelling Dave Chappelle for saying something insensitive about a marginalized community is like trying to cancel Eminem for his lyrics or South Park for the same thing. They're here, they've been here and they ain't going anywhere.\", 'like_count': '', 'reply_count': None}, {'comment_text': 'Not only was he trying to be funny (Dave Chapelle) but also he is a comedian, with such intelligence, that he is provoking people to think about this \"cancel culture\" that is so widespread. He is effectively defending the freedom of speech of everyone - and that facts matter more than your opinions i.e. gender does exist, it is a fact. I always supported trans-women and men but bullying people to the point of negating the truth because it hurts your feelings..... It\\'s mad!', 'like_count': '', 'reply_count': None}, {'comment_text': 'Kinda sad how a lot of these people want to shame and cancel those who \"offend\" them because they have shame for who they were born as biologically and want to ignore/cancel that part of themselves. I don\\'t understand everything they\\'re going through, but I also shouldn\\'t be forced to believe them and see it as they do. And hateful spite isn\\'t the answer, like, what are we actually accomplishing with canceling?', 'like_count': '', 'reply_count': None}, {'comment_text': \"I don't get what the big deal is. Dave Chappelle is only just a once in a lifetime genius that will be remembered when most of us are gone.\", 'like_count': '', 'reply_count': None}, {'comment_text': 'I’ve watched the whole special, it was hilarious, I loved it, and everything being said is being taken out of context and just convenient sound bites! Not only that, but this artist uses everything and everyone in his material, which is inclusive and universal, as long as it’s funny and pertinent… Dave Chappelle is a hell of an artist and one of my favourite to watch. Love his craft!', 'like_count': '3', 'reply_count': None}, {'comment_text': \"The jokes were halarious and that's the point of comedy.\", 'like_count': '', 'reply_count': None}, {'comment_text': 'Netflix cancel Chapelle = I cancel my Netflix.', 'like_count': '', 'reply_count': None}, {'comment_text': 'There\\'s an answer. \"If you don\\'t like it, don\\'t watch it\"️', 'like_count': '', 'reply_count': None}, {'comment_text': 'I feel the people that are outraged are majority of people who ain’t even watch they just watching lil sound bites', 'like_count': '1', 'reply_count': None}, {'comment_text': '“Netflix will probably put out some numbers that will show otherwise.” Charlamagne saying out loud what we all know to be true.', 'like_count': '1', 'reply_count': None}, {'comment_text': 'He didn’t lie️ Facts are Facts.', 'like_count': '', 'reply_count': None}, {'comment_text': \"Man this show was funny beyond belief. I'm sorry for anyone who got offended, it's called comedy people.\", 'like_count': '', 'reply_count': None}, {'comment_text': \"It was utterly brilliant. The space Jews joke went over a lot of people's heads. He makes some incredibly honest points and that's why we are discussing it. Honesty and truth seems to be a rare commodity these days. Interesting how the lgbtq community drown out his message about lgbqt bullying someone to the point where they take their own life! But we ate too busy talking about he is telling the truth?\", 'like_count': '', 'reply_count': None}, {'comment_text': 'To be free... still has a cost...change that.. Chappelle is awesome', 'like_count': '', 'reply_count': None}, {'comment_text': \"Watched the entire special numerous times.  Most real and heart felt delivery possible.  If you watch that special or any of Dave chappelle's comedy or writings it is not rational to come away from that thinking it was racist, hateful or anything but just common sense.  I agree that everybody has the right to live their life and be happy and to live without fear for their beliefs race or gender.  But that does not mean I have to refer to a man as a woman or watch a man beat up a woman in a MMA fight or compete in the Olympics as a woman the world needs more common sense.  We are speaking reality not hate....and yes....that is the really hilarious part\", 'like_count': '', 'reply_count': None}, {'comment_text': 'He didn’t even want to go', 'like_count': '', 'reply_count': None}, {'comment_text': 'anyone else catch how Cthgod tried to act like he didn\\'t see the special, yet says \"there were other things to get upset about\" how would he know?', 'like_count': '', 'reply_count': None}, {'comment_text': 'Why would Netflix cancel him when they booked the location, filmed the shit, edited the shit, paid him million for the shit and and and......they saw it first before they UPLOADED THE SHIT SO WE COULD SEE IT.', 'like_count': '', 'reply_count': None}, {'comment_text': 'Nah that ish made me cry Dave will always be the GOAT of stand up comedy', 'like_count': '', 'reply_count': None}, {'comment_text': 'By the end of the day you just have to answer one thing, \"how much is enough\". If you have contentment in this world then no one can take you down.', 'like_count': '', 'reply_count': None}, {'comment_text': 'I’m from Michigan and everything that Dave said about my state was funny and true.', 'like_count': '', 'reply_count': None}, {'comment_text': \"The guy's a hero.\", 'like_count': '', 'reply_count': None}, {'comment_text': 'Nothing or no one will ever make me stop.loving or watching Dave Chappelle.', 'like_count': '', 'reply_count': None}, {'comment_text': 'They are not of the same state of mind/level as Mr Dave F×ckin Chapelle. He is a Genius at what he does. A legend of our time really and truly.', 'like_count': '', 'reply_count': None}, {'comment_text': 'People are soft. People pick apart shit to find reasons to be offended and don’t pay attention to message. Also...HE’S A DAMN COMEDIAN! Stop being so dam sensitive', 'like_count': '1', 'reply_count': '1 reply'}, {'comment_text': 'He’s only guy in history to cancel a 50M deal. Can’t cancel this type of person', 'like_count': '', 'reply_count': None}, {'comment_text': \"It wasn't just a good it was the truth.\", 'like_count': '', 'reply_count': None}, {'comment_text': \"If a person is offended, that is their problem, not anyone else's!!!\", 'like_count': '', 'reply_count': None}, {'comment_text': \"Please don't give in Netflix!!! Allow Dave to be himself. If people don't like it they don't have to tune in.  I promise you will continue to make money and he can continue being Dave.\", 'like_count': '', 'reply_count': None}, {'comment_text': \"I think one of my favorite bits was about the time's up/me too movement and how he said he was for the cause, not the approach cause it was totally valid.\\nThere are privileged folks who are all talk and can wear the color themed dresses or do black boxes thing on social media but toactuallysacrifice their comfort or privilege, that is a bridge too far.\", 'like_count': '1', 'reply_count': None}, {'comment_text': 'Dave clearly explained that the situation about the baby was self defense.', 'like_count': '', 'reply_count': None}, {'comment_text': \"He literally doesn't care if you watch his sht or not, he is there cause he wants to\", 'like_count': '', 'reply_count': None}, {'comment_text': 'Dave is King', 'like_count': '1', 'reply_count': None}, {'comment_text': 'This is what i understand about yall, if a person say \"being apart of of lgbtq community is bad\" yall disagree, but yall trying to force shit into people as if being gay is a good action... it may feel good to yall twistup folks, im not saying it can\\'t feel good to yall twist up, but because it feels good to yall doesn\\'t mean it\\'s good for mankind!!', 'like_count': '', 'reply_count': None}, {'comment_text': \"Keep the show on Netflix. He's just telling the truth. \\nTruth don't care about your feelings.\", 'like_count': '', 'reply_count': None}, {'comment_text': 'Dave is like a protected species', 'like_count': '', 'reply_count': None}, {'comment_text': 'Guys, nobody (except this panel) took it to the extreme of DaBaby willy nilly killing people at Walmart. Dave was trying to show how killing a person in a context is still not worse than a tweetstorm.', 'like_count': '', 'reply_count': None}, {'comment_text': 'The DaBaby point was in bad faith (as he was acting in self defense therefore didn’t commit a crime,) but Dave’s point was spot on. The LGBTQ+ community could do much more in supporting the black community as the black community has come up to bat for them without absolute reciprocity. Same with the Asian community.', 'like_count': '', 'reply_count': None}, {'comment_text': \"Dave ChappelleLong beach Griffey.\\n\\nTrying to get cancel but they can't.\", 'like_count': '', 'reply_count': None}, {'comment_text': 'Dave is not a comedian, he is now the GOAT', 'like_count': '', 'reply_count': None}, {'comment_text': 'Words mean nothing if there is no malicious intent behind the words.  Dave Chapelle is uncancellable', 'like_count': '', 'reply_count': None}, {'comment_text': 'Dave is Brilliant!  Sorry if you have to \"think\" a little with some of his humor, but that\\'s why we have brains...to \"think!\"', 'like_count': '', 'reply_count': None}, {'comment_text': 'she called Vlad glad that shit legendary lmaoo', 'like_count': '', 'reply_count': None}, {'comment_text': 'Fact checking with Dave Chappell', 'like_count': '', 'reply_count': None}, {'comment_text': '\"I am not telling another joke about you until we are both sure, that we are laughing together.\" - such a shame, now of all times someone needs to shame these self entitled goblins back to reality', 'like_count': '', 'reply_count': None}, {'comment_text': \"Why would netflix take it down ? The genie is out of the bottle and it's never going back.\", 'like_count': '', 'reply_count': None}, {'comment_text': 'The comment about being molested by the priest  was the only thing that made me cringe...but no one is talking about that. This 100% proves Dave is 100% right.', 'like_count': '', 'reply_count': None}, {'comment_text': 'You see them two white trans in the audience not clapping or laughing', 'like_count': '1', 'reply_count': None}, {'comment_text': 'When the jester can no longer tell the truth, the king had became a tyrant.', 'like_count': '', 'reply_count': None}, {'comment_text': 'You can actually read the Facebook thread about people trying to find Daphne when she killed herself.', 'like_count': '', 'reply_count': None}, {'comment_text': '“They’re not listening.” ~ Dave Chapelle', 'like_count': '', 'reply_count': None}, {'comment_text': 'People, this is a comedian and one of the greatest ever, why is one group off limits?', 'like_count': '', 'reply_count': None}, {'comment_text': 'Thank you Daveyou have just just made me laugh my arse off watching the netflix special,Off to rewatch Sticks and stones now', 'like_count': '2', 'reply_count': None}, {'comment_text': 'Greatest comedy special I’ve ever seen!', 'like_count': '1', 'reply_count': None}, {'comment_text': 'Dave Chappel is a living legend...', 'like_count': '', 'reply_count': None}, {'comment_text': 'Didn\\'t Dave also make the point that the t.g. community has a voice which is disproportionately \"louder\" when it comes to discrimination, in comparison to the African American community which has been discriminated against for centuries?', 'like_count': '', 'reply_count': None}, {'comment_text': 'Daphne was BULLIED by her community who claim they are for everyone.', 'like_count': '', 'reply_count': None}, {'comment_text': 'What he said is what he said. I am fine with it and 80% of the world is!', 'like_count': '', 'reply_count': None}, {'comment_text': \"Was Da Baby's case not thrown out because the witness did not show up and the tape never made it into evidence? Not because it was self defense. More people saying the victim was a fan approaching Da Baby.\", 'like_count': '', 'reply_count': None}, {'comment_text': \"Dave is a legend. Ama put that out. When this all came out and am seeing some people trying to cancel him. Am like y'al know this Dave, right?\", 'like_count': '1', 'reply_count': None}, {'comment_text': 'The Dave slander is ridiculous.', 'like_count': '1', 'reply_count': None}, {'comment_text': '“Cancelled” guy gets millions claiming he’s “cancelled” while he is on a Netflix special. Okay dude', 'like_count': '', 'reply_count': None}, {'comment_text': 'YOU DO NOT HAVE TO AGREE - LAUGHTER IS THE SAVIOUR OF THE WORLD -', 'like_count': '', 'reply_count': None}, {'comment_text': \"Any Trans gay w/e person with any sort of since that can follow a comedy bit passed the surface level couldn't possibly be offended by Dave's special...\", 'like_count': '1', 'reply_count': None}, {'comment_text': 'So children are you learning something?  So glad you are all starting to see the light.  You never had it harder than us.', 'like_count': '', 'reply_count': None}, {'comment_text': 'If I had to choose between Dave and the Alphabet SoupCommunity.  I choose Dave', 'like_count': '', 'reply_count': None}, {'comment_text': 'Dave Chappell is the GOAT', 'like_count': '1', 'reply_count': None}, {'comment_text': \"Technically. Da babys charges were dropped cause the witness backed out of taking the stand. So technically, it's not cause it was proven it was self defense.\", 'like_count': '', 'reply_count': None}, {'comment_text': \"I'm straight & i laughed so hard \\nIt's ok\", 'like_count': '', 'reply_count': None}, {'comment_text': \"I heard 1000 Netflix employees were going to walk out if they don't boot Dave. We will all be better off if they walk and are replaced with people with freedom of thought. Reality.\", 'like_count': '', 'reply_count': None}, {'comment_text': 'It is hilarious Dave comes at everyone.', 'like_count': '', 'reply_count': None}, {'comment_text': 'I don’t think he’s being cancelled he’s being asked by the trans community to show up at the table to have discourse and discussion. He won’t show up.. there’s a difference', 'like_count': '', 'reply_count': None}, {'comment_text': \"the 2 things that probably bother me most about this whole scandal is this. 1) freedom of speech and 2) he targets EVERY group of people of all different races, creeds, genders, ect. Why the f*** does one particular group out of them all decide to make a big deal and try and cancel him and all this crazy stuff? Like where's the Jewish people at? The white dope fiens, people from the projects? That's what infuriates me about this stuff honestly\", 'like_count': '', 'reply_count': None}, {'comment_text': 'I’d say Dave is borderline an activist with his comedy. Every joke he tells on trans people helps brings them out of the darkness and humanizes them. Now obviously they’ve been doing this for themselves but having him bridge the gap from the other side is important too. He asks the questions most people are afraid to ask  and don’t know how to ask. And if you can’t be made fun of in this society then how can you truly be accepted and equal?', 'like_count': '', 'reply_count': None}, {'comment_text': 'This latest special felt a kinda thrown together. Like, he had a Netflix deal to deliver one more special and The Closer was whatever didn’t make it into his other ones', 'like_count': '', 'reply_count': None}, {'comment_text': 'If you can’t take it don’t watch it. There won’t be any comedy shows left because comedians will be scarred to say anything.', 'like_count': '', 'reply_count': None}, {'comment_text': 'Trying to cancel Chappelle is like trying to cancel Eminem, not gonna happen. All these fools just writing his next special for him.', 'like_count': '', 'reply_count': None}, {'comment_text': 'You can disagree but you cannot take away our free speech no matter who you are.', 'like_count': '', 'reply_count': None}, {'comment_text': 'Dave tells the  truth.', 'like_count': '', 'reply_count': None}, {'comment_text': 'Dave is a legend', 'like_count': '', 'reply_count': None}, {'comment_text': 'You notice how many records behind \"The Closer\". Hope to see you sooner than later GOAT.', 'like_count': '', 'reply_count': None}, {'comment_text': 'Everybody go to Netflix and \"Like\" or \"Thumbs up\" Dave Chappelle\\'s special to show support.', 'like_count': '', 'reply_count': None}, {'comment_text': 'Dave makes a good point. The woman who called the Lakers the N word didn’t get eradicated.', 'like_count': '', 'reply_count': None}, {'comment_text': \"Dave is FUNNY AF!!!! KMA if you can't take a JOKE!!!!\", 'like_count': '', 'reply_count': None}, {'comment_text': \"I love Dave Chappelle he is funny and real. He is a comedian he's suppose to push the limits\", 'like_count': '', 'reply_count': None}, {'comment_text': \"Just stop paying attention to these so-called cancellers.  They can't cancel Dave, they just actin' a fool.\", 'like_count': '', 'reply_count': None}, {'comment_text': 'You can’t destroy a man that doesn’t care. We should treat everyone with love. Doesn’t matter if you are a trans person or a Nazi skinhead. Maybe if we treated hateful people with love they could change. By attacking people who do wrong we are just reinforcing their hatred towards the world.', 'like_count': '', 'reply_count': None}, {'comment_text': \"He shot a black man just because of a chain. He values his chain more than another black man's life. Like you Charlemagne.\", 'like_count': '', 'reply_count': None}, {'comment_text': 'Gender has different definitions. \\nGender is referred to biological sex. \\nGender also refers to identity. \\nThe problem with the gender discussion is people are talking right past each other.', 'like_count': '', 'reply_count': None}, {'comment_text': 'DAVE CHAPPELLE FOR PRESIDENT IN 2024 !!!!!!!', 'like_count': '1', 'reply_count': None}, {'comment_text': \"(Not the exact words) How ironic is it that his whole career he hits and dodges ppl, and a car hits him and ends up killing him? -Charlamagne on Sweetpea Whittaker\\nThe difference between Chapelle's statement is This quote was NOT meant to be a joke and had no message behind it.\", 'like_count': '', 'reply_count': None}, {'comment_text': 'Thanks. You are far more centered and rather humble for a show with a title Rumor.', 'like_count': '', 'reply_count': None}, {'comment_text': \"Chappelle is invincible! Tell the truth to the devils face! I'm proud of you!\", 'like_count': '', 'reply_count': None}, {'comment_text': 'It’s a small number of people who protested!', 'like_count': '', 'reply_count': None}, {'comment_text': 'What Dave Chappelle does is no different that what the Archie Bunker character on \"All In The Family\" did brings controversial issuesto light using the genre of comedy.', 'like_count': '', 'reply_count': None}, {'comment_text': 'The viewers miss the ENTIRE POINT of the Netflix special with Dave Chappelle….this man is a comedic genius.  I guess no one was open and listen to the end of the show.', 'like_count': '', 'reply_count': None}, {'comment_text': 'I love king dave,he did nothing wrong i enjoyed the CLOSER', 'like_count': '1', 'reply_count': None}, {'comment_text': 'Charlamagne \"well what he said about da baby is wrong, but his point about transgender people is right and funny\"', 'like_count': '', 'reply_count': None}, {'comment_text': 'My Respect for this man just went through the Roof !', 'like_count': '', 'reply_count': None}, {'comment_text': '99 percent of people loved it, only 1 percent have an issue.', 'like_count': '', 'reply_count': None}, {'comment_text': 'Thanks for the spoilers! You guys rock! :D', 'like_count': '', 'reply_count': None}, {'comment_text': 'Dave Chappelle the goat of comedy', 'like_count': '', 'reply_count': None}, {'comment_text': 'Love how spending more time joking about how pissed trans people were that nobody wants to say space jews.', 'like_count': '', 'reply_count': None}, {'comment_text': \"People who defend him are saying that he is a comedian so that should make it alright.  Guess what.  It is alright to have an opinion even if you aren't a comedian. To think that we should remove someone's right to speak what they think regardless of whether or not they are a comedian is unwarranted suppression.  How foolish and narrow minded.\", 'like_count': '', 'reply_count': None}, {'comment_text': 'As a gay man I am getting really tired of most if not all of the lgbt community who tries to speak for me.  We are not oppressed, We are not \"special\", We are just people. People need to humble themselves and realize that.', 'like_count': '', 'reply_count': None}, {'comment_text': 'he once said his career ended a long time ago they cant end his career.', 'like_count': '', 'reply_count': None}, {'comment_text': 'Dave said \"Google it \" talking about dababy, knowing when they do they will see it was in self defence and get the full story. Dave did that because the shooting in itself wasn\\'t his focus. Dave is an artist, he paints with his words. You can\\'t run with just one part of what he says, you have to stand back and look at it as a whole. There are layers and depth to his art, always pay attention to his intro andoutro.Youdon\\'t have to like him but don\\'t disrespect him. The hypocrisy of cancel culture is one of its fundamental flaws.', 'like_count': '', 'reply_count': None}, {'comment_text': 'Dave Chappelle was spot on, do shut up all those snowflakes out there !', 'like_count': '1', 'reply_count': None}, {'comment_text': 'Charlemagne in his feelings about da baby', 'like_count': '', 'reply_count': None}, {'comment_text': 'You mean misinformation like Angela saying Daphne killed herself because she was shunned by the lgbtq community for supporting Dave? Lol. That’s not what was said in the special, what he said was, he didn’t know what she was struggling with, but surely her getting dragged didn’t help at all.', 'like_count': '', 'reply_count': None}, {'comment_text': \"I love dave and is the greatest comedian there ever was...he stays true to himself regardless of all the bullshit people wanna complain about...grow the hell up and change the channel if you don't like whats on..its time Americans stop bowing to the dam .00001% of the population..you go dave\", 'like_count': '', 'reply_count': None}, {'comment_text': \"Funny and thought provoking, he's the conversation starter\", 'like_count': '', 'reply_count': None}, {'comment_text': \"Let's keep it real. The alphabet people were really upset because he exposed their community's own dysfunction. Daphne took her life because of how the alphabet people(her tribe) cancelled her for standing up for Chapelle. They don't like when you put a spotlight on their bullying ways. Period. They do to others the very thing they fight against. Leave Chapelle alone and figure out how to not be the people you hate.\", 'like_count': '', 'reply_count': None}, {'comment_text': 'I would vote Dave for the next president of the USA if I could, one of the realist and funniest guys around', 'like_count': '', 'reply_count': None}, {'comment_text': 'Finally y’all said something real and not on some police shit and pushing agenda shit... good job breakfast club !', 'like_count': '', 'reply_count': None}, {'comment_text': '4:50that’s not really what he said. He said “I don’t think being shunned by her own community was the reason behind her death, but I bet it didn’t help”', 'like_count': '', 'reply_count': None}, {'comment_text': 'Many cant critically think without interjecting their feelings.', 'like_count': '', 'reply_count': None}, {'comment_text': 'It’s crazy .. the cancel culture needs to stop. Dave Chapelle killed it but unfortunately people do not listen to the message because they are blinded by hate because if they listened they would’ve heard the story of Daphne and how has he said he did not agree with her choices but respected her as a human being. That says a lot about character and most of all respect. I have a message to “the LBGQT community love is love. With that said they should practice what they preach because if not they are calling the kettle black and defeats the hole purpose .', 'like_count': '', 'reply_count': None}, {'comment_text': 'Dave said the charges against Dababy were dropped … also with Daphne’s death he stated the trans community wasn’t responsible but he’s sure the backlash after her defending him did not help…', 'like_count': '', 'reply_count': None}, {'comment_text': 'No one is protected from truth.', 'like_count': '', 'reply_count': None}, {'comment_text': 'I think the point is da baby’s career wasn’t defected by killing someone but it was affected by a fact', 'like_count': '', 'reply_count': None}, {'comment_text': 'Pretty funny to me. The story telling was bar none. It was called the closer to address what people were saying. It was a conversation.', 'like_count': '', 'reply_count': None}, {'comment_text': 'I Love Dave Chapelle, if the Alphabet movement does not then don’t listen to it, but they cannot deny me the option to listen on a service that I pay for. They have plenty of Alphabet movement movies and we are not complaining to them to take those down. If we don’t like something we do not watch it;\\nperiod!', 'like_count': '', 'reply_count': None}, {'comment_text': \"We watched the show. I think Dave is a funny guy. I disagree with many of his views, but absolutely love the guy. I'm white and he has attacked and stereotyped my race more times than I can count. Am I offended? Hell no!! I laughed my ass off.\\nThe story he told about the transgender he befriended was funny, but a beautiful story at the same time. The message at the end of the story was prolific and on point. He should be hailed and admired. To call for cancellation is just plain stupid and close minded.\", 'like_count': '', 'reply_count': None}, {'comment_text': 'Insensitive people. My God what a world we live in. Keep up the good work David.', 'like_count': '', 'reply_count': None}, {'comment_text': 'Like Charlemagne said there is so many things on the special that people can be outraged about but as always people choose to focus on the LGBTG part and that is exactly the whole point Dave tried to prove', 'like_count': '', 'reply_count': None}, {'comment_text': \"I think Dave Chappelle is arguably the greatest comedian since Richard Pryor. This special in particular, I found to be one of his weaker ones. Wasn't offended or anything, I just didn't find it as funny. As for the controversy, anything he said in the special is far less worrying to me than the fact that there are actually people who want Netflix to remove this special.\", 'like_count': '', 'reply_count': None}, {'comment_text': 'Dave Chappelle is a great brother', 'like_count': '', 'reply_count': None}, {'comment_text': \"People completely missed Dave's purpose of his special. They are so quick to demonize people who don't fit their ideals and opinions and even quickly turn on their own kind if they defend people like Dave\", 'like_count': '', 'reply_count': None}, {'comment_text': \"I'm glad Chapelle is pushing against this bullshit! It takes balls\", 'like_count': '', 'reply_count': None}, {'comment_text': 'Dave Chappelle, is right on, and I wish he could say more, and talk the shit on them', 'like_count': '', 'reply_count': None}, {'comment_text': 'People before you start talk about cancel Dave Chapelle watch the show you need to watch the show leave the man alone', 'like_count': '', 'reply_count': None}, {'comment_text': \"Dave's One of Us!! On Steriods bcuz of his Fame/Influence... Love Ya, Chappelle. \\\\,,/ \\\\,,/ Thanks for helping my lil Sis and her 4 kids back during Katrina, Son!! <3 <3\", 'like_count': '', 'reply_count': None}, {'comment_text': \"Loved the Space Jew bit. Very brave and funny. That's why he is a genius.\", 'like_count': '', 'reply_count': None}, {'comment_text': 'I watched this expecting Charlemagne to give a little more on this but all I’ll say is I have a strong feeling that the people who are outraged either 1) didn’t watch it themselves and are following the masses or 2) watched it with the expectation of being outraged and didn’t truly listen to what was being said.', 'like_count': '', 'reply_count': None}, {'comment_text': 'Dave Chappelle was telling the truth.', 'like_count': '', 'reply_count': None}, {'comment_text': 'I like Dave chapelle and don’t think a comedian should be canceled because of jokes but people should be consistent .if people make jokes about other minorities then they should also chill', 'like_count': '', 'reply_count': None}, {'comment_text': 'Charlamain tha gay Changed his tune because he know nobody’s canceling Dave who spoke out against it in an earlier interview', 'like_count': '', 'reply_count': None}, {'comment_text': 'I think he’s just starting a conversation that need’s to be had .', 'like_count': '', 'reply_count': None}, {'comment_text': 'It’s impossible to cancel a man who already canceled himself.', 'like_count': '', 'reply_count': None}, {'comment_text': 'I heard Dave talk about Daphne taking her life. She was Bullied', 'like_count': '1', 'reply_count': None}, {'comment_text': \"I will always love Dave Chappelle; he's insanely funny. Not sure what jokes he said and I'm looking around utube for them now. but I'd bet he was funny as heck. Not sure why people or anyone else thinks they're bullet proof from a comedian. No one is, and no one should be. it's just how it is, they tag everybody, everywhere, doesn't matter what race, color, creed, etc. a good comedian especially a really funny one, clowns da shyt, out of everyone. Open season.\", 'like_count': '', 'reply_count': None}, {'comment_text': \"Hey man, nobody cares about Dababy's case, the message was clear.\", 'like_count': '1', 'reply_count': '1 reply'}, {'comment_text': 'You gotta love the crazy Chapelle fans screaming about poor MULTI-millionaires being \"cancelled\" while they still are working and making money. Poor victims like Dave and JK, I hope they are OK!!!', 'like_count': '', 'reply_count': None}, {'comment_text': \"The lettergang is mad because Dave exposed and criticized their agenda, and he did so while simultaneously showing empathy for the group as well as sharing his personal experiences with an individual, thus debunking the myth that you can't have to ideas in your head at the same time.\", 'like_count': '', 'reply_count': None}, {'comment_text': 'dave is the goat its just jokes lmao', 'like_count': '', 'reply_count': None}, {'comment_text': 'how can you cancel someone who turned his back from a 50M deal?', 'like_count': '', 'reply_count': None}, {'comment_text': 'People outraged by comedy need their buttons pressed.', 'like_count': '', 'reply_count': None}, {'comment_text': 'That beyond p…. Joke was funny', 'like_count': '', 'reply_count': None}, {'comment_text': 'I lov Dave he is the best simple!! Goatof new age comedy', 'like_count': '', 'reply_count': None}, {'comment_text': \"I think Dave Chapelle made his point at the end and his gay jokes didn't bother me because I know the difference between a joke and avid hate speech.\", 'like_count': '', 'reply_count': None}, {'comment_text': 'DAVE MAKE A COMEBACK WITH YOUR SHOW.MUCH LOVE', 'like_count': '', 'reply_count': None}, {'comment_text': 'Da babys charges only got his charges dropped because the key witness just didnt show up and they didnt show the video in court', 'like_count': '', 'reply_count': None}, {'comment_text': 'He is absolutely valid tho...while the charges were dropped...keep in mind what dababy said on stage was 100 percent legal. He didnt say anypmes name so how can you ban him? What naturally would happen is his fans who felt violated would stop supporting him and the companies who were offended would stop doing business with him so why not let it be natural?', 'like_count': '', 'reply_count': None}, {'comment_text': 'Why am I not surprised by this reaction', 'like_count': '', 'reply_count': None}, {'comment_text': \"Chapelle is a comedian, so don't be concerned about what he says, also don't listen to him, also he is a good person, and also he is purposefully trying to outrage people...??  This is incoherent....\", 'like_count': '', 'reply_count': None}, {'comment_text': \"Why cancel anyone? If you don't like what they say, ignore it, dispute it, try to change their mind or views.....so many options. Cancelling is cowardice and shows lack of competence or the ability to communicate.\", 'like_count': '', 'reply_count': None}, {'comment_text': \"There is no controversy. Stop saying this. He's not ridiculing anyone.\", 'like_count': '', 'reply_count': None}, {'comment_text': '\"Negative reviews\"? It has 96% positive on rotten tomatoes.', 'like_count': '', 'reply_count': None}, {'comment_text': 'Like you said:  \"Dave Chapelle is a comedian\".', 'like_count': '', 'reply_count': None}, {'comment_text': 'AND YESS GENDER IS A FACT HE HIT IT RIGHT ON POINT', 'like_count': '', 'reply_count': None}, {'comment_text': 'At the end of the day if you have a (x,x) your a women and if you have an (x,y) your a man, it’s biologically impossible for a man to be a women or vise versa. Just because your passionate about your beliefs doesn’t make it the truth and I’m sure you wouldn’t want others to push their beliefs on you. Going along with this to cater to their emotions does nothing but play into their psychosis.', 'like_count': '', 'reply_count': None}, {'comment_text': \"All I'm saying is if someone made a bad black joke, they're cancelled, full stop, no exceptions\", 'like_count': '', 'reply_count': None}, {'comment_text': \"The intention is to be funny and get people to think. People today don't think. They hear what they want, then interpret the half they wanted to hear to suit whatever motivates them. If you look in the mirror and see a victim you will treat the world as your abuser. I am a black male from the worst conditions who beat the odds not by blaming the world, but by fighting for my place in it.\", 'like_count': '', 'reply_count': None}, {'comment_text': 'I’m from NC we don’t have self-defense regardless of the situation you wearing a slaughter charge but they can give you probation', 'like_count': '', 'reply_count': None}, {'comment_text': 'Dave has changed my life ever since the first time I heard his comedy.  When I watched \"The Closer,\" I thought he was lamenting how white folks will always find a way to exclude progress for black Americans.  That can be seen from the suffrage movement all the way to today.  As to the Trans community, I felt like what he was saying is that I see you having a human experience and I support that, but I will not think that a trans person is biologically the sex they choose.  For me, I think this is more complicated than Dave thinks for one, there are people born intersexed in so many complicated ways (some may never know themselves) and I can imagine this space where people find themselves identifying that way.  I hope he considers that our understanding of sex could be different than our apparent gender.  The fact remains that white America, especially on the left pays lip service to true equality and respect.', 'like_count': '1', 'reply_count': None}, {'comment_text': \"I'm sorry,  but that shit is funny as hell. He's always had that offensive comedy.  Anyway, I watched it three times.\", 'like_count': '', 'reply_count': None}, {'comment_text': \"Who cares about feelings, if you're offended don't watch. People need to understand the whole world dosnt revolve around them.\", 'like_count': '', 'reply_count': None}, {'comment_text': 'The entire special was in regards to daphne. They were responsible for her death. They did nothing. Dave set up a trust fund for Daphnes daughter. I mean come on. He dislikes the community because they go about everything wrong. He let a trans open for him and then he calls this one the closer in memory of Daphne. Daphnes quote is amazing as well', 'like_count': '', 'reply_count': '1 reply'}, {'comment_text': 'Dave is my hero', 'like_count': '', 'reply_count': None}, {'comment_text': 'If you don’t like it, don’t listen….everyone has a choice to make.', 'like_count': '', 'reply_count': None}, {'comment_text': 'The man is a LEGEND!!!! end of story', 'like_count': '', 'reply_count': None}, {'comment_text': \"You can't cancel the GOAT\", 'like_count': '', 'reply_count': None}, {'comment_text': 'Dave ChapelleTalk the truth!!!', 'like_count': '', 'reply_count': None}, {'comment_text': 'Nice discussion. I’ll add that not only is Dave not being malicious, and not only is he being funny, but he is also being consistent with the prevalent theme of his career: he’s trying to cast light on racism. Double standards. And he targeted, maybe deliberately, the group that would bring the most eyes possible to his performance. The trans community being offended and vocal has made this an international news phenomenon and people want to check it out to see what all the fuss is about. And when they do, they will hear all the valid points Dave makes about racism and they may say, “you know what? He’s got a point.” Was that a calculated move on Dave’s part? Only he knows. But having watched him over the years, I believe that he wasn’t doing it so he can make more money from the special. He was doing it to get people to check their own behaviors. He’s the most important comedian we’ve had in a long time.', 'like_count': '', 'reply_count': None}, {'comment_text': 'Netflix is the goat for not pulling shit', 'like_count': '', 'reply_count': None}, {'comment_text': 'remember the days when if you didnt like something you just change the channel.', 'like_count': '', 'reply_count': None}, {'comment_text': \"The joke about the black gay guy wouldn't call the cops on him.\\n\\nDave how can you be that naive?\", 'like_count': '', 'reply_count': None}, {'comment_text': 'Charlamagne chill bro you know he’s a comedian. Damn you acting like you the whole thing wasn’t a joke', 'like_count': '', 'reply_count': None}, {'comment_text': \"Charlemagne, the point was he KILLED someone PERIOD... No matter the context... Versus hurting someone's feelings. \\n\\nThere you go.\", 'like_count': '', 'reply_count': None}, {'comment_text': 'I love Dave Chappell.  He does his work. And keeps it 100!!', 'like_count': '', 'reply_count': None}, {'comment_text': 'Jeez I might resubscribe to Netflix just to see his new special', 'like_count': '', 'reply_count': None}, {'comment_text': 'If it gets taken down I’ll tattoo the cover on me', 'like_count': '', 'reply_count': None}, {'comment_text': 'It\\'s funny how he gets defensive on the black guy being portrayed out of character, but when it comes to trans \"It\\'s Funny\"...', 'like_count': '', 'reply_count': '1 reply'}, {'comment_text': 'dude if you look up da baby it was not self defense check out the video lmao', 'like_count': '', 'reply_count': None}, {'comment_text': 'Chapel is awesome, job well done.', 'like_count': '', 'reply_count': None}, {'comment_text': 'Bro he’s a comedian I don’t get ppl if he went up there and said all the things I say I mean all jokes aside then ppl can look at him the way you want', 'like_count': '', 'reply_count': None}, {'comment_text': 'Dave is a goat. Amazing job with the closer', 'like_count': '', 'reply_count': None}, {'comment_text': 'As funny as Dave is, if you ponder what he jokes about you will realise he is highly intelligent aswell.', 'like_count': '', 'reply_count': None}, {'comment_text': 'Anyone that has issues with Dave and his comedy obviously have deeper issues with themselves and their own inner demons.', 'like_count': '', 'reply_count': None}, {'comment_text': \"Dave is theand people are sick of PC culture frfr You can't ask to be equal but then want to be treated different at the same time.....that's would be like if you we're 1 thing but then wanted to be another thing at the same time Ooo wait .....\", 'like_count': '', 'reply_count': None}, {'comment_text': 'He was phenomenal', 'like_count': '', 'reply_count': None}, {'comment_text': 'Shoot he’s not wrong', 'like_count': '', 'reply_count': None}, {'comment_text': 'The Closer is a memorial for Daphne May she Rest In Peace', 'like_count': '', 'reply_count': None}, {'comment_text': 'Big up to daffnie and DC the closer was funny as hell', 'like_count': '', 'reply_count': None}, {'comment_text': 'Y’all saying he’s a comedian but got mad at bossie parenting skills and his opinions on gays. Wow! GTFOH', 'like_count': '', 'reply_count': None}, {'comment_text': 'Wow,  the B Club be dancin on eggshells on this one AngelaYee was terrified she’d say something obvious or un-woke', 'like_count': '', 'reply_count': None}, {'comment_text': 'That daphne story tore me up very sad what happened in that situation and no one really talking about it', 'like_count': '', 'reply_count': None}, {'comment_text': 'Dave Chapelle is the GOAT', 'like_count': '', 'reply_count': None}, {'comment_text': 'Dave spoke truth', 'like_count': '', 'reply_count': None}, {'comment_text': \"I'm convinced none of the critics actually saw the special.\", 'like_count': '', 'reply_count': None}, {'comment_text': 'He told No lies. And JK Rowling is speaking absolute truth.', 'like_count': '', 'reply_count': None}, {'comment_text': 'Ngl chapelles special was legit just boomer humor. You can’t legitimately say that shit compares to skinny chapelle from before.', 'like_count': '', 'reply_count': None}, {'comment_text': 'Gender is not a fact, it’s a social construct that can change and has been always changing and will continue to change.', 'like_count': '', 'reply_count': None}, {'comment_text': 'The bigger controversy is Angela Yee is 50lbs bigger now than last month.', 'like_count': '', 'reply_count': None}, {'comment_text': 'We love Dave.  F off cancel culture.', 'like_count': '', 'reply_count': None}, {'comment_text': 'I Come on people we can’t delete stuff we don’t like truth or not, (I happen to have no problem with what Dave said),but if you do don’t listen to him,most people have gotten mad at someone because of something they said true or not,that’s your right to get mad just like it’s their right (freedom of speech) to say it,oh one last thing,F um if they can’t take a joke!', 'like_count': '', 'reply_count': None}, {'comment_text': \"I haven't watched it. I am now interested in watching it. Only if its available on any other platform\", 'like_count': '', 'reply_count': None}, {'comment_text': 'Cancelling Rawlings and now trying to cancel Chapelle is rediculous. The Closer is an absolute masterpiece of the art form itself and a narration of the what’s really happening.', 'like_count': '', 'reply_count': None}, {'comment_text': 'Who runs the Black Coalition …. Dont they know this is not about gay people this is about Dave has reach and he’s been trying to Educate black people about black history and black knowledge things that black people would know but don’t ….because Knowledge is power', 'like_count': '', 'reply_count': None}, {'comment_text': 'I’m surprised it didn’t get y’all panties in a bunch', 'like_count': '', 'reply_count': None}, {'comment_text': \"For starters, these folks have not been cancelled. They still  making tons of money and working. JK Rowling's statement was ignorant af. Dave's joke didn't make much sense to me. DaBaby's case was dropped, proven as self defense so I'm missing the point of his punchline. Folks allowed to have hurt feelings and bring it up. In fact, how do you have a relationship without that? Algorithms make this shit chaotic, not people who didn't like his comments. This is a fake fight. If people felt victimized, they should be acknowledged. Apparently, Dave has acknowledged and will change some things going forward. Perfect way to handle a relationship from both sides, if you ask me.\", 'like_count': '', 'reply_count': None}, {'comment_text': 'Dave Is a Genius!! Periodt!! It’s a shame that comedians can’t do their job effectively without society trying to cancel their livelihood! They’re called jokes! Jokes don’t hinder a class of people from progressing in America, but I can Think of a lot of other things that do… annnd  those are the things that need to be canceled….  not the genius!', 'like_count': '', 'reply_count': None}, {'comment_text': 'Who needs academic drama classes anymore', 'like_count': '', 'reply_count': None}, {'comment_text': 'Dave is untouchable because The Most High got him', 'like_count': '', 'reply_count': None}, {'comment_text': 'Dave will not be cancelled', 'like_count': '', 'reply_count': None}, {'comment_text': 'Gotta save those butter biscuits', 'like_count': '', 'reply_count': None}, {'comment_text': 'Hello people, what I am raising might not be connected to the D C and netflix issue, but is about gender issues. There are human creations who happen to be physically and physiologically different and are being discriminated against by a largely uninformed public. Christine Mboma and Beatrics Masilingi (2 Namibian athletes ) have had bans placed on their participation in certain Olympic events because of comparitively higher levels of testosterone, it is claimed that they were formed and born with testes ( a \"male\" gland) together with female organs, absolutely no fault of theirs.Their situation is only public because of their involvement in Olympic level events, but surely there must be many other WOMEN the same as them, who are being ridiculed and discriminated against because of differences in behaviour that is considered \" normal\". In my 70th yr with all the traditional African approach to gender issues I realise I could be using narrow vision blinkers to a very complicated issue, so I seek enlightened views of and from a younger age group.', 'like_count': '', 'reply_count': None}, {'comment_text': 'Why is it you cant make fun of Gays or Trans but you can make fun of low income,straight,black,White and Mexican people.', 'like_count': '', 'reply_count': None}, {'comment_text': 'You can’t cancel Dave, Dave will cancel you.', 'like_count': '', 'reply_count': None}, {'comment_text': 'Dave isn’t going anywhere. He has a loyal fan base including myself', 'like_count': '', 'reply_count': None}, {'comment_text': \"Nobody can break down a whole criminal case on stage. He hit the point and moved on ge wasn't closing da baby\", 'like_count': '', 'reply_count': None}, {'comment_text': 'I’m glad he did it it’s time amen', 'like_count': '', 'reply_count': None}, {'comment_text': 'People should be able to say whatever they want as long as its true or comedy', 'like_count': '', 'reply_count': '1 reply'}, {'comment_text': \"If South Park can get away with stuff cuz they South Park, why can't Dave cuz he's Dave??\", 'like_count': '', 'reply_count': None}, {'comment_text': \"That's not blood, that's beat juice!\", 'like_count': '', 'reply_count': None}, {'comment_text': 'Nobody is above criticism', 'like_count': '', 'reply_count': None}, {'comment_text': \"Thanks for explaining WHY Da Baby killed that guy, because I didn't know the context\", 'like_count': '', 'reply_count': None}, {'comment_text': 'So a white liberal trans woman who created a show called Dear White People sees no issue with this and is now making a stance to cancel a black man who made a joke.  Does that alone not go against her apparent stance on racism?', 'like_count': '', 'reply_count': None}, {'comment_text': 'DJ “Dave is a Comedian” Envy', 'like_count': '', 'reply_count': None}, {'comment_text': 'I didn’t feel like the “Space Jews” punchline landed the first time, and I was surprised that he went back for a second stab at it. I thought the AIDS joke was a little beneath him, but the rest of it I thoroughly enjoyed.', 'like_count': '1', 'reply_count': None}, {'comment_text': \"Dave could of used 50cent as an example.. shot 9 times.. an the person who didn't isn't here anymore an 50 Raps about it... career is amazing!.. Eminem whole first album was based off killing his baby mother with his daughter ... best rapper alive!.. but had to apologize publicly to Elton Jon... it just goes to show you can't the power they have over our own personal ideologies now.\", 'like_count': '', 'reply_count': None}, {'comment_text': 'Simple he is true to himself', 'like_count': '', 'reply_count': None}, {'comment_text': 'Dave walked away from $50 milly!\\n\\nYou really think he can get cancelled from trans?He can leave if and when he wants to.\\n\\nMic drop Dave.', 'like_count': '', 'reply_count': None}, {'comment_text': 'Wow, this lady missed a LOT of a context and info. The very points chapelle made in the closer that he almost begged to not gloss over...they glossed over. Then the end the segment about talking about misinformation...after giving misinformation. \\nThese guys are the real comedy, Dave is just a documentarian at this point.', 'like_count': '', 'reply_count': None}, {'comment_text': 'hilarious that Charlamagne got offended about the stuff about DaBaby....', 'like_count': '', 'reply_count': None}, {'comment_text': 'Charlemagne get so offended about the LGBTQ community...So so serious', 'like_count': '', 'reply_count': None}, {'comment_text': 'If folks really paid attention to what Dave have been saying since his return, they\\'d understand that he\\'s actually the \"community\" conscious.. just think about it, he put things into perspective while telling jokes.. there is always a little truth in a joke.', 'like_count': '', 'reply_count': None}, {'comment_text': \"Doesn't have to make sense is the new world motto!\", 'like_count': '', 'reply_count': None}, {'comment_text': 'Dave is the goat. If u dont like him, change the channel.', 'like_count': '', 'reply_count': None}, {'comment_text': 'The comments about DaBaby.... it was a joke Charlemagne.  Thanks Angela for bringing up his Trans friend.  YOU CANNOT CANCEL DAVE CHAPELLE.  Period.', 'like_count': '', 'reply_count': None}, {'comment_text': 'Have to confess, I didn’t know about the self defense and thought da baby was a monster after watching the show.', 'like_count': '', 'reply_count': None}, {'comment_text': 'how many times do we have to tell these people that sex is not the same as gender??? NOBODY ever says \"sex is not real\". WTF? They say \"gender is a social construct\". Which it is, by definition! And nobody denies that gender is strongly linked to sex, and that the social construct is not strongly influenced by the evolution of sex.\\nDave is talking just like a \"race realist\"!', 'like_count': '', 'reply_count': None}, {'comment_text': 'He really goes after the poor whites', 'like_count': '', 'reply_count': None}, {'comment_text': 'Im usually 100% onboard with being an ally for trans people against hate and discrimination but in this situation……Not because i like Dave Chappelle, but because i support good comedy…..This is a non issue. He is wrong with his thoughts on gender. Sex is what i think he meant to say but it can be easily mixed up. that and the dababy situation he was wrong but he turned them both into good jokes…..which is what a good comedian does.', 'like_count': '', 'reply_count': None}, {'comment_text': \"Imagine being an SJW who thinks they're immune to criticism.\", 'like_count': '2', 'reply_count': None}, {'comment_text': 'LONG LIVE CHAPPELLE!', 'like_count': '', 'reply_count': None}, {'comment_text': 'His intention is to be funny while stating#FACTS. If one listened to the underlying messages you would hear the outrage about the inequalities dished to others yet their plight is not taken seriously. No one chose to be born Black, Hispanic, or otherwise but some groups get a pass while others get ignored, we (Black/Brown/mixed) are mistreated on many levels this has been going on for hundreds of years while a group of people can change laws and obtain rights \"overnight\". Rights others cannot obtain. Even though we are \"free\" many have to suffer or sacrifice greatly to be able to survive or stand up for what one believes is his or her right!. It is a real issue and I commend him for being able to deliver such truth without sacrificing who is and how deep the disparities run, with wittiness and humor. Groups of people who were killed or mistreated turning around and applying that same abuse to others are just insane, but it\\'s allowed because they are protected.', 'like_count': '', 'reply_count': None}, {'comment_text': 'Cancel him for what!!!!! Hurting some damn feelings. It’s comedy and EVERYTHING is up for grabs. Black people been dealing with this for 500 years', 'like_count': '', 'reply_count': None}, {'comment_text': 'I thought this Charlemagne went to school, its besides the point whether dababy did something  intentionally without provocation or not ..its the symbolism that you should take note of', 'like_count': '', 'reply_count': None}, {'comment_text': 'I don’t really think it was much of a comedy act. It was more about sending the message to leftist liberals to stop trying to cancel others. It’s right there on par with killing someone as Dave stated. You take away someone’s lively hood that they spent their life building, what life do they have left at that point? And I completely support him for this. Also I love how the overweight whale about 3-5 rows in with the cat ears loved him in the beginning, then dave got into the serious stuff and she went straight smug faced for the rest of the show', 'like_count': '', 'reply_count': None}, {'comment_text': 'The Truth is Not Hatred!!! People Hated Jesus Because He Told the Truth!!!!!', 'like_count': '', 'reply_count': None}, {'comment_text': 'Tired of this cancel movement. We should be able to say whatever we want with out worrying what people think.', 'like_count': '', 'reply_count': None}, {'comment_text': \"People who can't laugh at themself got issue beyond origin and gender.\", 'like_count': '', 'reply_count': None}, {'comment_text': \"Wasn't even a joke, I mean that's fact!\", 'like_count': '', 'reply_count': None}, {'comment_text': 'I have a good way of knowing if i will get along with someone. I just ask \"do you like Dave Chappelle?\".', 'like_count': '', 'reply_count': None}, {'comment_text': \"Loved it! Comedy for me is time I get away from everything and just laugh! Why can't we all just laugh! Time is too precious to be angry about everything.\", 'like_count': '', 'reply_count': None}, {'comment_text': 'Dave Chappelle should really thank the transgender community for making The Closure his most successful special of all time.', 'like_count': '', 'reply_count': None}, {'comment_text': 'physical and mental identity can be two different things...', 'like_count': '', 'reply_count': None}, {'comment_text': \"It's funny how everytime a comedian says something about someone who is gay their show needs to get cancelled or they get backlash from those people. And on a side note I have a you tube channel type in Russell Mills May 22, 2017.\", 'like_count': '', 'reply_count': None}, {'comment_text': 'Charlemagne you need to go see Wendy Williams she need you in our corner right now', 'like_count': '', 'reply_count': None}, {'comment_text': 'Everyone support dave .. thank god for him standing up for freedom of speach against the woke sjw comunist snowflakes......', 'like_count': '', 'reply_count': None}, {'comment_text': 'Good jokes are based in facts and reality!', 'like_count': '', 'reply_count': None}, {'comment_text': \"I like Dave Chapelle. I don't think he's in any danger of being cancelled and its seems redundant to say that. However, I do think that what I missed was him speaking truth to power. You don't really get that by punching down. Everyone takes a group at the bottom and makes fun of them.The thing that I liked about Chapelle is that he usually flipped the script. This seems... really stereotypical. I agreed with many points that just.... failed to get there, ya know? Because it could have. This could have really been something. \\n\\nHowever, he is what he is: a person. Not a God. Not a powerful entity. But a person. He very openly showed us his biases and where he sticks and challenged us to join him or not to. That's freedom of speech. \\n\\nI chose not to join him, this round. My belief is that there is enough room in the world for all kinds of chaos and suffering. When groups are being treated like second class citizens, that's a civics issue that needs to be attended to urgently and now. Both of these groups have that reality. \\n\\nI think what I like to remind myself is, for most comedians, they thrive when there are no answers to problems. That brings them bread and butter, a job. Because they make money on that tension. It's their only tool. However, for this situation, I'm more solutions oriented. Which is antithetical to this sort of comedy.\", 'like_count': '', 'reply_count': None}, {'comment_text': 'Charlamagne acting like he stands for Dave. Not way it sounds right now.', 'like_count': '', 'reply_count': None}, {'comment_text': 'Impressed how Yee is the most balanced in this instance when she is usually blindly advocates for LGBT without balance.', 'like_count': '', 'reply_count': None}, {'comment_text': 'thank u for telling us about the self defense case with dababy i thought it was a random shooting which did not sit right with me. we have to get details before we judge others.', 'like_count': '', 'reply_count': None}, {'comment_text': 'These three are still undecided ....they still want to how the wind blow', 'like_count': '', 'reply_count': None}, {'comment_text': 'The Closer is brilliant and hilarious.', 'like_count': '', 'reply_count': None}, {'comment_text': 'We’re NOT! canceling Dave.', 'like_count': '', 'reply_count': None}, {'comment_text': 'There is no humor only truth  Sigmund Freud', 'like_count': '', 'reply_count': None}, {'comment_text': 'Where can I get a version of that jacket on the wall. Looks amazing', 'like_count': '', 'reply_count': None}, {'comment_text': 'scientifically sex and gender are two different things. people think they are talking about sex not gender and vice versa.', 'like_count': '', 'reply_count': None}, {'comment_text': 'Demanding people be canceled makes you look weak. Toughen up and stop whining', 'like_count': '', 'reply_count': None}, {'comment_text': 'Dave Chapelle for President!', 'like_count': '', 'reply_count': None}, {'comment_text': 'Dave Chapelle for President!', 'like_count': '', 'reply_count': None}, {'comment_text': 'Nah that community is waaaaaay too sensitive. comedians have made fun of all kinds of people. Jamie Fox once made a joke about paraplegics. Kevin Hart has recently made a joke about a mentally challenged person. African people have been joke material for ages, but its comedy.  i have not heard any complaints from those communities, but you guys want to be all sensitive The LGTQ community is great material for comedy', 'like_count': '', 'reply_count': None}, {'comment_text': 'He tells the truth, it’s about time somebody did, enough of the liberal nonsense, GO DAVE!', 'like_count': '', 'reply_count': None}, {'comment_text': 'What JK Rowling’s said is true. What Dave said true. Charla’s a coward for dismissing this truth when that all he ever talks about…. Living in truth smh', 'like_count': '', 'reply_count': None}, {'comment_text': 'People need to GET OVER THEMSELVES and LAUGH AT THEMSELVES!!! Certain people want to be accepted but want immunity at the same time. SMH...I just dont understand how that works', 'like_count': '', 'reply_count': None}, {'comment_text': 'Comedian of the Year!', 'like_count': '', 'reply_count': None}, {'comment_text': 'I really don’t think the people trying to cancel Dave watched his special.', 'like_count': '', 'reply_count': None}, {'comment_text': 'The closer was awesome.', 'like_count': '', 'reply_count': None}, {'comment_text': 'My community is having problem.  The roads need fixing.', 'like_count': '', 'reply_count': None}, {'comment_text': 'How many phonebooks they got Charlamagne sitting on now', 'like_count': '', 'reply_count': None}, {'comment_text': 'I cancel your cancel and raise you a cancel!', 'like_count': '', 'reply_count': None}, {'comment_text': \"I got Dave's back!!!️\", 'like_count': '1', 'reply_count': None}, {'comment_text': 'The only people trying to cancel him are the media to funny that', 'like_count': '', 'reply_count': None}, {'comment_text': 'The same people that want to cancel Dave on netflix, had zero issue with \"cuties\"', 'like_count': '', 'reply_count': None}, {'comment_text': 'Cancel dave. Dream on. Dave chapelle is a living icon. A living legend. How do you cancel a legend?', 'like_count': '', 'reply_count': None}, {'comment_text': '\"Ima Bad Mother...F..., STOP PUNCING DOWN ON MY PEOPLE\" -The Closer', 'like_count': '', 'reply_count': None}, {'comment_text': 'Controversy speaking “Truth” \\nRidiculous', 'like_count': '', 'reply_count': None}, {'comment_text': 'It’s comedy folks, doesn’t have to be your truth️ too many get in their feelings..Geese', 'like_count': '', 'reply_count': None}, {'comment_text': 'Charlamagne is saying very irrelevant things.... And they keep saying \"it\\'s funny\", \"he\\'s a comedian\".... Stop acting like y\\'all don\\'t know what\\'s up. The purposely \"dumb\" act is killing me. Talk about the real issues and why Dave is under attacked.', 'like_count': '', 'reply_count': None}, {'comment_text': 'Dave is just saying the truth', 'like_count': '', 'reply_count': None}, {'comment_text': \"White republicans especially men absolutely love the work that Dave Chapelle does even though he makes fun of us too we think the man's hilarious and we anxiously for him to do more and as an added bonus we get to watch the wokeity wokes Trying to analyze whether or not they're like him don't like him should like him here's what everyone should do get a sense of humor laugh at the jokes even if they're about you toughen up and stop being such candy asses the man is fucking funny\", 'like_count': '', 'reply_count': None}, {'comment_text': \"Can't wait to see what Dave does next\", 'like_count': '', 'reply_count': None}, {'comment_text': 'It isn’t hate to speak the truth. Facts', 'like_count': '', 'reply_count': None}, {'comment_text': 'Y’all!! Please, please! Leave, Dave Chapelle, alone!! The man is a Comedian. The best! (Period) Leave him alone! He’s a hilarious..LolIf you don’t like his jokes and sense of humor. Move on..', 'like_count': '', 'reply_count': None}, {'comment_text': 'lgbtq can create their own netflix', 'like_count': '', 'reply_count': None}, {'comment_text': 'What Dave said about people being born from women is very offensive to all the cloned people', 'like_count': '', 'reply_count': None}, {'comment_text': 'Brah it was hilarious.', 'like_count': '', 'reply_count': None}, {'comment_text': '\"the truth? You can\\'t handle the truth!\"  Ain\\'t it true?', 'like_count': '', 'reply_count': None}, {'comment_text': 'The whole world became a snowflake as soon as Bruce Jenner came out as Caitlin', 'like_count': '', 'reply_count': None}, {'comment_text': 'I want them to bring flame monroe on to discuss it', 'like_count': '', 'reply_count': None}, {'comment_text': \"What is really hilarious is that they may want to cancell for these jokes. What a joke , To cancell a show for thin skin, immature response. Is that a joke. They shunned  Daphne and killed her one of thier own . Killed Daphne but now want to cancell Dave shows for this show. Are you serious. Yes killed Daphne's spirit and want to cancell the man who lifted her spirit . By the way isnt that country suppose to be democratic. With no right to expression . To cancell the show would make Cuba look like a angel . How many time did he use that N word . Well they must  be also cancelling for that. NO? THIS MUST BE A JOKE?\", 'like_count': '', 'reply_count': None}, {'comment_text': 'You cant cancel someone with millions on the bank', 'like_count': '', 'reply_count': None}, {'comment_text': 'GENDER IS FACTTTTT', 'like_count': '', 'reply_count': None}, {'comment_text': 'I wish ppl would stop clumping all LGBTQ ppl together. As a gay woman who is an organic female, men who dress up like women are doing way three much. What Dave said is funny af', 'like_count': '1', 'reply_count': '1 reply'}, {'comment_text': 'if Netflix takes off dave ,then off goes my Netflix', 'like_count': '', 'reply_count': None}, {'comment_text': 'How is Charlemagne gonna speak on “misinformation” when he’s misinformed about the Da Baby caseit most definitely was NOT self defense regardless of the ruling they came up with but ok', 'like_count': '', 'reply_count': None}, {'comment_text': 'Why didn’t I get a vote before the National black association ask to pull the show. I’ve been black my whole life', 'like_count': '', 'reply_count': None}, {'comment_text': 'This what happens when we live in a world of delusion and truth is the cure.  I guess sometimes the truth is funny and I myself have never been forced to watch or go to a show or concert or TV show because I live in America. ( this comment my offend someone). Always a good show guys!', 'like_count': '', 'reply_count': None}, {'comment_text': \"It's important for straight people to have a voice too, but when we express our opinions we're seen as anti-something. I watched the Closer. It was almost like Dave Chappelle's swan song. He said it was his last special on Netflix.️\", 'like_count': '1', 'reply_count': None}, {'comment_text': \"The Breakfast Club defending DC's bad jokes....shocker.\", 'like_count': '', 'reply_count': None}, {'comment_text': 'He said it was self defense in the Closure', 'like_count': '', 'reply_count': None}, {'comment_text': 'Imagine if the late great Bernie Mac was still alive️️', 'like_count': '', 'reply_count': None}, {'comment_text': \"Heck Dave Freed 'The Slaves' i.e all the other comedians from the clutches of PC.\", 'like_count': '', 'reply_count': None}, {'comment_text': 'Twitters not a real place', 'like_count': '1', 'reply_count': None}, {'comment_text': 'No one cares about these jokes except Twitter', 'like_count': '', 'reply_count': None}, {'comment_text': 'I wonder whether these folks would be so chill if a white comedian were to make an offensive black joke.  \\nIm not taking any sides but its always easy to dismiss a joke when the target of the joke is someone else or another group of people.', 'like_count': '', 'reply_count': None}, {'comment_text': 'long live dave', 'like_count': '', 'reply_count': None}, {'comment_text': 'If Dave Chappell  was driving uber or lyft  he would have been taken of their  platform', 'like_count': '', 'reply_count': None}, {'comment_text': 'It’s Netflix, if you don’t want to watch it, don’t, keep scrolling. It’s that easy.', 'like_count': '', 'reply_count': None}, {'comment_text': 'Dave 100% correct ,', 'like_count': '', 'reply_count': None}, {'comment_text': 'Ugh you can just see how much Angela and Charlamagne don’t fw each other and it’s making this awkward and less enjoyable imo', 'like_count': '', 'reply_count': None}, {'comment_text': 'He ain’t wrong', 'like_count': '', 'reply_count': None}, {'comment_text': 'We need to deal with why Envey has spiderweb on his elbow.', 'like_count': '', 'reply_count': None}, {'comment_text': \"Deuteronomy22:5 the woman shall not wear that which pertaineth unto a man, neither shall man put on a woman's garment; for all who do so are abomination unto the Lord thy God.\", 'like_count': '', 'reply_count': None}, {'comment_text': 'One call will get you canceled like a homophob- J Cole', 'like_count': '', 'reply_count': None}, {'comment_text': 'Talk about a discussion️ they didn’t even talk about what the special was really about. Dave’s views on Racism in the LGBTQ community and their inability to listen to others about disparity unless it’s about them.', 'like_count': '', 'reply_count': None}, {'comment_text': \"It seem like Dave Chappelle only can say straight Jokes? Ain't dat strange\", 'like_count': '', 'reply_count': None}, {'comment_text': 'Hey!  Hey!  Yo, B!  Was that Dbaby self defense case taken outta context?  ;)', 'like_count': '', 'reply_count': None}, {'comment_text': 'Dave Chappelle is a true feminist.', 'like_count': '', 'reply_count': None}, {'comment_text': 'I mean he didn’t lie! He said nothing wrong', 'like_count': '', 'reply_count': None}, {'comment_text': 'Da Baby joke was a joke their not all based on facts their jokes because they are creative in the presentation . That was the best comedy special I’ve seen or heard since Richard Pryor , then Eddie Murphy then a special with def comedy with bill blur and some others the def comedy anniversary and as I get older things aren’t as funny to me as when I was younger but this shit had me ROLLIN', 'like_count': '', 'reply_count': None}, {'comment_text': 'Charlemagne it’s just jokes and he was making a point geesh️', 'like_count': '', 'reply_count': None}, {'comment_text': 'Dave does care, Dave cares about controversy and wanted to create it to pass a message... cancel cultre based on trivial things is mean, is bad, is wrong!', 'like_count': '', 'reply_count': None}, {'comment_text': 'That LGBT flag at half way down. wonder if they sending a message saying that they support Dave Chappelle,  and at the same time still support the gay community', 'like_count': '', 'reply_count': None}, {'comment_text': 'When you’re rich and don’t care can you get “canceled”', 'like_count': '', 'reply_count': None}, {'comment_text': 'Everyone came from a man and a woman coming together period', 'like_count': '', 'reply_count': None}, {'comment_text': 'They joke about Jesus. They joke about God. Only 2 topics no one should joke about: LGBTQ AND MOHAMAD of Islam', 'like_count': '', 'reply_count': None}, {'comment_text': 'You cant cancel Dave Chappelle', 'like_count': '1', 'reply_count': None}, {'comment_text': 'Dave is the goat', 'like_count': '', 'reply_count': None}, {'comment_text': \"There are lots of gay and trans blacks, and that's a fact. Take it or leave it.\", 'like_count': '', 'reply_count': None}, {'comment_text': 'Genius comedy........', 'like_count': '', 'reply_count': None}, {'comment_text': \"He like most celebrities are the devil's advocate sent to distract  those who will listen to them from the will of God. \\nJohn 3:3\", 'like_count': '2', 'reply_count': None}, {'comment_text': 'Right in the aaaaaids', 'like_count': '', 'reply_count': None}, {'comment_text': \"And what JK Rowling said wasn't complicated at all Charlemagne.\", 'like_count': '', 'reply_count': None}, {'comment_text': 'Dave Chappelle is on point!', 'like_count': '', 'reply_count': None}, {'comment_text': 'THE GOAT!', 'like_count': '', 'reply_count': None}, {'comment_text': \"Plenty of alphabet people and POC are on Team Dave. I'm two of them.\", 'like_count': '', 'reply_count': None}, {'comment_text': 'The man is the Goat...', 'like_count': '', 'reply_count': None}, {'comment_text': 'KEEP DAVE!#KEEPDAVECHAPPELLE', 'like_count': '', 'reply_count': None}, {'comment_text': 'No the witness in Walmart didn’t come forward not out of context.', 'like_count': '', 'reply_count': None}, {'comment_text': 'Dave was keeping it real I love️ it !!!', 'like_count': '', 'reply_count': None}, {'comment_text': \"Exactly if you don't like it don't listen to it\", 'like_count': '', 'reply_count': None}, {'comment_text': \"finally OMG you don't like it turn it off,  simple, it took the  GOAT to take it their.\", 'like_count': '', 'reply_count': None}, {'comment_text': 'Why Ya Didn’t Bring Up The Joke When He said It’s Always Been About White People And Not All White People But the white people we all know who he talking about!!', 'like_count': '', 'reply_count': None}, {'comment_text': 'Y’all finally waking up?!? Lmao', 'like_count': '', 'reply_count': None}, {'comment_text': 'It really is funny tho!\\nMost people that criticizing him and commentators not all but most clearly didn’t watch whole thing', 'like_count': '', 'reply_count': None}, {'comment_text': \"IT'S DAVE TRUTH.\", 'like_count': '', 'reply_count': None}, {'comment_text': \"You didn't even watch the comedy except Angela yee.... how dare you talk about it? Is this how the breakfast club works.\", 'like_count': '', 'reply_count': None}, {'comment_text': \"So we can't make jokes about anything that offends anyone.\", 'like_count': '', 'reply_count': None}, {'comment_text': \"He's the GOAT\", 'like_count': '', 'reply_count': None}, {'comment_text': 'He brought trans issues to the front of the line. I don’t understand why Americans are censoring each other. That’s what this country should stand against.', 'like_count': '', 'reply_count': None}, {'comment_text': 'Remember when Eddie almost got cancelled for being too pro-trans?', 'like_count': '', 'reply_count': None}, {'comment_text': \"Let's just undo life then,nobody exist...WE GOOD?\", 'like_count': '', 'reply_count': None}, {'comment_text': \"Didn't y'all get mad at Angela what's her name because of this topic?\", 'like_count': '', 'reply_count': None}, {'comment_text': 'Dave Chappelle for president', 'like_count': '', 'reply_count': None}, {'comment_text': 'Dave is fuckin untouchable,  I pray all his future specials get even more offensive', 'like_count': '', 'reply_count': None}, {'comment_text': 'Bout the Da Baby section murder gets glorified in rap music everyday and it doesn’t get cancelled cause it brings in tons of money but then you hurt a certain community feelings and you wanna cancel Dave not happening', 'like_count': '', 'reply_count': None}, {'comment_text': 'I LOVE YOU DAVE', 'like_count': '', 'reply_count': None}, {'comment_text': 'A lot of Dave chapels brown nosers here. He’s funny but damn make some other point other than that you like him.', 'like_count': '1', 'reply_count': None}, {'comment_text': 'The man delivered it better than Trump did during his wryly time in office.', 'like_count': '', 'reply_count': None}, {'comment_text': 'People do know that he’s a comedian right?', 'like_count': '', 'reply_count': None}, {'comment_text': 'He’s a FREE SPEAKER!!!! UNLIKE most of the entertainment world, including this show.', 'like_count': '', 'reply_count': None}, {'comment_text': 'If this was anybody else the LBGT community would have ruined his or her career but not Dave.. Hes strong', 'like_count': '', 'reply_count': None}, {'comment_text': 'Cancel those executives', 'like_count': '', 'reply_count': None}, {'comment_text': \"It only causes controversy to the weak minded people who allow it to.\\nAnd Rowling is spot on. Of all the work it took for women to get to where they are, a man wins woman of the year. Men are starting to dominate women's sports...\", 'like_count': '', 'reply_count': None}, {'comment_text': 'There’s a clear difference between emotional injury and fomenting violence and hatred. There’s a factual reality of murder, poverty and suicide behind his “joke”.  His speech was reckless, prejudiced, manipulative and ignorant.', 'like_count': '', 'reply_count': None}, {'comment_text': 'National black Coalition hahahaha they need help to get rid of Dave Chappelle', 'like_count': '1', 'reply_count': None}, {'comment_text': 'He proved his point tho look at What’s happening', 'like_count': '', 'reply_count': None}, {'comment_text': \"If we back to our human sense .. \\n\\nWhy on earth Dave's trans friend took her own life? I think we missed the main point here. To solve the problem is to identify the problem. Think about it\", 'like_count': '1', 'reply_count': None}, {'comment_text': \"Can't cancel the G.O.A.T.\", 'like_count': '', 'reply_count': None}, {'comment_text': 'I like Dave and if ppl have a issue with Dave the real problem  is with you', 'like_count': '', 'reply_count': None}, {'comment_text': 'Great show!  Keepin’ it real.  I hope we can get to the point he makes at the end of his show.. where everyone can laugh and enjoy comedy.  Jokes, punching lines, not up or down.', 'like_count': '', 'reply_count': None}, {'comment_text': 'The truth isn’t offensive.', 'like_count': '', 'reply_count': None}, {'comment_text': \"im sorry but that joke u just played was funny as helllll. sorry he's funny. just saying, he's got jokes...\", 'like_count': '', 'reply_count': None}, {'comment_text': 'I wonder if Charlamagne is going to defend Chapelle on his new show?????!!', 'like_count': '', 'reply_count': None}, {'comment_text': 'I stand with Dave Chapelle', 'like_count': '', 'reply_count': None}, {'comment_text': 'ant it crazy how common sense is now controversial? rip society. the apocalypse is among us', 'like_count': '', 'reply_count': None}, {'comment_text': 'Good conversation. Bad camera man.', 'like_count': '', 'reply_count': None}, {'comment_text': 'I think it is hilarious how black people will defend dave to the end but if it was a white comedian they would be doing their part to cancel him.', 'like_count': '', 'reply_count': None}, {'comment_text': \"Let's not forget the point of a joke.\", 'like_count': '', 'reply_count': None}, {'comment_text': 'Don\\'t dismiss it as him jus tryna be funny he\\'s also trying to tell the truth. Leave it charla to shoot down the only person brave enough to do it. No wonder Donnel Rawlings said the gay people go \"yaaaaaathh when charla goes out in public\"', 'like_count': '', 'reply_count': None}, {'comment_text': 'He could not wait to reach around on Da Baby. Charmin. Is right. Soft', 'like_count': '', 'reply_count': None}, {'comment_text': 'Dave is not a sell out like Kevin Hart he walked away from 50 mill', 'like_count': '', 'reply_count': None}, {'comment_text': 'Hes the GOAT', 'like_count': '', 'reply_count': None}, {'comment_text': 'This show stopped voicing their real opinion years ago, you know when the mics are off they are completely supporting Dave and they are tired of PC culture dictating the world.', 'like_count': '', 'reply_count': None}, {'comment_text': \"I'm glad da baby was clarified️\", 'like_count': '', 'reply_count': None}, {'comment_text': 'So hilarious just watched the show must love Chappelle', 'like_count': '', 'reply_count': None}, {'comment_text': 'GOAT', 'like_count': '', 'reply_count': None}, {'comment_text': 'What exactly is JK Rowling cancelled from. She\\'s only second behind God as best selling author of all time, has one of the biggest movie franhises in history....why would she give a shit if someone \"cancels\" her? Too late, my friends', 'like_count': '', 'reply_count': None}, {'comment_text': 'Dc cancelled Kramer and an entire network (righteously).  Why the double standard?', 'like_count': '', 'reply_count': None}, {'comment_text': 'Chapelle Rules!', 'like_count': '', 'reply_count': None}, {'comment_text': \"Cancel the Goat owe no! I'm watching it again!!!\", 'like_count': '', 'reply_count': None}, {'comment_text': 'Dave is a genius, bottom line', 'like_count': '', 'reply_count': None}, {'comment_text': '\"Keep it in the comment section\"', 'like_count': '', 'reply_count': None}, {'comment_text': 'Dave Chappelle can sell tickets and specials from the trunk of his car and still out perform and sell those with the backing of mainstream media. If you are going to have a mic in your hand and say something mean what you say or just choose another profession. If you going to choose to be whatever or who ever you are then be that stop all this crying if someone else does not like it or makes a \"joke\" about it. I am sure you have bigger fish to fry in life than the opinions of others. smh!!', 'like_count': '', 'reply_count': None}, {'comment_text': \"These trans people get on my damn nerves they think they're so uppity and so entitled and they think they're above and beyond anything and everything. I got nothing but mad love and respect for Dave Chappelle. Hell I'm even the bigger fan now because he speaks the truth and does so Unapologetic and uncompromising. And besides Chappelle makes way too much money for Netflix. So them canceling his show will be like a financial suicide on their part. At least he's not going to pull a Kevin Hart move and kowtow and bow down to them folks. So if they get mad oh well\", 'like_count': '', 'reply_count': None}, {'comment_text': 'The GOAT', 'like_count': '', 'reply_count': None}, {'comment_text': 'If you don’t like Dave Chappelles comedy or content no one’s forcing you to listen. To him don’t watch his shit if it offends you don’t watch it forcing people to your way of thinking is nazi tactics you can joke about anything I believe if you don’t like the joke walk away', 'like_count': '', 'reply_count': None}, {'comment_text': 'Lol at anyone who is mad.', 'like_count': '', 'reply_count': None}, {'comment_text': 'Remember when Charlamagne used to be funny too? I miss those days.', 'like_count': '', 'reply_count': None}, {'comment_text': 'Why is this even a debate? Of course gender is a fact. Guess what, we’re not all stupid, let them think otherwise.', 'like_count': '', 'reply_count': None}, {'comment_text': \"He barely even talked about trans people and they still mad?? They didn't even watch the special they just looking for something to be mad at.\", 'like_count': '', 'reply_count': None}, {'comment_text': 'people like Dave and Jon Stewart  even monty python try to tell us but do we hear', 'like_count': '', 'reply_count': None}, {'comment_text': 'Why is the black coalition even involved on the wrong side Dave said stop punching down on black people and', 'like_count': '', 'reply_count': None}, {'comment_text': '\"Pose a threat\"? relax yee thats not what she said', 'like_count': '', 'reply_count': None}, {'comment_text': 'I like Dave but y’all crack me up saying oh let him say wtf he wants lol oh ok it’s ok for all of us we should all be able to say wtf we want', 'like_count': '', 'reply_count': None}, {'comment_text': 'Lovely E. Dave is still the best', 'like_count': '', 'reply_count': None}, {'comment_text': 'He was speaking truth...gesh', 'like_count': '', 'reply_count': None}, {'comment_text': \"You presenters hit the nail on the head! I don't think they watched it either! I feel they had to have watched a compilation of all of the worst bits about trans community and treat it like they watched the whole special.\", 'like_count': '', 'reply_count': None}, {'comment_text': 'If gender was NOT a fact, why would transgenders be so concerned with their gender?', 'like_count': '', 'reply_count': None}, {'comment_text': 'Its a shame that nextflix forced the alphabet people to watch Dave Chappelle  special.  Lol', 'like_count': '', 'reply_count': None}, {'comment_text': 'sheeesshhhhhhhhh angela lookin thick cute', 'like_count': '', 'reply_count': None}, {'comment_text': \"I'm glad Netflix ain't bending the knee and catering to this nonsense. Comedians joke about everyone. People are way too sensitive nowadays.\", 'like_count': '', 'reply_count': None}, {'comment_text': 'We love dave', 'like_count': '', 'reply_count': None}, {'comment_text': \"But did JK Rowling really say verbatim that trans women pose a threat to biological women? Because it sounds like she said that sex is real. Please, someone tell me they can tell the difference between those two statements, or if not, tell me why they mean the same thing. Cause I'm hearing JK Rowling saying one thing and a bunch of other people interpreting her words as they see fit.  (By the way, I support trans women. I just don't see the transphobia coming from JK.  At least, not in the statement about sex being real. Because sex being real in no way invalidates being trans.)\", 'like_count': '', 'reply_count': None}, {'comment_text': 'Dave doesnt really need Netflix to get a bag, thats the point. of course Netflix can drop a bigger bag, but Dave will be good with them or not. that community aint gonna win with this one.', 'like_count': '', 'reply_count': None}, {'comment_text': 'Self defenseyeah right', 'like_count': '', 'reply_count': None}, {'comment_text': 'Ricky Gervais did the same at Golden Globes  - even worst - bringing up Epstein and Weinstein - no cancellation there - He even said the example about Kevin Hart getting cancelled for decades old jokes and the dropped him from the Oscars!!\\n\\nGo Dave', 'like_count': '', 'reply_count': None}, {'comment_text': 'Freedom of speech. Thats what we have people please get out your feelings.', 'like_count': '', 'reply_count': None}, {'comment_text': 'Only bleeping out the “i” in nigga doesn’t work', 'like_count': '', 'reply_count': None}, {'comment_text': 'If dave chapelle was white i could see charlemagne singing  another tune', 'like_count': '', 'reply_count': None}, {'comment_text': 'Silencing people does not change view points or truth.....', 'like_count': '', 'reply_count': None}, {'comment_text': 'We now live in a world where gay is the new straight and straight have to go in the closet.', 'like_count': '', 'reply_count': None}, {'comment_text': \"If ya'll pay attention, he is NOT anti LGBQ. What is the deaL?????\", 'like_count': '', 'reply_count': None}, {'comment_text': 'Look up the closer. You will see a bunch of trans women reacting positively to it in reaction videos.  Looks like he might have given them a platform', 'like_count': '', 'reply_count': None}, {'comment_text': 'Dave didn’t say it wasn’t self defense goofy! That’s not the point. He’s just saying that the fans. Nnjmmmtl', 'like_count': '', 'reply_count': None}, {'comment_text': 'A loud and weak minority is making this an issue.', 'like_count': '1', 'reply_count': None}, {'comment_text': 'Charlamagne gonna get cancelled for thinking its funny', 'like_count': '', 'reply_count': None}, {'comment_text': 'Why is the conversation about the trans community dominated almost solely by trans women?', 'like_count': '', 'reply_count': None}, {'comment_text': 'Funny asf Alphabet gang is soft and sensitive asf lol', 'like_count': '', 'reply_count': None}, {'comment_text': 'Trully the G.O.A.T', 'like_count': '', 'reply_count': None}, {'comment_text': \"cancelled Netflix a long time ago, hav it y'all\", 'like_count': '', 'reply_count': None}, {'comment_text': 'So being  a comedian means you can say offensive things and not face accountability. I’m not surprised tho that people are defending transphobia.', 'like_count': '', 'reply_count': None}, {'comment_text': \"If you don't like it don't listen!!!!!\", 'like_count': '', 'reply_count': None}, {'comment_text': 'He’s grandfathered from being canceled.', 'like_count': '', 'reply_count': None}, {'comment_text': 'Oh wow, breakfast club tip toeing over a sensitive issue . Crazyyyyy', 'like_count': '', 'reply_count': None}, {'comment_text': 'It’s interesting how Charlamane seems to always INSIST on over expressing his veiled alliance with transgender people. The comparison thing about Da Baby was followed by the words “you can Google it!” In other words, there’s a whole story about it… check it out for yourself! That one joke isn’t likely to be what ends Da BabyPart of the problem with the restraints Dave ignores (to speak his truth), is this narcissistic view that the whole comedy routine has to be a complete teaching experience for any joke based on a true story.', 'like_count': '', 'reply_count': None}, {'comment_text': 'He the', 'like_count': '', 'reply_count': None}, {'comment_text': 'That shit was funnnnnnny as shit', 'like_count': '', 'reply_count': None}, {'comment_text': 'The goat', 'like_count': '', 'reply_count': None}, {'comment_text': 'Dope Special️️', 'like_count': '', 'reply_count': None}, {'comment_text': 'To all you sensitive people out there, jokes like this is nothing new in the comic world. Get over it n go back into your shell.', 'like_count': '', 'reply_count': None}, {'comment_text': 'Is it me or is Angela Yee  getting younger', 'like_count': '', 'reply_count': None}, {'comment_text': 'Yet he constantly tries to cancel Eminem. Honest conversations need to happen in any situation or we are incapable of learning.', 'like_count': '', 'reply_count': None}, {'comment_text': 'Gender is a fact of identity, not sex. It is a self-awareness fact, not a body part fact. Trans-gender is a misnomer term: such people are in fact the gender they experience themselves as, and that is present from early childhood. Given how excessively reinforced a child’s assigned gender identity is in our culture, the persistence of an alternate sense of gender indicates the physiological basis of so-called transgender identity. Brain research has identified the part of the brain that determines gender identity, and it does not develop at the same time as genitalia. Any number of factors can impact the development of the brain regarding gender that result in a mismatch with developing sex organs. Or the development of the sex organs can be impacted to result in a mismatch. This type of brain/ genitalia mismatch is an excruciating emotional confusion and struggle that deserves appropriate and supportive medical treatment.  It deserves social recognition and acceptance. If you can’t be supportive of another’s health struggles, for God’s sake don’t exploit them for humor based on ignorance and prejudice, especially in the context of murder, poverty, and attempted suicide rates of 40%. My brother’s child hung herself two days before her school received the letter recognizing her as a presidential scholar. We knew her as Carl. She knew herself as Emelia. She decided that accepting her own transgender reality was inevitable, and that the social price was one she couldn’t face. Transgender identity is not the problem here. Public figures like JK Rowling and Chappell that speak in ignorance to prop up hateful prejudice that is causing murder, and institutionalized persecution and joblessness are the problem. God forgive them. Emelia may. I can’t.', 'like_count': '', 'reply_count': '4 replies'}, {'comment_text': 'Trans women are trans women. Women are women.', 'like_count': '', 'reply_count': None}, {'comment_text': 'It wasn’t even anti-LBGTQ lol he was cracking jokes. Nobody is safe in stand-up comedy', 'like_count': '', 'reply_count': None}, {'comment_text': 'If you dnt like something, dnt listen or watch it ......simple is that', 'like_count': '', 'reply_count': None}, {'comment_text': \"I'm not cissexist, I have trans friends\", 'like_count': '', 'reply_count': None}, {'comment_text': 'DC the GOAT', 'like_count': '', 'reply_count': None}, {'comment_text': 'Dave Chapelle wouldnt wear the dress, sayin Im Dave Chappelle, I dont need to wear no fucking dress to be funny. Soon as he didnt follow the minstrel narrative, and realised he didnt want to be laughed at, the industry realised he had his lights on, and thats when he was recognised as a threat. Think about, what was the emphasis on the dress. Also I have been cancelled by youtube, I dont get any feed on my thumbs up, and I used to get loads on my comments. Put a thumbs up or even down here and check yourself, it wont be registered. Hard world to be in when you dont follow the narrative of the Ministry of Truth and actually are AWAKE independently and not AWOKE by someone else....V', 'like_count': '', 'reply_count': None}, {'comment_text': 'Humor is like pen*s, not everyone has it', 'like_count': '', 'reply_count': None}, {'comment_text': \"It's heavily editted indeed...\", 'like_count': '', 'reply_count': None}, {'comment_text': 'It was a tribute to his Trans friend who committed suicide, but people our to selfish to and in their feelings to actually listen. He did exactly what he wanted to do, proof is were all talking about it . The gay community makes everything about themselves. We have more issues in the world leave freedom of speak alone.', 'like_count': '', 'reply_count': None}, {'comment_text': 'I support Dave', 'like_count': '', 'reply_count': None}, {'comment_text': 'To many people are to sensitive today.', 'like_count': '', 'reply_count': None}, {'comment_text': 'Yes! Misinformation can get people very very hurt. Truat me!', 'like_count': '', 'reply_count': None}, {'comment_text': \"They can take a**in the*but can't take a joke... Thats how you know in they spirit they know their behavior is wrong these people need therapy.\", 'like_count': '', 'reply_count': None}, {'comment_text': \"I love hearing the crybaby left up in arms. Get a helmet and stop trying to stifle free speech. When you start attacking comedians, you've really run out of things to complain about.\", 'like_count': '', 'reply_count': None}, {'comment_text': 'The way guy says Dave is a comedian is condescending and pretty ignorant', 'like_count': '', 'reply_count': None}, {'comment_text': 'The  fuxx .Dave. is the real.', 'like_count': '', 'reply_count': None}, {'comment_text': 'i love breakfast club! 100', 'like_count': '', 'reply_count': None}, {'comment_text': 'Listen to his first joke', 'like_count': '', 'reply_count': None}, {'comment_text': 'Damnit Dave is funny', 'like_count': '', 'reply_count': None}, {'comment_text': 'This kind of minorities are looking for social approval cancel the free speech they are so funny The GOAT is great.', 'like_count': '', 'reply_count': None}, {'comment_text': 'Very true Dave is very funny. Them sensitive Fs need to lighten up', 'like_count': '', 'reply_count': None}, {'comment_text': 'More people soft heart', 'like_count': '', 'reply_count': None}, {'comment_text': 'A black organization tried to ruin a black man’s life because of some trans jokes…. That is crazyyyy', 'like_count': '', 'reply_count': None}, {'comment_text': 'Just people looking for something to be mad about.', 'like_count': '', 'reply_count': None}, {'comment_text': 'So I guess main man is offended too about Da baby', 'like_count': '', 'reply_count': None}, {'comment_text': 'Gender is a fact. What the lgbtq need is prayer and help not rights and entitlement.', 'like_count': '', 'reply_count': None}, {'comment_text': \"The lgtb isn't special. They dont get the right to not be made fun of. If it bothers them soo much, then maybe they ought to ask themselves why. Do that instead of complaining about what others say about them.\", 'like_count': '', 'reply_count': None}, {'comment_text': 'Cancel for speaking fact', 'like_count': '', 'reply_count': None}, {'comment_text': \"If you can't take the truth then too bad\", 'like_count': '', 'reply_count': None}, {'comment_text': 'I’ll cancel Netflix if they take his special off the air', 'like_count': '', 'reply_count': None}, {'comment_text': 'Miss the point  \\n@wadecuts#wadecuts', 'like_count': '1', 'reply_count': None}, {'comment_text': 'Hyper sensitive ppl in this world! If you laugh at his other jokes about heterosexual ppl. Then laugh at jokes about you!!#FunnyIsFunny', 'like_count': '', 'reply_count': None}, {'comment_text': \"Double Jeopardy... Can't cancel Dave twice..sorry not sorry.\", 'like_count': '', 'reply_count': None}, {'comment_text': 'Comedians can’t be comedians ANYMORE. Before they could discuss social and controversial issues and actually build an audience from that, now you can’t find the humor in ANYTHING.', 'like_count': '', 'reply_count': None}, {'comment_text': 'Apply this same logic to some modern-day sketch about blackface. Would it end up the same? I’d not, why not? \\n\\nThe Breakfast Club ain’t any more woke than The View.', 'like_count': '', 'reply_count': None}, {'comment_text': 'I loved it Dave', 'like_count': '', 'reply_count': None}, {'comment_text': \"So comedian makes jokes and everyone's supposed to be outraged by it... That's kinda what they do, IMO the best comedians have always been a little controversial.\\n\\n But the bigger part is where does this cancel shit end? If you keep canceling everything that some may not agree with what will we have left? I'm getting tired of all this forced inclusion and canceling shit\", 'like_count': '', 'reply_count': None}, {'comment_text': 'Charlamage added zero value to this conversation with his comment on DaBaby lol', 'like_count': '', 'reply_count': '1 reply'}, {'comment_text': \"If a trans person robbed your house . How would you identify them to the cops. I'll wait\", 'like_count': '', 'reply_count': None}, {'comment_text': 'Charlemagne missing the point entirely here. Jesus', 'like_count': '', 'reply_count': None}, {'comment_text': 'cant cancel the king', 'like_count': '', 'reply_count': None}, {'comment_text': 'How this woman became a radio host? She must have known someone with the hookup?', 'like_count': '', 'reply_count': None}, {'comment_text': \"Dave snaps on everyone even himself!!!\\n What makes this group the exception?\\n    Hypocrites and  to hypersensitive \\n Turn the phone or cell off if you can't handle it , real life things !\", 'like_count': '', 'reply_count': None}, {'comment_text': \"Dave Chappelle always trying to say   you seeking for equality people so I can make jokes on you same as all other people take it with smile it's a joke\", 'like_count': '', 'reply_count': None}, {'comment_text': 'EVERY person  on earth HAD TO pass through the legs of a WOMAN to get here.\\n-Dave Chappelle \\nFacts, no lies detectedBut people are still mad.', 'like_count': '', 'reply_count': None}, {'comment_text': 'So nobody has a problem with him saying \"I\\'m team TERF\"? Alright I\\'ll remember that', 'like_count': '', 'reply_count': None}, {'comment_text': 'Its not hate to speak the truth!!!', 'like_count': '', 'reply_count': None}, {'comment_text': \"Dave chappelle's attention was to cause attention.\", 'like_count': '', 'reply_count': None}, {'comment_text': 'PRYOR / CARLIN / MURPHY / CHAPPELLE', 'like_count': '', 'reply_count': None}, {'comment_text': 'I liked the closer it was funny as shit', 'like_count': '', 'reply_count': None}, {'comment_text': 'wheres all that energy with cuties sad times.', 'like_count': '', 'reply_count': None}, {'comment_text': \"HELLO\\nIts comedy, duh... watch it and laugh or if it offends you here's a thought avoid it..\\nYall already know his team of lawyers looks this type of stuff over b4 he performs it so um yea.\", 'like_count': '', 'reply_count': None}, {'comment_text': 'WE CANNOT BOW DOWN TO THE LGBTQ COMMUNITY......', 'like_count': '', 'reply_count': None}, {'comment_text': \"Dave's has already cash the checks remember this is the same guy whom walk away from 50million dollars he can go underground and make millions\", 'like_count': '', 'reply_count': None}, {'comment_text': \"if i don't like something I just don't watch it\", 'like_count': '', 'reply_count': None}, {'comment_text': 'Bruh its comedy. What about the domestic violence jokes?', 'like_count': '', 'reply_count': None}, {'comment_text': 'El papa...no hay duda', 'like_count': '', 'reply_count': None}, {'comment_text': 'When is Truth controversy??', 'like_count': '', 'reply_count': None}, {'comment_text': 'I guess I haven’t seen angekaYee in a while.', 'like_count': '', 'reply_count': None}, {'comment_text': \"Charlamagne still at The Breakfast Club? Didn't that broke bum said he was leaving like three years ago?\", 'like_count': '', 'reply_count': None}, {'comment_text': 'he was great, people are so soft now\\n a days.', 'like_count': '', 'reply_count': None}, {'comment_text': 'Dave don\\'t give a \" F\" and I don\\'t give a dam!!!!', 'like_count': '', 'reply_count': None}, {'comment_text': 'We will not allow Dave to get cancel but nice try', 'like_count': '', 'reply_count': None}, {'comment_text': 'Was JK Rowling cancelled though? Neither will be Chappele.', 'like_count': '', 'reply_count': None}, {'comment_text': \"can't cancel Chappelle.\", 'like_count': '', 'reply_count': None}, {'comment_text': \"It's was amazing\", 'like_count': '', 'reply_count': None}, {'comment_text': \"If you're sensitive then don't watch comdey...\", 'like_count': '', 'reply_count': None}, {'comment_text': 'He said they gonna cancell . Of course he had to be joking . Isnt he a comedian . It sure is funny he knew they would cancell . What was it they wanted him cancelled exactly for again ? Was it something that was funny or something FACT. Cancell for FUNNY ? Or they about to cancell For FACT? \\nI dont know but this sure is funny', 'like_count': '', 'reply_count': None}, {'comment_text': 'I think if YOU choose to watch a video YOU are at the consequences of how you react because nobody forced you to watch the content YOU did and YOU have the decision to continue watching or turn it off. It’s like the analogy if you saw dog shit on the footpath you’re going to go around it not step in it yet these intolerant, nazi bully’s chose to step in it at their own volition and honestly deserve the consequences for knowingly done so.. the comedians shouldn’t have to deal with this ever they have rights and rights to freedom of speech', 'like_count': '', 'reply_count': None}, {'comment_text': 'Gender is a fact- Medical fact & scientific fact.', 'like_count': '', 'reply_count': None}, {'comment_text': 'Why don’t you just take all his comments out of text', 'like_count': '', 'reply_count': None}, {'comment_text': 'Fxck all that! R.I.P. Daphne Dorman', 'like_count': '', 'reply_count': None}, {'comment_text': 'Lets cancel breakfast club!', 'like_count': '', 'reply_count': None}, {'comment_text': 'The is nothing wrong on what Dave said please just take a joke.', 'like_count': '', 'reply_count': None}, {'comment_text': \"*They better be happy they didn't exist during the days of comics back in the day when they called them the F WORD!\\nRhymes with Tag!Some of these people didn't even watch it and are going off what others are saying.\\nI watched it..it was hilarious  and he was actually supportive of Trans people and discussed his trans friend who committed suicide.\\nBut he's a comic so of course there's going to be insane jokes.\\nHe's not going to talk the way YOU want him to or say things that YOU approve of. Get over yourselves!\\nHe also uses the N word THROUGHOUT....no1s mad at that.\\nBut he's a comedian.\\nSo of course he's going to say things that you probably won't like.\\n\\nIt.s really simple: DON'T WATCH!\", 'like_count': '', 'reply_count': None}, {'comment_text': 'You go dave 🇺🇸', 'like_count': '', 'reply_count': None}, {'comment_text': 'They made their own kind commit suicide and you guys dont see nothing wrong with that', 'like_count': '', 'reply_count': None}, {'comment_text': \"I fuckin love Dave Chappelle I mean men are getting women parts pretty soon there's gonna be no room for me that's how I feel there's beautiful trans out there gorgeous and I feel like I can't win with anyone now  their the number 1 pick and it makes me feel alone honestly\", 'like_count': '', 'reply_count': None}, {'comment_text': \"Who are these groups speaking for? They're not speaking for me as a black man, and I bet that's true for the vast majority of us. So they do not speak for us.\", 'like_count': '', 'reply_count': None}, {'comment_text': 'He’s very funny', 'like_count': '', 'reply_count': None}, {'comment_text': 'hes a COMEDIAN, whats wrong with people, if you dont like it dont watch', 'like_count': '', 'reply_count': None}, {'comment_text': 'Why does the pronoun community think they should be exempt from being made fun of?', 'like_count': '', 'reply_count': None}, {'comment_text': \"Dave just simply don't give the F...\", 'like_count': '', 'reply_count': None}, {'comment_text': 'Goooooo Dave', 'like_count': '', 'reply_count': None}, {'comment_text': 'I love Dave Shapell. LGTBQ need to know.... humour....', 'like_count': '', 'reply_count': None}, {'comment_text': 'political correctness gone mad!  love and light to all', 'like_count': '', 'reply_count': None}, {'comment_text': 'That hilarious', 'like_count': '', 'reply_count': None}, {'comment_text': 'Dave didn’t say anything wrong.', 'like_count': '', 'reply_count': None}, {'comment_text': 'Is it transphobic for a gay person not wanting to date a trans man or a lesbian woman not wanting to date a trans woman', 'like_count': '', 'reply_count': None}, {'comment_text': \"People don't get it that's why they mad\", 'like_count': '', 'reply_count': None}, {'comment_text': 'But Boosie is wrong ?', 'like_count': '', 'reply_count': None}, {'comment_text': 'how is what she said complicated.. bruh', 'like_count': '', 'reply_count': None}, {'comment_text': 'CTG is being held hostage by the gay community', 'like_count': '', 'reply_count': None}, {'comment_text': 'It was funny dammit!', 'like_count': '', 'reply_count': None}, {'comment_text': \"what happened to if you don't like it,don't watch it!!!!!!!\", 'like_count': '', 'reply_count': None}, {'comment_text': 'What did he say wrong or inaccurate? I’ll wait', 'like_count': '', 'reply_count': None}, {'comment_text': \"I don't even think that he's funny but he should say whatever makes him him. Its a lot of shit said and done so why is such a big deal\", 'like_count': '', 'reply_count': None}, {'comment_text': 'You can go woke and still take a joke….you sensitive nannies', 'like_count': '', 'reply_count': None}, {'comment_text': 'I’m a TERF with girth.', 'like_count': '', 'reply_count': None}, {'comment_text': \"It's called a joke. Comedians tell jokes. If you can't handle a joke maybe you should watch something else.\", 'like_count': '', 'reply_count': None}, {'comment_text': 'It was funny as shit', 'like_count': '', 'reply_count': None}, {'comment_text': 'REALLY??? PEOPLE ITS COMEDY', 'like_count': '', 'reply_count': None}, {'comment_text': \"Mr. Chappelle, I truly hope that the world is how i see it and how I believe most people do as well i would like to think as a whole everyone is good and most importantly THE SAME,  it seems as though to me , I thought by now we would understand people are people, good is good happy is happy friends are friends and funny is FUNNY because smilies bring us together, color, race, gender, sexual preference does not matter to Normal people its only a description an adjective, nothing more maybe I'm wrong I hope not, I hope we are better thenwhy are people so mad, I know my friends are my friends no matter who they are because they are HUMAN BEINGS,  Mr Chappelle please know that most people NO,,, all people are good\", 'like_count': '', 'reply_count': None}, {'comment_text': \"If you don't like the joke don't watch it....\", 'like_count': '', 'reply_count': None}, {'comment_text': 'I thought some jokes  were funny and and some were not and some things he said I agreed with and somethings I didn’t agree with.  Doesn’t means I want him cancel,? no.  Everyone has a right to their opinion and they also have to live with the consequences of people disagreeing with them.  Dave is going to be just fine just like JK Rauling who’s supposedly cancel but yet she has a few movies in the works, so I guess canceling her has been good to her career. People are ok with cancel culture when it benefits them but when it doesn’t then they are against it.', 'like_count': '', 'reply_count': None}, {'comment_text': 'Is was hilarious', 'like_count': '', 'reply_count': None}, {'comment_text': 'Have no issue with his platform or the way he does his comedy. Typically, I have thoroughly enjoyed his material, but I just didn\\'t find this show to be very entertaining. I completely understand his viewpoint but felt he dedicated way too much time to an issue that he could\\'ve just left at the \"Da Baby joke\". I look to Chapelle to deliver thought-provoking comedy on an array of issues facing our society but this just felt like him unloading a distaste for that particular community. It is what it is.', 'like_count': '', 'reply_count': None}, {'comment_text': 'Im team terf!', 'like_count': '', 'reply_count': None}, {'comment_text': 'Oh breakfast club smh always towing the politically correct line very carefully', 'like_count': '', 'reply_count': None}, {'comment_text': 'I agree with what he said but he does not do comedy anymore. He comes on stage and lectures to everyone. When you watch a comedy special its is supposed to be funny I dont want a lecture go on CNN for that. It got tiring after a while.', 'like_count': '', 'reply_count': None}, {'comment_text': 'This cancel culture is a joke. If you don’t like it or something your watching offends you then stop watching lol. Imagine if everyone had the power to cancel stuff that they don’t like or is offended by then you’d have no entertainment in life. What this lame generation needs to learn is how to grow some thick skin or learn to take a joke.', 'like_count': '', 'reply_count': None}, {'comment_text': \"misinformation could lead to people getting hurt- couldnt Dave's special lead to trans people getting hurt? can a white boy make black jokes now?\", 'like_count': '', 'reply_count': None}, {'comment_text': \"What,s going on I will tell you what's going on. We need to bring some loving here today. If Dave can bring some laughter to help with the loving sounds like a good idea. And he is so dame good at his graft...So dame good. The others are bugs and dings and do nothings so hard to be around them!.\", 'like_count': '', 'reply_count': None}, {'comment_text': 'Angela Yee is chunky now?! I’ve been gone for a while.', 'like_count': '', 'reply_count': None}, {'comment_text': 'Dave lost me with this one.', 'like_count': '1', 'reply_count': None}, {'comment_text': 'The closer was not that good lol\\nY’all need to watch killin em softly', 'like_count': '', 'reply_count': None}, {'comment_text': 'Some people want comedy dead', 'like_count': '', 'reply_count': None}, {'comment_text': 'Wazzap wit dat....', 'like_count': '', 'reply_count': None}, {'comment_text': 'I support gay people, trans people and all people but can not support LGBT.', 'like_count': '', 'reply_count': None}, {'comment_text': 'Just change the channel if you don’t like it that easy but to take someones life hood who’s the one being a bully this show is a bully as well and it don’t get shut down', 'like_count': '', 'reply_count': None}, {'comment_text': 'Oh yeah I just figured it out its called... BEING A BULLY!!! SMH WTF', 'like_count': '', 'reply_count': None}, {'comment_text': 'Tryna keep that tv show huh?', 'like_count': '', 'reply_count': None}, {'comment_text': 'Is Angela pregnant?', 'like_count': '', 'reply_count': None}, {'comment_text': 'is angela yee pregnant?', 'like_count': '', 'reply_count': None}, {'comment_text': \"He wasn't that funny but he made several points though\", 'like_count': '', 'reply_count': None}, {'comment_text': 'Gender is a fact', 'like_count': '1', 'reply_count': None}, {'comment_text': '@cthagod just man up and see you agree!!!', 'like_count': '', 'reply_count': None}, {'comment_text': 'The shit is Hilarious!', 'like_count': '', 'reply_count': None}, {'comment_text': 'They did not watch it.', 'like_count': '', 'reply_count': None}, {'comment_text': 'These cancel peeps ate vomit', 'like_count': '', 'reply_count': None}, {'comment_text': 'LGBTQ is so dam sensitive. Can’t even joke with them? He’s a comedian telling jokes. Laugh it off and move on with your day. Sheesh.', 'like_count': '', 'reply_count': None}, {'comment_text': \"Elgeebeeteequetee care bears have blood on their hands for executing Dave's Trans friend and now they finally realized they fucked with someone who will swing back. He's hitting them where it supposedly hurts the most - their fEeLiNgS.\", 'like_count': '', 'reply_count': None}, {'comment_text': '0:51you mean the average person is tired of the games and is just gonna watch the special ignore the screaming whining bitching snow flakes and go about their day? wow its almost like if you just ignore them and let them have their twitter tantrum the world doesnt actually end like they say it will.', 'like_count': '', 'reply_count': None}, {'comment_text': 'Cmon Charlemagne! Stop that…', 'like_count': '', 'reply_count': None}, {'comment_text': '‘The Truth ONLY Hurts the Guilty!……M L FARRAKHAN', 'like_count': '', 'reply_count': None}, {'comment_text': 'The truth hurts...deal with it', 'like_count': '', 'reply_count': None}, {'comment_text': \"'m if they can't take a joke.\", 'like_count': '', 'reply_count': None}, {'comment_text': 'If you can change your gender you can change the channel.', 'like_count': '', 'reply_count': None}, {'comment_text': '#FACT', 'like_count': '', 'reply_count': None}, {'comment_text': 'oh no! dave has an opinion of his own!!! OH NOOOO!!!!', 'like_count': '', 'reply_count': None}, {'comment_text': \"LGBTQ Let's Get Biden To Quit!\", 'like_count': '1', 'reply_count': None}, {'comment_text': 'Go woke go broke', 'like_count': '', 'reply_count': None}, {'comment_text': 'Heavily edited for time, yeah right. you took out the best part of the jokes.', 'like_count': '', 'reply_count': None}, {'comment_text': 'Why do people still watch this show?', 'like_count': '', 'reply_count': None}, {'comment_text': 'I honestly don’t find Dave funny. I find his comedy interesting like Ted talk but It’s not double over with laughter funny. Well except the Michael Jackson staring at buttholes', 'like_count': '', 'reply_count': None}, {'comment_text': \"Your editing ruined Dave's bit.\", 'like_count': '', 'reply_count': None}, {'comment_text': 'These crazy Dave apologists are embarrassing!!  lololol Creepy!!', 'like_count': '', 'reply_count': None}, {'comment_text': 'Ngl since bk club been with revolt tv its weird biased n not the same fr', 'like_count': '', 'reply_count': '1 reply'}, {'comment_text': \"Nothing he said was transphobic. And if it was just don't watch it. Simple.\", 'like_count': '1', 'reply_count': None}, {'comment_text': 'Space Jews will solve this!', 'like_count': '', 'reply_count': None}, {'comment_text': 'Who are these clowns, I notice you people are talking heads with no actual thoughts of your own people read a good bookand cancel these 3 clowns on your schedule. Envy angel and the Dog so what.', 'like_count': '', 'reply_count': None}, {'comment_text': 'Lol,\\nI clicked this because I wanted to see whatnormal peoplethought of this latest special, as I highly enjoyed it.\\nComedic masterclass, like all his specials.\\nThen I saw this fool charlamagne in there, lol, instant leave.\\nHow is this tool still speaking on relevant topics!?', 'like_count': '', 'reply_count': None}, {'comment_text': '', 'like_count': '', 'reply_count': None}, {'comment_text': 'Ew work station looks disgusting compared to other creators', 'like_count': '', 'reply_count': None}, {'comment_text': 'lol my comment got deleted hahahha niceee', 'like_count': '', 'reply_count': None}, {'comment_text': 'Waiting for the Wokefest club to get cancelled', 'like_count': '', 'reply_count': None}, {'comment_text': 'Interesting to see how the insane left thinks.  Can’t believe I used to listen to this show', 'like_count': '', 'reply_count': None}, {'comment_text': \"This society today is bs when u can express urself un comedian to bring some one laughs happiness if u will for that moment with some jokes (JOKES)  cause someone might ge offended look my opinion is this grow the f..... up who ever gets offended there JOKES u know that and u still either listen or watch the show let the comedians do there job and stop putting a leash on the craft it'd like having a guard dog y want him to protect ur home but u put a mussel on his mouth because y scared he might bite someone\", 'like_count': '', 'reply_count': None}, {'comment_text': 'It was a great joke.️', 'like_count': '', 'reply_count': None}, {'comment_text': 'Dave, the EARTH is transgender AND black! @', 'like_count': '', 'reply_count': None}, {'comment_text': 'space jews!', 'like_count': '', 'reply_count': None}, {'comment_text': 'Better hope these people never watch Murphy or prior or sagget or clay or shit any good observant comic', 'like_count': '', 'reply_count': None}, {'comment_text': 'The special was cool , lol…Dave Chappell is one of my fav artist , up there with Kanye. The jokes just didn’t hit to me, worst special from him', 'like_count': '', 'reply_count': None}, {'comment_text': \"Controversy.  Hahhahahahahahahhahahahahaha. Ain't nothing controversial about the truth.\", 'like_count': '', 'reply_count': None}, {'comment_text': 'But it was funny', 'like_count': '', 'reply_count': None}, {'comment_text': \"I just watched The Closer on Netflix. What a disappointment. Was this supposed to be a standup comedy special? Dave has officially become a bitter, jaded, hateful, rich old dude. He spent most of the special praising himself and showing how much he really hates whites. Asians too but mostly whites. He's definitely not the G.O.A.T. He's lost that title and if this really is his last special then what a sad way to go out.\", 'like_count': '', 'reply_count': None}, {'comment_text': 'Not going lie, love Dave but this is the least funny of his specials. (Not offended)', 'like_count': '', 'reply_count': None}, {'comment_text': \"Can't cancel Dave give up lgtbqptv\", 'like_count': '', 'reply_count': None}, {'comment_text': 'The National Black Who?? WTF.', 'like_count': '', 'reply_count': None}, {'comment_text': 'It’s a joke!', 'like_count': '', 'reply_count': None}, {'comment_text': 'American has become too sensitive…#Thatwasamasterpiece', 'like_count': '', 'reply_count': None}, {'comment_text': \"Don't no one care about what the breakfast club think... FOH\", 'like_count': '', 'reply_count': None}, {'comment_text': 'But trans women aren’t women.', 'like_count': '', 'reply_count': None}, {'comment_text': 'Too many sensitive Trans people', 'like_count': '', 'reply_count': None}, {'comment_text': 'I’m saying trans women aren’t women!', 'like_count': '', 'reply_count': None}, {'comment_text': \"This is so stupid and a non-issue, Dave makes fun of everyone so why is one group off limits, and gender is a fact of life, if you were born with a XX chromosome you are a female and if you are born with a XY you are male and that is fact, if you want to change your looks, name etc great, don't push this on other people. \\nIf trans people want to have equality this is not the way to do it, once you get so offended and become the only group that is off limits for comedy then you will never have the equality and be treated like anyone else. \\nStop this madness before it really gets out of control.\", 'like_count': '', 'reply_count': None}, {'comment_text': 'So, let me get this correct - NOW according to the Radicals on the LEFT, Comedians are no longer allowed to be funny??', 'like_count': '', 'reply_count': None}, {'comment_text': 'Breakfast club are hypocrites', 'like_count': '', 'reply_count': None}, {'comment_text': 'Unless they were born by caesarean!!️️just saying!!!', 'like_count': '', 'reply_count': None}, {'comment_text': 'Stop being soft people!', 'like_count': '', 'reply_count': None}, {'comment_text': 'Chapelle used to be a genius, but when you are making the same tired trans jokes as every other comedian, like I think Ricky Gervais has grounds for a lawsuit for theft of material and it was tired when Gervais stole it , then you are no longer a genius, You are just a hack .\\nIs Chappelle going to get canceled? No , but I think in 10 years, after this crap has worked it’s way through the comedy culture and trans people are as normal as being black , then I’ll bet for his legacy he will wish he had been cancelled. Think I’m wrong? Go back and watch Eddie Murphy in Raw and see how terribly some of that material has aged. Back then it was cool to attack and make fun of gays for being gay and supposedly “carrying AIDS on they lips “ and today that kind of comedy  is just sad. \\nEvery comedian has a moment in their career where they are no longer setting trends , they’re following them,  and if they are really self aware, and not egocentric they know when that moment is and they either change their material  and make it better with a great second act, as comedians like Carlin did, or they retire to save their legacy . Chappelle has blown right by that moment without the slightest recognition that he passed from trend setter to hack comedian looking for the establishment’s praise. Chappelle isn’t being subversive attacking trans people, there’s nothing cutting edge or insightful in repackaging the same old “ oh you identify as a women then I’ll identify as something absurd ” joke. Dude, we’ve heard it a thousand times, it wasn’t that funny the first 300 times we heard it, so what’s to make it funnier cause it comes out of Chappelle’s face over and over again? You can be funny making observations about issues like transgenderism but you are just a tired hack if you use that humor to go right at them like so many other “bro” comics do. \\nIf your defense of Chappelle is “he’s too rich to cancel he don’t care” then you miss the point and you inadvertently admit that he’s part of the establishment and the establishment isn’t challenging the status quo, he’s just reinforcing its ignorance. Chappelle, Gervais , Maher and a few others have aged out of the culture. They might have been insightful and cutting edge at one time but today, they are just sharing the same tired jokes trying to keep themselves relevant and liked by the largest audience they can and when you’re doing that it’s time for you to squeeze yourself into a gaudy white jumpsuit and get on the stage in Las Vegas and just play your hits cause you are not going to be doing anything new from here on out. Chappelle has reached the “Fat Elvis “ stage of his career and fat Elvis, he had lots of fans too, but he was still just fat Elvis. .', 'like_count': '', 'reply_count': None}, {'comment_text': 'A weak program for the low hanging fruit topics.', 'like_count': '', 'reply_count': None}, {'comment_text': 'Lol...these 3 are an actual joke', 'like_count': '', 'reply_count': None}, {'comment_text': 'Crybaby crybaby cry', 'like_count': '', 'reply_count': None}, {'comment_text': 'Charlemagne in the closet...he and wendy Williams ex husband', 'like_count': '', 'reply_count': None}, {'comment_text': 'Fraudsters.', 'like_count': '', 'reply_count': None}, {'comment_text': 'Breakfast club so dumb he can’t get past his feeling every show me. Charamaine whatever the point is not about the baby!! It’s people waking up against cancel culture wow I’m out this show is wild one way thinking.', 'like_count': '', 'reply_count': None}, {'comment_text': 'It honestly wasn’t that funny. I’m not trans or offended. I love Chapelle, but it wasn’t funny to me.', 'like_count': '', 'reply_count': None}, {'comment_text': 'Tha gad, when will you come out of the closet?', 'like_count': '', 'reply_count': None}, {'comment_text': 'dave isnt as funny as he used to be whodi', 'like_count': '', 'reply_count': None}, {'comment_text': \"I'm team TERF...great....Joke? That lame sht was a Joke?....OK. This special was weak...\", 'like_count': '', 'reply_count': None}, {'comment_text': 'Show was mid at best\\nDave is washed up', 'like_count': '', 'reply_count': None}, {'comment_text': 'Dave is extremely overated, he\\'s only liked so much because he ponders to \"blackness\" and black people are easily bought onside with that stuff.', 'like_count': '', 'reply_count': None}, {'comment_text': 'I don’t like Justin beibers music I don’t go out of my way and listen to his shit and complain about its simple you don’t like his content go somewhere else if we were all the same life and everything was the same it would be a dull waste of time', 'like_count': '', 'reply_count': None}, {'comment_text': 'Angelayee look old and over weght', 'like_count': '', 'reply_count': None}, {'comment_text': 'This shit is click bait', 'like_count': '', 'reply_count': None}, {'comment_text': 'MAGA!!!!', 'like_count': '', 'reply_count': None}, {'comment_text': 'Cancel dave', 'like_count': '', 'reply_count': None}, {'comment_text': 'If you dont like Dave Chapelle or Netflix then UNSUBSCRIBE ! Get other streaming service !', 'like_count': '', 'reply_count': None}, {'comment_text': 'Who cares..', 'like_count': '', 'reply_count': None}, {'comment_text': 'W', 'like_count': '', 'reply_count': None}, {'comment_text': \"I'm only here for Dave. This show sucks.\", 'like_count': '', 'reply_count': None}, {'comment_text': 'Daphinne a sellout', 'like_count': '', 'reply_count': None}, {'comment_text': '', 'like_count': '', 'reply_count': None}, {'comment_text': '\"He\\'s a comedian\" is a shit take.  Just imagine:  In his next show, Seinfeld holds forth on the Black community using sweeping generalizations and stereotypes to make his point.  Imagine he doesn\\'t just do one or two jokes, rather he talks for most of his special about beating up black people, and compares the oppression of black people to women, ignoring that some of those women are Black.  He dismisses all criticism by saying critics are following talking points - arguing that people are only critical because they have been told to. In this example, it is doubtful that ANYONE (including the Breakfast Club) would dismiss the attacks on Black people with \"He\\'s a comedian\".  I don\\'t think people know what \"cancelled\" means. Black people cancelled TF out of Anthony Richard (Kramer) after he used the N-Word.  That\\'s cancelled. J.K.  Rowling is a multimillionaire who is still selling books and releasing new books this year.  Dave Chappelle is a multimillionaire who just completed his 8th special for Netflix. Meanwhile Black transgender women, (who have ALWAYS existed) are being attacked on commuter trains while people watch (ATL) or beat up by a group of Black folks returning from a BLM march, or killed--most of the time by heterosexual men who had sex with them knowing full well who they were.  Give me abreak.  Having one trans friend doesn\\'t magically make someone less transphobic, same as having one white friend doesn\\'t magically make one not a racist.  No one is trying to cancel Dave.  People are responding to his own words, and now he\\'s trying to take that away be calling the reaction \"Cancel culture\".  I have watched all of his specials.  I watched this one.  There were funny moments...but then he seemed to focus on LGBT people with zero regard for how powerful his voice is and how it can be used by some to justify violence against my community.him  He can eat', 'like_count': '', 'reply_count': None}]}\n"
          ]
        }
      ]
    },
    {
      "cell_type": "code",
      "source": [],
      "metadata": {
        "id": "ppg9pC6dAiQE"
      },
      "execution_count": 20,
      "outputs": []
    },
    {
      "cell_type": "code",
      "source": [
        "video_data.keys()"
      ],
      "metadata": {
        "id": "bnz1CgpqAiM5",
        "colab": {
          "base_uri": "https://localhost:8080/"
        },
        "outputId": "ad93b17e-b82f-4f7f-8672-41ed4c818dc7"
      },
      "execution_count": 36,
      "outputs": [
        {
          "output_type": "execute_result",
          "data": {
            "text/plain": [
              "dict_keys(['channel_name', 'video_title', 'video_description', 'comments'])"
            ]
          },
          "metadata": {},
          "execution_count": 36
        }
      ]
    },
    {
      "cell_type": "code",
      "source": [
        "video_data['video_description']"
      ],
      "metadata": {
        "colab": {
          "base_uri": "https://localhost:8080/",
          "height": 69
        },
        "id": "Humh0LEOTVff",
        "outputId": "d06607d9-4161-44ce-b4d1-2012adab216f"
      },
      "execution_count": 22,
      "outputs": [
        {
          "output_type": "execute_result",
          "data": {
            "text/plain": [
              "'The Breakfast Club Reacts to Dave Chapelle\\'s Netflix Special \"The Closer\" The Breakfast Club features celebrity interviews, Charlamagne tha God’s Donkey of the Day, Angela Yee\\'s Rumor Reports, DJ Envy\\'s mixes and so much more! Every guest visiting the world\\'s most dangerous morning show is grilled with a blend of honesty and humor.'"
            ],
            "application/vnd.google.colaboratory.intrinsic+json": {
              "type": "string"
            }
          },
          "metadata": {},
          "execution_count": 22
        }
      ]
    },
    {
      "cell_type": "code",
      "source": [],
      "metadata": {
        "id": "b5RnrIxhAh1_"
      },
      "execution_count": 20,
      "outputs": []
    },
    {
      "cell_type": "code",
      "source": [
        "\n",
        "\n",
        "# # Initialize YouTube API client\n",
        "# api_key = userdata.get('YouTubeAPI_key')\n",
        "# youtube = initialize_youtube_api(api_key)\n",
        "\n",
        "# # # Display video info\n",
        "# # print(\"\\nVideo Information:\\n\")\n",
        "# # title, extracted_video_url, view_count, like_count, commentCount, date_posted, first_paragraph, thumbnail_url = get_video_info(video_id)\n",
        "# # print(f\"Title: {title}\")\n",
        "# # print(f\"Video URL: {extracted_video_url}\")\n",
        "# # print(f\"View count: {view_count}\")\n",
        "# # print(f\"Like count: {like_count}\")\n",
        "# # print(f\"Number of Comments: {commentCount}\")\n",
        "# # print(f\"Date posted: {date_posted}\")\n",
        "# # print(f\"Description: {first_paragraph}\")\n",
        "# # print(f\"Thumbnail URL: {thumbnail_url}\")\n",
        "# # print(\"\\n\")\n",
        "\n"
      ],
      "metadata": {
        "id": "WJqrk0bl_HUh"
      },
      "execution_count": 21,
      "outputs": []
    },
    {
      "cell_type": "code",
      "source": [],
      "metadata": {
        "id": "76QUkg7Z_HRb"
      },
      "execution_count": 21,
      "outputs": []
    }
  ],
  "metadata": {
    "colab": {
      "machine_shape": "hm",
      "provenance": [],
      "gpuType": "T4",
      "include_colab_link": true
    },
    "kernelspec": {
      "display_name": "Python 3",
      "name": "python3"
    },
    "language_info": {
      "codemirror_mode": {
        "name": "ipython",
        "version": 3
      },
      "file_extension": ".py",
      "mimetype": "text/x-python",
      "name": "python",
      "nbconvert_exporter": "python",
      "pygments_lexer": "ipython3",
      "version": "3.12.1"
    },
    "accelerator": "GPU",
    "widgets": {
      "application/vnd.jupyter.widget-state+json": {
        "32d4266c58c842e589eab17df138a29a": {
          "model_module": "@jupyter-widgets/controls",
          "model_name": "HBoxModel",
          "model_module_version": "1.5.0",
          "state": {
            "_dom_classes": [],
            "_model_module": "@jupyter-widgets/controls",
            "_model_module_version": "1.5.0",
            "_model_name": "HBoxModel",
            "_view_count": null,
            "_view_module": "@jupyter-widgets/controls",
            "_view_module_version": "1.5.0",
            "_view_name": "HBoxView",
            "box_style": "",
            "children": [
              "IPY_MODEL_35dfa583a4794edba2436c0dbc8e6d26",
              "IPY_MODEL_79e4b13776564d9fb03aa639b7e2ff85",
              "IPY_MODEL_f2bdb16ae774468aac3fea89414fd310"
            ],
            "layout": "IPY_MODEL_6f45421e722d4682aeac8584c2d526ec"
          }
        },
        "35dfa583a4794edba2436c0dbc8e6d26": {
          "model_module": "@jupyter-widgets/controls",
          "model_name": "HTMLModel",
          "model_module_version": "1.5.0",
          "state": {
            "_dom_classes": [],
            "_model_module": "@jupyter-widgets/controls",
            "_model_module_version": "1.5.0",
            "_model_name": "HTMLModel",
            "_view_count": null,
            "_view_module": "@jupyter-widgets/controls",
            "_view_module_version": "1.5.0",
            "_view_name": "HTMLView",
            "description": "",
            "description_tooltip": null,
            "layout": "IPY_MODEL_3079de68b1774d24a023e2da9faae3a1",
            "placeholder": "​",
            "style": "IPY_MODEL_846f858cc18c42c9bc4c80a4704ed840",
            "value": "config.json: 100%"
          }
        },
        "79e4b13776564d9fb03aa639b7e2ff85": {
          "model_module": "@jupyter-widgets/controls",
          "model_name": "FloatProgressModel",
          "model_module_version": "1.5.0",
          "state": {
            "_dom_classes": [],
            "_model_module": "@jupyter-widgets/controls",
            "_model_module_version": "1.5.0",
            "_model_name": "FloatProgressModel",
            "_view_count": null,
            "_view_module": "@jupyter-widgets/controls",
            "_view_module_version": "1.5.0",
            "_view_name": "ProgressView",
            "bar_style": "success",
            "description": "",
            "description_tooltip": null,
            "layout": "IPY_MODEL_acb8db7895824910af4e96abac0ecfc0",
            "max": 1585,
            "min": 0,
            "orientation": "horizontal",
            "style": "IPY_MODEL_63cf0399a6264a71a1951c7b4fec9306",
            "value": 1585
          }
        },
        "f2bdb16ae774468aac3fea89414fd310": {
          "model_module": "@jupyter-widgets/controls",
          "model_name": "HTMLModel",
          "model_module_version": "1.5.0",
          "state": {
            "_dom_classes": [],
            "_model_module": "@jupyter-widgets/controls",
            "_model_module_version": "1.5.0",
            "_model_name": "HTMLModel",
            "_view_count": null,
            "_view_module": "@jupyter-widgets/controls",
            "_view_module_version": "1.5.0",
            "_view_name": "HTMLView",
            "description": "",
            "description_tooltip": null,
            "layout": "IPY_MODEL_7cba138ee23b4f92ad79efc319b8712e",
            "placeholder": "​",
            "style": "IPY_MODEL_a8010f5134b94c378aba5ba9885291d7",
            "value": " 1.58k/1.58k [00:00&lt;00:00, 112kB/s]"
          }
        },
        "6f45421e722d4682aeac8584c2d526ec": {
          "model_module": "@jupyter-widgets/base",
          "model_name": "LayoutModel",
          "model_module_version": "1.2.0",
          "state": {
            "_model_module": "@jupyter-widgets/base",
            "_model_module_version": "1.2.0",
            "_model_name": "LayoutModel",
            "_view_count": null,
            "_view_module": "@jupyter-widgets/base",
            "_view_module_version": "1.2.0",
            "_view_name": "LayoutView",
            "align_content": null,
            "align_items": null,
            "align_self": null,
            "border": null,
            "bottom": null,
            "display": null,
            "flex": null,
            "flex_flow": null,
            "grid_area": null,
            "grid_auto_columns": null,
            "grid_auto_flow": null,
            "grid_auto_rows": null,
            "grid_column": null,
            "grid_gap": null,
            "grid_row": null,
            "grid_template_areas": null,
            "grid_template_columns": null,
            "grid_template_rows": null,
            "height": null,
            "justify_content": null,
            "justify_items": null,
            "left": null,
            "margin": null,
            "max_height": null,
            "max_width": null,
            "min_height": null,
            "min_width": null,
            "object_fit": null,
            "object_position": null,
            "order": null,
            "overflow": null,
            "overflow_x": null,
            "overflow_y": null,
            "padding": null,
            "right": null,
            "top": null,
            "visibility": null,
            "width": null
          }
        },
        "3079de68b1774d24a023e2da9faae3a1": {
          "model_module": "@jupyter-widgets/base",
          "model_name": "LayoutModel",
          "model_module_version": "1.2.0",
          "state": {
            "_model_module": "@jupyter-widgets/base",
            "_model_module_version": "1.2.0",
            "_model_name": "LayoutModel",
            "_view_count": null,
            "_view_module": "@jupyter-widgets/base",
            "_view_module_version": "1.2.0",
            "_view_name": "LayoutView",
            "align_content": null,
            "align_items": null,
            "align_self": null,
            "border": null,
            "bottom": null,
            "display": null,
            "flex": null,
            "flex_flow": null,
            "grid_area": null,
            "grid_auto_columns": null,
            "grid_auto_flow": null,
            "grid_auto_rows": null,
            "grid_column": null,
            "grid_gap": null,
            "grid_row": null,
            "grid_template_areas": null,
            "grid_template_columns": null,
            "grid_template_rows": null,
            "height": null,
            "justify_content": null,
            "justify_items": null,
            "left": null,
            "margin": null,
            "max_height": null,
            "max_width": null,
            "min_height": null,
            "min_width": null,
            "object_fit": null,
            "object_position": null,
            "order": null,
            "overflow": null,
            "overflow_x": null,
            "overflow_y": null,
            "padding": null,
            "right": null,
            "top": null,
            "visibility": null,
            "width": null
          }
        },
        "846f858cc18c42c9bc4c80a4704ed840": {
          "model_module": "@jupyter-widgets/controls",
          "model_name": "DescriptionStyleModel",
          "model_module_version": "1.5.0",
          "state": {
            "_model_module": "@jupyter-widgets/controls",
            "_model_module_version": "1.5.0",
            "_model_name": "DescriptionStyleModel",
            "_view_count": null,
            "_view_module": "@jupyter-widgets/base",
            "_view_module_version": "1.2.0",
            "_view_name": "StyleView",
            "description_width": ""
          }
        },
        "acb8db7895824910af4e96abac0ecfc0": {
          "model_module": "@jupyter-widgets/base",
          "model_name": "LayoutModel",
          "model_module_version": "1.2.0",
          "state": {
            "_model_module": "@jupyter-widgets/base",
            "_model_module_version": "1.2.0",
            "_model_name": "LayoutModel",
            "_view_count": null,
            "_view_module": "@jupyter-widgets/base",
            "_view_module_version": "1.2.0",
            "_view_name": "LayoutView",
            "align_content": null,
            "align_items": null,
            "align_self": null,
            "border": null,
            "bottom": null,
            "display": null,
            "flex": null,
            "flex_flow": null,
            "grid_area": null,
            "grid_auto_columns": null,
            "grid_auto_flow": null,
            "grid_auto_rows": null,
            "grid_column": null,
            "grid_gap": null,
            "grid_row": null,
            "grid_template_areas": null,
            "grid_template_columns": null,
            "grid_template_rows": null,
            "height": null,
            "justify_content": null,
            "justify_items": null,
            "left": null,
            "margin": null,
            "max_height": null,
            "max_width": null,
            "min_height": null,
            "min_width": null,
            "object_fit": null,
            "object_position": null,
            "order": null,
            "overflow": null,
            "overflow_x": null,
            "overflow_y": null,
            "padding": null,
            "right": null,
            "top": null,
            "visibility": null,
            "width": null
          }
        },
        "63cf0399a6264a71a1951c7b4fec9306": {
          "model_module": "@jupyter-widgets/controls",
          "model_name": "ProgressStyleModel",
          "model_module_version": "1.5.0",
          "state": {
            "_model_module": "@jupyter-widgets/controls",
            "_model_module_version": "1.5.0",
            "_model_name": "ProgressStyleModel",
            "_view_count": null,
            "_view_module": "@jupyter-widgets/base",
            "_view_module_version": "1.2.0",
            "_view_name": "StyleView",
            "bar_color": null,
            "description_width": ""
          }
        },
        "7cba138ee23b4f92ad79efc319b8712e": {
          "model_module": "@jupyter-widgets/base",
          "model_name": "LayoutModel",
          "model_module_version": "1.2.0",
          "state": {
            "_model_module": "@jupyter-widgets/base",
            "_model_module_version": "1.2.0",
            "_model_name": "LayoutModel",
            "_view_count": null,
            "_view_module": "@jupyter-widgets/base",
            "_view_module_version": "1.2.0",
            "_view_name": "LayoutView",
            "align_content": null,
            "align_items": null,
            "align_self": null,
            "border": null,
            "bottom": null,
            "display": null,
            "flex": null,
            "flex_flow": null,
            "grid_area": null,
            "grid_auto_columns": null,
            "grid_auto_flow": null,
            "grid_auto_rows": null,
            "grid_column": null,
            "grid_gap": null,
            "grid_row": null,
            "grid_template_areas": null,
            "grid_template_columns": null,
            "grid_template_rows": null,
            "height": null,
            "justify_content": null,
            "justify_items": null,
            "left": null,
            "margin": null,
            "max_height": null,
            "max_width": null,
            "min_height": null,
            "min_width": null,
            "object_fit": null,
            "object_position": null,
            "order": null,
            "overflow": null,
            "overflow_x": null,
            "overflow_y": null,
            "padding": null,
            "right": null,
            "top": null,
            "visibility": null,
            "width": null
          }
        },
        "a8010f5134b94c378aba5ba9885291d7": {
          "model_module": "@jupyter-widgets/controls",
          "model_name": "DescriptionStyleModel",
          "model_module_version": "1.5.0",
          "state": {
            "_model_module": "@jupyter-widgets/controls",
            "_model_module_version": "1.5.0",
            "_model_name": "DescriptionStyleModel",
            "_view_count": null,
            "_view_module": "@jupyter-widgets/base",
            "_view_module_version": "1.2.0",
            "_view_name": "StyleView",
            "description_width": ""
          }
        },
        "b2aba561624a4770b5f76af9e306fee1": {
          "model_module": "@jupyter-widgets/controls",
          "model_name": "HBoxModel",
          "model_module_version": "1.5.0",
          "state": {
            "_dom_classes": [],
            "_model_module": "@jupyter-widgets/controls",
            "_model_module_version": "1.5.0",
            "_model_name": "HBoxModel",
            "_view_count": null,
            "_view_module": "@jupyter-widgets/controls",
            "_view_module_version": "1.5.0",
            "_view_name": "HBoxView",
            "box_style": "",
            "children": [
              "IPY_MODEL_c8ddaa672d1d469093d388304436965c",
              "IPY_MODEL_73da0ff4852944ae9da7e013853a21df",
              "IPY_MODEL_4521a626bdbc4318beebee6a1e8fc67f"
            ],
            "layout": "IPY_MODEL_847c2b7f6370427abc479cae4f0f8c92"
          }
        },
        "c8ddaa672d1d469093d388304436965c": {
          "model_module": "@jupyter-widgets/controls",
          "model_name": "HTMLModel",
          "model_module_version": "1.5.0",
          "state": {
            "_dom_classes": [],
            "_model_module": "@jupyter-widgets/controls",
            "_model_module_version": "1.5.0",
            "_model_name": "HTMLModel",
            "_view_count": null,
            "_view_module": "@jupyter-widgets/controls",
            "_view_module_version": "1.5.0",
            "_view_name": "HTMLView",
            "description": "",
            "description_tooltip": null,
            "layout": "IPY_MODEL_6657b3ecca7c41d697527fba768e6d51",
            "placeholder": "​",
            "style": "IPY_MODEL_e32bb188f6cd48fbba42f26e5c908ebc",
            "value": "model.safetensors: 100%"
          }
        },
        "73da0ff4852944ae9da7e013853a21df": {
          "model_module": "@jupyter-widgets/controls",
          "model_name": "FloatProgressModel",
          "model_module_version": "1.5.0",
          "state": {
            "_dom_classes": [],
            "_model_module": "@jupyter-widgets/controls",
            "_model_module_version": "1.5.0",
            "_model_name": "FloatProgressModel",
            "_view_count": null,
            "_view_module": "@jupyter-widgets/controls",
            "_view_module_version": "1.5.0",
            "_view_name": "ProgressView",
            "bar_style": "success",
            "description": "",
            "description_tooltip": null,
            "layout": "IPY_MODEL_f463008c6650415ab0b92abee5391491",
            "max": 1625222120,
            "min": 0,
            "orientation": "horizontal",
            "style": "IPY_MODEL_497b32f00de746c0b4359b46f779acb5",
            "value": 1625222120
          }
        },
        "4521a626bdbc4318beebee6a1e8fc67f": {
          "model_module": "@jupyter-widgets/controls",
          "model_name": "HTMLModel",
          "model_module_version": "1.5.0",
          "state": {
            "_dom_classes": [],
            "_model_module": "@jupyter-widgets/controls",
            "_model_module_version": "1.5.0",
            "_model_name": "HTMLModel",
            "_view_count": null,
            "_view_module": "@jupyter-widgets/controls",
            "_view_module_version": "1.5.0",
            "_view_name": "HTMLView",
            "description": "",
            "description_tooltip": null,
            "layout": "IPY_MODEL_683f699eed734e209033d02f7507af59",
            "placeholder": "​",
            "style": "IPY_MODEL_5c631ce495c5401a9626abd481d1352b",
            "value": " 1.63G/1.63G [00:04&lt;00:00, 332MB/s]"
          }
        },
        "847c2b7f6370427abc479cae4f0f8c92": {
          "model_module": "@jupyter-widgets/base",
          "model_name": "LayoutModel",
          "model_module_version": "1.2.0",
          "state": {
            "_model_module": "@jupyter-widgets/base",
            "_model_module_version": "1.2.0",
            "_model_name": "LayoutModel",
            "_view_count": null,
            "_view_module": "@jupyter-widgets/base",
            "_view_module_version": "1.2.0",
            "_view_name": "LayoutView",
            "align_content": null,
            "align_items": null,
            "align_self": null,
            "border": null,
            "bottom": null,
            "display": null,
            "flex": null,
            "flex_flow": null,
            "grid_area": null,
            "grid_auto_columns": null,
            "grid_auto_flow": null,
            "grid_auto_rows": null,
            "grid_column": null,
            "grid_gap": null,
            "grid_row": null,
            "grid_template_areas": null,
            "grid_template_columns": null,
            "grid_template_rows": null,
            "height": null,
            "justify_content": null,
            "justify_items": null,
            "left": null,
            "margin": null,
            "max_height": null,
            "max_width": null,
            "min_height": null,
            "min_width": null,
            "object_fit": null,
            "object_position": null,
            "order": null,
            "overflow": null,
            "overflow_x": null,
            "overflow_y": null,
            "padding": null,
            "right": null,
            "top": null,
            "visibility": null,
            "width": null
          }
        },
        "6657b3ecca7c41d697527fba768e6d51": {
          "model_module": "@jupyter-widgets/base",
          "model_name": "LayoutModel",
          "model_module_version": "1.2.0",
          "state": {
            "_model_module": "@jupyter-widgets/base",
            "_model_module_version": "1.2.0",
            "_model_name": "LayoutModel",
            "_view_count": null,
            "_view_module": "@jupyter-widgets/base",
            "_view_module_version": "1.2.0",
            "_view_name": "LayoutView",
            "align_content": null,
            "align_items": null,
            "align_self": null,
            "border": null,
            "bottom": null,
            "display": null,
            "flex": null,
            "flex_flow": null,
            "grid_area": null,
            "grid_auto_columns": null,
            "grid_auto_flow": null,
            "grid_auto_rows": null,
            "grid_column": null,
            "grid_gap": null,
            "grid_row": null,
            "grid_template_areas": null,
            "grid_template_columns": null,
            "grid_template_rows": null,
            "height": null,
            "justify_content": null,
            "justify_items": null,
            "left": null,
            "margin": null,
            "max_height": null,
            "max_width": null,
            "min_height": null,
            "min_width": null,
            "object_fit": null,
            "object_position": null,
            "order": null,
            "overflow": null,
            "overflow_x": null,
            "overflow_y": null,
            "padding": null,
            "right": null,
            "top": null,
            "visibility": null,
            "width": null
          }
        },
        "e32bb188f6cd48fbba42f26e5c908ebc": {
          "model_module": "@jupyter-widgets/controls",
          "model_name": "DescriptionStyleModel",
          "model_module_version": "1.5.0",
          "state": {
            "_model_module": "@jupyter-widgets/controls",
            "_model_module_version": "1.5.0",
            "_model_name": "DescriptionStyleModel",
            "_view_count": null,
            "_view_module": "@jupyter-widgets/base",
            "_view_module_version": "1.2.0",
            "_view_name": "StyleView",
            "description_width": ""
          }
        },
        "f463008c6650415ab0b92abee5391491": {
          "model_module": "@jupyter-widgets/base",
          "model_name": "LayoutModel",
          "model_module_version": "1.2.0",
          "state": {
            "_model_module": "@jupyter-widgets/base",
            "_model_module_version": "1.2.0",
            "_model_name": "LayoutModel",
            "_view_count": null,
            "_view_module": "@jupyter-widgets/base",
            "_view_module_version": "1.2.0",
            "_view_name": "LayoutView",
            "align_content": null,
            "align_items": null,
            "align_self": null,
            "border": null,
            "bottom": null,
            "display": null,
            "flex": null,
            "flex_flow": null,
            "grid_area": null,
            "grid_auto_columns": null,
            "grid_auto_flow": null,
            "grid_auto_rows": null,
            "grid_column": null,
            "grid_gap": null,
            "grid_row": null,
            "grid_template_areas": null,
            "grid_template_columns": null,
            "grid_template_rows": null,
            "height": null,
            "justify_content": null,
            "justify_items": null,
            "left": null,
            "margin": null,
            "max_height": null,
            "max_width": null,
            "min_height": null,
            "min_width": null,
            "object_fit": null,
            "object_position": null,
            "order": null,
            "overflow": null,
            "overflow_x": null,
            "overflow_y": null,
            "padding": null,
            "right": null,
            "top": null,
            "visibility": null,
            "width": null
          }
        },
        "497b32f00de746c0b4359b46f779acb5": {
          "model_module": "@jupyter-widgets/controls",
          "model_name": "ProgressStyleModel",
          "model_module_version": "1.5.0",
          "state": {
            "_model_module": "@jupyter-widgets/controls",
            "_model_module_version": "1.5.0",
            "_model_name": "ProgressStyleModel",
            "_view_count": null,
            "_view_module": "@jupyter-widgets/base",
            "_view_module_version": "1.2.0",
            "_view_name": "StyleView",
            "bar_color": null,
            "description_width": ""
          }
        },
        "683f699eed734e209033d02f7507af59": {
          "model_module": "@jupyter-widgets/base",
          "model_name": "LayoutModel",
          "model_module_version": "1.2.0",
          "state": {
            "_model_module": "@jupyter-widgets/base",
            "_model_module_version": "1.2.0",
            "_model_name": "LayoutModel",
            "_view_count": null,
            "_view_module": "@jupyter-widgets/base",
            "_view_module_version": "1.2.0",
            "_view_name": "LayoutView",
            "align_content": null,
            "align_items": null,
            "align_self": null,
            "border": null,
            "bottom": null,
            "display": null,
            "flex": null,
            "flex_flow": null,
            "grid_area": null,
            "grid_auto_columns": null,
            "grid_auto_flow": null,
            "grid_auto_rows": null,
            "grid_column": null,
            "grid_gap": null,
            "grid_row": null,
            "grid_template_areas": null,
            "grid_template_columns": null,
            "grid_template_rows": null,
            "height": null,
            "justify_content": null,
            "justify_items": null,
            "left": null,
            "margin": null,
            "max_height": null,
            "max_width": null,
            "min_height": null,
            "min_width": null,
            "object_fit": null,
            "object_position": null,
            "order": null,
            "overflow": null,
            "overflow_x": null,
            "overflow_y": null,
            "padding": null,
            "right": null,
            "top": null,
            "visibility": null,
            "width": null
          }
        },
        "5c631ce495c5401a9626abd481d1352b": {
          "model_module": "@jupyter-widgets/controls",
          "model_name": "DescriptionStyleModel",
          "model_module_version": "1.5.0",
          "state": {
            "_model_module": "@jupyter-widgets/controls",
            "_model_module_version": "1.5.0",
            "_model_name": "DescriptionStyleModel",
            "_view_count": null,
            "_view_module": "@jupyter-widgets/base",
            "_view_module_version": "1.2.0",
            "_view_name": "StyleView",
            "description_width": ""
          }
        },
        "b9626462d5a84efbb4a7b3513636aab2": {
          "model_module": "@jupyter-widgets/controls",
          "model_name": "HBoxModel",
          "model_module_version": "1.5.0",
          "state": {
            "_dom_classes": [],
            "_model_module": "@jupyter-widgets/controls",
            "_model_module_version": "1.5.0",
            "_model_name": "HBoxModel",
            "_view_count": null,
            "_view_module": "@jupyter-widgets/controls",
            "_view_module_version": "1.5.0",
            "_view_name": "HBoxView",
            "box_style": "",
            "children": [
              "IPY_MODEL_786941d762f946d19f7b1aaf3fdc0510",
              "IPY_MODEL_8934e24956684af3a351d5ec0c8431ba",
              "IPY_MODEL_d8c8210dfc8e410c9cd29b2ce081d44d"
            ],
            "layout": "IPY_MODEL_0750b1da051c4a2f99937c856c7b51f9"
          }
        },
        "786941d762f946d19f7b1aaf3fdc0510": {
          "model_module": "@jupyter-widgets/controls",
          "model_name": "HTMLModel",
          "model_module_version": "1.5.0",
          "state": {
            "_dom_classes": [],
            "_model_module": "@jupyter-widgets/controls",
            "_model_module_version": "1.5.0",
            "_model_name": "HTMLModel",
            "_view_count": null,
            "_view_module": "@jupyter-widgets/controls",
            "_view_module_version": "1.5.0",
            "_view_name": "HTMLView",
            "description": "",
            "description_tooltip": null,
            "layout": "IPY_MODEL_3f802a76651e4a6cb6e2b404fa395d4e",
            "placeholder": "​",
            "style": "IPY_MODEL_268004b4ff0d4517ba8aea6ec546b1b1",
            "value": "generation_config.json: 100%"
          }
        },
        "8934e24956684af3a351d5ec0c8431ba": {
          "model_module": "@jupyter-widgets/controls",
          "model_name": "FloatProgressModel",
          "model_module_version": "1.5.0",
          "state": {
            "_dom_classes": [],
            "_model_module": "@jupyter-widgets/controls",
            "_model_module_version": "1.5.0",
            "_model_name": "FloatProgressModel",
            "_view_count": null,
            "_view_module": "@jupyter-widgets/controls",
            "_view_module_version": "1.5.0",
            "_view_name": "ProgressView",
            "bar_style": "success",
            "description": "",
            "description_tooltip": null,
            "layout": "IPY_MODEL_6eaba82501434db2920a2a61dd25052a",
            "max": 363,
            "min": 0,
            "orientation": "horizontal",
            "style": "IPY_MODEL_2aebee468c2a427ba6fea818e2b97bec",
            "value": 363
          }
        },
        "d8c8210dfc8e410c9cd29b2ce081d44d": {
          "model_module": "@jupyter-widgets/controls",
          "model_name": "HTMLModel",
          "model_module_version": "1.5.0",
          "state": {
            "_dom_classes": [],
            "_model_module": "@jupyter-widgets/controls",
            "_model_module_version": "1.5.0",
            "_model_name": "HTMLModel",
            "_view_count": null,
            "_view_module": "@jupyter-widgets/controls",
            "_view_module_version": "1.5.0",
            "_view_name": "HTMLView",
            "description": "",
            "description_tooltip": null,
            "layout": "IPY_MODEL_6164937cbf29445fb98d216590d9f828",
            "placeholder": "​",
            "style": "IPY_MODEL_e5c172ff0ce74506b3923af20e735eb8",
            "value": " 363/363 [00:00&lt;00:00, 24.9kB/s]"
          }
        },
        "0750b1da051c4a2f99937c856c7b51f9": {
          "model_module": "@jupyter-widgets/base",
          "model_name": "LayoutModel",
          "model_module_version": "1.2.0",
          "state": {
            "_model_module": "@jupyter-widgets/base",
            "_model_module_version": "1.2.0",
            "_model_name": "LayoutModel",
            "_view_count": null,
            "_view_module": "@jupyter-widgets/base",
            "_view_module_version": "1.2.0",
            "_view_name": "LayoutView",
            "align_content": null,
            "align_items": null,
            "align_self": null,
            "border": null,
            "bottom": null,
            "display": null,
            "flex": null,
            "flex_flow": null,
            "grid_area": null,
            "grid_auto_columns": null,
            "grid_auto_flow": null,
            "grid_auto_rows": null,
            "grid_column": null,
            "grid_gap": null,
            "grid_row": null,
            "grid_template_areas": null,
            "grid_template_columns": null,
            "grid_template_rows": null,
            "height": null,
            "justify_content": null,
            "justify_items": null,
            "left": null,
            "margin": null,
            "max_height": null,
            "max_width": null,
            "min_height": null,
            "min_width": null,
            "object_fit": null,
            "object_position": null,
            "order": null,
            "overflow": null,
            "overflow_x": null,
            "overflow_y": null,
            "padding": null,
            "right": null,
            "top": null,
            "visibility": null,
            "width": null
          }
        },
        "3f802a76651e4a6cb6e2b404fa395d4e": {
          "model_module": "@jupyter-widgets/base",
          "model_name": "LayoutModel",
          "model_module_version": "1.2.0",
          "state": {
            "_model_module": "@jupyter-widgets/base",
            "_model_module_version": "1.2.0",
            "_model_name": "LayoutModel",
            "_view_count": null,
            "_view_module": "@jupyter-widgets/base",
            "_view_module_version": "1.2.0",
            "_view_name": "LayoutView",
            "align_content": null,
            "align_items": null,
            "align_self": null,
            "border": null,
            "bottom": null,
            "display": null,
            "flex": null,
            "flex_flow": null,
            "grid_area": null,
            "grid_auto_columns": null,
            "grid_auto_flow": null,
            "grid_auto_rows": null,
            "grid_column": null,
            "grid_gap": null,
            "grid_row": null,
            "grid_template_areas": null,
            "grid_template_columns": null,
            "grid_template_rows": null,
            "height": null,
            "justify_content": null,
            "justify_items": null,
            "left": null,
            "margin": null,
            "max_height": null,
            "max_width": null,
            "min_height": null,
            "min_width": null,
            "object_fit": null,
            "object_position": null,
            "order": null,
            "overflow": null,
            "overflow_x": null,
            "overflow_y": null,
            "padding": null,
            "right": null,
            "top": null,
            "visibility": null,
            "width": null
          }
        },
        "268004b4ff0d4517ba8aea6ec546b1b1": {
          "model_module": "@jupyter-widgets/controls",
          "model_name": "DescriptionStyleModel",
          "model_module_version": "1.5.0",
          "state": {
            "_model_module": "@jupyter-widgets/controls",
            "_model_module_version": "1.5.0",
            "_model_name": "DescriptionStyleModel",
            "_view_count": null,
            "_view_module": "@jupyter-widgets/base",
            "_view_module_version": "1.2.0",
            "_view_name": "StyleView",
            "description_width": ""
          }
        },
        "6eaba82501434db2920a2a61dd25052a": {
          "model_module": "@jupyter-widgets/base",
          "model_name": "LayoutModel",
          "model_module_version": "1.2.0",
          "state": {
            "_model_module": "@jupyter-widgets/base",
            "_model_module_version": "1.2.0",
            "_model_name": "LayoutModel",
            "_view_count": null,
            "_view_module": "@jupyter-widgets/base",
            "_view_module_version": "1.2.0",
            "_view_name": "LayoutView",
            "align_content": null,
            "align_items": null,
            "align_self": null,
            "border": null,
            "bottom": null,
            "display": null,
            "flex": null,
            "flex_flow": null,
            "grid_area": null,
            "grid_auto_columns": null,
            "grid_auto_flow": null,
            "grid_auto_rows": null,
            "grid_column": null,
            "grid_gap": null,
            "grid_row": null,
            "grid_template_areas": null,
            "grid_template_columns": null,
            "grid_template_rows": null,
            "height": null,
            "justify_content": null,
            "justify_items": null,
            "left": null,
            "margin": null,
            "max_height": null,
            "max_width": null,
            "min_height": null,
            "min_width": null,
            "object_fit": null,
            "object_position": null,
            "order": null,
            "overflow": null,
            "overflow_x": null,
            "overflow_y": null,
            "padding": null,
            "right": null,
            "top": null,
            "visibility": null,
            "width": null
          }
        },
        "2aebee468c2a427ba6fea818e2b97bec": {
          "model_module": "@jupyter-widgets/controls",
          "model_name": "ProgressStyleModel",
          "model_module_version": "1.5.0",
          "state": {
            "_model_module": "@jupyter-widgets/controls",
            "_model_module_version": "1.5.0",
            "_model_name": "ProgressStyleModel",
            "_view_count": null,
            "_view_module": "@jupyter-widgets/base",
            "_view_module_version": "1.2.0",
            "_view_name": "StyleView",
            "bar_color": null,
            "description_width": ""
          }
        },
        "6164937cbf29445fb98d216590d9f828": {
          "model_module": "@jupyter-widgets/base",
          "model_name": "LayoutModel",
          "model_module_version": "1.2.0",
          "state": {
            "_model_module": "@jupyter-widgets/base",
            "_model_module_version": "1.2.0",
            "_model_name": "LayoutModel",
            "_view_count": null,
            "_view_module": "@jupyter-widgets/base",
            "_view_module_version": "1.2.0",
            "_view_name": "LayoutView",
            "align_content": null,
            "align_items": null,
            "align_self": null,
            "border": null,
            "bottom": null,
            "display": null,
            "flex": null,
            "flex_flow": null,
            "grid_area": null,
            "grid_auto_columns": null,
            "grid_auto_flow": null,
            "grid_auto_rows": null,
            "grid_column": null,
            "grid_gap": null,
            "grid_row": null,
            "grid_template_areas": null,
            "grid_template_columns": null,
            "grid_template_rows": null,
            "height": null,
            "justify_content": null,
            "justify_items": null,
            "left": null,
            "margin": null,
            "max_height": null,
            "max_width": null,
            "min_height": null,
            "min_width": null,
            "object_fit": null,
            "object_position": null,
            "order": null,
            "overflow": null,
            "overflow_x": null,
            "overflow_y": null,
            "padding": null,
            "right": null,
            "top": null,
            "visibility": null,
            "width": null
          }
        },
        "e5c172ff0ce74506b3923af20e735eb8": {
          "model_module": "@jupyter-widgets/controls",
          "model_name": "DescriptionStyleModel",
          "model_module_version": "1.5.0",
          "state": {
            "_model_module": "@jupyter-widgets/controls",
            "_model_module_version": "1.5.0",
            "_model_name": "DescriptionStyleModel",
            "_view_count": null,
            "_view_module": "@jupyter-widgets/base",
            "_view_module_version": "1.2.0",
            "_view_name": "StyleView",
            "description_width": ""
          }
        }
      }
    }
  },
  "nbformat": 4,
  "nbformat_minor": 0
}