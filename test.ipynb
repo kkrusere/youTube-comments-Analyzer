{
  "cells": [
    {
      "cell_type": "markdown",
      "metadata": {
        "id": "view-in-github",
        "colab_type": "text"
      },
      "source": [
        "<a href=\"https://colab.research.google.com/github/kkrusere/youTube-comments-Analyzer/blob/main/test.ipynb\" target=\"_parent\"><img src=\"https://colab.research.google.com/assets/colab-badge.svg\" alt=\"Open In Colab\"/></a>"
      ]
    },
    {
      "cell_type": "code",
      "execution_count": 1,
      "metadata": {
        "colab": {
          "base_uri": "https://localhost:8080/"
        },
        "id": "eU0xXXoBQzor",
        "outputId": "7eb20dcc-e81a-4623-c4fc-c864f1f5c0ed"
      },
      "outputs": [
        {
          "output_type": "stream",
          "name": "stdout",
          "text": [
            "\u001b[33m\r0% [Working]\u001b[0m\r            \rGet:1 http://security.ubuntu.com/ubuntu jammy-security InRelease [110 kB]\n",
            "Get:2 https://cloud.r-project.org/bin/linux/ubuntu jammy-cran40/ InRelease [3,626 B]\n",
            "Get:3 https://developer.download.nvidia.com/compute/cuda/repos/ubuntu2204/x86_64  InRelease [1,581 B]\n",
            "Hit:4 http://archive.ubuntu.com/ubuntu jammy InRelease\n",
            "Get:5 http://archive.ubuntu.com/ubuntu jammy-updates InRelease [119 kB]\n",
            "Hit:6 https://ppa.launchpadcontent.net/c2d4u.team/c2d4u4.0+/ubuntu jammy InRelease\n",
            "Hit:7 https://ppa.launchpadcontent.net/deadsnakes/ppa/ubuntu jammy InRelease\n",
            "Hit:8 https://ppa.launchpadcontent.net/graphics-drivers/ppa/ubuntu jammy InRelease\n",
            "Get:9 https://developer.download.nvidia.com/compute/cuda/repos/ubuntu2204/x86_64  Packages [805 kB]\n",
            "Hit:10 http://archive.ubuntu.com/ubuntu jammy-backports InRelease\n",
            "Hit:11 https://ppa.launchpadcontent.net/ubuntugis/ppa/ubuntu jammy InRelease\n",
            "Get:12 http://security.ubuntu.com/ubuntu jammy-security/main amd64 Packages [1,690 kB]\n",
            "Get:13 http://security.ubuntu.com/ubuntu jammy-security/restricted amd64 Packages [2,124 kB]\n",
            "Get:14 http://security.ubuntu.com/ubuntu jammy-security/multiverse amd64 Packages [44.7 kB]\n",
            "Get:15 http://security.ubuntu.com/ubuntu jammy-security/universe amd64 Packages [1,081 kB]\n",
            "Get:16 http://archive.ubuntu.com/ubuntu jammy-updates/universe amd64 Packages [1,357 kB]\n",
            "Get:17 http://archive.ubuntu.com/ubuntu jammy-updates/restricted amd64 Packages [2,173 kB]\n",
            "Get:18 http://archive.ubuntu.com/ubuntu jammy-updates/main amd64 Packages [1,969 kB]\n",
            "Get:19 http://archive.ubuntu.com/ubuntu jammy-updates/multiverse amd64 Packages [61.3 kB]\n",
            "Fetched 11.5 MB in 7s (1,766 kB/s)\n",
            "Reading package lists... Done\n",
            "Building dependency tree... Done\n",
            "Reading state information... Done\n",
            "45 packages can be upgraded. Run 'apt list --upgradable' to see them.\n",
            "Reading package lists... Done\n",
            "Building dependency tree... Done\n",
            "Reading state information... Done\n",
            "wget is already the newest version (1.21.2-2ubuntu1).\n",
            "curl is already the newest version (7.81.0-1ubuntu1.16).\n",
            "unzip is already the newest version (6.0-26ubuntu3.2).\n",
            "0 upgraded, 0 newly installed, 0 to remove and 45 not upgraded.\n",
            "--2024-04-10 11:31:15--  http://archive.ubuntu.com/ubuntu/pool/main/libu/libu2f-host/libu2f-udev_1.1.4-1_all.deb\n",
            "Resolving archive.ubuntu.com (archive.ubuntu.com)... 185.125.190.36, 91.189.91.83, 91.189.91.82, ...\n",
            "Connecting to archive.ubuntu.com (archive.ubuntu.com)|185.125.190.36|:80... connected.\n",
            "HTTP request sent, awaiting response... 200 OK\n",
            "Length: 3708 (3.6K) [application/x-debian-package]\n",
            "Saving to: ‘libu2f-udev_1.1.4-1_all.deb’\n",
            "\n",
            "libu2f-udev_1.1.4-1 100%[===================>]   3.62K  --.-KB/s    in 0s      \n",
            "\n",
            "2024-04-10 11:31:15 (242 MB/s) - ‘libu2f-udev_1.1.4-1_all.deb’ saved [3708/3708]\n",
            "\n",
            "Selecting previously unselected package libu2f-udev.\n",
            "(Reading database ... 121752 files and directories currently installed.)\n",
            "Preparing to unpack libu2f-udev_1.1.4-1_all.deb ...\n",
            "Unpacking libu2f-udev (1.1.4-1) ...\n",
            "Setting up libu2f-udev (1.1.4-1) ...\n",
            "--2024-04-10 11:31:16--  https://dl.google.com/linux/direct/google-chrome-stable_current_amd64.deb\n",
            "Resolving dl.google.com (dl.google.com)... 74.125.142.91, 74.125.142.136, 74.125.142.93, ...\n",
            "Connecting to dl.google.com (dl.google.com)|74.125.142.91|:443... connected.\n",
            "HTTP request sent, awaiting response... 200 OK\n",
            "Length: 107229972 (102M) [application/x-debian-package]\n",
            "Saving to: ‘google-chrome-stable_current_amd64.deb’\n",
            "\n",
            "google-chrome-stabl 100%[===================>] 102.26M   315MB/s    in 0.3s    \n",
            "\n",
            "2024-04-10 11:31:16 (315 MB/s) - ‘google-chrome-stable_current_amd64.deb’ saved [107229972/107229972]\n",
            "\n",
            "Selecting previously unselected package google-chrome-stable.\n",
            "(Reading database ... 121756 files and directories currently installed.)\n",
            "Preparing to unpack google-chrome-stable_current_amd64.deb ...\n",
            "Unpacking google-chrome-stable (123.0.6312.105-1) ...\n",
            "\u001b[1mdpkg:\u001b[0m dependency problems prevent configuration of google-chrome-stable:\n",
            " google-chrome-stable depends on libvulkan1; however:\n",
            "  Package libvulkan1 is not installed.\n",
            "\n",
            "\u001b[1mdpkg:\u001b[0m error processing package google-chrome-stable (--install):\n",
            " dependency problems - leaving unconfigured\n",
            "Processing triggers for man-db (2.10.2-1) ...\n",
            "Errors were encountered while processing:\n",
            " google-chrome-stable\n",
            "--2024-04-10 11:31:31--  https://edgedl.me.gvt1.com/edgedl/chrome/chrome-for-testing/118.0.5993.70/linux64/chromedriver-linux64.zip\n",
            "Resolving edgedl.me.gvt1.com (edgedl.me.gvt1.com)... 34.104.35.123, 2600:1900:4110:86f::\n",
            "Connecting to edgedl.me.gvt1.com (edgedl.me.gvt1.com)|34.104.35.123|:443... connected.\n",
            "HTTP request sent, awaiting response... 200 OK\n",
            "Length: 8269742 (7.9M) [application/octet-stream]\n",
            "Saving to: ‘/tmp/chromedriver-linux64.zip’\n",
            "\n",
            "chromedriver-linux6 100%[===================>]   7.89M  --.-KB/s    in 0.1s    \n",
            "\n",
            "2024-04-10 11:31:31 (66.6 MB/s) - ‘/tmp/chromedriver-linux64.zip’ saved [8269742/8269742]\n",
            "\n",
            "Archive:  /tmp/chromedriver-linux64.zip\n",
            "  inflating: /tmp/chromedriver-linux64/LICENSE.chromedriver  \n",
            "  inflating: /tmp/chromedriver-linux64/chromedriver  \n",
            "Collecting selenium\n",
            "  Downloading selenium-4.19.0-py3-none-any.whl (10.5 MB)\n",
            "\u001b[2K     \u001b[90m━━━━━━━━━━━━━━━━━━━━━━━━━━━━━━━━━━━━━━━━\u001b[0m \u001b[32m10.5/10.5 MB\u001b[0m \u001b[31m29.0 MB/s\u001b[0m eta \u001b[36m0:00:00\u001b[0m\n",
            "\u001b[?25hCollecting chromedriver_autoinstaller\n",
            "  Downloading chromedriver_autoinstaller-0.6.4-py3-none-any.whl (7.6 kB)\n",
            "Requirement already satisfied: urllib3[socks]<3,>=1.26 in /usr/local/lib/python3.10/dist-packages (from selenium) (2.0.7)\n",
            "Collecting trio~=0.17 (from selenium)\n",
            "  Downloading trio-0.25.0-py3-none-any.whl (467 kB)\n",
            "\u001b[2K     \u001b[90m━━━━━━━━━━━━━━━━━━━━━━━━━━━━━━━━━━━━━━━━\u001b[0m \u001b[32m467.2/467.2 kB\u001b[0m \u001b[31m39.3 MB/s\u001b[0m eta \u001b[36m0:00:00\u001b[0m\n",
            "\u001b[?25hCollecting trio-websocket~=0.9 (from selenium)\n",
            "  Downloading trio_websocket-0.11.1-py3-none-any.whl (17 kB)\n",
            "Requirement already satisfied: certifi>=2021.10.8 in /usr/local/lib/python3.10/dist-packages (from selenium) (2024.2.2)\n",
            "Requirement already satisfied: typing_extensions>=4.9.0 in /usr/local/lib/python3.10/dist-packages (from selenium) (4.10.0)\n",
            "Requirement already satisfied: packaging>=23.1 in /usr/local/lib/python3.10/dist-packages (from chromedriver_autoinstaller) (24.0)\n",
            "Requirement already satisfied: attrs>=23.2.0 in /usr/local/lib/python3.10/dist-packages (from trio~=0.17->selenium) (23.2.0)\n",
            "Requirement already satisfied: sortedcontainers in /usr/local/lib/python3.10/dist-packages (from trio~=0.17->selenium) (2.4.0)\n",
            "Requirement already satisfied: idna in /usr/local/lib/python3.10/dist-packages (from trio~=0.17->selenium) (3.6)\n",
            "Collecting outcome (from trio~=0.17->selenium)\n",
            "  Downloading outcome-1.3.0.post0-py2.py3-none-any.whl (10 kB)\n",
            "Requirement already satisfied: sniffio>=1.3.0 in /usr/local/lib/python3.10/dist-packages (from trio~=0.17->selenium) (1.3.1)\n",
            "Requirement already satisfied: exceptiongroup in /usr/local/lib/python3.10/dist-packages (from trio~=0.17->selenium) (1.2.0)\n",
            "Collecting wsproto>=0.14 (from trio-websocket~=0.9->selenium)\n",
            "  Downloading wsproto-1.2.0-py3-none-any.whl (24 kB)\n",
            "Requirement already satisfied: pysocks!=1.5.7,<2.0,>=1.5.6 in /usr/local/lib/python3.10/dist-packages (from urllib3[socks]<3,>=1.26->selenium) (1.7.1)\n",
            "Collecting h11<1,>=0.9.0 (from wsproto>=0.14->trio-websocket~=0.9->selenium)\n",
            "  Downloading h11-0.14.0-py3-none-any.whl (58 kB)\n",
            "\u001b[2K     \u001b[90m━━━━━━━━━━━━━━━━━━━━━━━━━━━━━━━━━━━━━━━━\u001b[0m \u001b[32m58.3/58.3 kB\u001b[0m \u001b[31m7.7 MB/s\u001b[0m eta \u001b[36m0:00:00\u001b[0m\n",
            "\u001b[?25hInstalling collected packages: outcome, h11, chromedriver_autoinstaller, wsproto, trio, trio-websocket, selenium\n",
            "Successfully installed chromedriver_autoinstaller-0.6.4 h11-0.14.0 outcome-1.3.0.post0 selenium-4.19.0 trio-0.25.0 trio-websocket-0.11.1 wsproto-1.2.0\n"
          ]
        },
        {
          "output_type": "execute_result",
          "data": {
            "text/plain": []
          },
          "metadata": {},
          "execution_count": 1
        }
      ],
      "source": [
        "%%shell\n",
        "sudo apt -y update\n",
        "sudo apt install -y wget curl unzip\n",
        "wget http://archive.ubuntu.com/ubuntu/pool/main/libu/libu2f-host/libu2f-udev_1.1.4-1_all.deb\n",
        "dpkg -i libu2f-udev_1.1.4-1_all.deb\n",
        "wget https://dl.google.com/linux/direct/google-chrome-stable_current_amd64.deb\n",
        "dpkg -i google-chrome-stable_current_amd64.deb\n",
        "\n",
        "wget -N https://edgedl.me.gvt1.com/edgedl/chrome/chrome-for-testing/118.0.5993.70/linux64/chromedriver-linux64.zip -P /tmp/\n",
        "unzip -o /tmp/chromedriver-linux64.zip -d /tmp/\n",
        "chmod +x /tmp/chromedriver-linux64/chromedriver\n",
        "mv /tmp/chromedriver-linux64/chromedriver /usr/local/bin/chromedriver\n",
        "pip install selenium chromedriver_autoinstaller"
      ]
    },
    {
      "cell_type": "code",
      "execution_count": 2,
      "metadata": {
        "id": "ql3oOw_zRdDb"
      },
      "outputs": [],
      "source": [
        "import sys\n",
        "sys.path.insert(0,'/usr/lib/chromium-browser/chromedriver')\n",
        "\n",
        "\n",
        "from selenium import webdriver\n",
        "import chromedriver_autoinstaller\n",
        "from selenium.webdriver.common.by import By\n",
        "from selenium.webdriver.common.keys import Keys\n",
        "from selenium.webdriver.support.ui import WebDriverWait\n",
        "from selenium.webdriver.support import expected_conditions as EC\n",
        "from selenium.webdriver.common.action_chains import ActionChains\n",
        "import time\n",
        "\n",
        "\n",
        "chrome_options = webdriver.ChromeOptions()\n",
        "chrome_options.add_argument('--headless')\n",
        "chrome_options.add_argument('--no-sandbox')\n",
        "chrome_options.add_argument('--disable-dev-shm-usage')\n",
        "chromedriver_autoinstaller.install()\n",
        "driver = webdriver.Chrome(options=chrome_options)\n",
        "\n",
        "\n",
        "from bs4 import BeautifulSoup"
      ]
    },
    {
      "cell_type": "code",
      "execution_count": 3,
      "metadata": {
        "id": "BHMs7BUE6ern"
      },
      "outputs": [],
      "source": [
        "# YouTube video URL\n",
        "video_url = \"https://www.youtube.com/watch?v=cZlsZwcIgpc\""
      ]
    },
    {
      "cell_type": "code",
      "execution_count": 3,
      "metadata": {
        "id": "VH7DXhiBwmO4"
      },
      "outputs": [],
      "source": []
    },
    {
      "cell_type": "code",
      "execution_count": null,
      "metadata": {
        "id": "TLcVyvxJwmMS"
      },
      "outputs": [],
      "source": [
        "try:\n",
        "    wait = WebDriverWait(driver, 5)\n",
        "\n",
        "    # Open the YouTube video\n",
        "    driver.get(video_url)\n",
        "\n",
        "    wait.until(EC.visibility_of_element_located((By.TAG_NAME, 'body')))\n",
        "\n",
        "    # Scroll down to load comments\n",
        "    last_height = 0\n",
        "    while True:\n",
        "        # Scroll to the end of the page\n",
        "        #driver.find_element(By.TAG_NAME, 'body').send_keys(Keys.END)\n",
        "        # Scroll using page-manager element's scroll height\n",
        "        driver.execute_script(\"window.scrollTo(0, document.getElementById('page-manager').scrollHeight);\")\n",
        "        time.sleep(3)  # Adjust sleep time as needed\n",
        "\n",
        "        # Get the current page height\n",
        "        new_height = driver.execute_script(\"return document.getElementById('page-manager').scrollHeight\")\n",
        "\n",
        "        # Break the loop if no more content is loaded\n",
        "        if new_height == last_height:\n",
        "            break\n",
        "\n",
        "        last_height = new_height\n",
        "\n",
        "    # Wait for the comments section to be visible\n",
        "    comments_section = wait.until(EC.visibility_of_element_located((By.CSS_SELECTOR, \"ytd-comments#comments.style-scope.ytd-watch-flexy\")))\n",
        "\n",
        "    # Get the HTML content of the comments section\n",
        "    comments_html = comments_section.get_attribute('outerHTML')\n",
        "\n",
        "finally:\n",
        "    # Close the WebDriver session\n",
        "    driver.quit()\n",
        "\n"
      ]
    },
    {
      "cell_type": "code",
      "execution_count": null,
      "metadata": {
        "id": "jnHBdhQQwmJZ"
      },
      "outputs": [],
      "source": []
    },
    {
      "cell_type": "code",
      "execution_count": null,
      "metadata": {
        "id": "5ieZY8eEqJ9D"
      },
      "outputs": [],
      "source": [
        "soup = BeautifulSoup(comments_html, 'html.parser')\n",
        "\n",
        "# Find the span element with the specified class\n",
        "comment_count_span = soup.find('span', class_='style-scope yt-formatted-string')\n",
        "\n",
        "# Extract the text content of the span element\n",
        "comment_count = comment_count_span.text.strip()\n",
        "\n",
        "# Print or use the comment count\n",
        "print(\"Comment Count:\", comment_count)"
      ]
    },
    {
      "cell_type": "code",
      "execution_count": null,
      "metadata": {
        "id": "fN0V7PReqJy5"
      },
      "outputs": [],
      "source": [
        "# Find all occurrences of the ytd-comment-thread-renderer element\n",
        "comment_thread_renderers = soup.find_all('ytd-comment-thread-renderer', class_='style-scope ytd-item-section-renderer')\n",
        "\n",
        "# Count the number of occurrences\n",
        "comment_thread_count = len(comment_thread_renderers)\n",
        "\n",
        "# Print or use the comment thread count\n",
        "print(\"Number of ytd-comment-thread-renderer elements:\", comment_thread_count)"
      ]
    },
    {
      "cell_type": "code",
      "execution_count": null,
      "metadata": {
        "id": "jVh7Bi4zs17k"
      },
      "outputs": [],
      "source": []
    },
    {
      "cell_type": "code",
      "execution_count": null,
      "metadata": {
        "id": "oxuNM3-v6iyv"
      },
      "outputs": [],
      "source": [
        "comments = []\n",
        "# Iterate through each comment thread renderer\n",
        "for comment_thread_renderer in comment_thread_renderers:\n",
        "\n",
        "    # Extracting the comment text\n",
        "    comment_text_element = comment_thread_renderer.find('yt-attributed-string', id='content-text')\n",
        "    comment_text = comment_text_element.get_text(strip=True) if comment_text_element else None\n",
        "\n",
        "    # Extracting the number of likes\n",
        "    like_count_element = comment_thread_renderer.find('span', class_='style-scope ytd-comment-engagement-bar')\n",
        "    like_count = like_count_element.get_text(strip=True) if like_count_element else None\n",
        "\n",
        "    # Extracting the number of replies\n",
        "    reply_count_element = comment_thread_renderer.find('ytd-button-renderer', id='more-replies')\n",
        "    reply_count = reply_count_element.get_text(strip=True) if reply_count_element else None\n",
        "\n",
        "    comments.append(comment_text)\n",
        "\n",
        "    print(\"Comment Text:\", comment_text)\n",
        "    print(\"Like Count:\", like_count)\n",
        "    print(\"Reply Count:\", reply_count)\n",
        "\n",
        "    print(\"\\n\\n\\n\")\n"
      ]
    },
    {
      "cell_type": "code",
      "execution_count": null,
      "metadata": {
        "id": "TMRdJJrW6ivk"
      },
      "outputs": [],
      "source": []
    },
    {
      "cell_type": "code",
      "execution_count": null,
      "metadata": {
        "id": "YFxDFWLy2EeX"
      },
      "outputs": [],
      "source": [
        "from google.colab import userdata\n",
        "api_key = userdata.get('YouTubeAPI_key')"
      ]
    },
    {
      "cell_type": "code",
      "execution_count": null,
      "metadata": {
        "id": "JHJ2Uf54UY-J"
      },
      "outputs": [],
      "source": [
        "import googleapiclient.discovery\n",
        "import datetime\n",
        "\n",
        "import matplotlib.pyplot as plt\n",
        "import matplotlib.image as mpimg\n",
        "\n",
        "\n",
        "\n",
        "# Extract video ID from URL\n",
        "video_id = video_url.split('=')[1]\n",
        "\n",
        "\n",
        "print(\"Video ID:\", video_id)\n",
        "\n",
        "# Create YouTube API client\n",
        "youtube = googleapiclient.discovery.build(\"youtube\", \"v3\", developerKey=api_key)\n",
        "\n",
        "# Request video details\n",
        "response = youtube.videos().list(\n",
        "    part=\"snippet,statistics\",\n",
        "    id=video_id\n",
        ").execute()"
      ]
    },
    {
      "cell_type": "code",
      "execution_count": null,
      "metadata": {
        "id": "MU5jFfivUasf"
      },
      "outputs": [],
      "source": []
    },
    {
      "cell_type": "code",
      "source": [],
      "metadata": {
        "id": "9TPnHzmttD-H"
      },
      "execution_count": null,
      "outputs": []
    },
    {
      "cell_type": "code",
      "execution_count": null,
      "metadata": {
        "id": "nsai3V1XfUL9"
      },
      "outputs": [],
      "source": [
        "# Request video details\n",
        "response = youtube.videos().list(\n",
        "    part=\"snippet,statistics\",\n",
        "    id=video_id\n",
        ").execute()\n",
        "\n",
        "# Extract required information\n",
        "video = response[\"items\"][0]\n",
        "title = video[\"snippet\"][\"title\"]\n",
        "thumbnail_url = video[\"snippet\"][\"thumbnails\"][\"maxres\"][\"url\"]\n",
        "view_count = video[\"statistics\"][\"viewCount\"]\n",
        "like_count = video[\"statistics\"][\"likeCount\"]\n",
        "commentCount = video[\"statistics\"][\"commentCount\"]\n",
        "date_posted = video[\"snippet\"][\"publishedAt\"]\n",
        "description = video[\"snippet\"][\"description\"]\n",
        "\n",
        "\n",
        "date_str = date_posted\n",
        "date_object = datetime.datetime.strptime(date_str, \"%Y-%m-%dT%H:%M:%SZ\")\n",
        "\n",
        "# Format the date object\n",
        "date_posted = date_object.strftime(\"%Y-%m-%d %H:%M:%S\")\n",
        "\n",
        "\n",
        "# Split the description by newlines\n",
        "paragraphs = description.split(\"\\n\")\n",
        "\n",
        "# Get the first paragraph\n",
        "first_paragraph = paragraphs[0]\n",
        "\n",
        "# Generate HTML to display the thumbnail\n",
        "thumbnail_html = f'<img src=\"{thumbnail_url}\" alt=\"Thumbnail\">'\n",
        "\n",
        "# Print the information\n",
        "print(\"Title:\", title)\n",
        "print(\"Thumbnail URL:\", thumbnail_html)\n",
        "print(\"View count:\", view_count)\n",
        "print(\"Like count:\", like_count)\n",
        "print(\"Number of Comments:\", commentCount)\n",
        "print(\"Date posted:\", date_posted)\n",
        "print(\"Description:\", first_paragraph)\n"
      ]
    },
    {
      "cell_type": "code",
      "execution_count": null,
      "metadata": {
        "id": "paihhshgdgc_"
      },
      "outputs": [],
      "source": []
    },
    {
      "cell_type": "code",
      "execution_count": null,
      "metadata": {
        "id": "pJtsLOTkdgZn"
      },
      "outputs": [],
      "source": [
        "from textblob import TextBlob\n",
        "\n",
        "# Define a function to analyze the sentiment of a comment\n",
        "def analyze_sentiment(comment):\n",
        "    # Create a TextBlob object from the comment\n",
        "    blob = TextBlob(comment)\n",
        "\n",
        "    # Get the sentiment polarity of the comment\n",
        "    polarity = blob.sentiment.polarity\n",
        "\n",
        "    # Classify the sentiment based on the polarity\n",
        "    if polarity > 0:\n",
        "        sentiment = \"positive\"\n",
        "    elif polarity < 0:\n",
        "        sentiment = \"negative\"\n",
        "    else:\n",
        "        sentiment = \"neutral\"\n",
        "\n",
        "    # Return the sentiment\n",
        "    return sentiment\n",
        "\n",
        "# Initialize a list to store the sentiments\n",
        "sentiments = []\n",
        "\n",
        "# Iterate through the comments and analyze their sentiment\n",
        "for comment in comments:\n",
        "    sentiment = analyze_sentiment(comment)\n",
        "    sentiments.append(sentiment)\n",
        "\n",
        "# Print the sentiments\n",
        "for i, sentiment in enumerate(sentiments):\n",
        "    print(f\"Comment {i+1}: {sentiment} \\n Comment: {comments[i]}\")\n",
        "\n",
        "# Count the number of positive, negative, and neutral comments\n",
        "positive_count = sentiments.count(\"positive\")\n",
        "negative_count = sentiments.count(\"negative\")\n",
        "neutral_count = sentiments.count(\"neutral\")\n",
        "\n",
        "# Print the counts\n",
        "print(f\"Positive comments: {positive_count}\")\n",
        "print(f\"Negative comments: {negative_count}\")\n",
        "print(f\"Neutral comments: {neutral_count}\")\n"
      ]
    },
    {
      "cell_type": "code",
      "source": [
        "# Create a bar chart to visualize the sentiment analysis results\n",
        "labels = ['Positive', 'Negative', 'Neutral']\n",
        "values = [positive_count, negative_count, neutral_count]\n",
        "colors = ['g', 'r', 'b']\n",
        "\n",
        "plt.bar(labels, values, color=colors)\n",
        "plt.title('Sentiment Analysis of Comments')\n",
        "plt.xlabel('Sentiment')\n",
        "plt.ylabel('Number of Comments')\n",
        "plt.show()\n",
        "\n",
        "# Calculate the percentage of each sentiment\n",
        "total_comments = len(sentiments)\n",
        "positive_percentage = (positive_count / total_comments) * 100\n",
        "negative_percentage = (negative_count / total_comments) * 100\n",
        "neutral_percentage = (neutral_count / total_comments) * 100\n",
        "\n",
        "# Print the percentages\n",
        "print(f\"Positive comments: {positive_percentage:.2f}%\")\n",
        "print(f\"Negative comments: {negative_percentage:.2f}%\")\n",
        "print(f\"Neutral comments: {neutral_percentage:.2f}%\")\n"
      ],
      "metadata": {
        "id": "H1fcA_jcqynj"
      },
      "execution_count": null,
      "outputs": []
    },
    {
      "cell_type": "code",
      "source": [],
      "metadata": {
        "id": "sr8VnGC4swR7"
      },
      "execution_count": null,
      "outputs": []
    },
    {
      "cell_type": "code",
      "source": [],
      "metadata": {
        "id": "zDJxSpWDswO0"
      },
      "execution_count": null,
      "outputs": []
    },
    {
      "cell_type": "code",
      "source": [],
      "metadata": {
        "id": "yELZ0SdqswL8"
      },
      "execution_count": null,
      "outputs": []
    },
    {
      "cell_type": "code",
      "source": [],
      "metadata": {
        "id": "Pw36E4SFswGo"
      },
      "execution_count": null,
      "outputs": []
    },
    {
      "cell_type": "code",
      "execution_count": null,
      "metadata": {
        "id": "MIxKMdgG872l"
      },
      "outputs": [],
      "source": [
        "# Define the topic\n",
        "topic = \"Machine Learning\"\n",
        "\n",
        "# Search for videos related to the topic\n",
        "response = youtube.search().list(\n",
        "    q=topic,\n",
        "    type=\"video\",\n",
        "    part=\"id,snippet\",\n",
        "    maxResults=10\n",
        ").execute()\n",
        "\n",
        "# Extract video IDs and titles\n",
        "video_ids = []\n",
        "video_titles = []\n",
        "for item in response[\"items\"]:\n",
        "    video_ids.append(item[\"id\"][\"videoId\"])\n",
        "    video_titles.append(item[\"snippet\"][\"title\"])\n",
        "\n",
        "# Print the video links\n",
        "for i, video_id in enumerate(video_ids):\n",
        "    print(f\"{i+1}. https://www.youtube.com/watch?v={video_id}\")"
      ]
    },
    {
      "cell_type": "code",
      "execution_count": null,
      "metadata": {
        "id": "oJT4gLq0PU1z"
      },
      "outputs": [],
      "source": []
    },
    {
      "cell_type": "code",
      "source": [],
      "metadata": {
        "id": "cK1p2zWwjoKK"
      },
      "execution_count": null,
      "outputs": []
    }
  ],
  "metadata": {
    "colab": {
      "provenance": [],
      "include_colab_link": true
    },
    "kernelspec": {
      "display_name": "ev_ds_env",
      "language": "python",
      "name": "python3"
    },
    "language_info": {
      "codemirror_mode": {
        "name": "ipython",
        "version": 3
      },
      "file_extension": ".py",
      "mimetype": "text/x-python",
      "name": "python",
      "nbconvert_exporter": "python",
      "pygments_lexer": "ipython3",
      "version": "3.12.1"
    }
  },
  "nbformat": 4,
  "nbformat_minor": 0
}