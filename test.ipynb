{
  "cells": [
    {
      "cell_type": "markdown",
      "metadata": {
        "id": "view-in-github",
        "colab_type": "text"
      },
      "source": [
        "<a href=\"https://colab.research.google.com/github/kkrusere/youTube-comments-Analyzer/blob/main/test.ipynb\" target=\"_parent\"><img src=\"https://colab.research.google.com/assets/colab-badge.svg\" alt=\"Open In Colab\"/></a>"
      ]
    },
    {
      "cell_type": "code",
      "source": [
        "%%shell\n",
        "sudo apt -y update\n",
        "sudo apt install -y wget curl unzip\n",
        "wget http://archive.ubuntu.com/ubuntu/pool/main/libu/libu2f-host/libu2f-udev_1.1.4-1_all.deb\n",
        "dpkg -i libu2f-udev_1.1.4-1_all.deb\n",
        "wget https://dl.google.com/linux/direct/google-chrome-stable_current_amd64.deb\n",
        "dpkg -i google-chrome-stable_current_amd64.deb\n",
        "\n",
        "wget -N https://edgedl.me.gvt1.com/edgedl/chrome/chrome-for-testing/118.0.5993.70/linux64/chromedriver-linux64.zip -P /tmp/\n",
        "unzip -o /tmp/chromedriver-linux64.zip -d /tmp/\n",
        "chmod +x /tmp/chromedriver-linux64/chromedriver\n",
        "mv /tmp/chromedriver-linux64/chromedriver /usr/local/bin/chromedriver\n",
        "pip install selenium chromedriver_autoinstaller"
      ],
      "metadata": {
        "id": "eU0xXXoBQzor",
        "outputId": "78af2189-8318-4713-f10d-64c466a81372",
        "colab": {
          "base_uri": "https://localhost:8080/"
        }
      },
      "execution_count": 10,
      "outputs": [
        {
          "output_type": "stream",
          "name": "stdout",
          "text": [
            "\u001b[33m\r0% [Working]\u001b[0m\r            \rHit:1 http://archive.ubuntu.com/ubuntu jammy InRelease\n",
            "\u001b[33m\r0% [Waiting for headers] [Connecting to security.ubuntu.com (185.125.190.36)] [\u001b[0m\r                                                                               \rGet:2 http://archive.ubuntu.com/ubuntu jammy-updates InRelease [119 kB]\n",
            "\u001b[33m\r0% [2 InRelease 18.5 kB/119 kB 16%] [Connecting to security.ubuntu.com (185.125\u001b[0m\r                                                                               \rHit:3 https://cloud.r-project.org/bin/linux/ubuntu jammy-cran40/ InRelease\n",
            "\u001b[33m\r0% [2 InRelease 53.3 kB/119 kB 45%] [Connecting to security.ubuntu.com (185.125\u001b[0m\u001b[33m\r0% [Waiting for headers] [Waiting for headers] [Connecting to ppa.launchpadcont\u001b[0m\r                                                                               \rHit:4 http://archive.ubuntu.com/ubuntu jammy-backports InRelease\n",
            "\u001b[33m\r0% [Waiting for headers] [Connected to ppa.launchpadcontent.net (185.125.190.80\u001b[0m\r                                                                               \rHit:5 https://developer.download.nvidia.com/compute/cuda/repos/ubuntu2204/x86_64  InRelease\n",
            "Get:6 http://security.ubuntu.com/ubuntu jammy-security InRelease [110 kB]\n",
            "Hit:7 https://ppa.launchpadcontent.net/c2d4u.team/c2d4u4.0+/ubuntu jammy InRelease\n",
            "Hit:8 https://ppa.launchpadcontent.net/deadsnakes/ppa/ubuntu jammy InRelease\n",
            "Hit:9 https://ppa.launchpadcontent.net/graphics-drivers/ppa/ubuntu jammy InRelease\n",
            "Hit:10 https://ppa.launchpadcontent.net/ubuntugis/ppa/ubuntu jammy InRelease\n",
            "Fetched 229 kB in 2s (128 kB/s)\n",
            "Reading package lists... Done\n",
            "Building dependency tree... Done\n",
            "Reading state information... Done\n",
            "60 packages can be upgraded. Run 'apt list --upgradable' to see them.\n",
            "Reading package lists... Done\n",
            "Building dependency tree... Done\n",
            "Reading state information... Done\n",
            "wget is already the newest version (1.21.2-2ubuntu1).\n",
            "curl is already the newest version (7.81.0-1ubuntu1.16).\n",
            "unzip is already the newest version (6.0-26ubuntu3.2).\n",
            "You might want to run 'apt --fix-broken install' to correct these.\n",
            "The following packages have unmet dependencies:\n",
            " google-chrome-stable : Depends: libvulkan1 but it is not going to be installed\n",
            "\u001b[1;31mE: \u001b[0mUnmet dependencies. Try 'apt --fix-broken install' with no packages (or specify a solution).\u001b[0m\n",
            "--2024-03-29 20:18:33--  http://archive.ubuntu.com/ubuntu/pool/main/libu/libu2f-host/libu2f-udev_1.1.4-1_all.deb\n",
            "Resolving archive.ubuntu.com (archive.ubuntu.com)... 91.189.91.81, 91.189.91.83, 91.189.91.82, ...\n",
            "Connecting to archive.ubuntu.com (archive.ubuntu.com)|91.189.91.81|:80... connected.\n",
            "HTTP request sent, awaiting response... 200 OK\n",
            "Length: 3708 (3.6K) [application/vnd.debian.binary-package]\n",
            "Saving to: ‘libu2f-udev_1.1.4-1_all.deb.3’\n",
            "\n",
            "libu2f-udev_1.1.4-1 100%[===================>]   3.62K  --.-KB/s    in 0s      \n",
            "\n",
            "2024-03-29 20:18:33 (267 MB/s) - ‘libu2f-udev_1.1.4-1_all.deb.3’ saved [3708/3708]\n",
            "\n",
            "(Reading database ... 121871 files and directories currently installed.)\n",
            "Preparing to unpack libu2f-udev_1.1.4-1_all.deb ...\n",
            "Unpacking libu2f-udev (1.1.4-1) over (1.1.4-1) ...\n",
            "Setting up libu2f-udev (1.1.4-1) ...\n",
            "--2024-03-29 20:18:34--  https://dl.google.com/linux/direct/google-chrome-stable_current_amd64.deb\n",
            "Resolving dl.google.com (dl.google.com)... 172.253.122.136, 172.253.122.93, 172.253.122.190, ...\n",
            "Connecting to dl.google.com (dl.google.com)|172.253.122.136|:443... connected.\n",
            "HTTP request sent, awaiting response... 200 OK\n",
            "Length: 107252688 (102M) [application/x-debian-package]\n",
            "Saving to: ‘google-chrome-stable_current_amd64.deb.3’\n",
            "\n",
            "google-chrome-stabl 100%[===================>] 102.28M   305MB/s    in 0.3s    \n",
            "\n",
            "2024-03-29 20:18:34 (305 MB/s) - ‘google-chrome-stable_current_amd64.deb.3’ saved [107252688/107252688]\n",
            "\n",
            "(Reading database ... 121871 files and directories currently installed.)\n",
            "Preparing to unpack google-chrome-stable_current_amd64.deb ...\n",
            "Unpacking google-chrome-stable (123.0.6312.86-1) over (123.0.6312.86-1) ...\n",
            "\u001b[1mdpkg:\u001b[0m dependency problems prevent configuration of google-chrome-stable:\n",
            " google-chrome-stable depends on libvulkan1; however:\n",
            "  Package libvulkan1 is not installed.\n",
            "\n",
            "\u001b[1mdpkg:\u001b[0m error processing package google-chrome-stable (--install):\n",
            " dependency problems - leaving unconfigured\n",
            "Processing triggers for man-db (2.10.2-1) ...\n",
            "Errors were encountered while processing:\n",
            " google-chrome-stable\n",
            "--2024-03-29 20:18:50--  https://edgedl.me.gvt1.com/edgedl/chrome/chrome-for-testing/118.0.5993.70/linux64/chromedriver-linux64.zip\n",
            "Resolving edgedl.me.gvt1.com (edgedl.me.gvt1.com)... 34.104.35.123, 2600:1900:4110:86f::\n",
            "Connecting to edgedl.me.gvt1.com (edgedl.me.gvt1.com)|34.104.35.123|:443... connected.\n",
            "HTTP request sent, awaiting response... 304 Not Modified\n",
            "File ‘/tmp/chromedriver-linux64.zip’ not modified on server. Omitting download.\n",
            "\n",
            "Archive:  /tmp/chromedriver-linux64.zip\n",
            "  inflating: /tmp/chromedriver-linux64/LICENSE.chromedriver  \n",
            "  inflating: /tmp/chromedriver-linux64/chromedriver  \n",
            "Requirement already satisfied: selenium in /usr/local/lib/python3.10/dist-packages (4.19.0)\n",
            "Requirement already satisfied: chromedriver_autoinstaller in /usr/local/lib/python3.10/dist-packages (0.6.4)\n",
            "Requirement already satisfied: urllib3[socks]<3,>=1.26 in /usr/local/lib/python3.10/dist-packages (from selenium) (2.0.7)\n",
            "Requirement already satisfied: trio~=0.17 in /usr/local/lib/python3.10/dist-packages (from selenium) (0.25.0)\n",
            "Requirement already satisfied: trio-websocket~=0.9 in /usr/local/lib/python3.10/dist-packages (from selenium) (0.11.1)\n",
            "Requirement already satisfied: certifi>=2021.10.8 in /usr/local/lib/python3.10/dist-packages (from selenium) (2024.2.2)\n",
            "Requirement already satisfied: typing_extensions>=4.9.0 in /usr/local/lib/python3.10/dist-packages (from selenium) (4.10.0)\n",
            "Requirement already satisfied: packaging>=23.1 in /usr/local/lib/python3.10/dist-packages (from chromedriver_autoinstaller) (24.0)\n",
            "Requirement already satisfied: attrs>=23.2.0 in /usr/local/lib/python3.10/dist-packages (from trio~=0.17->selenium) (23.2.0)\n",
            "Requirement already satisfied: sortedcontainers in /usr/local/lib/python3.10/dist-packages (from trio~=0.17->selenium) (2.4.0)\n",
            "Requirement already satisfied: idna in /usr/local/lib/python3.10/dist-packages (from trio~=0.17->selenium) (3.6)\n",
            "Requirement already satisfied: outcome in /usr/local/lib/python3.10/dist-packages (from trio~=0.17->selenium) (1.3.0.post0)\n",
            "Requirement already satisfied: sniffio>=1.3.0 in /usr/local/lib/python3.10/dist-packages (from trio~=0.17->selenium) (1.3.1)\n",
            "Requirement already satisfied: exceptiongroup in /usr/local/lib/python3.10/dist-packages (from trio~=0.17->selenium) (1.2.0)\n",
            "Requirement already satisfied: wsproto>=0.14 in /usr/local/lib/python3.10/dist-packages (from trio-websocket~=0.9->selenium) (1.2.0)\n",
            "Requirement already satisfied: pysocks!=1.5.7,<2.0,>=1.5.6 in /usr/local/lib/python3.10/dist-packages (from urllib3[socks]<3,>=1.26->selenium) (1.7.1)\n",
            "Requirement already satisfied: h11<1,>=0.9.0 in /usr/local/lib/python3.10/dist-packages (from wsproto>=0.14->trio-websocket~=0.9->selenium) (0.14.0)\n"
          ]
        },
        {
          "output_type": "execute_result",
          "data": {
            "text/plain": []
          },
          "metadata": {},
          "execution_count": 10
        }
      ]
    },
    {
      "cell_type": "code",
      "source": [
        "import sys\n",
        "sys.path.insert(0,'/usr/lib/chromium-browser/chromedriver')\n",
        "\n",
        "from selenium import webdriver\n",
        "import chromedriver_autoinstaller\n",
        "\n",
        "chrome_options = webdriver.ChromeOptions()\n",
        "chrome_options.add_argument('--headless')\n",
        "chrome_options.add_argument('--no-sandbox')\n",
        "chrome_options.add_argument('--disable-dev-shm-usage')\n",
        "chromedriver_autoinstaller.install()\n",
        "\n"
      ],
      "metadata": {
        "id": "ql3oOw_zRdDb",
        "outputId": "2fca1260-5a6b-481d-9205-1eaddeca6f7b",
        "colab": {
          "base_uri": "https://localhost:8080/",
          "height": 35
        }
      },
      "execution_count": 11,
      "outputs": [
        {
          "output_type": "execute_result",
          "data": {
            "text/plain": [
              "'/usr/local/lib/python3.10/dist-packages/chromedriver_autoinstaller/123/chromedriver'"
            ],
            "application/vnd.google.colaboratory.intrinsic+json": {
              "type": "string"
            }
          },
          "metadata": {},
          "execution_count": 11
        }
      ]
    },
    {
      "cell_type": "code",
      "execution_count": 12,
      "metadata": {
        "id": "BHMs7BUE6ern"
      },
      "outputs": [],
      "source": [
        "from selenium.webdriver.common.by import By"
      ]
    },
    {
      "cell_type": "code",
      "execution_count": 9,
      "metadata": {
        "colab": {
          "base_uri": "https://localhost:8080/"
        },
        "id": "Huh0fQpx6ert",
        "outputId": "0ac88c10-3b11-4d3a-9fa9-bcc4efce1a85"
      },
      "outputs": [
        {
          "output_type": "stream",
          "name": "stdout",
          "text": [
            "Video Title: \n",
            "Video Description: [<selenium.webdriver.remote.webelement.WebElement (session=\"2c52adeeb419187186c9111310af3c57\", element=\"f.616FC196B2968ADFDBDA516660DED808.d.5BBB848FE8483E7E9188EFA0DF22C163.e.55\")>, <selenium.webdriver.remote.webelement.WebElement (session=\"2c52adeeb419187186c9111310af3c57\", element=\"f.616FC196B2968ADFDBDA516660DED808.d.5BBB848FE8483E7E9188EFA0DF22C163.e.56\")>, <selenium.webdriver.remote.webelement.WebElement (session=\"2c52adeeb419187186c9111310af3c57\", element=\"f.616FC196B2968ADFDBDA516660DED808.d.5BBB848FE8483E7E9188EFA0DF22C163.e.57\")>, <selenium.webdriver.remote.webelement.WebElement (session=\"2c52adeeb419187186c9111310af3c57\", element=\"f.616FC196B2968ADFDBDA516660DED808.d.5BBB848FE8483E7E9188EFA0DF22C163.e.58\")>, <selenium.webdriver.remote.webelement.WebElement (session=\"2c52adeeb419187186c9111310af3c57\", element=\"f.616FC196B2968ADFDBDA516660DED808.d.5BBB848FE8483E7E9188EFA0DF22C163.e.59\")>, <selenium.webdriver.remote.webelement.WebElement (session=\"2c52adeeb419187186c9111310af3c57\", element=\"f.616FC196B2968ADFDBDA516660DED808.d.5BBB848FE8483E7E9188EFA0DF22C163.e.60\")>, <selenium.webdriver.remote.webelement.WebElement (session=\"2c52adeeb419187186c9111310af3c57\", element=\"f.616FC196B2968ADFDBDA516660DED808.d.5BBB848FE8483E7E9188EFA0DF22C163.e.61\")>, <selenium.webdriver.remote.webelement.WebElement (session=\"2c52adeeb419187186c9111310af3c57\", element=\"f.616FC196B2968ADFDBDA516660DED808.d.5BBB848FE8483E7E9188EFA0DF22C163.e.62\")>, <selenium.webdriver.remote.webelement.WebElement (session=\"2c52adeeb419187186c9111310af3c57\", element=\"f.616FC196B2968ADFDBDA516660DED808.d.5BBB848FE8483E7E9188EFA0DF22C163.e.63\")>, <selenium.webdriver.remote.webelement.WebElement (session=\"2c52adeeb419187186c9111310af3c57\", element=\"f.616FC196B2968ADFDBDA516660DED808.d.5BBB848FE8483E7E9188EFA0DF22C163.e.64\")>, <selenium.webdriver.remote.webelement.WebElement (session=\"2c52adeeb419187186c9111310af3c57\", element=\"f.616FC196B2968ADFDBDA516660DED808.d.5BBB848FE8483E7E9188EFA0DF22C163.e.65\")>, <selenium.webdriver.remote.webelement.WebElement (session=\"2c52adeeb419187186c9111310af3c57\", element=\"f.616FC196B2968ADFDBDA516660DED808.d.5BBB848FE8483E7E9188EFA0DF22C163.e.66\")>, <selenium.webdriver.remote.webelement.WebElement (session=\"2c52adeeb419187186c9111310af3c57\", element=\"f.616FC196B2968ADFDBDA516660DED808.d.5BBB848FE8483E7E9188EFA0DF22C163.e.67\")>, <selenium.webdriver.remote.webelement.WebElement (session=\"2c52adeeb419187186c9111310af3c57\", element=\"f.616FC196B2968ADFDBDA516660DED808.d.5BBB848FE8483E7E9188EFA0DF22C163.e.68\")>, <selenium.webdriver.remote.webelement.WebElement (session=\"2c52adeeb419187186c9111310af3c57\", element=\"f.616FC196B2968ADFDBDA516660DED808.d.5BBB848FE8483E7E9188EFA0DF22C163.e.69\")>, <selenium.webdriver.remote.webelement.WebElement (session=\"2c52adeeb419187186c9111310af3c57\", element=\"f.616FC196B2968ADFDBDA516660DED808.d.5BBB848FE8483E7E9188EFA0DF22C163.e.70\")>, <selenium.webdriver.remote.webelement.WebElement (session=\"2c52adeeb419187186c9111310af3c57\", element=\"f.616FC196B2968ADFDBDA516660DED808.d.5BBB848FE8483E7E9188EFA0DF22C163.e.71\")>, <selenium.webdriver.remote.webelement.WebElement (session=\"2c52adeeb419187186c9111310af3c57\", element=\"f.616FC196B2968ADFDBDA516660DED808.d.5BBB848FE8483E7E9188EFA0DF22C163.e.72\")>, <selenium.webdriver.remote.webelement.WebElement (session=\"2c52adeeb419187186c9111310af3c57\", element=\"f.616FC196B2968ADFDBDA516660DED808.d.5BBB848FE8483E7E9188EFA0DF22C163.e.73\")>, <selenium.webdriver.remote.webelement.WebElement (session=\"2c52adeeb419187186c9111310af3c57\", element=\"f.616FC196B2968ADFDBDA516660DED808.d.5BBB848FE8483E7E9188EFA0DF22C163.e.74\")>, <selenium.webdriver.remote.webelement.WebElement (session=\"2c52adeeb419187186c9111310af3c57\", element=\"f.616FC196B2968ADFDBDA516660DED808.d.5BBB848FE8483E7E9188EFA0DF22C163.e.75\")>, <selenium.webdriver.remote.webelement.WebElement (session=\"2c52adeeb419187186c9111310af3c57\", element=\"f.616FC196B2968ADFDBDA516660DED808.d.5BBB848FE8483E7E9188EFA0DF22C163.e.76\")>, <selenium.webdriver.remote.webelement.WebElement (session=\"2c52adeeb419187186c9111310af3c57\", element=\"f.616FC196B2968ADFDBDA516660DED808.d.5BBB848FE8483E7E9188EFA0DF22C163.e.77\")>, <selenium.webdriver.remote.webelement.WebElement (session=\"2c52adeeb419187186c9111310af3c57\", element=\"f.616FC196B2968ADFDBDA516660DED808.d.5BBB848FE8483E7E9188EFA0DF22C163.e.78\")>, <selenium.webdriver.remote.webelement.WebElement (session=\"2c52adeeb419187186c9111310af3c57\", element=\"f.616FC196B2968ADFDBDA516660DED808.d.5BBB848FE8483E7E9188EFA0DF22C163.e.79\")>, <selenium.webdriver.remote.webelement.WebElement (session=\"2c52adeeb419187186c9111310af3c57\", element=\"f.616FC196B2968ADFDBDA516660DED808.d.5BBB848FE8483E7E9188EFA0DF22C163.e.80\")>, <selenium.webdriver.remote.webelement.WebElement (session=\"2c52adeeb419187186c9111310af3c57\", element=\"f.616FC196B2968ADFDBDA516660DED808.d.5BBB848FE8483E7E9188EFA0DF22C163.e.81\")>, <selenium.webdriver.remote.webelement.WebElement (session=\"2c52adeeb419187186c9111310af3c57\", element=\"f.616FC196B2968ADFDBDA516660DED808.d.5BBB848FE8483E7E9188EFA0DF22C163.e.82\")>, <selenium.webdriver.remote.webelement.WebElement (session=\"2c52adeeb419187186c9111310af3c57\", element=\"f.616FC196B2968ADFDBDA516660DED808.d.5BBB848FE8483E7E9188EFA0DF22C163.e.83\")>, <selenium.webdriver.remote.webelement.WebElement (session=\"2c52adeeb419187186c9111310af3c57\", element=\"f.616FC196B2968ADFDBDA516660DED808.d.5BBB848FE8483E7E9188EFA0DF22C163.e.84\")>, <selenium.webdriver.remote.webelement.WebElement (session=\"2c52adeeb419187186c9111310af3c57\", element=\"f.616FC196B2968ADFDBDA516660DED808.d.5BBB848FE8483E7E9188EFA0DF22C163.e.85\")>, <selenium.webdriver.remote.webelement.WebElement (session=\"2c52adeeb419187186c9111310af3c57\", element=\"f.616FC196B2968ADFDBDA516660DED808.d.5BBB848FE8483E7E9188EFA0DF22C163.e.86\")>, <selenium.webdriver.remote.webelement.WebElement (session=\"2c52adeeb419187186c9111310af3c57\", element=\"f.616FC196B2968ADFDBDA516660DED808.d.5BBB848FE8483E7E9188EFA0DF22C163.e.87\")>, <selenium.webdriver.remote.webelement.WebElement (session=\"2c52adeeb419187186c9111310af3c57\", element=\"f.616FC196B2968ADFDBDA516660DED808.d.5BBB848FE8483E7E9188EFA0DF22C163.e.88\")>, <selenium.webdriver.remote.webelement.WebElement (session=\"2c52adeeb419187186c9111310af3c57\", element=\"f.616FC196B2968ADFDBDA516660DED808.d.5BBB848FE8483E7E9188EFA0DF22C163.e.89\")>, <selenium.webdriver.remote.webelement.WebElement (session=\"2c52adeeb419187186c9111310af3c57\", element=\"f.616FC196B2968ADFDBDA516660DED808.d.5BBB848FE8483E7E9188EFA0DF22C163.e.90\")>, <selenium.webdriver.remote.webelement.WebElement (session=\"2c52adeeb419187186c9111310af3c57\", element=\"f.616FC196B2968ADFDBDA516660DED808.d.5BBB848FE8483E7E9188EFA0DF22C163.e.91\")>, <selenium.webdriver.remote.webelement.WebElement (session=\"2c52adeeb419187186c9111310af3c57\", element=\"f.616FC196B2968ADFDBDA516660DED808.d.5BBB848FE8483E7E9188EFA0DF22C163.e.92\")>, <selenium.webdriver.remote.webelement.WebElement (session=\"2c52adeeb419187186c9111310af3c57\", element=\"f.616FC196B2968ADFDBDA516660DED808.d.5BBB848FE8483E7E9188EFA0DF22C163.e.93\")>, <selenium.webdriver.remote.webelement.WebElement (session=\"2c52adeeb419187186c9111310af3c57\", element=\"f.616FC196B2968ADFDBDA516660DED808.d.5BBB848FE8483E7E9188EFA0DF22C163.e.94\")>, <selenium.webdriver.remote.webelement.WebElement (session=\"2c52adeeb419187186c9111310af3c57\", element=\"f.616FC196B2968ADFDBDA516660DED808.d.5BBB848FE8483E7E9188EFA0DF22C163.e.95\")>, <selenium.webdriver.remote.webelement.WebElement (session=\"2c52adeeb419187186c9111310af3c57\", element=\"f.616FC196B2968ADFDBDA516660DED808.d.5BBB848FE8483E7E9188EFA0DF22C163.e.96\")>, <selenium.webdriver.remote.webelement.WebElement (session=\"2c52adeeb419187186c9111310af3c57\", element=\"f.616FC196B2968ADFDBDA516660DED808.d.5BBB848FE8483E7E9188EFA0DF22C163.e.97\")>, <selenium.webdriver.remote.webelement.WebElement (session=\"2c52adeeb419187186c9111310af3c57\", element=\"f.616FC196B2968ADFDBDA516660DED808.d.5BBB848FE8483E7E9188EFA0DF22C163.e.98\")>, <selenium.webdriver.remote.webelement.WebElement (session=\"2c52adeeb419187186c9111310af3c57\", element=\"f.616FC196B2968ADFDBDA516660DED808.d.5BBB848FE8483E7E9188EFA0DF22C163.e.99\")>, <selenium.webdriver.remote.webelement.WebElement (session=\"2c52adeeb419187186c9111310af3c57\", element=\"f.616FC196B2968ADFDBDA516660DED808.d.5BBB848FE8483E7E9188EFA0DF22C163.e.100\")>, <selenium.webdriver.remote.webelement.WebElement (session=\"2c52adeeb419187186c9111310af3c57\", element=\"f.616FC196B2968ADFDBDA516660DED808.d.5BBB848FE8483E7E9188EFA0DF22C163.e.101\")>, <selenium.webdriver.remote.webelement.WebElement (session=\"2c52adeeb419187186c9111310af3c57\", element=\"f.616FC196B2968ADFDBDA516660DED808.d.5BBB848FE8483E7E9188EFA0DF22C163.e.102\")>, <selenium.webdriver.remote.webelement.WebElement (session=\"2c52adeeb419187186c9111310af3c57\", element=\"f.616FC196B2968ADFDBDA516660DED808.d.5BBB848FE8483E7E9188EFA0DF22C163.e.103\")>, <selenium.webdriver.remote.webelement.WebElement (session=\"2c52adeeb419187186c9111310af3c57\", element=\"f.616FC196B2968ADFDBDA516660DED808.d.5BBB848FE8483E7E9188EFA0DF22C163.e.104\")>, <selenium.webdriver.remote.webelement.WebElement (session=\"2c52adeeb419187186c9111310af3c57\", element=\"f.616FC196B2968ADFDBDA516660DED808.d.5BBB848FE8483E7E9188EFA0DF22C163.e.105\")>, <selenium.webdriver.remote.webelement.WebElement (session=\"2c52adeeb419187186c9111310af3c57\", element=\"f.616FC196B2968ADFDBDA516660DED808.d.5BBB848FE8483E7E9188EFA0DF22C163.e.106\")>, <selenium.webdriver.remote.webelement.WebElement (session=\"2c52adeeb419187186c9111310af3c57\", element=\"f.616FC196B2968ADFDBDA516660DED808.d.5BBB848FE8483E7E9188EFA0DF22C163.e.107\")>, <selenium.webdriver.remote.webelement.WebElement (session=\"2c52adeeb419187186c9111310af3c57\", element=\"f.616FC196B2968ADFDBDA516660DED808.d.5BBB848FE8483E7E9188EFA0DF22C163.e.108\")>, <selenium.webdriver.remote.webelement.WebElement (session=\"2c52adeeb419187186c9111310af3c57\", element=\"f.616FC196B2968ADFDBDA516660DED808.d.5BBB848FE8483E7E9188EFA0DF22C163.e.109\")>, <selenium.webdriver.remote.webelement.WebElement (session=\"2c52adeeb419187186c9111310af3c57\", element=\"f.616FC196B2968ADFDBDA516660DED808.d.5BBB848FE8483E7E9188EFA0DF22C163.e.110\")>, <selenium.webdriver.remote.webelement.WebElement (session=\"2c52adeeb419187186c9111310af3c57\", element=\"f.616FC196B2968ADFDBDA516660DED808.d.5BBB848FE8483E7E9188EFA0DF22C163.e.111\")>, <selenium.webdriver.remote.webelement.WebElement (session=\"2c52adeeb419187186c9111310af3c57\", element=\"f.616FC196B2968ADFDBDA516660DED808.d.5BBB848FE8483E7E9188EFA0DF22C163.e.112\")>, <selenium.webdriver.remote.webelement.WebElement (session=\"2c52adeeb419187186c9111310af3c57\", element=\"f.616FC196B2968ADFDBDA516660DED808.d.5BBB848FE8483E7E9188EFA0DF22C163.e.113\")>, <selenium.webdriver.remote.webelement.WebElement (session=\"2c52adeeb419187186c9111310af3c57\", element=\"f.616FC196B2968ADFDBDA516660DED808.d.5BBB848FE8483E7E9188EFA0DF22C163.e.114\")>, <selenium.webdriver.remote.webelement.WebElement (session=\"2c52adeeb419187186c9111310af3c57\", element=\"f.616FC196B2968ADFDBDA516660DED808.d.5BBB848FE8483E7E9188EFA0DF22C163.e.115\")>, <selenium.webdriver.remote.webelement.WebElement (session=\"2c52adeeb419187186c9111310af3c57\", element=\"f.616FC196B2968ADFDBDA516660DED808.d.5BBB848FE8483E7E9188EFA0DF22C163.e.116\")>, <selenium.webdriver.remote.webelement.WebElement (session=\"2c52adeeb419187186c9111310af3c57\", element=\"f.616FC196B2968ADFDBDA516660DED808.d.5BBB848FE8483E7E9188EFA0DF22C163.e.117\")>, <selenium.webdriver.remote.webelement.WebElement (session=\"2c52adeeb419187186c9111310af3c57\", element=\"f.616FC196B2968ADFDBDA516660DED808.d.5BBB848FE8483E7E9188EFA0DF22C163.e.118\")>, <selenium.webdriver.remote.webelement.WebElement (session=\"2c52adeeb419187186c9111310af3c57\", element=\"f.616FC196B2968ADFDBDA516660DED808.d.5BBB848FE8483E7E9188EFA0DF22C163.e.119\")>, <selenium.webdriver.remote.webelement.WebElement (session=\"2c52adeeb419187186c9111310af3c57\", element=\"f.616FC196B2968ADFDBDA516660DED808.d.5BBB848FE8483E7E9188EFA0DF22C163.e.120\")>, <selenium.webdriver.remote.webelement.WebElement (session=\"2c52adeeb419187186c9111310af3c57\", element=\"f.616FC196B2968ADFDBDA516660DED808.d.5BBB848FE8483E7E9188EFA0DF22C163.e.121\")>, <selenium.webdriver.remote.webelement.WebElement (session=\"2c52adeeb419187186c9111310af3c57\", element=\"f.616FC196B2968ADFDBDA516660DED808.d.5BBB848FE8483E7E9188EFA0DF22C163.e.122\")>, <selenium.webdriver.remote.webelement.WebElement (session=\"2c52adeeb419187186c9111310af3c57\", element=\"f.616FC196B2968ADFDBDA516660DED808.d.5BBB848FE8483E7E9188EFA0DF22C163.e.123\")>, <selenium.webdriver.remote.webelement.WebElement (session=\"2c52adeeb419187186c9111310af3c57\", element=\"f.616FC196B2968ADFDBDA516660DED808.d.5BBB848FE8483E7E9188EFA0DF22C163.e.124\")>, <selenium.webdriver.remote.webelement.WebElement (session=\"2c52adeeb419187186c9111310af3c57\", element=\"f.616FC196B2968ADFDBDA516660DED808.d.5BBB848FE8483E7E9188EFA0DF22C163.e.125\")>, <selenium.webdriver.remote.webelement.WebElement (session=\"2c52adeeb419187186c9111310af3c57\", element=\"f.616FC196B2968ADFDBDA516660DED808.d.5BBB848FE8483E7E9188EFA0DF22C163.e.126\")>, <selenium.webdriver.remote.webelement.WebElement (session=\"2c52adeeb419187186c9111310af3c57\", element=\"f.616FC196B2968ADFDBDA516660DED808.d.5BBB848FE8483E7E9188EFA0DF22C163.e.127\")>, <selenium.webdriver.remote.webelement.WebElement (session=\"2c52adeeb419187186c9111310af3c57\", element=\"f.616FC196B2968ADFDBDA516660DED808.d.5BBB848FE8483E7E9188EFA0DF22C163.e.128\")>]\n"
          ]
        }
      ],
      "source": [
        "driver = webdriver.Chrome(options=chrome_options)\n",
        "# Open the YouTube video page\n",
        "driver.get('https://www.youtube.com/watch?v=qaquksFzqZA')\n",
        "\n",
        "# Wait for the page to load\n",
        "driver.implicitly_wait(10)\n",
        "\n",
        "# Find the video title element\n",
        "video_title = driver.find_element(By.ID, 'title').text\n",
        "print(\"Video Title:\", video_title)\n",
        "\n",
        "# Find the video description element\n",
        "#video_description = driver.find_element(By.XPATH, '//*[@id=\"description\"]').text\n",
        "# Find the video description element\n",
        "video_description = driver.find_elements(By.CLASS_NAME, 'yt-core-attributed-string--link-inherit-color')\n",
        "print(\"Video Description:\", video_description)\n",
        "\n",
        "\n",
        "# # Find the number of views element\n",
        "# video_views = driver.find_element(By.XPATH, '//*[@id=\"count\"]/yt-view-count-renderer/span[1]').text\n",
        "\n",
        "# # Find the number of likes element\n",
        "# video_likes = driver.find_element(By.XPATH, '//*[@id=\"text\"]').text\n",
        "\n",
        "# # Find the number of comments element\n",
        "# video_comments = driver.find_element(By.XPATH, '//*[@id=\"count\"]/yt-formatted-string').text\n",
        "\n",
        "# # Print the retrieved information\n",
        "\n",
        "# print(\"Number of Views:\", video_views)\n",
        "# print(\"Number of Likes:\", video_likes)\n",
        "# print(\"Number of Comments:\", video_comments)\n"
      ]
    },
    {
      "cell_type": "code",
      "source": [
        "video_title"
      ],
      "metadata": {
        "id": "4jjOKKZlY1Qe",
        "outputId": "26cc1599-fc57-4e0d-8abb-650ca1cf9bd0",
        "colab": {
          "base_uri": "https://localhost:8080/",
          "height": 35
        }
      },
      "execution_count": 5,
      "outputs": [
        {
          "output_type": "execute_result",
          "data": {
            "text/plain": [
              "''"
            ],
            "application/vnd.google.colaboratory.intrinsic+json": {
              "type": "string"
            }
          },
          "metadata": {},
          "execution_count": 5
        }
      ]
    },
    {
      "cell_type": "code",
      "source": [],
      "metadata": {
        "id": "DUFpYZ-jXT2R"
      },
      "execution_count": 5,
      "outputs": []
    },
    {
      "cell_type": "code",
      "source": [
        "# <div id=\"title\" class=\"style-scope ytd-watch-metadata\">\n",
        "#     <ytd-badge-supported-renderer class=\"style-scope ytd-watch-metadata\" disable-upgrade=\"\" hidden=\"\">\n",
        "#     </ytd-badge-supported-renderer>\n",
        "#     <h1 class=\"style-scope ytd-watch-metadata\">\n",
        "#       <yt-formatted-string force-default-style=\"\" class=\"style-scope ytd-watch-metadata\">all-new Toyota Land Cruiser J250 first REVIEW</yt-formatted-string>\n",
        "#     </h1>\n",
        "#     <ytd-badge-supported-renderer class=\"style-scope ytd-watch-metadata\" disable-upgrade=\"\" hidden=\"\">\n",
        "#     </ytd-badge-supported-renderer>\n",
        "#   </div>"
      ],
      "metadata": {
        "id": "WT2epgHrZhcT"
      },
      "execution_count": 6,
      "outputs": []
    },
    {
      "cell_type": "code",
      "source": [],
      "metadata": {
        "id": "qmiOrIAM3T-W"
      },
      "execution_count": null,
      "outputs": []
    },
    {
      "cell_type": "code",
      "source": [
        "from bs4 import BeautifulSoup\n",
        "\n",
        "import time\n",
        "\n",
        "\n",
        "\n",
        "l=list()\n",
        "o={}\n",
        "\n",
        "target_url = \"https://www.youtube.com/watch?v=qaquksFzqZA\"\n",
        "\n",
        "\n",
        "driver.get(target_url)\n",
        "\n",
        "driver.maximize_window()\n",
        "time.sleep(4)\n",
        "driver.execute_script(\"window.scrollTo(0, 1000);\")\n",
        "for i in range(0,6):\n",
        "  time.sleep(2)\n",
        "  driver.execute_script(\"window.scrollTo(0, 10000);\")\n",
        "\n",
        "video_title = driver.find_element(By.ID, 'title').text\n",
        "print(\"Video Title:\", video_title)\n",
        "\n"
      ],
      "metadata": {
        "id": "IQXdrrOk3T7Q",
        "outputId": "e01ad1d3-566f-446d-db40-f4eed27457ba",
        "colab": {
          "base_uri": "https://localhost:8080/"
        }
      },
      "execution_count": 14,
      "outputs": [
        {
          "output_type": "stream",
          "name": "stdout",
          "text": [
            "Video Title: \n"
          ]
        }
      ]
    },
    {
      "cell_type": "code",
      "source": [
        "comments_section = driver.find_element(By.ID, \"comments\")\n",
        "\n",
        "# extract the HTML content of the comments section\n",
        "comments_html = comments_section.get_attribute('innerHTML')\n",
        "\n",
        "# parse the HTML content with BeautifulSoup\n",
        "soup = BeautifulSoup(comments_html, 'html.parser')\n",
        "\n",
        "# extract the text of the comments\n",
        "comments = [comment.text for comment in soup.find_all('yt-formatted-string', {'class': 'style-scope ytd-comment-renderer'})]\n",
        "\n",
        "# print the comments\n",
        "print(comments)\n",
        "driver.close()"
      ],
      "metadata": {
        "id": "iOrNQoIU3rKL",
        "outputId": "f250a24b-0972-474e-d618-be7362b818a3",
        "colab": {
          "base_uri": "https://localhost:8080/"
        }
      },
      "execution_count": 15,
      "outputs": [
        {
          "output_type": "stream",
          "name": "stdout",
          "text": [
            "['►Follow us on Instagram @autogefuehl and @thomas.letsgo\\n►Subscribe here: https://www.youtube.com/user/autogefuehl?sub_confirmation=1\\n\\n00:00 all-new Land Cruiser J250\\n01:11 Length, wheels, offroad facts\\n03:22 Light signatures\\n03:47 Interior: doors and steering\\n04:34 Seats and comfort\\n05:11 Cockpit and user interface\\n07:02 Instruments and infotainment\\n07:44 Rear seats\\n09:16 Trunk / boot\\n10:21 3rd seating row\\n12:03 Engines\\n\\n#Toyota #ToyotaLandCruiser\\n\\nTransparency note: Autogefühl videos are independent and free from editorial influence on opinion and rating. But since manufacturers enable us to do the reviews in the first place, for legal reasons this video is marked as _advertisement_.', 'I really feel like Toyota have knocked it out of the park with this one.  It looks fantastic and if it is even better than previous models both on and off road, sounds like a win-win all around.', 'I have already booked this car here in Melbourne, Australia.\\nReleasing in Australia mid 2024.', 'A ton of people are going to retrofit those circle headlights. They look soo much better than the Lego lights on the other trim', 'Don’t worry about the stabilizizers.  Your videos are very well done. I would say one of the most professional car review channels.  🇨🇦', 'I have always love older Land Cruiser & IMO this is perfect because it mixed old looks with new technology!', 'wow, finally toyota made a car that is nice to look at. this robust and classic exterior is awesome.', 'Great presentation, never thought such a vehicle would make me more excited than modern \"sports cars\"! Awesome looks', 'Impressed you made the effort to match your outfit with the J250 colours.\\n\\nThanks Thomas, thorough review as always.', 'The retro look brings back memories. My family lived in South America in 1970s , the standard executive car for the company were Toyota LandCrusiers and VW Beetles ( they wouldn’t over heat in 42 Celsius temps) and Landcruisers would never get stuck in unpaved muddy roads .  My family’s other car was. Mercedes from those years also built like a tank . I currently own a Toyota 4 Runner which is a Japanese Tank , can’t wait to see the Lexus version of this new Land Cruiser.   When we came back to the US , my dad missed his Beetle so much .. he bought a Porsche 911 .. honestly not as indestructible as the Beetle', 'Toyota has hit the target  what brilliant modern retro style we have been waiting for. So glad Toyota did not follow other OEM with touch screens, good old push buttons for practicality. Beauty with reliability  🇬🇧', 'I love the circular headlights  sweet vehicle to look at!!', 'Thomas is on fire these days  \\nWe like!!\\nGreat reviews!', 'Very good interior & exterior reviews. This video allows viewers to see (and experience) what the new Land Cruizer Prado is all about! Very functional LC that will leave up to its heritage.', \"A good reason to buy a 7 seater is having 3 kids requiring kid seats. The presence of isofix in the 3rd row is thus important. It doesn't look like it has bu would be good if reviewers mention this.\", 'wow bro thank you for doing this, i was waiting for you guys to do this :D', 'You know, for what it is as a highly capable off-road machine, I think the styling and features are fantastic and can’t wait to see it in person!!! Thanks Thomas!', \"0:27 Thomas perfectly co-ordinated with the car's colours, again!   This man has style. 5:44 The Japanese are just so sensible with their separate A/C controls. Bravo.\", \"My mom used to have an '01 land cruiser and this reminds a lot of that and it makes me nostalgic\", \"Great review Thomas. When I started the video I thought it was very much like a new Defender. The Land Cruiser Prado's are very popular here in Australia and I think they will be even more so with their new design.\", 'I love the style, content and production quality of your videos Thomas. ', 'Thomas does the best reviews!', 'Absolutely love this, fancy the higher spec version next year potentially.', \"wow, 2 of my all-time favourites back-2-back ! Of cars I've had, J120 left biggest impression - so completely fit for purpose......J250 with styling to match.\", 'Looks really good inside and out. I can imagine myself driving in Arizona to the Grand Canyon in this ', 'Great review again !!', \"This is the car I have been waiting for! So very cool design, and will run forever. Can't wait to see the non-First Edition models coming out, as this is not my cup of tea.  Great, great review once again, Thomas! I have been watching your videos almost since the beginning, and it's so amazing to see the progress and your enthusiasm evolving. Thank you for the ever-so interesting content and keep up the great work! Greetings from Finland!\", 'Been waiting for it for a long time. And what better channel then yours. ', 'Very clean design. Is there a way to remove the front lettering on the grill? Also, why did they go with a screen for the gauge dials?', 'Toyota nailed it with this one, and it\\'ll be another product to sell like hot cakes.\\nFor those who want the old Defender\\'s ruggedness but don\\'t wanna take risks with a product from a brand-new company (Ineos Grenadier, though I like it a lot) or don\\'t wanna go with a higher budget (Merc), this may be the \"go-to\" for them.\\nThanks for the video once again, Thomas. You always deliver the information perfectly and straight to the point!', 'Actually more interesting looking than a Defender. Much better executed “return to old form” than the Defender', 'Great Thomas gets the newest cars first. Thank you ,and the team.', \"I really want this car. Can't wait for the full driving review\", 'Love what Toyota have done. Can not wait to get my hands on.', 'Nice work. This is the car I’m waiting for.', 'Great review buddy good job.', 'It looks like a big Jimny ', 'In love with this car.', 'This pretty much ticks every box. Better looking than the defender and g wagon and most likely as good or better off road. Love the retro design elements mixing old with new. This might end up being toyotas best selling car. I will definitely be getting one the next time I change and it will be my first toyota.', 'I currently cruise through Europe with my dog in a Seat Ateca. This is definitely high up there as an awesome replacement to aim for in the future.', 'Wow!  I would take one 100% on this spec and color!!', 'Lovely vehicle and really like the design and styling.   Made me laugh you trying out the far rear seats!', 'Like the design. Like all the improvements. Worthy updates on the Prado.\\nPity about the engines. I would have expected a competition to the Ford Everest V6 (also VW Amarok). \\nA nice V6 diesel would have been great. I assume it would have put it against the LC 300.\\nGreat review,    great car.', 'Nice review. Really like the (re-) design of the Land Cruiser ', 'Another enjoyable review Thomas!', 'Thanks for a great review and a great tool, nice presentation.\\r\\nWhen I buy this vehicle, the first thing I will do is take the spare tire out of its slot at the bottom, buy a nice cover and put it in, instead of buying the 7-seater version, I will buy the 5-seater version and when I go long distances, maybe if I have room in the trunk, I will keep the spare tires in the trunk of the vehicle. When they are on the bottom, it is not very practical to use and they get very dirty.', 'That toy car is a nice touch. Landcruiser is such a legendary car. Hope to see it soon on UK roads.', 'Stylish off-road vehicle,thank You for the review ', \"I think the exterior styling of this is quite nice. The crisp angles all over really convey the ruggedness and off-road capabilities. Design of the front and rear lights is pretty good (with the exception of that tiny turn signa at the rear). The interior looks a bit cheaper than I would've hoped for a car that will probably be quite expensive. It just looks very plastic-y, whereas in many of the previous gens of the LC, it was quite luxurious for a capable truck. All of the physical buttons are nice, though, and the rectangular overlapping dash elements are a nice and unique design touch. The all-digital instruments are disappointing. Responsiveness of the central screen looks very nicely responsive, though. And yes, I also prefer fixed rear floor mats, but hopefully they know what they're doing. I have to say that the third row being typical fold down seats instead of the sideways-folding seats like the old LCs is a little sad, although these are of course much more practical. I'm now very curious what the bigger version looks like and how it's different than this one.\", 'These are going to be impossible to actually get.', 'What is the volume of the trunk in liters?\\n\\nIn the 5 seater configuration?\\n\\n500 Liters?\\n\\n600 Liters?', \"I like what Toyota has done to this vehicle design wise it's more than acceptable I like it. Good review Thomas \", 'Love almost everything about this. Its got hints of the FJ and looks like they took some inspiration from the new Bronco too. The only thing I really hate is that they got rid of the electric sliding back window. The pop-up one is just inferior in terms of functionality. Its probably one of my favorite features on my 4Runner.', \"Probably the best 4 x4 for the real world... Basically it'll go anywhere and last forever\", 'Can we get the measurement for the height of the cargo area?', 'Looking forward to buy the square headlight version! Nice review!', \"Love the design. I thinks it can hold for decades. And touch/physical controls proportion on point. Previous gen now looks like it's from early 2000\", 'Like the retro look, colour and leather seats . This variant can easily sell along side the current Prado variant. Greetings from Mzansi 🇿🇦', 'Hope Thomas review the Land Cruiser LC300 version.\\n\\nNice video.', 'What is the fuel capacity of the vehicle?  Is it still 150 litres like the 150 Series Prado?', 'I like it very much, back to past kind of design ', \"Great review. It's very rare to hear reviewers mentioning that the Prado is sold in Africa other than just mentioning Australia,  New Zealand,  and Japan. I'm from Kenya and the Prado is a status symbol, hugely popular on our roads. The popularity and association with Government agencies, politicians and bisiness people has made it the dream car for most people.  So, next time it would be great to hear reviewers, especially from Europe and America, mention Africa as markets for vehicles like this one. Thank you.\", 'Pretty cool! Thanks Thomas!', 'My favorite car reviewer on YouTube! Thank you! Cheers from Orange County, California USA! Alles Gute!', \"Hello from Canada, this looks really good but  happened to your 2 door Land Cruiser? We were so jealous of Europe's access to a more compact 2 door Toyota 4X4.\", 'It looks partially (at least) inspired by the new defender and I love it!', 'Looks awesome', 'What was the ceiling height inside the Trunk ?', 'I actually like the round headlights more than the triple beam.', 'Brilliant design!', 'To help relate to the passenger leg room, how tall are you? You mentioned being tall', 'Will the 3rd row be available in the US?', 'The outfit coordination is amazing today.', \"In general, I think Toyota's design team is doing some good stuff. They hit a home run with the RAV4, and then hit it out of the park with the Grand Highlander. This Land Cruiser is another great design. Not quite perfected yet maybe, but give it a couple of years and a transition to the solid state batteries, and it should be at it's best. I really like these three models.\", 'What is the measurement from the floor to the ceiling? How about rear to back of 2nd row of seat when collapsed and folded forward?', \"Very nice video!!! I'm not a Toyota guy but from this review I like the new land cruiser very much.\", \"Looks very cool. Great vid, thanks for showing us the cabin details.\\nHowever, why can't Europe have the option of the USA engine (4-cylinder petrol turbo hybrid)?\\nIt has 325ps and 630Nm, and compared to the turbodiesel it will probably have better L/100km and emissions.\\nIt complies with Euro6/7 because in essence it's the engine from the Lexus RX500h, which is on sale in Europe. \\nWhy is Toyota not giving us the most efficient engine? \", 'I really wished that Toyota offered that 2.8L Turbo Diesel here in the States...', 'Always loved FJ. Good to see a ripened version of it under Land Cruiser label. Waiting for black colour!', 'It would be nice of you measured the length of the whole cargo area to see if it is long enough to put down the seats and sleep in the back.']\n"
          ]
        }
      ]
    },
    {
      "cell_type": "code",
      "source": [],
      "metadata": {
        "id": "xyLdIDv64XMK"
      },
      "execution_count": null,
      "outputs": []
    },
    {
      "cell_type": "code",
      "source": [
        "['►Follow us on Instagram @autogefuehl and @thomas.letsgo\\n►Subscribe here: https://www.youtube.com/user/autogefuehl?sub_confirmation=1\\n\\n00:00 all-new Land Cruiser J250\\n01:11 Length, wheels, offroad facts\\n03:22 Light signatures\\n03:47 Interior: doors and steering\\n04:34 Seats and comfort\\n05:11 Cockpit and user interface\\n07:02 Instruments and infotainment\\n07:44 Rear seats\\n09:16 Trunk / boot\\n10:21 3rd seating row\\n12:03 Engines\\n\\n#Toyota #ToyotaLandCruiser\\n\\nTransparency note: Autogefühl videos are independent and free from editorial influence on opinion and rating. But since manufacturers enable us to do the reviews in the first place, for legal reasons this video is marked as _advertisement_.', 'I really feel like Toyota have knocked it out of the park with this one.  It looks fantastic and if it is even better than previous models both on and off road, sounds like a win-win all around.', 'I have already booked this car here in Melbourne, Australia.\\nReleasing in Australia mid 2024.', 'A ton of people are going to retrofit those circle headlights. They look soo much better than the Lego lights on the other trim', 'Don’t worry about the stabilizizers.  Your videos are very well done. I would say one of the most professional car review channels.  🇨🇦', 'I have always love older Land Cruiser & IMO this is perfect because it mixed old looks with new technology!', 'wow, finally toyota made a car that is nice to look at. this robust and classic exterior is awesome.', 'Great presentation, never thought such a vehicle would make me more excited than modern \"sports cars\"! Awesome looks', 'Impressed you made the effort to match your outfit with the J250 colours.\\n\\nThanks Thomas, thorough review as always.', 'The retro look brings back memories. My family lived in South America in 1970s , the standard executive car for the company were Toyota LandCrusiers and VW Beetles ( they wouldn’t over heat in 42 Celsius temps) and Landcruisers would never get stuck in unpaved muddy roads .  My family’s other car was. Mercedes from those years also built like a tank . I currently own a Toyota 4 Runner which is a Japanese Tank , can’t wait to see the Lexus version of this new Land Cruiser.   When we came back to the US , my dad missed his Beetle so much .. he bought a Porsche 911 .. honestly not as indestructible as the Beetle', 'Toyota has hit the target  what brilliant modern retro style we have been waiting for. So glad Toyota did not follow other OEM with touch screens, good old push buttons for practicality. Beauty with reliability  🇬🇧', 'I love the circular headlights  sweet vehicle to look at!!', 'Thomas is on fire these days  \\nWe like!!\\nGreat reviews!', 'Very good interior & exterior reviews. This video allows viewers to see (and experience) what the new Land Cruizer Prado is all about! Very functional LC that will leave up to its heritage.', \"A good reason to buy a 7 seater is having 3 kids requiring kid seats. The presence of isofix in the 3rd row is thus important. It doesn't look like it has bu would be good if reviewers mention this.\", 'wow bro thank you for doing this, i was waiting for you guys to do this :D', 'You know, for what it is as a highly capable off-road machine, I think the styling and features are fantastic and can’t wait to see it in person!!! Thanks Thomas!', \"0:27 Thomas perfectly co-ordinated with the car's colours, again!   This man has style. 5:44 The Japanese are just so sensible with their separate A/C controls. Bravo.\", \"My mom used to have an '01 land cruiser and this reminds a lot of that and it makes me nostalgic\", \"Great review Thomas. When I started the video I thought it was very much like a new Defender. The Land Cruiser Prado's are very popular here in Australia and I think they will be even more so with their new design.\", 'I love the style, content and production quality of your videos Thomas. ', 'Thomas does the best reviews!', 'Absolutely love this, fancy the higher spec version next year potentially.', \"wow, 2 of my all-time favourites back-2-back ! Of cars I've had, J120 left biggest impression - so completely fit for purpose......J250 with styling to match.\", 'Looks really good inside and out. I can imagine myself driving in Arizona to the Grand Canyon in this ', 'Great review again !!', \"This is the car I have been waiting for! So very cool design, and will run forever. Can't wait to see the non-First Edition models coming out, as this is not my cup of tea.  Great, great review once again, Thomas! I have been watching your videos almost since the beginning, and it's so amazing to see the progress and your enthusiasm evolving. Thank you for the ever-so interesting content and keep up the great work! Greetings from Finland!\", 'Been waiting for it for a long time. And what better channel then yours. ', 'Very clean design. Is there a way to remove the front lettering on the grill? Also, why did they go with a screen for the gauge dials?', 'Toyota nailed it with this one, and it\\'ll be another product to sell like hot cakes.\\nFor those who want the old Defender\\'s ruggedness but don\\'t wanna take risks with a product from a brand-new company (Ineos Grenadier, though I like it a lot) or don\\'t wanna go with a higher budget (Merc), this may be the \"go-to\" for them.\\nThanks for the video once again, Thomas. You always deliver the information perfectly and straight to the point!', 'Actually more interesting looking than a Defender. Much better executed “return to old form” than the Defender', 'Great Thomas gets the newest cars first. Thank you ,and the team.', \"I really want this car. Can't wait for the full driving review\", 'Love what Toyota have done. Can not wait to get my hands on.', 'Nice work. This is the car I’m waiting for.', 'Great review buddy good job.', 'It looks like a big Jimny ', 'In love with this car.', 'This pretty much ticks every box. Better looking than the defender and g wagon and most likely as good or better off road. Love the retro design elements mixing old with new. This might end up being toyotas best selling car. I will definitely be getting one the next time I change and it will be my first toyota.', 'I currently cruise through Europe with my dog in a Seat Ateca. This is definitely high up there as an awesome replacement to aim for in the future.', 'Wow!  I would take one 100% on this spec and color!!', 'Lovely vehicle and really like the design and styling.   Made me laugh you trying out the far rear seats!', 'Like the design. Like all the improvements. Worthy updates on the Prado.\\nPity about the engines. I would have expected a competition to the Ford Everest V6 (also VW Amarok). \\nA nice V6 diesel would have been great. I assume it would have put it against the LC 300.\\nGreat review,    great car.', 'Nice review. Really like the (re-) design of the Land Cruiser ', 'Another enjoyable review Thomas!', 'Thanks for a great review and a great tool, nice presentation.\\r\\nWhen I buy this vehicle, the first thing I will do is take the spare tire out of its slot at the bottom, buy a nice cover and put it in, instead of buying the 7-seater version, I will buy the 5-seater version and when I go long distances, maybe if I have room in the trunk, I will keep the spare tires in the trunk of the vehicle. When they are on the bottom, it is not very practical to use and they get very dirty.', 'That toy car is a nice touch. Landcruiser is such a legendary car. Hope to see it soon on UK roads.', 'Stylish off-road vehicle,thank You for the review ', \"I think the exterior styling of this is quite nice. The crisp angles all over really convey the ruggedness and off-road capabilities. Design of the front and rear lights is pretty good (with the exception of that tiny turn signa at the rear). The interior looks a bit cheaper than I would've hoped for a car that will probably be quite expensive. It just looks very plastic-y, whereas in many of the previous gens of the LC, it was quite luxurious for a capable truck. All of the physical buttons are nice, though, and the rectangular overlapping dash elements are a nice and unique design touch. The all-digital instruments are disappointing. Responsiveness of the central screen looks very nicely responsive, though. And yes, I also prefer fixed rear floor mats, but hopefully they know what they're doing. I have to say that the third row being typical fold down seats instead of the sideways-folding seats like the old LCs is a little sad, although these are of course much more practical. I'm now very curious what the bigger version looks like and how it's different than this one.\", 'These are going to be impossible to actually get.', 'What is the volume of the trunk in liters?\\n\\nIn the 5 seater configuration?\\n\\n500 Liters?\\n\\n600 Liters?', \"I like what Toyota has done to this vehicle design wise it's more than acceptable I like it. Good review Thomas \", 'Love almost everything about this. Its got hints of the FJ and looks like they took some inspiration from the new Bronco too. The only thing I really hate is that they got rid of the electric sliding back window. The pop-up one is just inferior in terms of functionality. Its probably one of my favorite features on my 4Runner.', \"Probably the best 4 x4 for the real world... Basically it'll go anywhere and last forever\", 'Can we get the measurement for the height of the cargo area?', 'Looking forward to buy the square headlight version! Nice review!', \"Love the design. I thinks it can hold for decades. And touch/physical controls proportion on point. Previous gen now looks like it's from early 2000\", 'Like the retro look, colour and leather seats . This variant can easily sell along side the current Prado variant. Greetings from Mzansi 🇿🇦', 'Hope Thomas review the Land Cruiser LC300 version.\\n\\nNice video.', 'What is the fuel capacity of the vehicle?  Is it still 150 litres like the 150 Series Prado?', 'I like it very much, back to past kind of design ', \"Great review. It's very rare to hear reviewers mentioning that the Prado is sold in Africa other than just mentioning Australia,  New Zealand,  and Japan. I'm from Kenya and the Prado is a status symbol, hugely popular on our roads. The popularity and association with Government agencies, politicians and bisiness people has made it the dream car for most people.  So, next time it would be great to hear reviewers, especially from Europe and America, mention Africa as markets for vehicles like this one. Thank you.\", 'Pretty cool! Thanks Thomas!', 'My favorite car reviewer on YouTube! Thank you! Cheers from Orange County, California USA! Alles Gute!', \"Hello from Canada, this looks really good but  happened to your 2 door Land Cruiser? We were so jealous of Europe's access to a more compact 2 door Toyota 4X4.\", 'It looks partially (at least) inspired by the new defender and I love it!', 'Looks awesome', 'What was the ceiling height inside the Trunk ?', 'I actually like the round headlights more than the triple beam.', 'Brilliant design!', 'To help relate to the passenger leg room, how tall are you? You mentioned being tall', 'Will the 3rd row be available in the US?', 'The outfit coordination is amazing today.', \"In general, I think Toyota's design team is doing some good stuff. They hit a home run with the RAV4, and then hit it out of the park with the Grand Highlander. This Land Cruiser is another great design. Not quite perfected yet maybe, but give it a couple of years and a transition to the solid state batteries, and it should be at it's best. I really like these three models.\", 'What is the measurement from the floor to the ceiling? How about rear to back of 2nd row of seat when collapsed and folded forward?', \"Very nice video!!! I'm not a Toyota guy but from this review I like the new land cruiser very much.\", \"Looks very cool. Great vid, thanks for showing us the cabin details.\\nHowever, why can't Europe have the option of the USA engine (4-cylinder petrol turbo hybrid)?\\nIt has 325ps and 630Nm, and compared to the turbodiesel it will probably have better L/100km and emissions.\\nIt complies with Euro6/7 because in essence it's the engine from the Lexus RX500h, which is on sale in Europe. \\nWhy is Toyota not giving us the most efficient engine? \", 'I really wished that Toyota offered that 2.8L Turbo Diesel here in the States...', 'Always loved FJ. Good to see a ripened version of it under Land Cruiser label. Waiting for black colour!', 'It would be nice of you measured the length of the whole cargo area to see if it is long enough to put down the seats and sleep in the back.']\n",
        "[ ]\n"
      ],
      "metadata": {
        "id": "8NYzEt6l4cdI"
      },
      "execution_count": null,
      "outputs": []
    },
    {
      "cell_type": "code",
      "source": [],
      "metadata": {
        "id": "M6wkF5kK4caA"
      },
      "execution_count": null,
      "outputs": []
    }
  ],
  "metadata": {
    "kernelspec": {
      "display_name": "ev_ds_env",
      "language": "python",
      "name": "python3"
    },
    "language_info": {
      "codemirror_mode": {
        "name": "ipython",
        "version": 3
      },
      "file_extension": ".py",
      "mimetype": "text/x-python",
      "name": "python",
      "nbconvert_exporter": "python",
      "pygments_lexer": "ipython3",
      "version": "3.12.1"
    },
    "colab": {
      "provenance": [],
      "include_colab_link": true
    }
  },
  "nbformat": 4,
  "nbformat_minor": 0
}