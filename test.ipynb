{
  "cells": [
    {
      "cell_type": "markdown",
      "metadata": {
        "id": "view-in-github",
        "colab_type": "text"
      },
      "source": [
        "<a href=\"https://colab.research.google.com/github/kkrusere/youTube-comments-Analyzer/blob/main/test.ipynb\" target=\"_parent\"><img src=\"https://colab.research.google.com/assets/colab-badge.svg\" alt=\"Open In Colab\"/></a>"
      ]
    },
    {
      "cell_type": "code",
      "execution_count": null,
      "metadata": {
        "colab": {
          "base_uri": "https://localhost:8080/"
        },
        "id": "eU0xXXoBQzor",
        "outputId": "4a4adcf1-866f-4ce4-e781-1f0a758ff341"
      },
      "outputs": [
        {
          "output_type": "stream",
          "name": "stdout",
          "text": [
            "\u001b[33m\r0% [Working]\u001b[0m\r            \rHit:1 https://developer.download.nvidia.com/compute/cuda/repos/ubuntu2204/x86_64  InRelease\n",
            "Hit:2 https://cloud.r-project.org/bin/linux/ubuntu jammy-cran40/ InRelease\n",
            "Hit:3 http://archive.ubuntu.com/ubuntu jammy InRelease\n",
            "Hit:4 http://security.ubuntu.com/ubuntu jammy-security InRelease\n",
            "Hit:5 http://archive.ubuntu.com/ubuntu jammy-updates InRelease\n",
            "Hit:6 http://archive.ubuntu.com/ubuntu jammy-backports InRelease\n",
            "Hit:7 https://ppa.launchpadcontent.net/c2d4u.team/c2d4u4.0+/ubuntu jammy InRelease\n",
            "Hit:8 https://ppa.launchpadcontent.net/deadsnakes/ppa/ubuntu jammy InRelease\n",
            "Hit:9 https://ppa.launchpadcontent.net/graphics-drivers/ppa/ubuntu jammy InRelease\n",
            "Hit:10 https://ppa.launchpadcontent.net/ubuntugis/ppa/ubuntu jammy InRelease\n",
            "Reading package lists... Done\n",
            "Building dependency tree... Done\n",
            "Reading state information... Done\n",
            "51 packages can be upgraded. Run 'apt list --upgradable' to see them.\n",
            "Reading package lists... Done\n",
            "Building dependency tree... Done\n",
            "Reading state information... Done\n",
            "wget is already the newest version (1.21.2-2ubuntu1).\n",
            "curl is already the newest version (7.81.0-1ubuntu1.16).\n",
            "unzip is already the newest version (6.0-26ubuntu3.2).\n",
            "You might want to run 'apt --fix-broken install' to correct these.\n",
            "The following packages have unmet dependencies:\n",
            " google-chrome-stable : Depends: libvulkan1 but it is not going to be installed\n",
            "\u001b[1;31mE: \u001b[0mUnmet dependencies. Try 'apt --fix-broken install' with no packages (or specify a solution).\u001b[0m\n",
            "--2024-04-11 16:59:11--  http://archive.ubuntu.com/ubuntu/pool/main/libu/libu2f-host/libu2f-udev_1.1.4-1_all.deb\n",
            "Resolving archive.ubuntu.com (archive.ubuntu.com)... 91.189.91.83, 91.189.91.81, 185.125.190.39, ...\n",
            "Connecting to archive.ubuntu.com (archive.ubuntu.com)|91.189.91.83|:80... connected.\n",
            "HTTP request sent, awaiting response... 200 OK\n",
            "Length: 3708 (3.6K) [application/vnd.debian.binary-package]\n",
            "Saving to: ‘libu2f-udev_1.1.4-1_all.deb.20’\n",
            "\n",
            "libu2f-udev_1.1.4-1 100%[===================>]   3.62K  --.-KB/s    in 0s      \n",
            "\n",
            "2024-04-11 16:59:12 (359 MB/s) - ‘libu2f-udev_1.1.4-1_all.deb.20’ saved [3708/3708]\n",
            "\n",
            "(Reading database ... 121870 files and directories currently installed.)\n",
            "Preparing to unpack libu2f-udev_1.1.4-1_all.deb ...\n",
            "Unpacking libu2f-udev (1.1.4-1) over (1.1.4-1) ...\n",
            "Setting up libu2f-udev (1.1.4-1) ...\n",
            "--2024-04-11 16:59:12--  https://dl.google.com/linux/direct/google-chrome-stable_current_amd64.deb\n",
            "Resolving dl.google.com (dl.google.com)... 142.251.2.136, 142.251.2.91, 142.251.2.190, ...\n",
            "Connecting to dl.google.com (dl.google.com)|142.251.2.136|:443... connected.\n",
            "HTTP request sent, awaiting response... 200 OK\n",
            "Length: 107223784 (102M) [application/x-debian-package]\n",
            "Saving to: ‘google-chrome-stable_current_amd64.deb.20’\n",
            "\n",
            "google-chrome-stabl 100%[===================>] 102.26M  16.7MB/s    in 6.0s    \n",
            "\n",
            "2024-04-11 16:59:18 (17.1 MB/s) - ‘google-chrome-stable_current_amd64.deb.20’ saved [107223784/107223784]\n",
            "\n",
            "(Reading database ... 121870 files and directories currently installed.)\n",
            "Preparing to unpack google-chrome-stable_current_amd64.deb ...\n",
            "Unpacking google-chrome-stable (123.0.6312.122-1) over (123.0.6312.122-1) ...\n",
            "\u001b[1mdpkg:\u001b[0m dependency problems prevent configuration of google-chrome-stable:\n",
            " google-chrome-stable depends on libvulkan1; however:\n",
            "  Package libvulkan1 is not installed.\n",
            "\n",
            "\u001b[1mdpkg:\u001b[0m error processing package google-chrome-stable (--install):\n",
            " dependency problems - leaving unconfigured\n",
            "Processing triggers for man-db (2.10.2-1) ...\n",
            "Errors were encountered while processing:\n",
            " google-chrome-stable\n",
            "--2024-04-11 16:59:32--  https://edgedl.me.gvt1.com/edgedl/chrome/chrome-for-testing/118.0.5993.70/linux64/chromedriver-linux64.zip\n",
            "Resolving edgedl.me.gvt1.com (edgedl.me.gvt1.com)... 34.104.35.123, 2600:1900:4110:86f::\n",
            "Connecting to edgedl.me.gvt1.com (edgedl.me.gvt1.com)|34.104.35.123|:443... connected.\n",
            "HTTP request sent, awaiting response... 304 Not Modified\n",
            "File ‘/tmp/chromedriver-linux64.zip’ not modified on server. Omitting download.\n",
            "\n",
            "Archive:  /tmp/chromedriver-linux64.zip\n",
            "  inflating: /tmp/chromedriver-linux64/LICENSE.chromedriver  \n",
            "  inflating: /tmp/chromedriver-linux64/chromedriver  \n",
            "Requirement already satisfied: selenium in /usr/local/lib/python3.10/dist-packages (4.19.0)\n",
            "Requirement already satisfied: chromedriver_autoinstaller in /usr/local/lib/python3.10/dist-packages (0.6.4)\n",
            "Requirement already satisfied: urllib3[socks]<3,>=1.26 in /usr/local/lib/python3.10/dist-packages (from selenium) (2.0.7)\n",
            "Requirement already satisfied: trio~=0.17 in /usr/local/lib/python3.10/dist-packages (from selenium) (0.25.0)\n",
            "Requirement already satisfied: trio-websocket~=0.9 in /usr/local/lib/python3.10/dist-packages (from selenium) (0.11.1)\n",
            "Requirement already satisfied: certifi>=2021.10.8 in /usr/local/lib/python3.10/dist-packages (from selenium) (2024.2.2)\n",
            "Requirement already satisfied: typing_extensions>=4.9.0 in /usr/local/lib/python3.10/dist-packages (from selenium) (4.10.0)\n",
            "Requirement already satisfied: packaging>=23.1 in /usr/local/lib/python3.10/dist-packages (from chromedriver_autoinstaller) (24.0)\n",
            "Requirement already satisfied: attrs>=23.2.0 in /usr/local/lib/python3.10/dist-packages (from trio~=0.17->selenium) (23.2.0)\n",
            "Requirement already satisfied: sortedcontainers in /usr/local/lib/python3.10/dist-packages (from trio~=0.17->selenium) (2.4.0)\n",
            "Requirement already satisfied: idna in /usr/local/lib/python3.10/dist-packages (from trio~=0.17->selenium) (3.6)\n",
            "Requirement already satisfied: outcome in /usr/local/lib/python3.10/dist-packages (from trio~=0.17->selenium) (1.3.0.post0)\n",
            "Requirement already satisfied: sniffio>=1.3.0 in /usr/local/lib/python3.10/dist-packages (from trio~=0.17->selenium) (1.3.1)\n",
            "Requirement already satisfied: exceptiongroup in /usr/local/lib/python3.10/dist-packages (from trio~=0.17->selenium) (1.2.0)\n",
            "Requirement already satisfied: wsproto>=0.14 in /usr/local/lib/python3.10/dist-packages (from trio-websocket~=0.9->selenium) (1.2.0)\n",
            "Requirement already satisfied: pysocks!=1.5.7,<2.0,>=1.5.6 in /usr/local/lib/python3.10/dist-packages (from urllib3[socks]<3,>=1.26->selenium) (1.7.1)\n",
            "Requirement already satisfied: h11<1,>=0.9.0 in /usr/local/lib/python3.10/dist-packages (from wsproto>=0.14->trio-websocket~=0.9->selenium) (0.14.0)\n"
          ]
        },
        {
          "output_type": "execute_result",
          "data": {
            "text/plain": []
          },
          "metadata": {},
          "execution_count": 1
        }
      ],
      "source": [
        "%%shell\n",
        "sudo apt -y update\n",
        "sudo apt install -y wget curl unzip\n",
        "wget http://archive.ubuntu.com/ubuntu/pool/main/libu/libu2f-host/libu2f-udev_1.1.4-1_all.deb\n",
        "dpkg -i libu2f-udev_1.1.4-1_all.deb\n",
        "wget https://dl.google.com/linux/direct/google-chrome-stable_current_amd64.deb\n",
        "dpkg -i google-chrome-stable_current_amd64.deb\n",
        "\n",
        "wget -N https://edgedl.me.gvt1.com/edgedl/chrome/chrome-for-testing/118.0.5993.70/linux64/chromedriver-linux64.zip -P /tmp/\n",
        "unzip -o /tmp/chromedriver-linux64.zip -d /tmp/\n",
        "chmod +x /tmp/chromedriver-linux64/chromedriver\n",
        "mv /tmp/chromedriver-linux64/chromedriver /usr/local/bin/chromedriver\n",
        "pip install selenium chromedriver_autoinstaller"
      ]
    },
    {
      "cell_type": "code",
      "source": [
        "import os\n",
        "from google.colab import drive"
      ],
      "metadata": {
        "id": "lo_Rt1YYX9U5"
      },
      "execution_count": null,
      "outputs": []
    },
    {
      "cell_type": "code",
      "source": [
        "#mounting google drive\n",
        "drive.mount('/content/drive')\n",
        "\n",
        "########################################\n",
        "\n",
        "#changing the working directory\n",
        "os.chdir(\"/content/drive/MyDrive/EV NLP Data\")\n",
        "\n",
        "!pwd\n"
      ],
      "metadata": {
        "id": "TqMUbwZnX_vZ",
        "outputId": "1c1af15e-d028-4681-ddf7-147b848f403d",
        "colab": {
          "base_uri": "https://localhost:8080/"
        }
      },
      "execution_count": null,
      "outputs": [
        {
          "output_type": "stream",
          "name": "stdout",
          "text": [
            "Drive already mounted at /content/drive; to attempt to forcibly remount, call drive.mount(\"/content/drive\", force_remount=True).\n",
            "/content/drive/MyDrive/EV NLP Data\n"
          ]
        }
      ]
    },
    {
      "cell_type": "code",
      "execution_count": null,
      "metadata": {
        "id": "ql3oOw_zRdDb"
      },
      "outputs": [],
      "source": [
        "import sys\n",
        "sys.path.insert(0,'/usr/lib/chromium-browser/chromedriver')\n",
        "\n",
        "\n",
        "from selenium import webdriver\n",
        "import chromedriver_autoinstaller\n",
        "from selenium.webdriver.common.by import By\n",
        "from selenium.webdriver.common.keys import Keys\n",
        "from selenium.webdriver.support.ui import WebDriverWait\n",
        "from selenium.webdriver.support import expected_conditions as EC\n",
        "from selenium.webdriver.common.action_chains import ActionChains\n",
        "import time\n",
        "\n",
        "\n",
        "chrome_options = webdriver.ChromeOptions()\n",
        "chrome_options.add_argument('--headless')\n",
        "chrome_options.add_argument('--no-sandbox')\n",
        "chrome_options.add_argument('--disable-dev-shm-usage')\n",
        "chromedriver_autoinstaller.install()\n",
        "driver = webdriver.Chrome(options=chrome_options)\n",
        "\n",
        "\n",
        "from bs4 import BeautifulSoup\n",
        "import json"
      ]
    },
    {
      "cell_type": "code",
      "execution_count": null,
      "metadata": {
        "id": "YFxDFWLy2EeX"
      },
      "outputs": [],
      "source": [
        "from google.colab import userdata\n",
        "api_key = userdata.get('YouTubeAPI_key')"
      ]
    },
    {
      "cell_type": "code",
      "execution_count": null,
      "metadata": {
        "id": "JHJ2Uf54UY-J"
      },
      "outputs": [],
      "source": [
        "import googleapiclient.discovery\n",
        "from googleapiclient.discovery import build\n",
        "import datetime\n",
        "\n",
        "import matplotlib.pyplot as plt\n",
        "import matplotlib.image as mpimg\n",
        "\n",
        "youtube = googleapiclient.discovery.build(\"youtube\", \"v3\", developerKey=api_key)\n"
      ]
    },
    {
      "cell_type": "code",
      "source": [],
      "metadata": {
        "id": "YLTEFPM0yVZa"
      },
      "execution_count": null,
      "outputs": []
    },
    {
      "cell_type": "code",
      "source": [
        "channel_id =\n",
        "\n",
        "request = youtube.search().list(\n",
        "    part='snippet',\n",
        "    channelId=channel_id,\n",
        "    type='video',\n",
        "    order='viewCount',\n",
        "    maxResults=10  # Adjust for the desired number of top videos\n",
        ")\n",
        "\n",
        "response = request.execute()\n",
        "\n",
        "for item in response['items']:\n",
        "    video_title = item['snippet']['title']\n",
        "    video_id = item['id']['videoId']\n",
        "    video_url = f'https://www.youtube.com/watch?v={video_id}'\n",
        "\n",
        "    print(f'Title: {video_title} | URL: {video_url}')\n"
      ],
      "metadata": {
        "id": "vVKMIQMLyVWU"
      },
      "execution_count": null,
      "outputs": []
    },
    {
      "cell_type": "code",
      "source": [],
      "metadata": {
        "id": "XOLBj-qwyU7N"
      },
      "execution_count": null,
      "outputs": []
    },
    {
      "cell_type": "code",
      "source": [],
      "metadata": {
        "id": "y4ppDByqyU4H"
      },
      "execution_count": null,
      "outputs": []
    },
    {
      "cell_type": "code",
      "source": [],
      "metadata": {
        "id": "QgMT_bXTycOp"
      },
      "execution_count": null,
      "outputs": []
    },
    {
      "cell_type": "code",
      "source": [],
      "metadata": {
        "id": "tUsrsmnAycL2"
      },
      "execution_count": null,
      "outputs": []
    },
    {
      "cell_type": "code",
      "execution_count": null,
      "metadata": {
        "id": "BHMs7BUE6ern"
      },
      "outputs": [],
      "source": [
        "# YouTube video URL\n",
        "video_url = \"https://www.youtube.com/watch?v=-cJ1fSX3Nec\""
      ]
    },
    {
      "cell_type": "code",
      "execution_count": null,
      "metadata": {
        "id": "VH7DXhiBwmO4"
      },
      "outputs": [],
      "source": []
    },
    {
      "cell_type": "code",
      "execution_count": null,
      "metadata": {
        "id": "TLcVyvxJwmMS"
      },
      "outputs": [],
      "source": [
        "try:\n",
        "    wait = WebDriverWait(driver, 5)\n",
        "\n",
        "    # Open the YouTube video\n",
        "    driver.get(video_url)\n",
        "\n",
        "    wait.until(EC.visibility_of_element_located((By.TAG_NAME, 'body')))\n",
        "\n",
        "    # Scroll down to load comments\n",
        "    last_height = 0\n",
        "    while True:\n",
        "        # Scroll to the end of the page\n",
        "        #driver.find_element(By.TAG_NAME, 'body').send_keys(Keys.END)\n",
        "        # Scroll using page-manager element's scroll height\n",
        "        driver.execute_script(\"window.scrollTo(0, document.getElementById('page-manager').scrollHeight);\")\n",
        "        time.sleep(5)  # Adjust sleep time as needed\n",
        "\n",
        "        # Get the current page height\n",
        "        new_height = driver.execute_script(\"return document.getElementById('page-manager').scrollHeight\")\n",
        "\n",
        "        # Break the loop if no more content is loaded\n",
        "        if new_height == last_height:\n",
        "            break\n",
        "\n",
        "        last_height = new_height\n",
        "\n",
        "    # Wait for the comments section to be visible\n",
        "    comments_section = wait.until(EC.visibility_of_element_located((By.CSS_SELECTOR, \"ytd-comments#comments.style-scope.ytd-watch-flexy\")))\n",
        "\n",
        "    # Get the HTML content of the comments section\n",
        "    comments_html = comments_section.get_attribute('outerHTML')\n",
        "\n",
        "finally:\n",
        "    # Close the WebDriver session\n",
        "    driver.quit()\n",
        "\n"
      ]
    },
    {
      "cell_type": "code",
      "execution_count": null,
      "metadata": {
        "id": "jnHBdhQQwmJZ"
      },
      "outputs": [],
      "source": []
    },
    {
      "cell_type": "code",
      "execution_count": null,
      "metadata": {
        "colab": {
          "base_uri": "https://localhost:8080/"
        },
        "id": "5ieZY8eEqJ9D",
        "outputId": "6214d0fe-8c81-49a4-ab92-06a742161991"
      },
      "outputs": [
        {
          "output_type": "stream",
          "name": "stdout",
          "text": [
            "Comment Count: 9,327\n"
          ]
        }
      ],
      "source": [
        "soup = BeautifulSoup(comments_html, 'html.parser')\n",
        "\n",
        "# Find the span element with the specified class\n",
        "comment_count_span = soup.find('span', class_='style-scope yt-formatted-string')\n",
        "\n",
        "# Extract the text content of the span element\n",
        "comment_count = comment_count_span.text.strip()\n",
        "\n",
        "# Print or use the comment count\n",
        "print(\"Comment Count:\", comment_count)"
      ]
    },
    {
      "cell_type": "code",
      "execution_count": null,
      "metadata": {
        "colab": {
          "base_uri": "https://localhost:8080/"
        },
        "id": "fN0V7PReqJy5",
        "outputId": "322f3c05-9837-405c-b707-061e9afe9651"
      },
      "outputs": [
        {
          "output_type": "stream",
          "name": "stdout",
          "text": [
            "Number of ytd-comment-thread-renderer elements: 957\n"
          ]
        }
      ],
      "source": [
        "# Find all occurrences of the ytd-comment-thread-renderer element\n",
        "comment_thread_renderers = soup.find_all('ytd-comment-thread-renderer', class_='style-scope ytd-item-section-renderer')\n",
        "\n",
        "# Count the number of occurrences\n",
        "comment_thread_count = len(comment_thread_renderers)\n",
        "\n",
        "# Print or use the comment thread count\n",
        "print(\"Number of ytd-comment-thread-renderer elements:\", comment_thread_count)"
      ]
    },
    {
      "cell_type": "code",
      "source": [],
      "metadata": {
        "id": "pODm38fYW-oJ"
      },
      "execution_count": null,
      "outputs": []
    },
    {
      "cell_type": "code",
      "source": [
        "# Function to save comments data to a JSON file\n",
        "def save_comments_to_json(comments, filename = 'youtube_comments.json'):\n",
        "    with open(filename, 'w') as json_file:\n",
        "        json.dump(comments, json_file, indent=4)\n",
        "\n",
        "def load_comments_from_json(filename = 'youtube_comments.json'):\n",
        "    with open(filename, 'r') as json_file:\n",
        "        comments = json.load(json_file)\n",
        "    return comments"
      ],
      "metadata": {
        "id": "c01OJ8kGXAEo"
      },
      "execution_count": null,
      "outputs": []
    },
    {
      "cell_type": "code",
      "source": [],
      "metadata": {
        "id": "Lfcjiy0EXABQ"
      },
      "execution_count": null,
      "outputs": []
    },
    {
      "cell_type": "code",
      "execution_count": null,
      "metadata": {
        "id": "jVh7Bi4zs17k"
      },
      "outputs": [],
      "source": []
    },
    {
      "cell_type": "code",
      "execution_count": null,
      "metadata": {
        "id": "oxuNM3-v6iyv"
      },
      "outputs": [],
      "source": [
        "comments = []\n",
        "comments_data = load_comments_from_json()\n",
        "# Iterate through each comment thread renderer\n",
        "for comment_thread_renderer in comment_thread_renderers:\n",
        "\n",
        "    # Extracting the comment text\n",
        "    comment_text_element = comment_thread_renderer.find('yt-attributed-string', id='content-text')\n",
        "    comment_text = comment_text_element.get_text(strip=True) if comment_text_element else None\n",
        "\n",
        "    # Extracting the number of likes\n",
        "    like_count_element = comment_thread_renderer.find('span', class_='style-scope ytd-comment-engagement-bar')\n",
        "    like_count = like_count_element.get_text(strip=True) if like_count_element else None\n",
        "\n",
        "    # Extracting the number of replies\n",
        "    reply_count_element = comment_thread_renderer.find('ytd-button-renderer', id='more-replies')\n",
        "    reply_count = reply_count_element.get_text(strip=True) if reply_count_element else None\n",
        "\n",
        "    comments.append(comment_text)\n",
        "\n",
        "    print(\"Comment Text:\", comment_text)\n",
        "    print(\"Like Count:\", like_count)\n",
        "    print(\"Reply Count:\", reply_count)\n",
        "\n",
        "    print(\"\\n\\n\\n\")\n",
        "\n",
        "\n",
        "    comments_data.append(\n",
        "        {\n",
        "        \"comment_text\": comment_text,\n",
        "        \"like_count\": like_count,\n",
        "        \"reply_count\": reply_count\n",
        "\n",
        "        }\n",
        "    )\n",
        "\n",
        "\n",
        "save_comments_to_json(comments = comments_data)"
      ]
    },
    {
      "cell_type": "markdown",
      "source": [],
      "metadata": {
        "id": "0xnxn5_VBwR2"
      }
    },
    {
      "cell_type": "code",
      "source": [
        "len(load_comments_from_json())"
      ],
      "metadata": {
        "id": "HqxB4_8hWgqK",
        "outputId": "2752b835-caa2-4103-e169-9ceef67853f6",
        "colab": {
          "base_uri": "https://localhost:8080/"
        }
      },
      "execution_count": null,
      "outputs": [
        {
          "output_type": "execute_result",
          "data": {
            "text/plain": [
              "16477"
            ]
          },
          "metadata": {},
          "execution_count": 11
        }
      ]
    },
    {
      "cell_type": "code",
      "source": [],
      "metadata": {
        "id": "qTTKlLrKWgnS"
      },
      "execution_count": null,
      "outputs": []
    },
    {
      "cell_type": "code",
      "source": [],
      "metadata": {
        "id": "2PDPb4YUWgkz"
      },
      "execution_count": null,
      "outputs": []
    },
    {
      "cell_type": "code",
      "execution_count": null,
      "metadata": {
        "id": "MU5jFfivUasf"
      },
      "outputs": [],
      "source": []
    },
    {
      "cell_type": "code",
      "source": [
        "def get_video_id(video_url):\n",
        "  video_id = video_url.split('=')[1]\n",
        "\n",
        "  return video_id"
      ],
      "metadata": {
        "id": "9TPnHzmttD-H"
      },
      "execution_count": null,
      "outputs": []
    },
    {
      "cell_type": "code",
      "execution_count": null,
      "metadata": {
        "colab": {
          "base_uri": "https://localhost:8080/"
        },
        "id": "nsai3V1XfUL9",
        "outputId": "f0150c4c-c992-4b64-817a-302e0aac323d"
      },
      "outputs": [
        {
          "output_type": "stream",
          "name": "stdout",
          "text": [
            "Title: Why EVs Are Piling Up At Dealerships In The U.S.\n",
            "Thumbnail URL: <img src=\"https://i.ytimg.com/vi/cZlsZwcIgpc/maxresdefault.jpg\" alt=\"Thumbnail\">\n",
            "View count: 4492458\n",
            "Like count: 36502\n",
            "Number of Comments: 23211\n",
            "Date posted: 2023-10-16 16:26:47\n",
            "Description: In August 2023, it took about twice as long to sell an EV in the U.S. as it did the previous January. Prices of EVs are down 22% year-over-year and that's mainly driven by Tesla. About two thirds of EVs sold are Elon Musk's brand. Companies like Ford have ramped up hybrid production as demand has leveled off. While slightly more than half of consumers say EVs are the future and will eventually replace Internal Combustion Engines, less than a third of dealers say so. This all comes at a time when investments in EVs are more than ever. So what's really going on? Watch the video to learn more.\n"
          ]
        }
      ],
      "source": [
        "# Request video details\n",
        "response = youtube.videos().list(\n",
        "    part=\"snippet,statistics\",\n",
        "    id=get_video_id(video_url)\n",
        ").execute()\n",
        "\n",
        "# Extract required information\n",
        "video = response[\"items\"][0]\n",
        "title = video[\"snippet\"][\"title\"]\n",
        "thumbnail_url = video[\"snippet\"][\"thumbnails\"][\"maxres\"][\"url\"]\n",
        "view_count = video[\"statistics\"][\"viewCount\"]\n",
        "like_count = video[\"statistics\"][\"likeCount\"]\n",
        "commentCount = video[\"statistics\"][\"commentCount\"]\n",
        "date_posted = video[\"snippet\"][\"publishedAt\"]\n",
        "description = video[\"snippet\"][\"description\"]\n",
        "\n",
        "\n",
        "date_str = date_posted\n",
        "date_object = datetime.datetime.strptime(date_str, \"%Y-%m-%dT%H:%M:%SZ\")\n",
        "\n",
        "# Format the date object\n",
        "date_posted = date_object.strftime(\"%Y-%m-%d %H:%M:%S\")\n",
        "\n",
        "\n",
        "# Split the description by newlines\n",
        "paragraphs = description.split(\"\\n\")\n",
        "\n",
        "# Get the first paragraph\n",
        "first_paragraph = paragraphs[0]\n",
        "\n",
        "# Generate HTML to display the thumbnail\n",
        "thumbnail_html = f'<img src=\"{thumbnail_url}\" alt=\"Thumbnail\">'\n",
        "\n",
        "# Print the information\n",
        "print(\"Title:\", title)\n",
        "print(\"Thumbnail URL:\", thumbnail_html)\n",
        "print(\"View count:\", view_count)\n",
        "print(\"Like count:\", like_count)\n",
        "print(\"Number of Comments:\", commentCount)\n",
        "print(\"Date posted:\", date_posted)\n",
        "print(\"Description:\", first_paragraph)\n"
      ]
    },
    {
      "cell_type": "code",
      "execution_count": null,
      "metadata": {
        "id": "paihhshgdgc_"
      },
      "outputs": [],
      "source": []
    },
    {
      "cell_type": "code",
      "source": [
        "# Search for videos using the YouTube API\n",
        "def search_videos(query, youtube = youtube):\n",
        "\n",
        "  # Request video search\n",
        "  response = youtube.search().list(\n",
        "      q=query,\n",
        "      type=\"video\",\n",
        "      part=\"id,snippet\",\n",
        "      maxResults=10\n",
        "  ).execute()\n",
        "\n",
        "  # Extract video IDs from search results\n",
        "  video_ids = []\n",
        "  for item in response[\"items\"]:\n",
        "    video_ids.append(item[\"id\"][\"videoId\"])\n",
        "\n",
        "  return video_ids"
      ],
      "metadata": {
        "id": "yELZ0SdqswL8"
      },
      "execution_count": null,
      "outputs": []
    },
    {
      "cell_type": "code",
      "source": [],
      "metadata": {
        "id": "fpCKbrnPOvN1"
      },
      "execution_count": null,
      "outputs": []
    },
    {
      "cell_type": "code",
      "source": [
        "def get_video_info(video_id):\n",
        "  # Request video details\n",
        "  response = youtube.videos().list(\n",
        "      part=\"snippet,statistics\",\n",
        "      id=video_id\n",
        "  ).execute()\n",
        "\n",
        "  # Extract required information\n",
        "  video = response[\"items\"][0]\n",
        "  title = video[\"snippet\"][\"title\"]\n",
        "  view_count = video[\"statistics\"][\"viewCount\"]\n",
        "  like_count = video[\"statistics\"][\"likeCount\"]\n",
        "  commentCount = video[\"statistics\"][\"commentCount\"]\n",
        "  date_posted = video[\"snippet\"][\"publishedAt\"]\n",
        "  description = video[\"snippet\"][\"description\"]\n",
        "\n",
        "\n",
        "  date_str = date_posted\n",
        "  date_object = datetime.datetime.strptime(date_str, \"%Y-%m-%dT%H:%M:%SZ\")\n",
        "\n",
        "  # Format the date object\n",
        "  date_posted = date_object.strftime(\"%Y-%m-%d %H:%M:%S\")\n",
        "\n",
        "\n",
        "  # Split the description by newlines\n",
        "  paragraphs = description.split(\"\\n\")\n",
        "\n",
        "  # Get the first paragraph\n",
        "  first_paragraph = paragraphs[0]\n",
        "\n",
        "  extracted_video_url = f\"https://www.youtube.com/watch?v={video_id}\"\n",
        "\n",
        "\n",
        "  # Print the information\n",
        "  print(\"Title:\", title)\n",
        "  print(\"Video URL:\", extracted_video_url)\n",
        "  print(\"View count:\", view_count)\n",
        "  print(\"Like count:\", like_count)\n",
        "  print(\"Number of Comments:\", commentCount)\n",
        "  print(\"Date posted:\", date_posted)\n",
        "  print(\"Description:\", first_paragraph)\n",
        "  print(\"\\n\\n\\n\")\n"
      ],
      "metadata": {
        "id": "ZYi3Cag9OvE_"
      },
      "execution_count": null,
      "outputs": []
    },
    {
      "cell_type": "code",
      "source": [],
      "metadata": {
        "id": "0Zswn5xbOrKC"
      },
      "execution_count": null,
      "outputs": []
    },
    {
      "cell_type": "code",
      "source": [
        "search_query = \"Electric Vehicles\"\n",
        "video_ids = search_videos(search_query)\n",
        "\n",
        "\n",
        "for video_id in video_ids:\n",
        "  get_video_info(video_id)"
      ],
      "metadata": {
        "colab": {
          "base_uri": "https://localhost:8080/"
        },
        "id": "Pw36E4SFswGo",
        "outputId": "6b0c9f02-4067-45a4-db93-2889af7be05c"
      },
      "execution_count": null,
      "outputs": [
        {
          "output_type": "stream",
          "name": "stdout",
          "text": [
            "Title: Should I Get An Electric Car?\n",
            "Video URL: https://www.youtube.com/watch?v=vXjs17ydRgI\n",
            "View count: 40707\n",
            "Like count: 2661\n",
            "Number of Comments: 574\n",
            "Date posted: 2024-04-10 15:31:46\n",
            "Description: Check out Insectarium on PBS Terra: https://www.youtube.com/watch?v=jowk_A71-EU\n",
            "\n",
            "\n",
            "\n",
            "\n",
            "Title: Used electric cars. The FIVE golden buying rules | Electrifying\n",
            "Video URL: https://www.youtube.com/watch?v=aIYyycWQc34\n",
            "View count: 13639\n",
            "Like count: 682\n",
            "Number of Comments: 96\n",
            "Date posted: 2024-04-09 15:30:00\n",
            "Description: #usedelectric #buyingcars #electriccars\n",
            "\n",
            "\n",
            "\n",
            "\n",
            "Title: Are used EVs a rip-off?!\n",
            "Video URL: https://www.youtube.com/watch?v=Ur47okU3eUk\n",
            "View count: 350718\n",
            "Like count: 13192\n",
            "Number of Comments: 1927\n",
            "Date posted: 2024-04-10 10:05:09\n",
            "Description: Sell your car for free with Carwow: https://bit.ly/Sell-Your-Car-For-Free-1004\n",
            "\n",
            "\n",
            "\n",
            "\n",
            "Title: Why Hybrids Are Beating EVs In The U.S.\n",
            "Video URL: https://www.youtube.com/watch?v=R_J_T7TWbXY\n",
            "View count: 633530\n",
            "Like count: 9340\n",
            "Number of Comments: 2979\n",
            "Date posted: 2024-04-02 16:00:20\n",
            "Description: When Japanese automaker Toyota first brought hybrids to the U.S. in the early 2000s, they were at the cutting edge of green transportation. But soon after, EVs stole the spotlight. Elon Musk-led Tesla disrupted the auto industry and nearly every major legacy automaker scrambled to take part in the coming EV revolution. With almost no fully electric vehicles, the once vanguard Toyota looked behind the times. However, as of early 2024, EV sales are leveling off and hybrids are making a comeback. Automakers such as Ford, BMW, Mercedes, Hyundai and General Motors are all either pulling back on EV production or boosting the manufacture of the humble hybrid. The vast majority of hybrids are standard ones - with an engine and backup battery. But plug-in hybrids are a growing category. Automakers such as GM are reintroducing them to North America.\n",
            "\n",
            "\n",
            "\n",
            "\n",
            "Title: Honest Government Ad | Electric Vehicles\n",
            "Video URL: https://www.youtube.com/watch?v=fLflYkgnNBY\n",
            "View count: 3140140\n",
            "Like count: 141825\n",
            "Number of Comments: 13341\n",
            "Date posted: 2021-04-24 04:05:53\n",
            "Description: The Australien Government has made an ad about its Electric Vehicle policy, and it's surprisingly honest and informative.\n",
            "\n",
            "\n",
            "\n",
            "\n",
            "Title: Electric Cars: Inconvenient Facts, Part One\n",
            "Video URL: https://www.youtube.com/watch?v=z2HneqfZGsM\n",
            "View count: 1944778\n",
            "Like count: 96314\n",
            "Number of Comments: 14415\n",
            "Date posted: 2022-11-01 12:30:24\n",
            "Description: Politicians and activists who want all cars to go electric are guilty of magical thinking.  \n",
            "\n",
            "\n",
            "\n",
            "\n",
            "Title: Save money on tyres & my perfect Electric Car ! | MW180\n",
            "Video URL: https://www.youtube.com/watch?v=o17jzHL_Wto\n",
            "View count: 3838\n",
            "Like count: 518\n",
            "Number of Comments: 203\n",
            "Date posted: 2024-04-10 17:00:28\n",
            "Description: This week I help you save money on tyres and I've found my perfect electric car !\n",
            "\n",
            "\n",
            "\n",
            "\n",
            "Title: The Cheapest EVs You Can Buy Today | Most Affordable Electric Cars & SUVs for 2024\n",
            "Video URL: https://www.youtube.com/watch?v=06Q-BbvA48Q\n",
            "View count: 80327\n",
            "Like count: 568\n",
            "Number of Comments: 50\n",
            "Date posted: 2024-02-08 17:00:01\n",
            "Description: While electric vehicles, in general, remain pricier than their internal combustion-engine counterparts, there are still a decent number of affordable models to choose from — some of which may surprise you. In this video, Edmunds’ Nick Yekikian goes through the cheapest EVs currently available!\n",
            "\n",
            "\n",
            "\n",
            "\n",
            "Title: How an Electric Car Works? Its Parts & Functions [Explained]\n",
            "Video URL: https://www.youtube.com/watch?v=tJfERzrG-D8\n",
            "View count: 2260407\n",
            "Like count: 28614\n",
            "Number of Comments: 673\n",
            "Date posted: 2021-10-25 03:30:07\n",
            "Description: How does an Electric Car Work? Its Parts & Functions Explained\n",
            "\n",
            "\n",
            "\n",
            "\n",
            "Title: Why EV Sales Are Falling | CNBC Marathon\n",
            "Video URL: https://www.youtube.com/watch?v=oDFS6gfDV7k\n",
            "View count: 562412\n",
            "Like count: 6200\n",
            "Number of Comments: 2244\n",
            "Date posted: 2024-03-02 17:00:37\n",
            "Description: CNBC Marathon explores the decline of electric vehicle sales and its implications.\n",
            "\n",
            "\n",
            "\n",
            "\n"
          ]
        }
      ]
    },
    {
      "cell_type": "code",
      "execution_count": null,
      "metadata": {
        "id": "oJT4gLq0PU1z"
      },
      "outputs": [],
      "source": []
    },
    {
      "cell_type": "code",
      "source": [],
      "metadata": {
        "id": "7RSC_pdtQ99W"
      },
      "execution_count": null,
      "outputs": []
    }
  ],
  "metadata": {
    "colab": {
      "provenance": [],
      "include_colab_link": true
    },
    "kernelspec": {
      "display_name": "ev_ds_env",
      "language": "python",
      "name": "python3"
    },
    "language_info": {
      "codemirror_mode": {
        "name": "ipython",
        "version": 3
      },
      "file_extension": ".py",
      "mimetype": "text/x-python",
      "name": "python",
      "nbconvert_exporter": "python",
      "pygments_lexer": "ipython3",
      "version": "3.12.1"
    }
  },
  "nbformat": 4,
  "nbformat_minor": 0
}