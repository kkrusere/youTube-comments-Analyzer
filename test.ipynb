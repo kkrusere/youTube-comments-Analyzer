{
 "cells": [
  {
   "cell_type": "code",
   "execution_count": 1,
   "metadata": {},
   "outputs": [],
   "source": [
    "import requests\n",
    "from bs4 import BeautifulSoup\n",
    "import json\n"
   ]
  },
  {
   "cell_type": "code",
   "execution_count": 12,
   "metadata": {},
   "outputs": [
    {
     "name": "stdout",
     "output_type": "stream",
     "text": [
      "Title of the YouTube video: all-new Toyota Land Cruiser J250 first REVIEW\n"
     ]
    }
   ],
   "source": [
    "# URL of the YouTube video\n",
    "url = \"https://www.youtube.com/watch?v=qaquksFzqZA\"\n",
    "\n",
    "# Send a GET request to the URL\n",
    "response = requests.get(url)\n",
    "\n",
    "# Parse the HTML content of the page\n",
    "soup = BeautifulSoup(response.text, 'html.parser')\n",
    "\n",
    "# Find the title of the video\n",
    "title = soup.find('meta', property='og:title')\n",
    "\n",
    "if title:\n",
    "    print(\"Title of the YouTube video:\", title['content'])\n",
    "else:\n",
    "    print(\"Title not found.\")"
   ]
  },
  {
   "cell_type": "code",
   "execution_count": 13,
   "metadata": {},
   "outputs": [
    {
     "name": "stdout",
     "output_type": "stream",
     "text": [
      "View count: 1457324\n"
     ]
    }
   ],
   "source": [
    "# Find the view count of the video\n",
    "view_count = soup.find('meta', itemprop='interactionCount')\n",
    "\n",
    "if view_count:\n",
    "    print(\"View count:\", view_count['content'])\n",
    "else:\n",
    "    print(\"View count not found.\")"
   ]
  },
  {
   "cell_type": "code",
   "execution_count": 14,
   "metadata": {},
   "outputs": [
    {
     "name": "stdout",
     "output_type": "stream",
     "text": [
      "Found ytInitialData:\n",
      "Number of likes on the video:     11K\n",
      "like this video along with 11,335 other people\n"
     ]
    }
   ],
   "source": [
    "# Find the likes count of the video\n",
    "# Find all script tags\n",
    "script_tags = soup.find_all('script')\n",
    "\n",
    "# Search for ytInitialData within the script tags\n",
    "yt_initial_data = None\n",
    "for script_tag in script_tags:\n",
    "    script_text = script_tag.get_text()\n",
    "    if 'var ytInitialData =' in script_text:\n",
    "        yt_initial_data = script_text\n",
    "        break\n",
    "\n",
    "if yt_initial_data:\n",
    "    print(\"Found ytInitialData:\")\n",
    "    # Extract JSON string\n",
    "    start_index = yt_initial_data.find('{')\n",
    "    end_index = yt_initial_data.rfind('}') + 1\n",
    "    yt_initial_data_json_str = yt_initial_data[start_index:end_index]\n",
    "\n",
    "    # Convert JSON string to JSON object\n",
    "    yt_initial_data_json = json.loads(yt_initial_data_json_str)\n",
    "else:\n",
    "    print(\"ytInitialData not found.\")\n",
    "\n",
    "\n",
    "X = yt_initial_data_json['contents']['twoColumnWatchNextResults']['results']['results']['contents'][0]['videoPrimaryInfoRenderer']['videoActions']['menuRenderer']['topLevelButtons'][0]['segmentedLikeDislikeButtonViewModel']['likeButtonViewModel']['likeButtonViewModel']['toggleButtonViewModel']['toggleButtonViewModel']['defaultButtonViewModel']['buttonViewModel']\n",
    "\n",
    "print(f\"Number of likes on the video:     {X['title']}\")\n",
    "print(X['accessibilityText'])\n",
    "\n"
   ]
  },
  {
   "cell_type": "code",
   "execution_count": null,
   "metadata": {},
   "outputs": [],
   "source": []
  },
  {
   "cell_type": "code",
   "execution_count": 11,
   "metadata": {},
   "outputs": [],
   "source": [
    "# Find all elements containing comments\n",
    "comment_elements = soup.find_all('yt-formatted-string', {'id': 'content-text'})\n",
    "\n",
    "# Extract and print the text of each comment\n",
    "for comment in comment_elements:\n",
    "    print(comment.text.strip())"
   ]
  },
  {
   "cell_type": "code",
   "execution_count": null,
   "metadata": {},
   "outputs": [],
   "source": []
  }
 ],
 "metadata": {
  "kernelspec": {
   "display_name": "ev_ds_env",
   "language": "python",
   "name": "python3"
  },
  "language_info": {
   "codemirror_mode": {
    "name": "ipython",
    "version": 3
   },
   "file_extension": ".py",
   "mimetype": "text/x-python",
   "name": "python",
   "nbconvert_exporter": "python",
   "pygments_lexer": "ipython3",
   "version": "3.12.1"
  }
 },
 "nbformat": 4,
 "nbformat_minor": 2
}
