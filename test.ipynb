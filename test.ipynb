{
  "cells": [
    {
      "cell_type": "markdown",
      "metadata": {
        "id": "view-in-github",
        "colab_type": "text"
      },
      "source": [
        "<a href=\"https://colab.research.google.com/github/kkrusere/youTube-comments-Analyzer/blob/main/test.ipynb\" target=\"_parent\"><img src=\"https://colab.research.google.com/assets/colab-badge.svg\" alt=\"Open In Colab\"/></a>"
      ]
    },
    {
      "cell_type": "code",
      "execution_count": 1,
      "metadata": {
        "colab": {
          "base_uri": "https://localhost:8080/"
        },
        "id": "eU0xXXoBQzor",
        "outputId": "004bf117-ca86-42d6-e19a-249b29e7e7c7"
      },
      "outputs": [
        {
          "output_type": "stream",
          "name": "stdout",
          "text": [
            "\u001b[33m\r0% [Working]\u001b[0m\r            \rGet:1 https://cloud.r-project.org/bin/linux/ubuntu jammy-cran40/ InRelease [3,626 B]\n",
            "\u001b[33m\r0% [Waiting for headers] [Waiting for headers] [1 InRelease 0 B/3,626 B 0%] [Co\u001b[0m\u001b[33m\r0% [Waiting for headers] [Waiting for headers] [Connecting to ppa.launchpadcont\u001b[0m\r                                                                               \rHit:2 https://developer.download.nvidia.com/compute/cuda/repos/ubuntu2204/x86_64  InRelease\n",
            "\u001b[33m\r0% [Waiting for headers] [Waiting for headers] [Connecting to ppa.launchpadcont\u001b[0m\r                                                                               \rHit:3 http://archive.ubuntu.com/ubuntu jammy InRelease\n",
            "Get:4 http://security.ubuntu.com/ubuntu jammy-security InRelease [110 kB]\n",
            "Get:5 http://archive.ubuntu.com/ubuntu jammy-updates InRelease [119 kB]\n",
            "Hit:6 http://archive.ubuntu.com/ubuntu jammy-backports InRelease\n",
            "Hit:7 https://ppa.launchpadcontent.net/c2d4u.team/c2d4u4.0+/ubuntu jammy InRelease\n",
            "Hit:8 https://ppa.launchpadcontent.net/deadsnakes/ppa/ubuntu jammy InRelease\n",
            "Get:9 http://security.ubuntu.com/ubuntu jammy-security/universe amd64 Packages [1,081 kB]\n",
            "Hit:10 https://ppa.launchpadcontent.net/graphics-drivers/ppa/ubuntu jammy InRelease\n",
            "Hit:11 https://ppa.launchpadcontent.net/ubuntugis/ppa/ubuntu jammy InRelease\n",
            "Get:12 http://archive.ubuntu.com/ubuntu jammy-updates/universe amd64 Packages [1,357 kB]\n",
            "Get:13 http://security.ubuntu.com/ubuntu jammy-security/main amd64 Packages [1,691 kB]\n",
            "Get:14 http://archive.ubuntu.com/ubuntu jammy-updates/main amd64 Packages [1,974 kB]\n",
            "Get:15 http://archive.ubuntu.com/ubuntu jammy-updates/restricted amd64 Packages [2,174 kB]\n",
            "Fetched 8,510 kB in 3s (2,577 kB/s)\n",
            "Reading package lists... Done\n",
            "Building dependency tree... Done\n",
            "Reading state information... Done\n",
            "50 packages can be upgraded. Run 'apt list --upgradable' to see them.\n",
            "Reading package lists... Done\n",
            "Building dependency tree... Done\n",
            "Reading state information... Done\n",
            "wget is already the newest version (1.21.2-2ubuntu1).\n",
            "curl is already the newest version (7.81.0-1ubuntu1.16).\n",
            "unzip is already the newest version (6.0-26ubuntu3.2).\n",
            "0 upgraded, 0 newly installed, 0 to remove and 50 not upgraded.\n",
            "--2024-04-11 12:50:32--  http://archive.ubuntu.com/ubuntu/pool/main/libu/libu2f-host/libu2f-udev_1.1.4-1_all.deb\n",
            "Resolving archive.ubuntu.com (archive.ubuntu.com)... 91.189.91.82, 91.189.91.81, 185.125.190.36, ...\n",
            "Connecting to archive.ubuntu.com (archive.ubuntu.com)|91.189.91.82|:80... connected.\n",
            "HTTP request sent, awaiting response... 200 OK\n",
            "Length: 3708 (3.6K) [application/vnd.debian.binary-package]\n",
            "Saving to: ‘libu2f-udev_1.1.4-1_all.deb’\n",
            "\n",
            "libu2f-udev_1.1.4-1 100%[===================>]   3.62K  --.-KB/s    in 0s      \n",
            "\n",
            "2024-04-11 12:50:32 (285 MB/s) - ‘libu2f-udev_1.1.4-1_all.deb’ saved [3708/3708]\n",
            "\n",
            "Selecting previously unselected package libu2f-udev.\n",
            "(Reading database ... 121752 files and directories currently installed.)\n",
            "Preparing to unpack libu2f-udev_1.1.4-1_all.deb ...\n",
            "Unpacking libu2f-udev (1.1.4-1) ...\n",
            "Setting up libu2f-udev (1.1.4-1) ...\n",
            "--2024-04-11 12:50:34--  https://dl.google.com/linux/direct/google-chrome-stable_current_amd64.deb\n",
            "Resolving dl.google.com (dl.google.com)... 142.251.2.91, 142.251.2.93, 142.251.2.190, ...\n",
            "Connecting to dl.google.com (dl.google.com)|142.251.2.91|:443... connected.\n",
            "HTTP request sent, awaiting response... 200 OK\n",
            "Length: 107223784 (102M) [application/x-debian-package]\n",
            "Saving to: ‘google-chrome-stable_current_amd64.deb’\n",
            "\n",
            "google-chrome-stabl 100%[===================>] 102.26M  61.7MB/s    in 1.7s    \n",
            "\n",
            "2024-04-11 12:50:36 (61.7 MB/s) - ‘google-chrome-stable_current_amd64.deb’ saved [107223784/107223784]\n",
            "\n",
            "Selecting previously unselected package google-chrome-stable.\n",
            "(Reading database ... 121756 files and directories currently installed.)\n",
            "Preparing to unpack google-chrome-stable_current_amd64.deb ...\n",
            "Unpacking google-chrome-stable (123.0.6312.122-1) ...\n",
            "\u001b[1mdpkg:\u001b[0m dependency problems prevent configuration of google-chrome-stable:\n",
            " google-chrome-stable depends on libvulkan1; however:\n",
            "  Package libvulkan1 is not installed.\n",
            "\n",
            "\u001b[1mdpkg:\u001b[0m error processing package google-chrome-stable (--install):\n",
            " dependency problems - leaving unconfigured\n",
            "Processing triggers for man-db (2.10.2-1) ...\n",
            "Errors were encountered while processing:\n",
            " google-chrome-stable\n",
            "--2024-04-11 12:50:59--  https://edgedl.me.gvt1.com/edgedl/chrome/chrome-for-testing/118.0.5993.70/linux64/chromedriver-linux64.zip\n",
            "Resolving edgedl.me.gvt1.com (edgedl.me.gvt1.com)... 34.104.35.123, 2600:1900:4110:86f::\n",
            "Connecting to edgedl.me.gvt1.com (edgedl.me.gvt1.com)|34.104.35.123|:443... connected.\n",
            "HTTP request sent, awaiting response... 200 OK\n",
            "Length: 8269742 (7.9M) [application/octet-stream]\n",
            "Saving to: ‘/tmp/chromedriver-linux64.zip’\n",
            "\n",
            "chromedriver-linux6 100%[===================>]   7.89M  24.2MB/s    in 0.3s    \n",
            "\n",
            "2024-04-11 12:50:59 (24.2 MB/s) - ‘/tmp/chromedriver-linux64.zip’ saved [8269742/8269742]\n",
            "\n",
            "Archive:  /tmp/chromedriver-linux64.zip\n",
            "  inflating: /tmp/chromedriver-linux64/LICENSE.chromedriver  \n",
            "  inflating: /tmp/chromedriver-linux64/chromedriver  \n",
            "Collecting selenium\n",
            "  Downloading selenium-4.19.0-py3-none-any.whl (10.5 MB)\n",
            "\u001b[2K     \u001b[90m━━━━━━━━━━━━━━━━━━━━━━━━━━━━━━━━━━━━━━━━\u001b[0m \u001b[32m10.5/10.5 MB\u001b[0m \u001b[31m29.3 MB/s\u001b[0m eta \u001b[36m0:00:00\u001b[0m\n",
            "\u001b[?25hCollecting chromedriver_autoinstaller\n",
            "  Downloading chromedriver_autoinstaller-0.6.4-py3-none-any.whl (7.6 kB)\n",
            "Requirement already satisfied: urllib3[socks]<3,>=1.26 in /usr/local/lib/python3.10/dist-packages (from selenium) (2.0.7)\n",
            "Collecting trio~=0.17 (from selenium)\n",
            "  Downloading trio-0.25.0-py3-none-any.whl (467 kB)\n",
            "\u001b[2K     \u001b[90m━━━━━━━━━━━━━━━━━━━━━━━━━━━━━━━━━━━━━━━━\u001b[0m \u001b[32m467.2/467.2 kB\u001b[0m \u001b[31m44.1 MB/s\u001b[0m eta \u001b[36m0:00:00\u001b[0m\n",
            "\u001b[?25hCollecting trio-websocket~=0.9 (from selenium)\n",
            "  Downloading trio_websocket-0.11.1-py3-none-any.whl (17 kB)\n",
            "Requirement already satisfied: certifi>=2021.10.8 in /usr/local/lib/python3.10/dist-packages (from selenium) (2024.2.2)\n",
            "Requirement already satisfied: typing_extensions>=4.9.0 in /usr/local/lib/python3.10/dist-packages (from selenium) (4.10.0)\n",
            "Requirement already satisfied: packaging>=23.1 in /usr/local/lib/python3.10/dist-packages (from chromedriver_autoinstaller) (24.0)\n",
            "Requirement already satisfied: attrs>=23.2.0 in /usr/local/lib/python3.10/dist-packages (from trio~=0.17->selenium) (23.2.0)\n",
            "Requirement already satisfied: sortedcontainers in /usr/local/lib/python3.10/dist-packages (from trio~=0.17->selenium) (2.4.0)\n",
            "Requirement already satisfied: idna in /usr/local/lib/python3.10/dist-packages (from trio~=0.17->selenium) (3.6)\n",
            "Collecting outcome (from trio~=0.17->selenium)\n",
            "  Downloading outcome-1.3.0.post0-py2.py3-none-any.whl (10 kB)\n",
            "Requirement already satisfied: sniffio>=1.3.0 in /usr/local/lib/python3.10/dist-packages (from trio~=0.17->selenium) (1.3.1)\n",
            "Requirement already satisfied: exceptiongroup in /usr/local/lib/python3.10/dist-packages (from trio~=0.17->selenium) (1.2.0)\n",
            "Collecting wsproto>=0.14 (from trio-websocket~=0.9->selenium)\n",
            "  Downloading wsproto-1.2.0-py3-none-any.whl (24 kB)\n",
            "Requirement already satisfied: pysocks!=1.5.7,<2.0,>=1.5.6 in /usr/local/lib/python3.10/dist-packages (from urllib3[socks]<3,>=1.26->selenium) (1.7.1)\n",
            "Collecting h11<1,>=0.9.0 (from wsproto>=0.14->trio-websocket~=0.9->selenium)\n",
            "  Downloading h11-0.14.0-py3-none-any.whl (58 kB)\n",
            "\u001b[2K     \u001b[90m━━━━━━━━━━━━━━━━━━━━━━━━━━━━━━━━━━━━━━━━\u001b[0m \u001b[32m58.3/58.3 kB\u001b[0m \u001b[31m9.1 MB/s\u001b[0m eta \u001b[36m0:00:00\u001b[0m\n",
            "\u001b[?25hInstalling collected packages: outcome, h11, chromedriver_autoinstaller, wsproto, trio, trio-websocket, selenium\n",
            "Successfully installed chromedriver_autoinstaller-0.6.4 h11-0.14.0 outcome-1.3.0.post0 selenium-4.19.0 trio-0.25.0 trio-websocket-0.11.1 wsproto-1.2.0\n"
          ]
        },
        {
          "output_type": "execute_result",
          "data": {
            "text/plain": []
          },
          "metadata": {},
          "execution_count": 1
        }
      ],
      "source": [
        "%%shell\n",
        "sudo apt -y update\n",
        "sudo apt install -y wget curl unzip\n",
        "wget http://archive.ubuntu.com/ubuntu/pool/main/libu/libu2f-host/libu2f-udev_1.1.4-1_all.deb\n",
        "dpkg -i libu2f-udev_1.1.4-1_all.deb\n",
        "wget https://dl.google.com/linux/direct/google-chrome-stable_current_amd64.deb\n",
        "dpkg -i google-chrome-stable_current_amd64.deb\n",
        "\n",
        "wget -N https://edgedl.me.gvt1.com/edgedl/chrome/chrome-for-testing/118.0.5993.70/linux64/chromedriver-linux64.zip -P /tmp/\n",
        "unzip -o /tmp/chromedriver-linux64.zip -d /tmp/\n",
        "chmod +x /tmp/chromedriver-linux64/chromedriver\n",
        "mv /tmp/chromedriver-linux64/chromedriver /usr/local/bin/chromedriver\n",
        "pip install selenium chromedriver_autoinstaller"
      ]
    },
    {
      "cell_type": "code",
      "execution_count": 2,
      "metadata": {
        "id": "ql3oOw_zRdDb"
      },
      "outputs": [],
      "source": [
        "import sys\n",
        "sys.path.insert(0,'/usr/lib/chromium-browser/chromedriver')\n",
        "\n",
        "\n",
        "from selenium import webdriver\n",
        "import chromedriver_autoinstaller\n",
        "from selenium.webdriver.common.by import By\n",
        "from selenium.webdriver.common.keys import Keys\n",
        "from selenium.webdriver.support.ui import WebDriverWait\n",
        "from selenium.webdriver.support import expected_conditions as EC\n",
        "from selenium.webdriver.common.action_chains import ActionChains\n",
        "import time\n",
        "\n",
        "\n",
        "chrome_options = webdriver.ChromeOptions()\n",
        "chrome_options.add_argument('--headless')\n",
        "chrome_options.add_argument('--no-sandbox')\n",
        "chrome_options.add_argument('--disable-dev-shm-usage')\n",
        "chromedriver_autoinstaller.install()\n",
        "driver = webdriver.Chrome(options=chrome_options)\n",
        "\n",
        "\n",
        "from bs4 import BeautifulSoup"
      ]
    },
    {
      "cell_type": "code",
      "execution_count": 3,
      "metadata": {
        "id": "BHMs7BUE6ern"
      },
      "outputs": [],
      "source": [
        "# YouTube video URL\n",
        "video_url = \"https://www.youtube.com/watch?v=cZlsZwcIgpc\""
      ]
    },
    {
      "cell_type": "code",
      "execution_count": 3,
      "metadata": {
        "id": "VH7DXhiBwmO4"
      },
      "outputs": [],
      "source": []
    },
    {
      "cell_type": "code",
      "execution_count": 4,
      "metadata": {
        "id": "TLcVyvxJwmMS"
      },
      "outputs": [],
      "source": [
        "try:\n",
        "    wait = WebDriverWait(driver, 5)\n",
        "\n",
        "    # Open the YouTube video\n",
        "    driver.get(video_url)\n",
        "\n",
        "    wait.until(EC.visibility_of_element_located((By.TAG_NAME, 'body')))\n",
        "\n",
        "    # Scroll down to load comments\n",
        "    last_height = 0\n",
        "    while True:\n",
        "        # Scroll to the end of the page\n",
        "        #driver.find_element(By.TAG_NAME, 'body').send_keys(Keys.END)\n",
        "        # Scroll using page-manager element's scroll height\n",
        "        driver.execute_script(\"window.scrollTo(0, document.getElementById('page-manager').scrollHeight);\")\n",
        "        time.sleep(3)  # Adjust sleep time as needed\n",
        "\n",
        "        # Get the current page height\n",
        "        new_height = driver.execute_script(\"return document.getElementById('page-manager').scrollHeight\")\n",
        "\n",
        "        # Break the loop if no more content is loaded\n",
        "        if new_height == last_height:\n",
        "            break\n",
        "\n",
        "        last_height = new_height\n",
        "\n",
        "    # Wait for the comments section to be visible\n",
        "    comments_section = wait.until(EC.visibility_of_element_located((By.CSS_SELECTOR, \"ytd-comments#comments.style-scope.ytd-watch-flexy\")))\n",
        "\n",
        "    # Get the HTML content of the comments section\n",
        "    comments_html = comments_section.get_attribute('outerHTML')\n",
        "\n",
        "finally:\n",
        "    # Close the WebDriver session\n",
        "    driver.quit()\n",
        "\n"
      ]
    },
    {
      "cell_type": "code",
      "execution_count": 4,
      "metadata": {
        "id": "jnHBdhQQwmJZ"
      },
      "outputs": [],
      "source": []
    },
    {
      "cell_type": "code",
      "execution_count": 5,
      "metadata": {
        "colab": {
          "base_uri": "https://localhost:8080/"
        },
        "id": "5ieZY8eEqJ9D",
        "outputId": "d9cc6c73-433c-4dee-b4a9-5f1da47304bd"
      },
      "outputs": [
        {
          "output_type": "stream",
          "name": "stdout",
          "text": [
            "Comment Count: 23,211\n"
          ]
        }
      ],
      "source": [
        "soup = BeautifulSoup(comments_html, 'html.parser')\n",
        "\n",
        "# Find the span element with the specified class\n",
        "comment_count_span = soup.find('span', class_='style-scope yt-formatted-string')\n",
        "\n",
        "# Extract the text content of the span element\n",
        "comment_count = comment_count_span.text.strip()\n",
        "\n",
        "# Print or use the comment count\n",
        "print(\"Comment Count:\", comment_count)"
      ]
    },
    {
      "cell_type": "code",
      "execution_count": 6,
      "metadata": {
        "colab": {
          "base_uri": "https://localhost:8080/"
        },
        "id": "fN0V7PReqJy5",
        "outputId": "19ba914b-3d2c-42a0-d904-62d7702c1a44"
      },
      "outputs": [
        {
          "output_type": "stream",
          "name": "stdout",
          "text": [
            "Number of ytd-comment-thread-renderer elements: 1101\n"
          ]
        }
      ],
      "source": [
        "# Find all occurrences of the ytd-comment-thread-renderer element\n",
        "comment_thread_renderers = soup.find_all('ytd-comment-thread-renderer', class_='style-scope ytd-item-section-renderer')\n",
        "\n",
        "# Count the number of occurrences\n",
        "comment_thread_count = len(comment_thread_renderers)\n",
        "\n",
        "# Print or use the comment thread count\n",
        "print(\"Number of ytd-comment-thread-renderer elements:\", comment_thread_count)"
      ]
    },
    {
      "cell_type": "code",
      "execution_count": 6,
      "metadata": {
        "id": "jVh7Bi4zs17k"
      },
      "outputs": [],
      "source": []
    },
    {
      "cell_type": "code",
      "execution_count": null,
      "metadata": {
        "id": "oxuNM3-v6iyv"
      },
      "outputs": [],
      "source": [
        "comments = []\n",
        "# Iterate through each comment thread renderer\n",
        "for comment_thread_renderer in comment_thread_renderers:\n",
        "\n",
        "    # Extracting the comment text\n",
        "    comment_text_element = comment_thread_renderer.find('yt-attributed-string', id='content-text')\n",
        "    comment_text = comment_text_element.get_text(strip=True) if comment_text_element else None\n",
        "\n",
        "    # Extracting the number of likes\n",
        "    like_count_element = comment_thread_renderer.find('span', class_='style-scope ytd-comment-engagement-bar')\n",
        "    like_count = like_count_element.get_text(strip=True) if like_count_element else None\n",
        "\n",
        "    # Extracting the number of replies\n",
        "    reply_count_element = comment_thread_renderer.find('ytd-button-renderer', id='more-replies')\n",
        "    reply_count = reply_count_element.get_text(strip=True) if reply_count_element else None\n",
        "\n",
        "    comments.append(comment_text)\n",
        "\n",
        "    print(\"Comment Text:\", comment_text)\n",
        "    print(\"Like Count:\", like_count)\n",
        "    print(\"Reply Count:\", reply_count)\n",
        "\n",
        "    print(\"\\n\\n\\n\")\n"
      ]
    },
    {
      "cell_type": "code",
      "execution_count": 7,
      "metadata": {
        "id": "TMRdJJrW6ivk"
      },
      "outputs": [],
      "source": []
    },
    {
      "cell_type": "code",
      "execution_count": 4,
      "metadata": {
        "id": "YFxDFWLy2EeX"
      },
      "outputs": [],
      "source": [
        "from google.colab import userdata\n",
        "api_key = userdata.get('YouTubeAPI_key')"
      ]
    },
    {
      "cell_type": "code",
      "execution_count": 7,
      "metadata": {
        "id": "JHJ2Uf54UY-J"
      },
      "outputs": [],
      "source": [
        "import googleapiclient.discovery\n",
        "import datetime\n",
        "\n",
        "import matplotlib.pyplot as plt\n",
        "import matplotlib.image as mpimg\n",
        "\n",
        "youtube = googleapiclient.discovery.build(\"youtube\", \"v3\", developerKey=api_key)\n"
      ]
    },
    {
      "cell_type": "code",
      "execution_count": 9,
      "metadata": {
        "id": "MU5jFfivUasf"
      },
      "outputs": [],
      "source": []
    },
    {
      "cell_type": "code",
      "source": [
        "def get_video_id(video_url):\n",
        "  video_id = video_url.split('=')[1]\n",
        "\n",
        "  return video_id"
      ],
      "metadata": {
        "id": "9TPnHzmttD-H"
      },
      "execution_count": 8,
      "outputs": []
    },
    {
      "cell_type": "code",
      "execution_count": 10,
      "metadata": {
        "colab": {
          "base_uri": "https://localhost:8080/"
        },
        "id": "nsai3V1XfUL9",
        "outputId": "f0150c4c-c992-4b64-817a-302e0aac323d"
      },
      "outputs": [
        {
          "output_type": "stream",
          "name": "stdout",
          "text": [
            "Title: Why EVs Are Piling Up At Dealerships In The U.S.\n",
            "Thumbnail URL: <img src=\"https://i.ytimg.com/vi/cZlsZwcIgpc/maxresdefault.jpg\" alt=\"Thumbnail\">\n",
            "View count: 4492458\n",
            "Like count: 36502\n",
            "Number of Comments: 23211\n",
            "Date posted: 2023-10-16 16:26:47\n",
            "Description: In August 2023, it took about twice as long to sell an EV in the U.S. as it did the previous January. Prices of EVs are down 22% year-over-year and that's mainly driven by Tesla. About two thirds of EVs sold are Elon Musk's brand. Companies like Ford have ramped up hybrid production as demand has leveled off. While slightly more than half of consumers say EVs are the future and will eventually replace Internal Combustion Engines, less than a third of dealers say so. This all comes at a time when investments in EVs are more than ever. So what's really going on? Watch the video to learn more.\n"
          ]
        }
      ],
      "source": [
        "# Request video details\n",
        "response = youtube.videos().list(\n",
        "    part=\"snippet,statistics\",\n",
        "    id=get_video_id(video_url)\n",
        ").execute()\n",
        "\n",
        "# Extract required information\n",
        "video = response[\"items\"][0]\n",
        "title = video[\"snippet\"][\"title\"]\n",
        "thumbnail_url = video[\"snippet\"][\"thumbnails\"][\"maxres\"][\"url\"]\n",
        "view_count = video[\"statistics\"][\"viewCount\"]\n",
        "like_count = video[\"statistics\"][\"likeCount\"]\n",
        "commentCount = video[\"statistics\"][\"commentCount\"]\n",
        "date_posted = video[\"snippet\"][\"publishedAt\"]\n",
        "description = video[\"snippet\"][\"description\"]\n",
        "\n",
        "\n",
        "date_str = date_posted\n",
        "date_object = datetime.datetime.strptime(date_str, \"%Y-%m-%dT%H:%M:%SZ\")\n",
        "\n",
        "# Format the date object\n",
        "date_posted = date_object.strftime(\"%Y-%m-%d %H:%M:%S\")\n",
        "\n",
        "\n",
        "# Split the description by newlines\n",
        "paragraphs = description.split(\"\\n\")\n",
        "\n",
        "# Get the first paragraph\n",
        "first_paragraph = paragraphs[0]\n",
        "\n",
        "# Generate HTML to display the thumbnail\n",
        "thumbnail_html = f'<img src=\"{thumbnail_url}\" alt=\"Thumbnail\">'\n",
        "\n",
        "# Print the information\n",
        "print(\"Title:\", title)\n",
        "print(\"Thumbnail URL:\", thumbnail_html)\n",
        "print(\"View count:\", view_count)\n",
        "print(\"Like count:\", like_count)\n",
        "print(\"Number of Comments:\", commentCount)\n",
        "print(\"Date posted:\", date_posted)\n",
        "print(\"Description:\", first_paragraph)\n"
      ]
    },
    {
      "cell_type": "code",
      "execution_count": 10,
      "metadata": {
        "id": "paihhshgdgc_"
      },
      "outputs": [],
      "source": []
    },
    {
      "cell_type": "code",
      "source": [
        "# Search for videos using the YouTube API\n",
        "def search_videos(query, youtube = youtube):\n",
        "\n",
        "  # Request video search\n",
        "  response = youtube.search().list(\n",
        "      q=query,\n",
        "      type=\"video\",\n",
        "      part=\"id,snippet\",\n",
        "      maxResults=5\n",
        "  ).execute()\n",
        "\n",
        "  # Extract video IDs from search results\n",
        "  video_ids = []\n",
        "  for item in response[\"items\"]:\n",
        "    video_ids.append(item[\"id\"][\"videoId\"])\n",
        "\n",
        "  return video_ids"
      ],
      "metadata": {
        "id": "yELZ0SdqswL8"
      },
      "execution_count": 10,
      "outputs": []
    },
    {
      "cell_type": "code",
      "source": [],
      "metadata": {
        "id": "fpCKbrnPOvN1"
      },
      "execution_count": null,
      "outputs": []
    },
    {
      "cell_type": "code",
      "source": [
        "def get_video_info(video_id):\n",
        "  # Request video details\n",
        "  response = youtube.videos().list(\n",
        "      part=\"snippet,statistics\",\n",
        "      id=video_id\n",
        "  ).execute()\n",
        "\n",
        "  # Extract required information\n",
        "  video = response[\"items\"][0]\n",
        "  title = video[\"snippet\"][\"title\"]\n",
        "  view_count = video[\"statistics\"][\"viewCount\"]\n",
        "  like_count = video[\"statistics\"][\"likeCount\"]\n",
        "  commentCount = video[\"statistics\"][\"commentCount\"]\n",
        "  date_posted = video[\"snippet\"][\"publishedAt\"]\n",
        "  description = video[\"snippet\"][\"description\"]\n",
        "\n",
        "\n",
        "  date_str = date_posted\n",
        "  date_object = datetime.datetime.strptime(date_str, \"%Y-%m-%dT%H:%M:%SZ\")\n",
        "\n",
        "  # Format the date object\n",
        "  date_posted = date_object.strftime(\"%Y-%m-%d %H:%M:%S\")\n",
        "\n",
        "\n",
        "  # Split the description by newlines\n",
        "  paragraphs = description.split(\"\\n\")\n",
        "\n",
        "  # Get the first paragraph\n",
        "  first_paragraph = paragraphs[0]\n",
        "\n",
        "  extracted_video_url = f\"https://www.youtube.com/watch?v={video_id}\"\n",
        "\n",
        "\n",
        "  # Print the information\n",
        "  print(\"Title:\", title)\n",
        "  print(\"Video URL:\", extracted_video_url)\n",
        "  print(\"View count:\", view_count)\n",
        "  print(\"Like count:\", like_count)\n",
        "  print(\"Number of Comments:\", commentCount)\n",
        "  print(\"Date posted:\", date_posted)\n",
        "  print(\"Description:\", first_paragraph)\n",
        "  print(\"\\n\\n\\n\")\n"
      ],
      "metadata": {
        "id": "ZYi3Cag9OvE_"
      },
      "execution_count": 14,
      "outputs": []
    },
    {
      "cell_type": "code",
      "source": [],
      "metadata": {
        "id": "0Zswn5xbOrKC"
      },
      "execution_count": 11,
      "outputs": []
    },
    {
      "cell_type": "code",
      "source": [
        "search_query = \"funny cats\"\n",
        "video_ids = search_videos(search_query)\n",
        "\n",
        "\n",
        "for video_id in video_ids:\n",
        "  get_video_info(video_id)"
      ],
      "metadata": {
        "colab": {
          "base_uri": "https://localhost:8080/"
        },
        "id": "Pw36E4SFswGo",
        "outputId": "5d4fe8e1-4e81-4d39-eff7-eb577ec4f49d"
      },
      "execution_count": 13,
      "outputs": [
        {
          "output_type": "stream",
          "name": "stdout",
          "text": [
            "Title: Funny Cat, Dog and Kitten will have you Laugh rolling on the floor 🤣\n",
            "Video URL: https://www.youtube.com/watch?v=ZDOsB5NcCyM\n",
            "View count: 74368\n",
            "Like count: 614\n",
            "Number of Comments: 24\n",
            "Date posted: 2024-04-09 13:00:24\n",
            "Description: Funny Cat, Dog and Kitten will have you Laugh rolling on the floor 🤣 \n",
            "n\n",
            "\n",
            "\n",
            "\n",
            "Title: When Your Cat Speaks English Better Than You Think😸 Funny Cat Videos\n",
            "Video URL: https://www.youtube.com/watch?v=YgaHMWAogbI\n",
            "View count: 14976\n",
            "Like count: 443\n",
            "Number of Comments: 17\n",
            "Date posted: 2024-04-10 13:00:35\n",
            "Description: When Your Cat Speaks English Better Than You Think😸 Funny Cat Videos\n",
            "n\n",
            "\n",
            "\n",
            "\n",
            "Title: 😹Cats Doing Cat Things😹 (3)\n",
            "Video URL: https://www.youtube.com/watch?v=3bhkYoMWTFE\n",
            "View count: 293558584\n",
            "Like count: 7948971\n",
            "Number of Comments: 50207\n",
            "Date posted: 2023-07-26 13:33:50\n",
            "Description: #cat #cats #catlover #catvideos #catlovers #catshorts #funny #funnyvideo #funnyshorts #funnyvideos #funnycat #cute #cutecat #fyp #fypシ\n",
            "n\n",
            "\n",
            "\n",
            "\n",
            "Title: Funny cats 😂 episode 202 #shorts\n",
            "Video URL: https://www.youtube.com/watch?v=cGsr91Qx4YQ\n",
            "View count: 5143057\n",
            "Like count: 369529\n",
            "Number of Comments: 534\n",
            "Date posted: 2024-03-27 14:00:26\n",
            "Description: \n",
            "n\n",
            "\n",
            "\n",
            "\n",
            "Title: Fears of Sonya's cat🐱#cat #cats\n",
            "Video URL: https://www.youtube.com/watch?v=mHiMcv9Md84\n",
            "View count: 122375262\n",
            "Like count: 4294837\n",
            "Number of Comments: 7836\n",
            "Date posted: 2023-09-18 11:56:57\n",
            "Description: \n",
            "n\n",
            "\n",
            "\n",
            "\n"
          ]
        }
      ]
    },
    {
      "cell_type": "code",
      "execution_count": null,
      "metadata": {
        "id": "oJT4gLq0PU1z"
      },
      "outputs": [],
      "source": []
    },
    {
      "cell_type": "code",
      "source": [],
      "metadata": {
        "id": "7RSC_pdtQ99W"
      },
      "execution_count": null,
      "outputs": []
    }
  ],
  "metadata": {
    "colab": {
      "provenance": [],
      "include_colab_link": true
    },
    "kernelspec": {
      "display_name": "ev_ds_env",
      "language": "python",
      "name": "python3"
    },
    "language_info": {
      "codemirror_mode": {
        "name": "ipython",
        "version": 3
      },
      "file_extension": ".py",
      "mimetype": "text/x-python",
      "name": "python",
      "nbconvert_exporter": "python",
      "pygments_lexer": "ipython3",
      "version": "3.12.1"
    }
  },
  "nbformat": 4,
  "nbformat_minor": 0
}