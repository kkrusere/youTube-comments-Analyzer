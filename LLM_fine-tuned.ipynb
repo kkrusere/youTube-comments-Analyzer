{
  "cells": [
    {
      "cell_type": "markdown",
      "metadata": {
        "id": "view-in-github",
        "colab_type": "text"
      },
      "source": [
        "<a href=\"https://colab.research.google.com/github/kkrusere/youTube-comments-Analyzer/blob/main/LLM_fine-tuned.ipynb\" target=\"_parent\"><img src=\"https://colab.research.google.com/assets/colab-badge.svg\" alt=\"Open In Colab\"/></a>"
      ]
    },
    {
      "cell_type": "markdown",
      "metadata": {
        "id": "Lmcx6DV6VkNA"
      },
      "source": [
        "### **LLM-Powered Sentiment Analysis Pipeline**"
      ]
    },
    {
      "cell_type": "markdown",
      "metadata": {
        "id": "iUOgATOBVkNE"
      },
      "source": [
        "1. Introduction and Overview\n",
        "\n",
        "    **What is Sentiment Analysis?**\n",
        "\n",
        "    >> Sentiment analysis, also known as opinion mining, is a field of natural language processing (NLP) that focuses on determining the emotional tone or attitude expressed within a piece of text. It aims to categorize text as positive, negative, or neutral, and sometimes even delve into more nuanced emotions like joy, anger, or sadness.\n",
        "\n",
        "    > * **Why Does Sentiment Analysis Matter?**\n",
        "\n",
        "    > Sentiment Analysis can play a pivotal role in numerous applications, including (but not limited to):\n",
        "\n",
        "    > * **Brand Monitoring:** Track customer opinions about products and services across social media and review platforms.\n",
        "    > * **Market Research:** Gain insights into consumer sentiment towards brands, products, or trends.\n",
        "    > * **Customer Service:** Analyze customer feedback to identify areas for improvement.\n",
        "    > * **Social Media Analysis:** Monitor public sentiment towards events, news, or policies.\n",
        "    > * **Financial Analysis:** Assess market sentiment to make informed investment decisions.\n",
        "\n",
        "    **Limitations in Creating/developing, Training and Testing Sentiment Analysis models**\n",
        "\n",
        "    > Creating, developing, training, and testing Sentiment Analysis (SA) models involves several limitations and challenges. Here are some of the key ones:\n",
        "\n",
        "    > * Lack of Labeled Training Data\n",
        "    >>  * Limited Availability: Acquiring a large and diverse dataset with accurate sentiment labels can be difficult, especially for niche or specialized domains.\n",
        "    >>  * Cost and Time: Annotating data manually is time-consuming and expensive. Crowd-sourcing can introduce noise and inconsistency.\n",
        "    >>  * Quality of Annotations: The subjectivity of sentiment can lead to inconsistent labels even among human annotators.\n",
        "\n",
        "    > * Complexity of Human Emotions\n",
        "    >>  * Subtlety and Nuance: Human emotions are complex and nuanced. Simple positive, negative, and neutral labels often fail to capture the full spectrum of sentiments.\n",
        "    >>  * Context-Dependence: The sentiment of a statement can depend heavily on the context, which might not be captured in the data.\n",
        "\n",
        "    > * Ambiguity and Sarcasm\n",
        "    >>  * Ambiguity: Words and phrases can have different sentiments depending on the context. For example, \"I saw this movie last night\" could be positive or negative based on the speaker's tone and further context.\n",
        "    >>  * Sarcasm and Irony: Detecting sarcasm and irony is particularly challenging for SA models, as they often rely on cultural and contextual clues beyond the text itself.\n",
        "\n",
        "    > * Language and Cultural Differences\n",
        "    >> * Multilingual Challenges: Developing models that work across multiple languages requires extensive resources. Each language might require a separate model or significant adjustments to handle linguistic nuances.\n",
        "    >> * Cultural Differences: Sentiments expressed in different cultures can vary widely, making it hard to generalize models across different demographics.\n",
        "\n",
        "    > *  Domain-Specific Challenges\n",
        "    >>  * Generalization: Models trained on generic datasets may not perform well in specialized domains such as medical or legal texts. Domain-specific models require specialized training data, which is often scarce.\n",
        "    >>  * Jargon and Slang: Different domains use specific jargon and slang that might not be well-represented in general sentiment datasets.\n",
        "\n",
        "    > * Evolving Language\n",
        "    >>  * Language Change: Language and expressions evolve over time, and models need regular updates to stay relevant. New slang, trends, and shifts in meaning can quickly make a model outdated.\n",
        "\n",
        "    > * Technical Challenges\n",
        "    >>  * Feature Extraction: Identifying the right features that capture sentiment effectively is challenging. Simple keyword-based approaches may miss nuances, while more sophisticated methods like embeddings require substantial computational resources.\n",
        "    >>  * Model Complexity: Building models that are both accurate and efficient can be difficult. More complex models like deep neural networks offer better performance but require more data and computational power.\n",
        "\n",
        "    > * Evaluation and Metrics\n",
        "    >>  * Evaluation Metrics: Standard metrics like accuracy, precision, recall, and F1-score may not fully capture the effectiveness of a sentiment analysis model, especially in imbalanced datasets.\n",
        "    >>  * Real-world Testing: Models may perform well on test datasets but struggle with real-world data due to noise, variations in text, and other unforeseen factors.\n",
        "\n",
        "    > Addressing these challenges often requires a combination of advanced techniques, including the use of transfer learning, semi-supervised learning, and the integration of external knowledge sources to improve the robustness and accuracy of Sentiment Analysis models.\n",
        "\n",
        "    **Enter Large Language Models (LLMs)**\n",
        "\n",
        "    > Large Language Models (LLMs) are sophisticated machine learning models that have been trained on massive amounts of text data. They possess a remarkable ability to understand and generate human-like language.  LLMs can be fine-tuned for specific tasks, such as sentiment analysis, allowing them to leverage their vast knowledge and linguistic capabilities to make accurate predictions about the emotional tone of text.\n",
        "\n",
        "    Pretrained Large Language Models (LLMs) like GPT-3, BERT, and their successors have shown considerable promise in addressing many of the challenges in creating, developing, training, and testing Sentiment Analysis (SA) models. Here’s how they can help:\n",
        "\n",
        "    > * Lack of Labeled Training Data\n",
        "    >>  * Transfer Learning: LLMs are pretrained on vast amounts of data across diverse domains. Fine-tuning these models on a smaller, domain-specific dataset can significantly enhance performance without requiring extensive labeled data.\n",
        "    >>  * Zero-shot and Few-shot Learning: LLMs can perform tasks with little to no specific task-related training data, allowing for sentiment analysis with minimal labeled examples.\n",
        "    \n",
        "    > * Complexity of Human Emotions\n",
        "    >>  * Rich Representations: LLMs capture nuanced language representations, which helps in understanding the subtleties and complexities of human emotions beyond simple positive, negative, and neutral sentiments.\n",
        "    >>  * Context-Awareness: These models consider the context within and around the text, leading to better handling of context-dependent sentiment.\n",
        "\n",
        "    > * Ambiguity and Sarcasm\n",
        "    >>  * Contextual Understanding: LLMs use context to disambiguate meanings and can better detect sarcasm and irony, thanks to their sophisticated language understanding capabilities.\n",
        "    >>  * Contextual Embeddings: By generating context-specific embeddings, LLMs can differentiate between sentiments in ambiguous phrases more effectively.\n",
        "\n",
        "    > * Language and Cultural Differences\n",
        "    >>  * Multilingual Capabilities: Models like mBERT and XLM-R are pretrained on multiple languages, enabling sentiment analysis across different languages without needing separate models for each.\n",
        "    >>  * Cultural Sensitivity: Pretrained LLMs can be fine-tuned on culturally specific data to better capture the nuances and sentiments of different cultural contexts.\n",
        "\n",
        "    > * Domain-Specific Challenges\n",
        "    >>  * Fine-Tuning: LLMs can be fine-tuned on domain-specific datasets, leveraging their general language understanding to quickly adapt to specialized domains.\n",
        "    >>  * Domain Adaptation: Techniques such as continual learning allow LLMs to incorporate new domain-specific jargon and slang without forgetting previously learned information.\n",
        "\n",
        "    > * Evolving Language\n",
        "    >>  * Adaptability: Pretrained models can be periodically fine-tuned on recent data to stay updated with evolving language and trends.\n",
        "    >>  * Dynamic Updates: Ongoing training or incremental updates ensure that LLMs remain relevant and effective as language evolves.\n",
        "\n",
        "    > *  Technical Challenges\n",
        "    >>  * Feature Extraction: LLMs inherently generate rich features and embeddings, reducing the need for manual feature engineering.\n",
        "    >>  * Efficiency Improvements: Although LLMs can be computationally intensive, optimizations like distillation and pruning can make them more efficient for deployment.\n",
        "\n",
        "    By leveraging these capabilities, pretrained LLMs significantly mitigate many of the traditional challenges in sentiment analysis, leading to more robust, accurate, and contextually aware models."
      ]
    },
    {
      "cell_type": "markdown",
      "metadata": {
        "id": "a5v0EwnVVkNH"
      },
      "source": [
        "This Jupyter Notebook embarks on an exploratory journey into the realm of sentiment analysis for social media comments. Leveraging the power of Large Language Models (LLMs), we will delve into various techniques to extract sentiment from unlabeled text data. The focus will be on exploring different approaches, assessing their strengths and weaknesses, and ultimately uncovering valuable insights hidden within the vast landscape of social media conversations.\n",
        "\n",
        "Social media platforms are teeming with user-generated content, offering a treasure trove of opinions, emotions, and reactions. Understanding the sentiment behind these comments is crucial for businesses, marketers, researchers, and anyone interested in gauging public opinion. However, the sheer volume and unstructured nature of social media data present a challenge for traditional sentiment analysis methods.\n",
        "\n",
        "This notebook harnesses the capabilities of LLMs, which excel at understanding and generating human-like language, to tackle this challenge head-on. We will investigate various strategies, from zero-shot and few-shot learning to fine-tuning pre-trained models, and evaluate their effectiveness in extracting sentiment from unlabeled social media comments.\n",
        "\n"
      ]
    },
    {
      "cell_type": "code",
      "execution_count": 1,
      "metadata": {
        "id": "4OHdlaabqTGQ"
      },
      "outputs": [],
      "source": [
        "from google.colab import drive\n",
        "\n",
        "import pandas as pd\n",
        "import numpy as np\n",
        "\n",
        "import re\n",
        "import os\n",
        "import json"
      ]
    },
    {
      "cell_type": "code",
      "execution_count": 2,
      "metadata": {
        "colab": {
          "base_uri": "https://localhost:8080/"
        },
        "id": "a97-Th1xWJIG",
        "outputId": "b39d3e9b-2ad4-4974-9478-3e78bec23cbb"
      },
      "outputs": [
        {
          "output_type": "stream",
          "name": "stdout",
          "text": [
            "Drive already mounted at /content/drive; to attempt to forcibly remount, call drive.mount(\"/content/drive\", force_remount=True).\n",
            "/content/drive/MyDrive/NLP_Data\n"
          ]
        }
      ],
      "source": [
        "#mounting google drive\n",
        "drive.mount('/content/drive')\n",
        "\n",
        "########################################\n",
        "\n",
        "#changing the working directory\n",
        "os.chdir(\"/content/drive/MyDrive/NLP_Data\")\n",
        "\n",
        "!pwd"
      ]
    },
    {
      "cell_type": "code",
      "execution_count": 3,
      "metadata": {
        "id": "LM9mIU6kdjuT"
      },
      "outputs": [],
      "source": [
        "# Function to save comments data to a JSON file\n",
        "def save_comments_to_json(comments, filename = 'youtube_comments.json'):\n",
        "    with open(filename, 'w') as json_file:\n",
        "        json.dump(comments, json_file, indent=4)\n",
        "\n",
        "def load_comments_from_json(filename = 'youtube_comments.json'):\n",
        "    with open(filename, 'r') as json_file:\n",
        "        comments = json.load(json_file)\n",
        "    return comments"
      ]
    },
    {
      "cell_type": "code",
      "execution_count": 4,
      "metadata": {
        "id": "gcrV9B_FdjDm",
        "colab": {
          "base_uri": "https://localhost:8080/",
          "height": 204
        },
        "outputId": "f76f5973-ac57-49f2-8698-86b81baec6cd"
      },
      "outputs": [
        {
          "output_type": "execute_result",
          "data": {
            "text/plain": [
              "                                        comment_text  like_count  reply_count  \\\n",
              "0  these thumbnails make it seem like a mass nucl...           0            0   \n",
              "1  I’d of like to have seen the snake get it’s mo...           0            0   \n",
              "2  I agree in the processed chesse.  It's a chees...           0            0   \n",
              "3                        the little girl is precious           0            0   \n",
              "4  I think we are all mixed with some race. We sh...          78            1   \n",
              "\n",
              "  sentiment                        sentiment_brief_explanation  \n",
              "0  Negative  The comment suggests the thumbnails are alarmi...  \n",
              "1   Neutral  Expresses a desire for something different in ...  \n",
              "2   Neutral          States an opinion about processed cheese.  \n",
              "3  Positive          Expresses admiration for the little girl.  \n",
              "4  Positive          Promotes love and acceptance of everyone.  "
            ],
            "text/html": [
              "\n",
              "  <div id=\"df-aa865bc6-bc9c-459c-8621-1c977182886c\" class=\"colab-df-container\">\n",
              "    <div>\n",
              "<style scoped>\n",
              "    .dataframe tbody tr th:only-of-type {\n",
              "        vertical-align: middle;\n",
              "    }\n",
              "\n",
              "    .dataframe tbody tr th {\n",
              "        vertical-align: top;\n",
              "    }\n",
              "\n",
              "    .dataframe thead th {\n",
              "        text-align: right;\n",
              "    }\n",
              "</style>\n",
              "<table border=\"1\" class=\"dataframe\">\n",
              "  <thead>\n",
              "    <tr style=\"text-align: right;\">\n",
              "      <th></th>\n",
              "      <th>comment_text</th>\n",
              "      <th>like_count</th>\n",
              "      <th>reply_count</th>\n",
              "      <th>sentiment</th>\n",
              "      <th>sentiment_brief_explanation</th>\n",
              "    </tr>\n",
              "  </thead>\n",
              "  <tbody>\n",
              "    <tr>\n",
              "      <th>0</th>\n",
              "      <td>these thumbnails make it seem like a mass nucl...</td>\n",
              "      <td>0</td>\n",
              "      <td>0</td>\n",
              "      <td>Negative</td>\n",
              "      <td>The comment suggests the thumbnails are alarmi...</td>\n",
              "    </tr>\n",
              "    <tr>\n",
              "      <th>1</th>\n",
              "      <td>I’d of like to have seen the snake get it’s mo...</td>\n",
              "      <td>0</td>\n",
              "      <td>0</td>\n",
              "      <td>Neutral</td>\n",
              "      <td>Expresses a desire for something different in ...</td>\n",
              "    </tr>\n",
              "    <tr>\n",
              "      <th>2</th>\n",
              "      <td>I agree in the processed chesse.  It's a chees...</td>\n",
              "      <td>0</td>\n",
              "      <td>0</td>\n",
              "      <td>Neutral</td>\n",
              "      <td>States an opinion about processed cheese.</td>\n",
              "    </tr>\n",
              "    <tr>\n",
              "      <th>3</th>\n",
              "      <td>the little girl is precious</td>\n",
              "      <td>0</td>\n",
              "      <td>0</td>\n",
              "      <td>Positive</td>\n",
              "      <td>Expresses admiration for the little girl.</td>\n",
              "    </tr>\n",
              "    <tr>\n",
              "      <th>4</th>\n",
              "      <td>I think we are all mixed with some race. We sh...</td>\n",
              "      <td>78</td>\n",
              "      <td>1</td>\n",
              "      <td>Positive</td>\n",
              "      <td>Promotes love and acceptance of everyone.</td>\n",
              "    </tr>\n",
              "  </tbody>\n",
              "</table>\n",
              "</div>\n",
              "    <div class=\"colab-df-buttons\">\n",
              "\n",
              "  <div class=\"colab-df-container\">\n",
              "    <button class=\"colab-df-convert\" onclick=\"convertToInteractive('df-aa865bc6-bc9c-459c-8621-1c977182886c')\"\n",
              "            title=\"Convert this dataframe to an interactive table.\"\n",
              "            style=\"display:none;\">\n",
              "\n",
              "  <svg xmlns=\"http://www.w3.org/2000/svg\" height=\"24px\" viewBox=\"0 -960 960 960\">\n",
              "    <path d=\"M120-120v-720h720v720H120Zm60-500h600v-160H180v160Zm220 220h160v-160H400v160Zm0 220h160v-160H400v160ZM180-400h160v-160H180v160Zm440 0h160v-160H620v160ZM180-180h160v-160H180v160Zm440 0h160v-160H620v160Z\"/>\n",
              "  </svg>\n",
              "    </button>\n",
              "\n",
              "  <style>\n",
              "    .colab-df-container {\n",
              "      display:flex;\n",
              "      gap: 12px;\n",
              "    }\n",
              "\n",
              "    .colab-df-convert {\n",
              "      background-color: #E8F0FE;\n",
              "      border: none;\n",
              "      border-radius: 50%;\n",
              "      cursor: pointer;\n",
              "      display: none;\n",
              "      fill: #1967D2;\n",
              "      height: 32px;\n",
              "      padding: 0 0 0 0;\n",
              "      width: 32px;\n",
              "    }\n",
              "\n",
              "    .colab-df-convert:hover {\n",
              "      background-color: #E2EBFA;\n",
              "      box-shadow: 0px 1px 2px rgba(60, 64, 67, 0.3), 0px 1px 3px 1px rgba(60, 64, 67, 0.15);\n",
              "      fill: #174EA6;\n",
              "    }\n",
              "\n",
              "    .colab-df-buttons div {\n",
              "      margin-bottom: 4px;\n",
              "    }\n",
              "\n",
              "    [theme=dark] .colab-df-convert {\n",
              "      background-color: #3B4455;\n",
              "      fill: #D2E3FC;\n",
              "    }\n",
              "\n",
              "    [theme=dark] .colab-df-convert:hover {\n",
              "      background-color: #434B5C;\n",
              "      box-shadow: 0px 1px 3px 1px rgba(0, 0, 0, 0.15);\n",
              "      filter: drop-shadow(0px 1px 2px rgba(0, 0, 0, 0.3));\n",
              "      fill: #FFFFFF;\n",
              "    }\n",
              "  </style>\n",
              "\n",
              "    <script>\n",
              "      const buttonEl =\n",
              "        document.querySelector('#df-aa865bc6-bc9c-459c-8621-1c977182886c button.colab-df-convert');\n",
              "      buttonEl.style.display =\n",
              "        google.colab.kernel.accessAllowed ? 'block' : 'none';\n",
              "\n",
              "      async function convertToInteractive(key) {\n",
              "        const element = document.querySelector('#df-aa865bc6-bc9c-459c-8621-1c977182886c');\n",
              "        const dataTable =\n",
              "          await google.colab.kernel.invokeFunction('convertToInteractive',\n",
              "                                                    [key], {});\n",
              "        if (!dataTable) return;\n",
              "\n",
              "        const docLinkHtml = 'Like what you see? Visit the ' +\n",
              "          '<a target=\"_blank\" href=https://colab.research.google.com/notebooks/data_table.ipynb>data table notebook</a>'\n",
              "          + ' to learn more about interactive tables.';\n",
              "        element.innerHTML = '';\n",
              "        dataTable['output_type'] = 'display_data';\n",
              "        await google.colab.output.renderOutput(dataTable, element);\n",
              "        const docLink = document.createElement('div');\n",
              "        docLink.innerHTML = docLinkHtml;\n",
              "        element.appendChild(docLink);\n",
              "      }\n",
              "    </script>\n",
              "  </div>\n",
              "\n",
              "\n",
              "<div id=\"df-ccd4e9cf-5d50-4451-9bfb-361afc07c1ed\">\n",
              "  <button class=\"colab-df-quickchart\" onclick=\"quickchart('df-ccd4e9cf-5d50-4451-9bfb-361afc07c1ed')\"\n",
              "            title=\"Suggest charts\"\n",
              "            style=\"display:none;\">\n",
              "\n",
              "<svg xmlns=\"http://www.w3.org/2000/svg\" height=\"24px\"viewBox=\"0 0 24 24\"\n",
              "     width=\"24px\">\n",
              "    <g>\n",
              "        <path d=\"M19 3H5c-1.1 0-2 .9-2 2v14c0 1.1.9 2 2 2h14c1.1 0 2-.9 2-2V5c0-1.1-.9-2-2-2zM9 17H7v-7h2v7zm4 0h-2V7h2v10zm4 0h-2v-4h2v4z\"/>\n",
              "    </g>\n",
              "</svg>\n",
              "  </button>\n",
              "\n",
              "<style>\n",
              "  .colab-df-quickchart {\n",
              "      --bg-color: #E8F0FE;\n",
              "      --fill-color: #1967D2;\n",
              "      --hover-bg-color: #E2EBFA;\n",
              "      --hover-fill-color: #174EA6;\n",
              "      --disabled-fill-color: #AAA;\n",
              "      --disabled-bg-color: #DDD;\n",
              "  }\n",
              "\n",
              "  [theme=dark] .colab-df-quickchart {\n",
              "      --bg-color: #3B4455;\n",
              "      --fill-color: #D2E3FC;\n",
              "      --hover-bg-color: #434B5C;\n",
              "      --hover-fill-color: #FFFFFF;\n",
              "      --disabled-bg-color: #3B4455;\n",
              "      --disabled-fill-color: #666;\n",
              "  }\n",
              "\n",
              "  .colab-df-quickchart {\n",
              "    background-color: var(--bg-color);\n",
              "    border: none;\n",
              "    border-radius: 50%;\n",
              "    cursor: pointer;\n",
              "    display: none;\n",
              "    fill: var(--fill-color);\n",
              "    height: 32px;\n",
              "    padding: 0;\n",
              "    width: 32px;\n",
              "  }\n",
              "\n",
              "  .colab-df-quickchart:hover {\n",
              "    background-color: var(--hover-bg-color);\n",
              "    box-shadow: 0 1px 2px rgba(60, 64, 67, 0.3), 0 1px 3px 1px rgba(60, 64, 67, 0.15);\n",
              "    fill: var(--button-hover-fill-color);\n",
              "  }\n",
              "\n",
              "  .colab-df-quickchart-complete:disabled,\n",
              "  .colab-df-quickchart-complete:disabled:hover {\n",
              "    background-color: var(--disabled-bg-color);\n",
              "    fill: var(--disabled-fill-color);\n",
              "    box-shadow: none;\n",
              "  }\n",
              "\n",
              "  .colab-df-spinner {\n",
              "    border: 2px solid var(--fill-color);\n",
              "    border-color: transparent;\n",
              "    border-bottom-color: var(--fill-color);\n",
              "    animation:\n",
              "      spin 1s steps(1) infinite;\n",
              "  }\n",
              "\n",
              "  @keyframes spin {\n",
              "    0% {\n",
              "      border-color: transparent;\n",
              "      border-bottom-color: var(--fill-color);\n",
              "      border-left-color: var(--fill-color);\n",
              "    }\n",
              "    20% {\n",
              "      border-color: transparent;\n",
              "      border-left-color: var(--fill-color);\n",
              "      border-top-color: var(--fill-color);\n",
              "    }\n",
              "    30% {\n",
              "      border-color: transparent;\n",
              "      border-left-color: var(--fill-color);\n",
              "      border-top-color: var(--fill-color);\n",
              "      border-right-color: var(--fill-color);\n",
              "    }\n",
              "    40% {\n",
              "      border-color: transparent;\n",
              "      border-right-color: var(--fill-color);\n",
              "      border-top-color: var(--fill-color);\n",
              "    }\n",
              "    60% {\n",
              "      border-color: transparent;\n",
              "      border-right-color: var(--fill-color);\n",
              "    }\n",
              "    80% {\n",
              "      border-color: transparent;\n",
              "      border-right-color: var(--fill-color);\n",
              "      border-bottom-color: var(--fill-color);\n",
              "    }\n",
              "    90% {\n",
              "      border-color: transparent;\n",
              "      border-bottom-color: var(--fill-color);\n",
              "    }\n",
              "  }\n",
              "</style>\n",
              "\n",
              "  <script>\n",
              "    async function quickchart(key) {\n",
              "      const quickchartButtonEl =\n",
              "        document.querySelector('#' + key + ' button');\n",
              "      quickchartButtonEl.disabled = true;  // To prevent multiple clicks.\n",
              "      quickchartButtonEl.classList.add('colab-df-spinner');\n",
              "      try {\n",
              "        const charts = await google.colab.kernel.invokeFunction(\n",
              "            'suggestCharts', [key], {});\n",
              "      } catch (error) {\n",
              "        console.error('Error during call to suggestCharts:', error);\n",
              "      }\n",
              "      quickchartButtonEl.classList.remove('colab-df-spinner');\n",
              "      quickchartButtonEl.classList.add('colab-df-quickchart-complete');\n",
              "    }\n",
              "    (() => {\n",
              "      let quickchartButtonEl =\n",
              "        document.querySelector('#df-ccd4e9cf-5d50-4451-9bfb-361afc07c1ed button');\n",
              "      quickchartButtonEl.style.display =\n",
              "        google.colab.kernel.accessAllowed ? 'block' : 'none';\n",
              "    })();\n",
              "  </script>\n",
              "</div>\n",
              "\n",
              "    </div>\n",
              "  </div>\n"
            ],
            "application/vnd.google.colaboratory.intrinsic+json": {
              "type": "dataframe",
              "variable_name": "sample_comments_and_sentiment_df",
              "summary": "{\n  \"name\": \"sample_comments_and_sentiment_df\",\n  \"rows\": 1296,\n  \"fields\": [\n    {\n      \"column\": \"comment_text\",\n      \"properties\": {\n        \"dtype\": \"string\",\n        \"num_unique_values\": 1272,\n        \"samples\": [\n          \"When you say EVERY meat, don't you include duck, turkey & venison?\",\n          \"its named ac130 si does it come with ac\",\n          \"It\\u2019s too much frustrating that whenever the animal guy wanted to talk about the animals Jimmy just stops him and makes a joke out of nowhere.This is not fun because I want to listen to the animal guy so badly. Let the guy speak!\"\n        ],\n        \"semantic_type\": \"\",\n        \"description\": \"\"\n      }\n    },\n    {\n      \"column\": \"like_count\",\n      \"properties\": {\n        \"dtype\": \"number\",\n        \"std\": 5344,\n        \"min\": 0,\n        \"max\": 83000,\n        \"num_unique_values\": 188,\n        \"samples\": [\n          528,\n          24000,\n          383\n        ],\n        \"semantic_type\": \"\",\n        \"description\": \"\"\n      }\n    },\n    {\n      \"column\": \"reply_count\",\n      \"properties\": {\n        \"dtype\": \"number\",\n        \"std\": 15,\n        \"min\": 0,\n        \"max\": 362,\n        \"num_unique_values\": 49,\n        \"samples\": [\n          34,\n          58,\n          26\n        ],\n        \"semantic_type\": \"\",\n        \"description\": \"\"\n      }\n    },\n    {\n      \"column\": \"sentiment\",\n      \"properties\": {\n        \"dtype\": \"category\",\n        \"num_unique_values\": 13,\n        \"samples\": [\n          \"Humorous/Dark\",\n          \"Humorous/Slightly negative\",\n          \"Negative\"\n        ],\n        \"semantic_type\": \"\",\n        \"description\": \"\"\n      }\n    },\n    {\n      \"column\": \"sentiment_brief_explanation\",\n      \"properties\": {\n        \"dtype\": \"string\",\n        \"num_unique_values\": 1264,\n        \"samples\": [\n          \"Compliments a woman's strength and beauty.\",\n          \"Asks a question about the name of a ship\",\n          \"Expresses a preference for traditional cars.\"\n        ],\n        \"semantic_type\": \"\",\n        \"description\": \"\"\n      }\n    }\n  ]\n}"
            }
          },
          "metadata": {},
          "execution_count": 4
        }
      ],
      "source": [
        "# read the sample_comments_and_sentiment.csv file from the current working directory\n",
        "\n",
        "sample_comments_and_sentiment_df = pd.read_csv(\"sample_comments_and_sentiment.csv\")\n",
        "sample_comments_and_sentiment_df.head()"
      ]
    },
    {
      "cell_type": "code",
      "source": [],
      "metadata": {
        "id": "EzkkMeCDU3S1"
      },
      "execution_count": 4,
      "outputs": []
    },
    {
      "cell_type": "code",
      "source": [
        "# Extract the comment_text, sentiment, and sentiment_brief_explanation columns\n",
        "comment_text_list = sample_comments_and_sentiment_df.head(15)['comment_text'].tolist()\n",
        "sentiment_list = sample_comments_and_sentiment_df.head(15)['sentiment'].tolist()\n",
        "sentiment_brief_explanation_list = sample_comments_and_sentiment_df.head(15)['sentiment_brief_explanation'].tolist()\n",
        "\n",
        "# Print the lists\n",
        "print(\"Comment Text:\")\n",
        "print(comment_text_list)\n",
        "\n",
        "print(\"\\nSentiment:\")\n",
        "print(sentiment_list)\n",
        "\n",
        "print(\"\\nSentiment Brief Explanation:\")\n",
        "print(sentiment_brief_explanation_list)\n"
      ],
      "metadata": {
        "colab": {
          "base_uri": "https://localhost:8080/"
        },
        "id": "U3PbSK7KT0RK",
        "outputId": "d9cf4014-62dd-419d-cbaa-6b637af267c1"
      },
      "execution_count": 5,
      "outputs": [
        {
          "output_type": "stream",
          "name": "stdout",
          "text": [
            "Comment Text:\n",
            "['these thumbnails make it seem like a mass nuclear explosion happen', 'I’d of like to have seen the snake get it’s mouth  over his nose', \"I agree in the processed chesse.  It's a cheeseburger\", 'the little girl is precious', 'I think we are all mixed with some race. We should love everyone.', \"one can never be sure. yet.  i'm sure that this car is TOP QUALITY.. but i'm not crazy about the styling.\", '4% of people given the death penalty are completely innocent. That should be enough to completely abolish it, considering all the support for it is motivated by anger over people unjustly killed. But in case it’s not enough for you for some reason, it’s also on average twice as expensive to enforce it on a convict than life in prison without parole is. This is due to the appeals court process, which typically takes around a decade or more. So enforcing the death penalty on people means way more of our tax dollars are being spent on horrible people than necessary. The literal only reason to keep this policy around is a primitive desire for vengeance as well as valuing an emotional response over a practical one. It’s kinda funny that conservatives constantly tout a “facts over feelings” mentality, yet they are the most gung ho about maintaining the death penalty, and in many cases support increasing its hold over the American justice system. The most emotionally driven policy in existence, considering it is nothing but a practical liability. Call me crazy but I don’t think the government should have the right to murder its own citizens in custody. Crazy, I know.', 'The background music is the best ever', \"Ah yes, let's all reminice about a simpler time, a purer time, an innocent time. 40 years ago, 2014.\", \"Besides vertical integration, look at how much workers in Detroit earn. Numbers can't match.\", 'Alan Leech does a great gay Jimmy Cagney', 'Please give me tickets to this, it’s always been my dream to watch this live', 'It\\'s ironic that \"Cats\" and its much hyped \"digital fur technology\" crashed and burned, while \"Dark Crystal Age of Resistance\" achieved enormous success using good old fashioned puppetry. \\nThat being said, I do feel bad for what the VFX crew went through.', \"I 100% guarantee this dude doesn't have a dad and if he does, it's a bad one. Guaranteed. He mentioned mom will get mad, and never said anything about dad. How about him? Shouldn't the head of the household get even more mad? Cuz he most likeky doesn't have one cuz he's probably in jail, dead, or just left.\", '\"18 inches is... very long\" (looks at camera)giggidy']\n",
            "\n",
            "Sentiment:\n",
            "['Negative', 'Neutral', 'Neutral', 'Positive', 'Positive', 'Mixed', 'Negative', 'Positive', 'Neutral/Humorous', 'Neutral', 'Positive', 'Positive', 'Mixed', 'Negative', 'Humorous']\n",
            "\n",
            "Sentiment Brief Explanation:\n",
            "['The comment suggests the thumbnails are alarming or disturbing.', 'Expresses a desire for something different in the video.', 'States an opinion about processed cheese.', 'Expresses admiration for the little girl.', 'Promotes love and acceptance of everyone.', \"Acknowledges the car's quality but expresses dislike for its style.\", 'Strongly argues against the death penalty.', 'Praises the background music.', 'Refers to 2014 as a simpler time in a somewhat sarcastic way.', \"States a fact about Detroit workers' earnings.\", \"Compliments Alan Leech's performance.\", 'Expresses a strong desire to attend the event.', \"Points out the irony of two films' success, while also expressing sympathy for the VFX crew.\", \"Makes assumptions about the subject's family situation and expresses negativity towards absent fathers.\", 'Likely a joke referencing a catchphrase.']\n"
          ]
        }
      ]
    },
    {
      "cell_type": "code",
      "source": [],
      "metadata": {
        "id": "UrbysiFMViie"
      },
      "execution_count": 5,
      "outputs": []
    },
    {
      "cell_type": "code",
      "source": [
        "!pip install torch tensorboard transformers datasets accelerate bitsandbytes trl peft"
      ],
      "metadata": {
        "id": "WARkXJeLAxzA",
        "outputId": "f2ef6bcc-e557-48cb-b111-70b6d5d058b6",
        "colab": {
          "base_uri": "https://localhost:8080/"
        }
      },
      "execution_count": 6,
      "outputs": [
        {
          "output_type": "stream",
          "name": "stdout",
          "text": [
            "Requirement already satisfied: torch in /usr/local/lib/python3.10/dist-packages (2.3.1+cu121)\n",
            "Requirement already satisfied: tensorboard in /usr/local/lib/python3.10/dist-packages (2.17.0)\n",
            "Requirement already satisfied: transformers in /usr/local/lib/python3.10/dist-packages (4.42.4)\n",
            "Requirement already satisfied: datasets in /usr/local/lib/python3.10/dist-packages (2.19.2)\n",
            "Requirement already satisfied: accelerate in /usr/local/lib/python3.10/dist-packages (0.32.1)\n",
            "Requirement already satisfied: bitsandbytes in /usr/local/lib/python3.10/dist-packages (0.43.3)\n",
            "Requirement already satisfied: trl in /usr/local/lib/python3.10/dist-packages (0.9.6)\n",
            "Requirement already satisfied: peft in /usr/local/lib/python3.10/dist-packages (0.12.0)\n",
            "Requirement already satisfied: filelock in /usr/local/lib/python3.10/dist-packages (from torch) (3.15.4)\n",
            "Requirement already satisfied: typing-extensions>=4.8.0 in /usr/local/lib/python3.10/dist-packages (from torch) (4.12.2)\n",
            "Requirement already satisfied: sympy in /usr/local/lib/python3.10/dist-packages (from torch) (1.13.2)\n",
            "Requirement already satisfied: networkx in /usr/local/lib/python3.10/dist-packages (from torch) (3.3)\n",
            "Requirement already satisfied: jinja2 in /usr/local/lib/python3.10/dist-packages (from torch) (3.1.4)\n",
            "Requirement already satisfied: fsspec in /usr/local/lib/python3.10/dist-packages (from torch) (2024.3.1)\n",
            "Requirement already satisfied: nvidia-cuda-nvrtc-cu12==12.1.105 in /usr/local/lib/python3.10/dist-packages (from torch) (12.1.105)\n",
            "Requirement already satisfied: nvidia-cuda-runtime-cu12==12.1.105 in /usr/local/lib/python3.10/dist-packages (from torch) (12.1.105)\n",
            "Requirement already satisfied: nvidia-cuda-cupti-cu12==12.1.105 in /usr/local/lib/python3.10/dist-packages (from torch) (12.1.105)\n",
            "Requirement already satisfied: nvidia-cudnn-cu12==8.9.2.26 in /usr/local/lib/python3.10/dist-packages (from torch) (8.9.2.26)\n",
            "Requirement already satisfied: nvidia-cublas-cu12==12.1.3.1 in /usr/local/lib/python3.10/dist-packages (from torch) (12.1.3.1)\n",
            "Requirement already satisfied: nvidia-cufft-cu12==11.0.2.54 in /usr/local/lib/python3.10/dist-packages (from torch) (11.0.2.54)\n",
            "Requirement already satisfied: nvidia-curand-cu12==10.3.2.106 in /usr/local/lib/python3.10/dist-packages (from torch) (10.3.2.106)\n",
            "Requirement already satisfied: nvidia-cusolver-cu12==11.4.5.107 in /usr/local/lib/python3.10/dist-packages (from torch) (11.4.5.107)\n",
            "Requirement already satisfied: nvidia-cusparse-cu12==12.1.0.106 in /usr/local/lib/python3.10/dist-packages (from torch) (12.1.0.106)\n",
            "Requirement already satisfied: nvidia-nccl-cu12==2.20.5 in /usr/local/lib/python3.10/dist-packages (from torch) (2.20.5)\n",
            "Requirement already satisfied: nvidia-nvtx-cu12==12.1.105 in /usr/local/lib/python3.10/dist-packages (from torch) (12.1.105)\n",
            "Requirement already satisfied: triton==2.3.1 in /usr/local/lib/python3.10/dist-packages (from torch) (2.3.1)\n",
            "Requirement already satisfied: nvidia-nvjitlink-cu12 in /usr/local/lib/python3.10/dist-packages (from nvidia-cusolver-cu12==11.4.5.107->torch) (12.6.20)\n",
            "Requirement already satisfied: absl-py>=0.4 in /usr/local/lib/python3.10/dist-packages (from tensorboard) (1.4.0)\n",
            "Requirement already satisfied: grpcio>=1.48.2 in /usr/local/lib/python3.10/dist-packages (from tensorboard) (1.64.1)\n",
            "Requirement already satisfied: markdown>=2.6.8 in /usr/local/lib/python3.10/dist-packages (from tensorboard) (3.6)\n",
            "Requirement already satisfied: numpy>=1.12.0 in /usr/local/lib/python3.10/dist-packages (from tensorboard) (1.26.4)\n",
            "Requirement already satisfied: protobuf!=4.24.0,<5.0.0,>=3.19.6 in /usr/local/lib/python3.10/dist-packages (from tensorboard) (3.20.3)\n",
            "Requirement already satisfied: setuptools>=41.0.0 in /usr/local/lib/python3.10/dist-packages (from tensorboard) (71.0.4)\n",
            "Requirement already satisfied: six>1.9 in /usr/local/lib/python3.10/dist-packages (from tensorboard) (1.16.0)\n",
            "Requirement already satisfied: tensorboard-data-server<0.8.0,>=0.7.0 in /usr/local/lib/python3.10/dist-packages (from tensorboard) (0.7.2)\n",
            "Requirement already satisfied: werkzeug>=1.0.1 in /usr/local/lib/python3.10/dist-packages (from tensorboard) (3.0.3)\n",
            "Requirement already satisfied: huggingface-hub<1.0,>=0.23.2 in /usr/local/lib/python3.10/dist-packages (from transformers) (0.23.5)\n",
            "Requirement already satisfied: packaging>=20.0 in /usr/local/lib/python3.10/dist-packages (from transformers) (24.1)\n",
            "Requirement already satisfied: pyyaml>=5.1 in /usr/local/lib/python3.10/dist-packages (from transformers) (6.0.2)\n",
            "Requirement already satisfied: regex!=2019.12.17 in /usr/local/lib/python3.10/dist-packages (from transformers) (2024.5.15)\n",
            "Requirement already satisfied: requests in /usr/local/lib/python3.10/dist-packages (from transformers) (2.32.3)\n",
            "Requirement already satisfied: safetensors>=0.4.1 in /usr/local/lib/python3.10/dist-packages (from transformers) (0.4.4)\n",
            "Requirement already satisfied: tokenizers<0.20,>=0.19 in /usr/local/lib/python3.10/dist-packages (from transformers) (0.19.1)\n",
            "Requirement already satisfied: tqdm>=4.27 in /usr/local/lib/python3.10/dist-packages (from transformers) (4.66.5)\n",
            "Requirement already satisfied: pyarrow>=12.0.0 in /usr/local/lib/python3.10/dist-packages (from datasets) (14.0.2)\n",
            "Requirement already satisfied: pyarrow-hotfix in /usr/local/lib/python3.10/dist-packages (from datasets) (0.6)\n",
            "Requirement already satisfied: dill<0.3.9,>=0.3.0 in /usr/local/lib/python3.10/dist-packages (from datasets) (0.3.8)\n",
            "Requirement already satisfied: pandas in /usr/local/lib/python3.10/dist-packages (from datasets) (2.1.4)\n",
            "Requirement already satisfied: xxhash in /usr/local/lib/python3.10/dist-packages (from datasets) (3.5.0)\n",
            "Requirement already satisfied: multiprocess in /usr/local/lib/python3.10/dist-packages (from datasets) (0.70.16)\n",
            "Requirement already satisfied: aiohttp in /usr/local/lib/python3.10/dist-packages (from datasets) (3.10.3)\n",
            "Requirement already satisfied: psutil in /usr/local/lib/python3.10/dist-packages (from accelerate) (5.9.5)\n",
            "Requirement already satisfied: tyro>=0.5.11 in /usr/local/lib/python3.10/dist-packages (from trl) (0.8.8)\n",
            "Requirement already satisfied: aiohappyeyeballs>=2.3.0 in /usr/local/lib/python3.10/dist-packages (from aiohttp->datasets) (2.3.5)\n",
            "Requirement already satisfied: aiosignal>=1.1.2 in /usr/local/lib/python3.10/dist-packages (from aiohttp->datasets) (1.3.1)\n",
            "Requirement already satisfied: attrs>=17.3.0 in /usr/local/lib/python3.10/dist-packages (from aiohttp->datasets) (24.2.0)\n",
            "Requirement already satisfied: frozenlist>=1.1.1 in /usr/local/lib/python3.10/dist-packages (from aiohttp->datasets) (1.4.1)\n",
            "Requirement already satisfied: multidict<7.0,>=4.5 in /usr/local/lib/python3.10/dist-packages (from aiohttp->datasets) (6.0.5)\n",
            "Requirement already satisfied: yarl<2.0,>=1.0 in /usr/local/lib/python3.10/dist-packages (from aiohttp->datasets) (1.9.4)\n",
            "Requirement already satisfied: async-timeout<5.0,>=4.0 in /usr/local/lib/python3.10/dist-packages (from aiohttp->datasets) (4.0.3)\n",
            "Requirement already satisfied: charset-normalizer<4,>=2 in /usr/local/lib/python3.10/dist-packages (from requests->transformers) (3.3.2)\n",
            "Requirement already satisfied: idna<4,>=2.5 in /usr/local/lib/python3.10/dist-packages (from requests->transformers) (3.7)\n",
            "Requirement already satisfied: urllib3<3,>=1.21.1 in /usr/local/lib/python3.10/dist-packages (from requests->transformers) (2.0.7)\n",
            "Requirement already satisfied: certifi>=2017.4.17 in /usr/local/lib/python3.10/dist-packages (from requests->transformers) (2024.7.4)\n",
            "Requirement already satisfied: docstring-parser>=0.16 in /usr/local/lib/python3.10/dist-packages (from tyro>=0.5.11->trl) (0.16)\n",
            "Requirement already satisfied: rich>=11.1.0 in /usr/local/lib/python3.10/dist-packages (from tyro>=0.5.11->trl) (13.7.1)\n",
            "Requirement already satisfied: shtab>=1.5.6 in /usr/local/lib/python3.10/dist-packages (from tyro>=0.5.11->trl) (1.7.1)\n",
            "Requirement already satisfied: MarkupSafe>=2.1.1 in /usr/local/lib/python3.10/dist-packages (from werkzeug>=1.0.1->tensorboard) (2.1.5)\n",
            "Requirement already satisfied: python-dateutil>=2.8.2 in /usr/local/lib/python3.10/dist-packages (from pandas->datasets) (2.8.2)\n",
            "Requirement already satisfied: pytz>=2020.1 in /usr/local/lib/python3.10/dist-packages (from pandas->datasets) (2024.1)\n",
            "Requirement already satisfied: tzdata>=2022.1 in /usr/local/lib/python3.10/dist-packages (from pandas->datasets) (2024.1)\n",
            "Requirement already satisfied: mpmath<1.4,>=1.1.0 in /usr/local/lib/python3.10/dist-packages (from sympy->torch) (1.3.0)\n",
            "Requirement already satisfied: markdown-it-py>=2.2.0 in /usr/local/lib/python3.10/dist-packages (from rich>=11.1.0->tyro>=0.5.11->trl) (3.0.0)\n",
            "Requirement already satisfied: pygments<3.0.0,>=2.13.0 in /usr/local/lib/python3.10/dist-packages (from rich>=11.1.0->tyro>=0.5.11->trl) (2.16.1)\n",
            "Requirement already satisfied: mdurl~=0.1 in /usr/local/lib/python3.10/dist-packages (from markdown-it-py>=2.2.0->rich>=11.1.0->tyro>=0.5.11->trl) (0.1.2)\n"
          ]
        }
      ]
    },
    {
      "cell_type": "code",
      "source": [],
      "metadata": {
        "id": "VbhxjVjuCfCY"
      },
      "execution_count": 6,
      "outputs": []
    },
    {
      "cell_type": "code",
      "source": [
        "os.environ[\"CUDA_VISIBLE_DEVICES\"] = \"0\"\n",
        "os.environ[\"TOKENIZERS_PARALLELISM\"] = \"false\""
      ],
      "metadata": {
        "id": "DKg91twXEK-H"
      },
      "execution_count": 7,
      "outputs": []
    },
    {
      "cell_type": "code",
      "source": [],
      "metadata": {
        "id": "dGdK9QgRELje"
      },
      "execution_count": 7,
      "outputs": []
    },
    {
      "cell_type": "code",
      "source": [
        "from tqdm import tqdm\n",
        "import bitsandbytes as bnb\n",
        "import torch\n",
        "import torch.nn as nn\n",
        "import transformers\n",
        "from datasets import Dataset\n",
        "from peft import LoraConfig, PeftConfig\n",
        "from trl import SFTTrainer\n",
        "from trl import setup_chat_format\n",
        "from transformers import (AutoModelForCausalLM,\n",
        "                          AutoTokenizer,\n",
        "                          BitsAndBytesConfig,\n",
        "                          TrainingArguments,\n",
        "                          pipeline,\n",
        "                          logging)\n",
        "from sklearn.metrics import (accuracy_score,\n",
        "                             classification_report,\n",
        "                             confusion_matrix)\n",
        "from sklearn.model_selection import train_test_split"
      ],
      "metadata": {
        "id": "wPpf3CAVEp15"
      },
      "execution_count": 8,
      "outputs": []
    },
    {
      "cell_type": "code",
      "source": [],
      "metadata": {
        "id": "WkbLB5XsE0RK"
      },
      "execution_count": 8,
      "outputs": []
    },
    {
      "cell_type": "code",
      "source": [
        "print(f\"pytorch version {torch.__version__}\")"
      ],
      "metadata": {
        "id": "vfrSSMVZE8Lk",
        "outputId": "617a8b1b-0881-4841-f6d8-01e018c31e81",
        "colab": {
          "base_uri": "https://localhost:8080/"
        }
      },
      "execution_count": 9,
      "outputs": [
        {
          "output_type": "stream",
          "name": "stdout",
          "text": [
            "pytorch version 2.3.1+cu121\n"
          ]
        }
      ]
    },
    {
      "cell_type": "code",
      "source": [
        "device = torch.device(\"cuda:0\" if torch.cuda.is_available() else \"cpu\")\n",
        "print(f\"working on {device}\")"
      ],
      "metadata": {
        "id": "bbGffFhdE9s3",
        "outputId": "64cb6a78-518a-453f-e22e-5313f8a43d60",
        "colab": {
          "base_uri": "https://localhost:8080/"
        }
      },
      "execution_count": 10,
      "outputs": [
        {
          "output_type": "stream",
          "name": "stdout",
          "text": [
            "working on cuda:0\n"
          ]
        }
      ]
    },
    {
      "cell_type": "code",
      "source": [],
      "metadata": {
        "id": "XbB71iPGFEYk"
      },
      "execution_count": 10,
      "outputs": []
    },
    {
      "cell_type": "code",
      "source": [
        "#Define features and labels\n",
        "X = sample_comments_and_sentiment_df['comment_text']\n",
        "y = sample_comments_and_sentiment_df[['sentiment', 'sentiment_brief_explanation']]\n",
        "\n",
        "# First, split into train and temp sets\n",
        "X_train, X_temp, y_train, y_temp = train_test_split(X, y, test_size=0.3, random_state=42)  # 30% temp\n",
        "\n",
        "# Then, split the temp set into test and evaluation sets\n",
        "X_test, X_eval, y_test, y_eval = train_test_split(X_temp, y_temp, test_size=0.5, random_state=42)  # 50% of temp\n",
        "\n",
        "# Check the sizes of the resulting sets\n",
        "print(f\"Training set size: {len(X_train)}\")\n",
        "print(f\"Testing set size: {len(X_test)}\")\n",
        "print(f\"Evaluation set size: {len(X_eval)}\")"
      ],
      "metadata": {
        "id": "_cOcEaF4GpyF",
        "outputId": "2739504b-94fa-4607-d6d3-b8718fc43091",
        "colab": {
          "base_uri": "https://localhost:8080/"
        }
      },
      "execution_count": 13,
      "outputs": [
        {
          "output_type": "stream",
          "name": "stdout",
          "text": [
            "Training set size: 907\n",
            "Testing set size: 194\n",
            "Evaluation set size: 195\n"
          ]
        }
      ]
    },
    {
      "cell_type": "code",
      "source": [],
      "metadata": {
        "id": "Xa2mPYenMpGW"
      },
      "execution_count": 28,
      "outputs": []
    },
    {
      "cell_type": "code",
      "source": [
        "# For Training Data (Generate Prompt):\n",
        "# This function should generate a prompt for training the model to predict sentiment and provide an explanation for each comment.\n",
        "\n",
        "def generate_prompt(data_point):\n",
        "    return f\"\"\"\n",
        "    Analyze the sentiment of the comment enclosed in square brackets and provide a detailed sentiment label (\"positive\", \"neutral\", \"negative\", \"mixed\", \"humorous\", etc.) and a brief explanation of the sentiment.\n",
        "\n",
        "    Comment: [{data_point[\"comment_text\"]}]\n",
        "    Sentiment: {data_point[\"sentiment\"]}\n",
        "    Sentiment Brief Explanation: {data_point[\"sentiment_brief_explanation\"]}\n",
        "    \"\"\".strip()\n",
        "\n",
        "# For Test Data (Generate Test Prompt):\n",
        "# This function should generate a prompt for testing the model, where the sentiment and explanation are left blank for the model to predict.\n",
        "def generate_test_prompt(data_point):\n",
        "    return f\"\"\"\n",
        "    Analyze the sentiment of the comment enclosed in square brackets and provide a detailed sentiment label (\"positive\", \"neutral\", \"negative\", \"mixed\", \"humorous\", etc.) and a brief explanation of the sentiment.\n",
        "\n",
        "    Comment: [{data_point[\"comment_text\"]}]\n",
        "    Sentiment:\n",
        "    Sentiment Brief Explanation:\n",
        "    \"\"\".strip()\n"
      ],
      "metadata": {
        "id": "78X52-ILfKNE"
      },
      "execution_count": null,
      "outputs": []
    },
    {
      "cell_type": "markdown",
      "source": [
        "\n",
        "* Training Data (`X_train`):\n",
        "    - We generate training prompts using the generate_prompt function, which includes both the sentiment and the brief explanation.\n",
        "* Evaluation Data (`X_eval_sampled`):\n",
        "  - The evaluation prompts are generated similarly using the `generate_prompt` function.\n",
        "* Test Data (`X_test and y_true`):\n",
        "  - For the test data, we use the `generate_test_prompt` function, which leaves the sentiment and explanation blank, allowing the model to predict these during test & evaluation.\n",
        "* The `y_true` variable is retained to compare the model's predictions with the actual sentiment labels during evaluation.\n",
        "* Dataset Conversion:\n",
        "  - Finally, we convert the resulting DataFrames into Hugging Face Dataset objects, which are typically used in fine-tuning models with the transformers library."
      ],
      "metadata": {
        "id": "8bzYb7w9ghZO"
      }
    },
    {
      "cell_type": "code",
      "source": [
        "# Generate training prompts\n",
        "X_train = pd.DataFrame(X_train.apply(generate_prompt, axis=1), columns=[\"text\"])\n",
        "\n",
        "# Generate evaluation prompts\n",
        "X_eval = pd.DataFrame(X_eval.apply(generate_prompt, axis=1), columns=[\"text\"])\n",
        "\n",
        "# Extract true sentiment labels from the test set for later evaluation\n",
        "y_true = y_test['sentiment'].reset_index(drop=True)\n",
        "\n",
        "# Generate test prompts (where sentiment and explanation are left blank)\n",
        "X_test = pd.DataFrame(X_test.apply(generate_test_prompt, axis=1), columns=[\"text\"])\n",
        "\n",
        "# Convert the prepared dataframes into Hugging Face datasets\n",
        "train_data = Dataset.from_pandas(X_train)\n",
        "eval_data = Dataset.from_pandas(X_eval)\n",
        "test_data = Dataset.from_pandas(X_test)"
      ],
      "metadata": {
        "id": "75RMTx-MghzQ"
      },
      "execution_count": null,
      "outputs": []
    }
  ],
  "metadata": {
    "colab": {
      "provenance": [],
      "gpuType": "T4",
      "include_colab_link": true
    },
    "kernelspec": {
      "display_name": "Python 3",
      "name": "python3"
    },
    "language_info": {
      "name": "python"
    },
    "accelerator": "GPU"
  },
  "nbformat": 4,
  "nbformat_minor": 0
}