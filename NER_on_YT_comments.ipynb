{
 "cells": [
  {
   "cell_type": "markdown",
   "metadata": {},
   "source": [
    "### Named Entity Recognition (NER) on YouTube Comments\n",
    "\n",
    "- This model is for developing a Named Entity Recognition model given a list of YouTube comments\n",
    "\n",
    "* Objective: Extract specific entities mentioned in the comments, such as people, organizations, or locations. This can help you understand who or what is being discussed."
   ]
  },
  {
   "cell_type": "code",
   "execution_count": null,
   "metadata": {},
   "outputs": [],
   "source": []
  },
  {
   "cell_type": "code",
   "execution_count": null,
   "metadata": {},
   "outputs": [],
   "source": []
  }
 ],
 "metadata": {
  "language_info": {
   "name": "python"
  }
 },
 "nbformat": 4,
 "nbformat_minor": 2
}
