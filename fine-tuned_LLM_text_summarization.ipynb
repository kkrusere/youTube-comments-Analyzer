{
  "cells": [
    {
      "cell_type": "markdown",
      "metadata": {
        "id": "view-in-github",
        "colab_type": "text"
      },
      "source": [
        "<a href=\"https://colab.research.google.com/github/kkrusere/youTube-comments-Analyzer/blob/main/fine-tuned_LLM_text_summarization.ipynb\" target=\"_parent\"><img src=\"https://colab.research.google.com/assets/colab-badge.svg\" alt=\"Open In Colab\"/></a>"
      ]
    },
    {
      "cell_type": "markdown",
      "metadata": {
        "id": "Tn3vHjrgdvbN"
      },
      "source": [
        "### **<center>Transformer-Based Summarization for Cleaning YouTube Video Descriptions</center>**\n",
        "\n",
        "<center><em>\n",
        "Leverage the power of transformer-based text summarization to automatically remove irrelevant information from YouTube video descriptions, ensuring they're concise and informative.\n",
        "</em></center>\n",
        "\n",
        "#### Intro:\n",
        "\n",
        "YouTube video descriptions are vital for attracting viewers, but often contain extraneous information that hinders understanding. This project utilizes transformer-based text summarization models (like BERT and GPT) to automatically clean these descriptions.\n",
        "\n",
        "By training a summarization model on a dataset of YouTube descriptions paired with their human-refined counterparts, the model learns to identify and remove irrelevant content while preserving key points. This leads to concise, informative descriptions.\n",
        "\n",
        "The project will explore the fine-tuning and evaluation of transformer models for this specific summarization task, focusing on their ability to remove extraneous information and produce distilled video descriptions.\n",
        "\n",
        "**Key Points:**\n",
        "- Problem: YouTube descriptions often contain excessive tags, promotions, and irrelevant details.\n",
        "- Solution: Transformer-based text summarization models trained to clean descriptions.\n",
        "- Approach: Fine-tune models on a dataset of original and human-cleaned descriptions.\n",
        "- Goal: Produce concise, informative descriptions that enhance user experience.\n",
        "- Evaluation: Focus on the models' ability to remove extraneous information effectively."
      ]
    },
    {
      "cell_type": "code",
      "source": [],
      "metadata": {
        "id": "H8bQWUQEd73_"
      },
      "execution_count": null,
      "outputs": []
    },
    {
      "cell_type": "code",
      "source": [
        "%%shell\n",
        "sudo apt -y update\n",
        "sudo apt install -y wget curl unzip\n",
        "wget http://archive.ubuntu.com/ubuntu/pool/main/libu/libu2f-host/libu2f-udev_1.1.4-1_all.deb\n",
        "dpkg -i libu2f-udev_1.1.4-1_all.deb\n",
        "wget https://dl.google.com/linux/direct/google-chrome-stable_current_amd64.deb\n",
        "dpkg -i google-chrome-stable_current_amd64.deb\n",
        "\n",
        "wget -N https://edgedl.me.gvt1.com/edgedl/chrome/chrome-for-testing/118.0.5993.70/linux64/chromedriver-linux64.zip -P /tmp/\n",
        "unzip -o /tmp/chromedriver-linux64.zip -d /tmp/\n",
        "chmod +x /tmp/chromedriver-linux64/chromedriver\n",
        "mv /tmp/chromedriver-linux64/chromedriver /usr/local/bin/chromedriver\n",
        "pip install selenium chromedriver_autoinstaller"
      ],
      "metadata": {
        "colab": {
          "base_uri": "https://localhost:8080/"
        },
        "id": "SL5_Z_Nxd7HS",
        "outputId": "2092b6dd-3737-4168-9196-0961dc1c5be9"
      },
      "execution_count": 1,
      "outputs": [
        {
          "output_type": "stream",
          "name": "stdout",
          "text": [
            "Hit:1 http://archive.ubuntu.com/ubuntu jammy InRelease\n",
            "Get:2 http://archive.ubuntu.com/ubuntu jammy-updates InRelease [128 kB]\n",
            "Hit:3 http://archive.ubuntu.com/ubuntu jammy-backports InRelease\n",
            "Get:4 http://security.ubuntu.com/ubuntu jammy-security InRelease [129 kB]\n",
            "Get:5 https://cloud.r-project.org/bin/linux/ubuntu jammy-cran40/ InRelease [3,626 B]\n",
            "Get:6 https://developer.download.nvidia.com/compute/cuda/repos/ubuntu2204/x86_64  InRelease [1,581 B]\n",
            "Get:7 https://ppa.launchpadcontent.net/deadsnakes/ppa/ubuntu jammy InRelease [18.1 kB]\n",
            "Hit:8 https://ppa.launchpadcontent.net/graphics-drivers/ppa/ubuntu jammy InRelease\n",
            "Hit:9 https://ppa.launchpadcontent.net/ubuntugis/ppa/ubuntu jammy InRelease\n",
            "Get:10 http://archive.ubuntu.com/ubuntu jammy-updates/main amd64 Packages [2,499 kB]\n",
            "Ign:11 https://r2u.stat.illinois.edu/ubuntu jammy InRelease\n",
            "Get:12 https://r2u.stat.illinois.edu/ubuntu jammy Release [5,713 B]\n",
            "Get:13 https://developer.download.nvidia.com/compute/cuda/repos/ubuntu2204/x86_64  Packages [976 kB]\n",
            "Get:14 https://r2u.stat.illinois.edu/ubuntu jammy Release.gpg [793 B]\n",
            "Get:15 https://r2u.stat.illinois.edu/ubuntu jammy/main amd64 Packages [2,575 kB]\n",
            "Get:16 https://r2u.stat.illinois.edu/ubuntu jammy/main all Packages [8,293 kB]\n",
            "Fetched 14.6 MB in 3s (5,229 kB/s)\n",
            "Reading package lists... Done\n",
            "Building dependency tree... Done\n",
            "Reading state information... Done\n",
            "49 packages can be upgraded. Run 'apt list --upgradable' to see them.\n",
            "\u001b[1;33mW: \u001b[0mSkipping acquire of configured file 'main/source/Sources' as repository 'https://r2u.stat.illinois.edu/ubuntu jammy InRelease' does not seem to provide it (sources.list entry misspelt?)\u001b[0m\n",
            "Reading package lists... Done\n",
            "Building dependency tree... Done\n",
            "Reading state information... Done\n",
            "curl is already the newest version (7.81.0-1ubuntu1.17).\n",
            "unzip is already the newest version (6.0-26ubuntu3.2).\n",
            "wget is already the newest version (1.21.2-2ubuntu1.1).\n",
            "0 upgraded, 0 newly installed, 0 to remove and 49 not upgraded.\n",
            "--2024-09-07 19:54:19--  http://archive.ubuntu.com/ubuntu/pool/main/libu/libu2f-host/libu2f-udev_1.1.4-1_all.deb\n",
            "Resolving archive.ubuntu.com (archive.ubuntu.com)... 185.125.190.81, 91.189.91.82, 185.125.190.82, ...\n",
            "Connecting to archive.ubuntu.com (archive.ubuntu.com)|185.125.190.81|:80... connected.\n",
            "HTTP request sent, awaiting response... 200 OK\n",
            "Length: 3708 (3.6K) [application/vnd.debian.binary-package]\n",
            "Saving to: ‘libu2f-udev_1.1.4-1_all.deb’\n",
            "\n",
            "libu2f-udev_1.1.4-1 100%[===================>]   3.62K  --.-KB/s    in 0s      \n",
            "\n",
            "2024-09-07 19:54:19 (482 MB/s) - ‘libu2f-udev_1.1.4-1_all.deb’ saved [3708/3708]\n",
            "\n",
            "Selecting previously unselected package libu2f-udev.\n",
            "(Reading database ... 123597 files and directories currently installed.)\n",
            "Preparing to unpack libu2f-udev_1.1.4-1_all.deb ...\n",
            "Unpacking libu2f-udev (1.1.4-1) ...\n",
            "Setting up libu2f-udev (1.1.4-1) ...\n",
            "--2024-09-07 19:54:20--  https://dl.google.com/linux/direct/google-chrome-stable_current_amd64.deb\n",
            "Resolving dl.google.com (dl.google.com)... 74.125.143.136, 74.125.143.91, 74.125.143.190, ...\n",
            "Connecting to dl.google.com (dl.google.com)|74.125.143.136|:443... connected.\n",
            "HTTP request sent, awaiting response... 200 OK\n",
            "Length: 110842868 (106M) [application/x-debian-package]\n",
            "Saving to: ‘google-chrome-stable_current_amd64.deb’\n",
            "\n",
            "google-chrome-stabl 100%[===================>] 105.71M   252MB/s    in 0.4s    \n",
            "\n",
            "2024-09-07 19:54:20 (252 MB/s) - ‘google-chrome-stable_current_amd64.deb’ saved [110842868/110842868]\n",
            "\n",
            "Selecting previously unselected package google-chrome-stable.\n",
            "(Reading database ... 123601 files and directories currently installed.)\n",
            "Preparing to unpack google-chrome-stable_current_amd64.deb ...\n",
            "Unpacking google-chrome-stable (128.0.6613.119-1) ...\n",
            "\u001b[1mdpkg:\u001b[0m dependency problems prevent configuration of google-chrome-stable:\n",
            " google-chrome-stable depends on libvulkan1; however:\n",
            "  Package libvulkan1 is not installed.\n",
            "\n",
            "\u001b[1mdpkg:\u001b[0m error processing package google-chrome-stable (--install):\n",
            " dependency problems - leaving unconfigured\n",
            "Processing triggers for man-db (2.10.2-1) ...\n",
            "Errors were encountered while processing:\n",
            " google-chrome-stable\n",
            "--2024-09-07 19:54:29--  https://edgedl.me.gvt1.com/edgedl/chrome/chrome-for-testing/118.0.5993.70/linux64/chromedriver-linux64.zip\n",
            "Resolving edgedl.me.gvt1.com (edgedl.me.gvt1.com)... 34.104.35.123, 2600:1900:4110:86f::\n",
            "Connecting to edgedl.me.gvt1.com (edgedl.me.gvt1.com)|34.104.35.123|:443... connected.\n",
            "HTTP request sent, awaiting response... 302 Found\n",
            "Location: https://storage.googleapis.com/chrome-for-testing-public/118.0.5993.70/linux64/chromedriver-linux64.zip [following]\n",
            "--2024-09-07 19:54:30--  https://storage.googleapis.com/chrome-for-testing-public/118.0.5993.70/linux64/chromedriver-linux64.zip\n",
            "Resolving storage.googleapis.com (storage.googleapis.com)... 108.177.119.207, 108.177.127.207, 172.217.218.207, ...\n",
            "Connecting to storage.googleapis.com (storage.googleapis.com)|108.177.119.207|:443... connected.\n",
            "HTTP request sent, awaiting response... 200 OK\n",
            "Length: 8269742 (7.9M) [application/zip]\n",
            "Saving to: ‘/tmp/chromedriver-linux64.zip’\n",
            "\n",
            "chromedriver-linux6 100%[===================>]   7.89M  10.1MB/s    in 0.8s    \n",
            "\n",
            "2024-09-07 19:54:30 (10.1 MB/s) - ‘/tmp/chromedriver-linux64.zip’ saved [8269742/8269742]\n",
            "\n",
            "Archive:  /tmp/chromedriver-linux64.zip\n",
            "  inflating: /tmp/chromedriver-linux64/LICENSE.chromedriver  \n",
            "  inflating: /tmp/chromedriver-linux64/chromedriver  \n",
            "Collecting selenium\n",
            "  Downloading selenium-4.24.0-py3-none-any.whl.metadata (7.1 kB)\n",
            "Collecting chromedriver_autoinstaller\n",
            "  Downloading chromedriver_autoinstaller-0.6.4-py3-none-any.whl.metadata (2.1 kB)\n",
            "Requirement already satisfied: urllib3<3,>=1.26 in /usr/local/lib/python3.10/dist-packages (from urllib3[socks]<3,>=1.26->selenium) (2.0.7)\n",
            "Collecting trio~=0.17 (from selenium)\n",
            "  Downloading trio-0.26.2-py3-none-any.whl.metadata (8.6 kB)\n",
            "Collecting trio-websocket~=0.9 (from selenium)\n",
            "  Downloading trio_websocket-0.11.1-py3-none-any.whl.metadata (4.7 kB)\n",
            "Requirement already satisfied: certifi>=2021.10.8 in /usr/local/lib/python3.10/dist-packages (from selenium) (2024.8.30)\n",
            "Requirement already satisfied: typing_extensions~=4.9 in /usr/local/lib/python3.10/dist-packages (from selenium) (4.12.2)\n",
            "Requirement already satisfied: websocket-client~=1.8 in /usr/local/lib/python3.10/dist-packages (from selenium) (1.8.0)\n",
            "Requirement already satisfied: packaging>=23.1 in /usr/local/lib/python3.10/dist-packages (from chromedriver_autoinstaller) (24.1)\n",
            "Requirement already satisfied: attrs>=23.2.0 in /usr/local/lib/python3.10/dist-packages (from trio~=0.17->selenium) (24.2.0)\n",
            "Requirement already satisfied: sortedcontainers in /usr/local/lib/python3.10/dist-packages (from trio~=0.17->selenium) (2.4.0)\n",
            "Requirement already satisfied: idna in /usr/local/lib/python3.10/dist-packages (from trio~=0.17->selenium) (3.8)\n",
            "Collecting outcome (from trio~=0.17->selenium)\n",
            "  Downloading outcome-1.3.0.post0-py2.py3-none-any.whl.metadata (2.6 kB)\n",
            "Requirement already satisfied: sniffio>=1.3.0 in /usr/local/lib/python3.10/dist-packages (from trio~=0.17->selenium) (1.3.1)\n",
            "Requirement already satisfied: exceptiongroup in /usr/local/lib/python3.10/dist-packages (from trio~=0.17->selenium) (1.2.2)\n",
            "Collecting wsproto>=0.14 (from trio-websocket~=0.9->selenium)\n",
            "  Downloading wsproto-1.2.0-py3-none-any.whl.metadata (5.6 kB)\n",
            "Requirement already satisfied: pysocks!=1.5.7,<2.0,>=1.5.6 in /usr/local/lib/python3.10/dist-packages (from urllib3[socks]<3,>=1.26->selenium) (1.7.1)\n",
            "Collecting h11<1,>=0.9.0 (from wsproto>=0.14->trio-websocket~=0.9->selenium)\n",
            "  Downloading h11-0.14.0-py3-none-any.whl.metadata (8.2 kB)\n",
            "Downloading selenium-4.24.0-py3-none-any.whl (9.6 MB)\n",
            "\u001b[2K   \u001b[90m━━━━━━━━━━━━━━━━━━━━━━━━━━━━━━━━━━━━━━━━\u001b[0m \u001b[32m9.6/9.6 MB\u001b[0m \u001b[31m99.1 MB/s\u001b[0m eta \u001b[36m0:00:00\u001b[0m\n",
            "\u001b[?25hDownloading chromedriver_autoinstaller-0.6.4-py3-none-any.whl (7.6 kB)\n",
            "Downloading trio-0.26.2-py3-none-any.whl (475 kB)\n",
            "\u001b[2K   \u001b[90m━━━━━━━━━━━━━━━━━━━━━━━━━━━━━━━━━━━━━━━━\u001b[0m \u001b[32m476.0/476.0 kB\u001b[0m \u001b[31m38.2 MB/s\u001b[0m eta \u001b[36m0:00:00\u001b[0m\n",
            "\u001b[?25hDownloading trio_websocket-0.11.1-py3-none-any.whl (17 kB)\n",
            "Downloading wsproto-1.2.0-py3-none-any.whl (24 kB)\n",
            "Downloading outcome-1.3.0.post0-py2.py3-none-any.whl (10 kB)\n",
            "Downloading h11-0.14.0-py3-none-any.whl (58 kB)\n",
            "\u001b[2K   \u001b[90m━━━━━━━━━━━━━━━━━━━━━━━━━━━━━━━━━━━━━━━━\u001b[0m \u001b[32m58.3/58.3 kB\u001b[0m \u001b[31m5.6 MB/s\u001b[0m eta \u001b[36m0:00:00\u001b[0m\n",
            "\u001b[?25hInstalling collected packages: outcome, h11, chromedriver_autoinstaller, wsproto, trio, trio-websocket, selenium\n",
            "Successfully installed chromedriver_autoinstaller-0.6.4 h11-0.14.0 outcome-1.3.0.post0 selenium-4.24.0 trio-0.26.2 trio-websocket-0.11.1 wsproto-1.2.0\n"
          ]
        },
        {
          "output_type": "execute_result",
          "data": {
            "text/plain": []
          },
          "metadata": {},
          "execution_count": 1
        }
      ]
    },
    {
      "cell_type": "code",
      "execution_count": 2,
      "metadata": {
        "id": "kMKkbHhrdvbP"
      },
      "outputs": [],
      "source": [
        "import sys\n",
        "sys.path.insert(0,'/usr/lib/chromium-browser/chromedriver')\n",
        "\n",
        "\n",
        "from selenium import webdriver\n",
        "import chromedriver_autoinstaller\n",
        "from selenium.webdriver.common.by import By\n",
        "from selenium.webdriver.common.keys import Keys\n",
        "from selenium.webdriver.support.ui import WebDriverWait\n",
        "from selenium.webdriver.support import expected_conditions as EC\n",
        "from selenium.webdriver.common.action_chains import ActionChains\n",
        "from selenium.webdriver.chrome.service import Service\n",
        "from selenium.common.exceptions import TimeoutException, ElementNotInteractableException\n",
        "from selenium.webdriver.common.action_chains import ActionChains\n",
        "\n",
        "\n",
        "import time\n",
        "import random\n",
        "import re\n",
        "import json\n",
        "import random"
      ]
    },
    {
      "cell_type": "code",
      "source": [
        "def init_webdriver():\n",
        "    \"\"\"Initializes and returns a Chrome WebDriver instance with options.\n",
        "\n",
        "    Returns:\n",
        "        webdriver.Chrome: A configured Chrome WebDriver instance.\n",
        "\n",
        "    Raises:\n",
        "        Exception: If the WebDriver fails to initialize.\n",
        "    \"\"\"\n",
        "    try:\n",
        "        chrome_options = webdriver.ChromeOptions()\n",
        "        chrome_options.add_argument('--headless')\n",
        "        chrome_options.add_argument('--no-sandbox')\n",
        "        chrome_options.add_argument('--disable-dev-shm-usage')\n",
        "        chromedriver_autoinstaller.install()\n",
        "        driver = webdriver.Chrome(options=chrome_options)\n",
        "\n",
        "        print(\"WebDriver initialized successfully\")\n",
        "        return driver\n",
        "    except Exception as e:\n",
        "        print(f\"Failed to initialize WebDriver: {e}\")\n",
        "        raise\n",
        "\n",
        "\n",
        "def close_webdriver(driver):\n",
        "    \"\"\"Closes the provided WebDriver instance.\n",
        "\n",
        "    Args:\n",
        "        driver (webdriver.Chrome): The WebDriver instance to close.\n",
        "\n",
        "    Prints:\n",
        "        str: Confirmation message that the WebDriver has been closed.\n",
        "    \"\"\"\n",
        "    print(\"WebDriver successfully closed\")\n",
        "    driver.quit()\n"
      ],
      "metadata": {
        "id": "uEqA5OxQeL3s"
      },
      "execution_count": 3,
      "outputs": []
    },
    {
      "cell_type": "code",
      "source": [],
      "metadata": {
        "id": "q7Nv9LM250Kt"
      },
      "execution_count": 3,
      "outputs": []
    },
    {
      "cell_type": "code",
      "source": [
        "def get_video_data(video_id):\n",
        "    \"\"\"Fetches video data from YouTube given a video ID.\n",
        "\n",
        "    Args:\n",
        "        video_id (str): The ID of the YouTube video to fetch data for.\n",
        "\n",
        "    Returns:\n",
        "        dict: A dictionary containing the video data with the following keys:\n",
        "            - 'channel_name': The name of the channel that uploaded the video.\n",
        "            - 'video_title': The title of the video.\n",
        "            - 'video_description': The description of the video.\n",
        "\n",
        "    Raises:\n",
        "        Exception: If there is an error accessing or processing the video data.\n",
        "    \"\"\"\n",
        "    driver = init_webdriver()\n",
        "    video_url = f\"https://www.youtube.com/watch?v={video_id}\"\n",
        "    video_data = {}\n",
        "\n",
        "    try:\n",
        "        driver.get(video_url)\n",
        "\n",
        "        try:\n",
        "            # Wait for the bottom-row element to be present\n",
        "            bottom_row = WebDriverWait(driver, 20).until(\n",
        "                EC.presence_of_element_located((By.XPATH, '//*[@id=\"bottom-row\"]'))\n",
        "            )\n",
        "\n",
        "            # Locate and click the expand button if it exists\n",
        "            try:\n",
        "                expand_button = WebDriverWait(driver, 10).until(\n",
        "                    EC.element_to_be_clickable((By.XPATH, '/html/body/ytd-app/div[1]/ytd-page-manager/ytd-watch-flexy/div[5]/div[1]/div/div[2]/ytd-watch-metadata/div/div[4]/div[1]/div/ytd-text-inline-expander/tp-yt-paper-button[1]'))\n",
        "                )\n",
        "                expand_button.click()\n",
        "            except TimeoutException:\n",
        "                pass  # Ignore if the expand button is not found\n",
        "\n",
        "            # Wait for elements to be visible and extract data\n",
        "            expanded_description = WebDriverWait(driver, 10).until(\n",
        "                EC.visibility_of_element_located((By.ID, 'description-inline-expander'))\n",
        "            )\n",
        "            title_element = WebDriverWait(driver, 10).until(\n",
        "                EC.presence_of_element_located((By.XPATH, '//h1[@class=\"style-scope ytd-watch-metadata\"]//yt-formatted-string'))\n",
        "            )\n",
        "            channel_name_element = WebDriverWait(driver, 10).until(\n",
        "                EC.presence_of_element_located((By.XPATH, '//ytd-channel-name[@id=\"channel-name\"]//yt-formatted-string//a'))\n",
        "            )\n",
        "\n",
        "            video_data = {\n",
        "                'channel_name': channel_name_element.text,\n",
        "                'video_title': title_element.text,\n",
        "                'video_description': expanded_description.text\n",
        "            }\n",
        "\n",
        "        except TimeoutException:\n",
        "            print(f\"Error processing {video_url}: Elements not found within timeout.\")\n",
        "\n",
        "    except Exception as e:\n",
        "        print(f\"Error processing {video_url}: {e}\")\n",
        "\n",
        "    finally:\n",
        "        # Close the browser when done\n",
        "        close_webdriver(driver)\n",
        "\n",
        "    return video_data\n"
      ],
      "metadata": {
        "id": "En6u1rRcLnaw"
      },
      "execution_count": 4,
      "outputs": []
    },
    {
      "cell_type": "code",
      "source": [
        "#Test:\n",
        "video_id = \"CETSlLO_jio\"\n",
        "# Get video data\n",
        "video_data = get_video_data(video_id)\n",
        "\n",
        "# Print the data\n",
        "video_data\n"
      ],
      "metadata": {
        "colab": {
          "base_uri": "https://localhost:8080/"
        },
        "id": "rn2O567VNzNL",
        "outputId": "6d66f38e-6c69-43d6-f9c7-0f4308daeb5c"
      },
      "execution_count": 5,
      "outputs": [
        {
          "output_type": "stream",
          "name": "stdout",
          "text": [
            "WebDriver initialized successfully\n",
            "Error processing https://www.youtube.com/watch?v=CETSlLO_jio: Message: element click intercepted: Element <tp-yt-paper-button id=\"expand\" class=\"button style-scope ytd-text-inline-expander\" style-target=\"host\" role=\"button\" tabindex=\"0\" animated=\"\" elevation=\"0\" aria-disabled=\"false\" style=\"left: 3px;\">...</tp-yt-paper-button> is not clickable at point (61, 378). Other element would receive the click: <tp-yt-paper-dialog id=\"dialog\" aria-labelledby=\"cb-header\" modal=\"\" class=\"eom-v1-dialog style-scope ytd-consent-bump-v2-lightbox style-scope ytd-consent-bump-v2-lightbox\" style-target=\"host\" role=\"dialog\" tabindex=\"-1\" style=\"outline: none; position: fixed; top: 0px; left: 40px; box-sizing: border-box; max-height: 388px; max-width: 780px; z-index: 2202;\">...</tp-yt-paper-dialog>\n",
            "  (Session info: chrome=128.0.6613.119)\n",
            "Stacktrace:\n",
            "#0 0x55fe3af6a86a <unknown>\n",
            "#1 0x55fe3ac38e50 <unknown>\n",
            "#2 0x55fe3ac8f346 <unknown>\n",
            "#3 0x55fe3ac8d25d <unknown>\n",
            "#4 0x55fe3ac8acf7 <unknown>\n",
            "#5 0x55fe3ac89b9c <unknown>\n",
            "#6 0x55fe3ac7d4d6 <unknown>\n",
            "#7 0x55fe3acad492 <unknown>\n",
            "#8 0x55fe3ac7ce89 <unknown>\n",
            "#9 0x55fe3acad65e <unknown>\n",
            "#10 0x55fe3accb9c6 <unknown>\n",
            "#11 0x55fe3acad233 <unknown>\n",
            "#12 0x55fe3ac7b093 <unknown>\n",
            "#13 0x55fe3ac7c09e <unknown>\n",
            "#14 0x55fe3af31acb <unknown>\n",
            "#15 0x55fe3af35a81 <unknown>\n",
            "#16 0x55fe3af1d695 <unknown>\n",
            "#17 0x55fe3af365f2 <unknown>\n",
            "#18 0x55fe3af0286f <unknown>\n",
            "#19 0x55fe3af59668 <unknown>\n",
            "#20 0x55fe3af59832 <unknown>\n",
            "#21 0x55fe3af6965c <unknown>\n",
            "#22 0x782cb9ea1ac3 <unknown>\n",
            "\n",
            "WebDriver successfully closed\n"
          ]
        },
        {
          "output_type": "execute_result",
          "data": {
            "text/plain": [
              "{}"
            ]
          },
          "metadata": {},
          "execution_count": 5
        }
      ]
    },
    {
      "cell_type": "code",
      "source": [],
      "metadata": {
        "id": "hKoBXt59Qk9-"
      },
      "execution_count": 5,
      "outputs": []
    },
    {
      "cell_type": "markdown",
      "source": [
        "**Data Collection - Overview**\n",
        "- The data collection process involves gathering YouTube video descriptions along with additional metadata, such as the channel name and video title. We are going to use the above functions for this. This data will be used to train and evaluate our transformer-based summarization model.\n",
        "\n",
        "**Steps:**\n",
        "\n",
        "- Fetch Video Data:\n",
        "Iterate through a predefined list of YouTube video IDs.\n",
        "> For each video ID, use a custom function to retrieve the video data.\n",
        "- The function fetches:\n",
        "> - Channel Name: The name of the channel where the video was uploaded.\n",
        "> - Video Title: The title of the video.\n",
        "> - Video Description: The description text provided by the video uploader.\n",
        "- Store Data:\n",
        "> - Append the retrieved data, formatted as a dictionary, to the list.\n",
        "> - Store the collected data in a file (e.g., JSON or CSV) to facilitate access and further processing.\n",
        "\n",
        "**Example Output**\n",
        "> - The collected data will be a list of dictionaries, each containing the following keys:\n",
        "\n",
        "> - ```yaml\n",
        "channel_name: The name of the YouTube channel.\n",
        "video_title: The title of the video.\n",
        "video_description: The description text of the video.\n"
      ],
      "metadata": {
        "id": "4Qmp57fTVwtH"
      }
    },
    {
      "cell_type": "code",
      "source": [
        "from google.colab import drive\n",
        "import os\n",
        "import json\n",
        "#mounting google drive\n",
        "drive.mount('/content/drive')\n",
        "########################################\n",
        "#changing the working directory\n",
        "os.chdir(\"/content/drive/MyDrive/NLP_Data\")\n",
        "\n",
        "!pwd"
      ],
      "metadata": {
        "colab": {
          "base_uri": "https://localhost:8080/"
        },
        "id": "MPKUgB2yW8Zv",
        "outputId": "627dcb1c-5c76-4363-d805-9e5495a6079e"
      },
      "execution_count": 6,
      "outputs": [
        {
          "output_type": "stream",
          "name": "stdout",
          "text": [
            "Mounted at /content/drive\n",
            "/content/drive/MyDrive/NLP_Data\n"
          ]
        }
      ]
    },
    {
      "cell_type": "code",
      "source": [
        "# below are functions for reading a writting json file for the current working directory\n",
        "\n",
        "def save_to_json(data, filename):\n",
        "    with open(filename, 'w') as json_file:\n",
        "        json.dump(data, json_file, indent=4)\n",
        "\n",
        "def load_from_json(filename):\n",
        "    with open(filename, 'r') as json_file:\n",
        "        comments = json.load(json_file)\n",
        "    return comments"
      ],
      "metadata": {
        "id": "lobNB2YAXl2q"
      },
      "execution_count": 7,
      "outputs": []
    },
    {
      "cell_type": "code",
      "source": [],
      "metadata": {
        "id": "aO-vzVm6C_Zi"
      },
      "execution_count": 7,
      "outputs": []
    }
  ],
  "metadata": {
    "language_info": {
      "name": "python"
    },
    "colab": {
      "provenance": [],
      "machine_shape": "hm",
      "gpuType": "T4",
      "include_colab_link": true
    },
    "kernelspec": {
      "name": "python3",
      "display_name": "Python 3"
    },
    "accelerator": "GPU"
  },
  "nbformat": 4,
  "nbformat_minor": 0
}